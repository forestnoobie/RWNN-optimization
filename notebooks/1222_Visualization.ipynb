{
 "cells": [
  {
   "cell_type": "markdown",
   "metadata": {},
   "source": [
    "## 해야할 일\n",
    "* 파레토 보여주는 plot\n",
    "* full training 성능 비교해주는 plot"
   ]
  },
  {
   "cell_type": "code",
   "execution_count": 1,
   "metadata": {},
   "outputs": [
    {
     "ename": "ImportError",
     "evalue": "No module named 'plotly'",
     "output_type": "error",
     "traceback": [
      "\u001b[0;31m---------------------------------------------------------------------------\u001b[0m",
      "\u001b[0;31mImportError\u001b[0m                               Traceback (most recent call last)",
      "\u001b[0;32m<ipython-input-1-f7e99fdbab9c>\u001b[0m in \u001b[0;36m<module>\u001b[0;34m\u001b[0m\n\u001b[0;32m----> 1\u001b[0;31m \u001b[0;32mimport\u001b[0m \u001b[0mplotly\u001b[0m\u001b[0;34m.\u001b[0m\u001b[0mgraph_objects\u001b[0m \u001b[0;32mas\u001b[0m \u001b[0mgo\u001b[0m\u001b[0;34m\u001b[0m\u001b[0m\n\u001b[0m\u001b[1;32m      2\u001b[0m \u001b[0;34m\u001b[0m\u001b[0m\n\u001b[1;32m      3\u001b[0m \u001b[0mplotly\u001b[0m\u001b[0;34m.\u001b[0m\u001b[0moffline\u001b[0m\u001b[0;34m.\u001b[0m\u001b[0minit_notebook_mode\u001b[0m\u001b[0;34m(\u001b[0m\u001b[0mconnected\u001b[0m\u001b[0;34m=\u001b[0m\u001b[0;32mTrue\u001b[0m\u001b[0;34m)\u001b[0m\u001b[0;34m\u001b[0m\u001b[0m\n",
      "\u001b[0;31mImportError\u001b[0m: No module named 'plotly'"
     ]
    }
   ],
   "source": [
    "import plotly.graph_objects as go\n",
    "\n",
    "plotly.offline.init_notebook_mode(connected=True)"
   ]
  },
  {
   "cell_type": "code",
   "execution_count": null,
   "metadata": {},
   "outputs": [],
   "source": [
    "# Modularize\n",
    "import json\n",
    "import os\n",
    "import numpy as np\n",
    "import plotly\n",
    "import plotly.graph_objects as go\n",
    "\n",
    "plotly.offline.init_notebook_mode(connected=True)\n",
    "\n",
    "def json2graph(path,gr_type):\n",
    "    # path : log file path\n",
    "    # gr_type 0 : acc , 1: flops\n",
    "    \n",
    "    if gr_type == 0 : \n",
    "        gr_name =\"GA acc\"\n",
    "    else : gr_name = \"GA flops\"\n",
    "    \n",
    "    with open(os.path.join(data_path,\"train_logging.log\")) as json_file:\n",
    "        data = json.load(json_file)\n",
    "        \n",
    "    train_log = data['train_log']\n",
    "    niter = len(train_log)\n",
    "    npop = len(train_log['0'])\n",
    "    objs =[]\n",
    "\n",
    "    for i in range(niter):\n",
    "        temp = [train_log[str(i)][j][1] for j in range(npop)]\n",
    "        objs.append(temp)\n",
    "\n",
    "    objs = np.array(objs)\n",
    "    epoch = list(range(niter))\n",
    "\n",
    "    # 0 : acc , 1: Flops\n",
    "    idx = gr_type\n",
    "    if gr_type == 0 : objs = -1*objs\n",
    "        \n",
    "    y1_lower = np.min(objs[:,:,idx],axis=-1)\n",
    "    y1_lower = list(y1_lower[::-1])\n",
    "\n",
    "    y1 = np.mean(objs[:,:,idx],axis=-1)\n",
    "\n",
    "    y1_upper = np.max(objs[:,:,idx],axis=-1)\n",
    "    y1_upper = list(y1_upper[::-1])\n",
    "\n",
    "\n",
    "    x = [i+1 for i in range(niter)]\n",
    "    x_rev = x[::-1]\n",
    "\n",
    "    fig = go.Figure()\n",
    "    fig.add_trace(go.Scatter(\n",
    "        x=x+x_rev,\n",
    "        y=y1_upper+ y1_lower,\n",
    "        fill='toself',\n",
    "        fillcolor='rgba(0,100,80,0.2)',\n",
    "        line_color='rgba(255,255,255,0)',\n",
    "        showlegend=False,\n",
    "        name=gr_name,\n",
    "    ))\n",
    "\n",
    "    fig.add_trace(go.Scatter(\n",
    "        x=x, y=y1,\n",
    "        line_color='rgb(0,100,80)',\n",
    "        name=gr_name,\n",
    "    ))\n",
    "\n",
    "    fig.update_traces(mode='lines')\n",
    "    fig.show()"
   ]
  },
  {
   "cell_type": "code",
   "execution_count": null,
   "metadata": {},
   "outputs": [],
   "source": []
  },
  {
   "cell_type": "code",
   "execution_count": 7,
   "metadata": {},
   "outputs": [
    {
     "data": {
      "application/vnd.plotly.v1+json": {
       "config": {
        "plotlyServerURL": "https://plot.ly"
       },
       "data": [
        {
         "fill": "toself",
         "fillcolor": "rgba(0,100,80,0.2)",
         "line": {
          "color": "rgba(255,255,255,0)"
         },
         "mode": "lines",
         "name": "GA acc",
         "showlegend": false,
         "type": "scatter",
         "x": [
          1,
          2,
          3,
          4,
          5,
          6,
          7,
          8,
          9,
          10,
          11,
          12,
          13,
          14,
          15,
          16,
          17,
          18,
          19,
          20,
          21,
          22,
          23,
          24,
          25,
          26,
          27,
          28,
          29,
          30,
          31,
          31,
          30,
          29,
          28,
          27,
          26,
          25,
          24,
          23,
          22,
          21,
          20,
          19,
          18,
          17,
          16,
          15,
          14,
          13,
          12,
          11,
          10,
          9,
          8,
          7,
          6,
          5,
          4,
          3,
          2,
          1
         ],
         "y": [
          85.55,
          85.61,
          85.88,
          85.72,
          85.24,
          84.93,
          85.36,
          85.37,
          84.95,
          84.55,
          84.1,
          84.94,
          85.61,
          85.33,
          85.09,
          84.63,
          84.81,
          85.78,
          85.83,
          85.68,
          85.49,
          86.63,
          85.78,
          86.05,
          85.85,
          85.28,
          85.58,
          84.85,
          84.93,
          85.77,
          86.21,
          64.52,
          73.71,
          77.37,
          68.69,
          72.43,
          68.14,
          73.65,
          73.87,
          69.92,
          75.45,
          73.88,
          72.41,
          66.9,
          73.92,
          73.07,
          69.01,
          71.09,
          64.32,
          74.81,
          76.52,
          78.96,
          79.95,
          79.32,
          77.02,
          76.23,
          74.83,
          77.03,
          76.97,
          78.66,
          78.19,
          77.99
         ]
        },
        {
         "line": {
          "color": "rgb(0,100,80)"
         },
         "mode": "lines",
         "name": "GA acc",
         "type": "scatter",
         "x": [
          1,
          2,
          3,
          4,
          5,
          6,
          7,
          8,
          9,
          10,
          11,
          12,
          13,
          14,
          15,
          16,
          17,
          18,
          19,
          20,
          21,
          22,
          23,
          24,
          25,
          26,
          27,
          28,
          29,
          30,
          31
         ],
         "y": [
          81.7845,
          82.54700000000001,
          82.55499999999999,
          81.0805,
          82.37100000000001,
          82.194,
          83.011,
          83.13749999999999,
          83.59799999999998,
          83.35749999999999,
          82.321,
          83.006,
          81.086,
          79.6875,
          78.94749999999999,
          78.192,
          80.3425,
          80.6295,
          78.89950000000002,
          79.07750000000001,
          80.462,
          80.78799999999998,
          79.8125,
          79.9625,
          80.4925,
          79.54750000000001,
          80.761,
          79.4915,
          81.317,
          80.57050000000001,
          79.54149999999997
         ]
        }
       ],
       "layout": {
        "template": {
         "data": {
          "bar": [
           {
            "error_x": {
             "color": "#2a3f5f"
            },
            "error_y": {
             "color": "#2a3f5f"
            },
            "marker": {
             "line": {
              "color": "#E5ECF6",
              "width": 0.5
             }
            },
            "type": "bar"
           }
          ],
          "barpolar": [
           {
            "marker": {
             "line": {
              "color": "#E5ECF6",
              "width": 0.5
             }
            },
            "type": "barpolar"
           }
          ],
          "carpet": [
           {
            "aaxis": {
             "endlinecolor": "#2a3f5f",
             "gridcolor": "white",
             "linecolor": "white",
             "minorgridcolor": "white",
             "startlinecolor": "#2a3f5f"
            },
            "baxis": {
             "endlinecolor": "#2a3f5f",
             "gridcolor": "white",
             "linecolor": "white",
             "minorgridcolor": "white",
             "startlinecolor": "#2a3f5f"
            },
            "type": "carpet"
           }
          ],
          "choropleth": [
           {
            "colorbar": {
             "outlinewidth": 0,
             "ticks": ""
            },
            "type": "choropleth"
           }
          ],
          "contour": [
           {
            "colorbar": {
             "outlinewidth": 0,
             "ticks": ""
            },
            "colorscale": [
             [
              0,
              "#0d0887"
             ],
             [
              0.1111111111111111,
              "#46039f"
             ],
             [
              0.2222222222222222,
              "#7201a8"
             ],
             [
              0.3333333333333333,
              "#9c179e"
             ],
             [
              0.4444444444444444,
              "#bd3786"
             ],
             [
              0.5555555555555556,
              "#d8576b"
             ],
             [
              0.6666666666666666,
              "#ed7953"
             ],
             [
              0.7777777777777778,
              "#fb9f3a"
             ],
             [
              0.8888888888888888,
              "#fdca26"
             ],
             [
              1,
              "#f0f921"
             ]
            ],
            "type": "contour"
           }
          ],
          "contourcarpet": [
           {
            "colorbar": {
             "outlinewidth": 0,
             "ticks": ""
            },
            "type": "contourcarpet"
           }
          ],
          "heatmap": [
           {
            "colorbar": {
             "outlinewidth": 0,
             "ticks": ""
            },
            "colorscale": [
             [
              0,
              "#0d0887"
             ],
             [
              0.1111111111111111,
              "#46039f"
             ],
             [
              0.2222222222222222,
              "#7201a8"
             ],
             [
              0.3333333333333333,
              "#9c179e"
             ],
             [
              0.4444444444444444,
              "#bd3786"
             ],
             [
              0.5555555555555556,
              "#d8576b"
             ],
             [
              0.6666666666666666,
              "#ed7953"
             ],
             [
              0.7777777777777778,
              "#fb9f3a"
             ],
             [
              0.8888888888888888,
              "#fdca26"
             ],
             [
              1,
              "#f0f921"
             ]
            ],
            "type": "heatmap"
           }
          ],
          "heatmapgl": [
           {
            "colorbar": {
             "outlinewidth": 0,
             "ticks": ""
            },
            "colorscale": [
             [
              0,
              "#0d0887"
             ],
             [
              0.1111111111111111,
              "#46039f"
             ],
             [
              0.2222222222222222,
              "#7201a8"
             ],
             [
              0.3333333333333333,
              "#9c179e"
             ],
             [
              0.4444444444444444,
              "#bd3786"
             ],
             [
              0.5555555555555556,
              "#d8576b"
             ],
             [
              0.6666666666666666,
              "#ed7953"
             ],
             [
              0.7777777777777778,
              "#fb9f3a"
             ],
             [
              0.8888888888888888,
              "#fdca26"
             ],
             [
              1,
              "#f0f921"
             ]
            ],
            "type": "heatmapgl"
           }
          ],
          "histogram": [
           {
            "marker": {
             "colorbar": {
              "outlinewidth": 0,
              "ticks": ""
             }
            },
            "type": "histogram"
           }
          ],
          "histogram2d": [
           {
            "colorbar": {
             "outlinewidth": 0,
             "ticks": ""
            },
            "colorscale": [
             [
              0,
              "#0d0887"
             ],
             [
              0.1111111111111111,
              "#46039f"
             ],
             [
              0.2222222222222222,
              "#7201a8"
             ],
             [
              0.3333333333333333,
              "#9c179e"
             ],
             [
              0.4444444444444444,
              "#bd3786"
             ],
             [
              0.5555555555555556,
              "#d8576b"
             ],
             [
              0.6666666666666666,
              "#ed7953"
             ],
             [
              0.7777777777777778,
              "#fb9f3a"
             ],
             [
              0.8888888888888888,
              "#fdca26"
             ],
             [
              1,
              "#f0f921"
             ]
            ],
            "type": "histogram2d"
           }
          ],
          "histogram2dcontour": [
           {
            "colorbar": {
             "outlinewidth": 0,
             "ticks": ""
            },
            "colorscale": [
             [
              0,
              "#0d0887"
             ],
             [
              0.1111111111111111,
              "#46039f"
             ],
             [
              0.2222222222222222,
              "#7201a8"
             ],
             [
              0.3333333333333333,
              "#9c179e"
             ],
             [
              0.4444444444444444,
              "#bd3786"
             ],
             [
              0.5555555555555556,
              "#d8576b"
             ],
             [
              0.6666666666666666,
              "#ed7953"
             ],
             [
              0.7777777777777778,
              "#fb9f3a"
             ],
             [
              0.8888888888888888,
              "#fdca26"
             ],
             [
              1,
              "#f0f921"
             ]
            ],
            "type": "histogram2dcontour"
           }
          ],
          "mesh3d": [
           {
            "colorbar": {
             "outlinewidth": 0,
             "ticks": ""
            },
            "type": "mesh3d"
           }
          ],
          "parcoords": [
           {
            "line": {
             "colorbar": {
              "outlinewidth": 0,
              "ticks": ""
             }
            },
            "type": "parcoords"
           }
          ],
          "pie": [
           {
            "automargin": true,
            "type": "pie"
           }
          ],
          "scatter": [
           {
            "marker": {
             "colorbar": {
              "outlinewidth": 0,
              "ticks": ""
             }
            },
            "type": "scatter"
           }
          ],
          "scatter3d": [
           {
            "line": {
             "colorbar": {
              "outlinewidth": 0,
              "ticks": ""
             }
            },
            "marker": {
             "colorbar": {
              "outlinewidth": 0,
              "ticks": ""
             }
            },
            "type": "scatter3d"
           }
          ],
          "scattercarpet": [
           {
            "marker": {
             "colorbar": {
              "outlinewidth": 0,
              "ticks": ""
             }
            },
            "type": "scattercarpet"
           }
          ],
          "scattergeo": [
           {
            "marker": {
             "colorbar": {
              "outlinewidth": 0,
              "ticks": ""
             }
            },
            "type": "scattergeo"
           }
          ],
          "scattergl": [
           {
            "marker": {
             "colorbar": {
              "outlinewidth": 0,
              "ticks": ""
             }
            },
            "type": "scattergl"
           }
          ],
          "scattermapbox": [
           {
            "marker": {
             "colorbar": {
              "outlinewidth": 0,
              "ticks": ""
             }
            },
            "type": "scattermapbox"
           }
          ],
          "scatterpolar": [
           {
            "marker": {
             "colorbar": {
              "outlinewidth": 0,
              "ticks": ""
             }
            },
            "type": "scatterpolar"
           }
          ],
          "scatterpolargl": [
           {
            "marker": {
             "colorbar": {
              "outlinewidth": 0,
              "ticks": ""
             }
            },
            "type": "scatterpolargl"
           }
          ],
          "scatterternary": [
           {
            "marker": {
             "colorbar": {
              "outlinewidth": 0,
              "ticks": ""
             }
            },
            "type": "scatterternary"
           }
          ],
          "surface": [
           {
            "colorbar": {
             "outlinewidth": 0,
             "ticks": ""
            },
            "colorscale": [
             [
              0,
              "#0d0887"
             ],
             [
              0.1111111111111111,
              "#46039f"
             ],
             [
              0.2222222222222222,
              "#7201a8"
             ],
             [
              0.3333333333333333,
              "#9c179e"
             ],
             [
              0.4444444444444444,
              "#bd3786"
             ],
             [
              0.5555555555555556,
              "#d8576b"
             ],
             [
              0.6666666666666666,
              "#ed7953"
             ],
             [
              0.7777777777777778,
              "#fb9f3a"
             ],
             [
              0.8888888888888888,
              "#fdca26"
             ],
             [
              1,
              "#f0f921"
             ]
            ],
            "type": "surface"
           }
          ],
          "table": [
           {
            "cells": {
             "fill": {
              "color": "#EBF0F8"
             },
             "line": {
              "color": "white"
             }
            },
            "header": {
             "fill": {
              "color": "#C8D4E3"
             },
             "line": {
              "color": "white"
             }
            },
            "type": "table"
           }
          ]
         },
         "layout": {
          "annotationdefaults": {
           "arrowcolor": "#2a3f5f",
           "arrowhead": 0,
           "arrowwidth": 1
          },
          "coloraxis": {
           "colorbar": {
            "outlinewidth": 0,
            "ticks": ""
           }
          },
          "colorscale": {
           "diverging": [
            [
             0,
             "#8e0152"
            ],
            [
             0.1,
             "#c51b7d"
            ],
            [
             0.2,
             "#de77ae"
            ],
            [
             0.3,
             "#f1b6da"
            ],
            [
             0.4,
             "#fde0ef"
            ],
            [
             0.5,
             "#f7f7f7"
            ],
            [
             0.6,
             "#e6f5d0"
            ],
            [
             0.7,
             "#b8e186"
            ],
            [
             0.8,
             "#7fbc41"
            ],
            [
             0.9,
             "#4d9221"
            ],
            [
             1,
             "#276419"
            ]
           ],
           "sequential": [
            [
             0,
             "#0d0887"
            ],
            [
             0.1111111111111111,
             "#46039f"
            ],
            [
             0.2222222222222222,
             "#7201a8"
            ],
            [
             0.3333333333333333,
             "#9c179e"
            ],
            [
             0.4444444444444444,
             "#bd3786"
            ],
            [
             0.5555555555555556,
             "#d8576b"
            ],
            [
             0.6666666666666666,
             "#ed7953"
            ],
            [
             0.7777777777777778,
             "#fb9f3a"
            ],
            [
             0.8888888888888888,
             "#fdca26"
            ],
            [
             1,
             "#f0f921"
            ]
           ],
           "sequentialminus": [
            [
             0,
             "#0d0887"
            ],
            [
             0.1111111111111111,
             "#46039f"
            ],
            [
             0.2222222222222222,
             "#7201a8"
            ],
            [
             0.3333333333333333,
             "#9c179e"
            ],
            [
             0.4444444444444444,
             "#bd3786"
            ],
            [
             0.5555555555555556,
             "#d8576b"
            ],
            [
             0.6666666666666666,
             "#ed7953"
            ],
            [
             0.7777777777777778,
             "#fb9f3a"
            ],
            [
             0.8888888888888888,
             "#fdca26"
            ],
            [
             1,
             "#f0f921"
            ]
           ]
          },
          "colorway": [
           "#636efa",
           "#EF553B",
           "#00cc96",
           "#ab63fa",
           "#FFA15A",
           "#19d3f3",
           "#FF6692",
           "#B6E880",
           "#FF97FF",
           "#FECB52"
          ],
          "font": {
           "color": "#2a3f5f"
          },
          "geo": {
           "bgcolor": "white",
           "lakecolor": "white",
           "landcolor": "#E5ECF6",
           "showlakes": true,
           "showland": true,
           "subunitcolor": "white"
          },
          "hoverlabel": {
           "align": "left"
          },
          "hovermode": "closest",
          "mapbox": {
           "style": "light"
          },
          "paper_bgcolor": "white",
          "plot_bgcolor": "#E5ECF6",
          "polar": {
           "angularaxis": {
            "gridcolor": "white",
            "linecolor": "white",
            "ticks": ""
           },
           "bgcolor": "#E5ECF6",
           "radialaxis": {
            "gridcolor": "white",
            "linecolor": "white",
            "ticks": ""
           }
          },
          "scene": {
           "xaxis": {
            "backgroundcolor": "#E5ECF6",
            "gridcolor": "white",
            "gridwidth": 2,
            "linecolor": "white",
            "showbackground": true,
            "ticks": "",
            "zerolinecolor": "white"
           },
           "yaxis": {
            "backgroundcolor": "#E5ECF6",
            "gridcolor": "white",
            "gridwidth": 2,
            "linecolor": "white",
            "showbackground": true,
            "ticks": "",
            "zerolinecolor": "white"
           },
           "zaxis": {
            "backgroundcolor": "#E5ECF6",
            "gridcolor": "white",
            "gridwidth": 2,
            "linecolor": "white",
            "showbackground": true,
            "ticks": "",
            "zerolinecolor": "white"
           }
          },
          "shapedefaults": {
           "line": {
            "color": "#2a3f5f"
           }
          },
          "ternary": {
           "aaxis": {
            "gridcolor": "white",
            "linecolor": "white",
            "ticks": ""
           },
           "baxis": {
            "gridcolor": "white",
            "linecolor": "white",
            "ticks": ""
           },
           "bgcolor": "#E5ECF6",
           "caxis": {
            "gridcolor": "white",
            "linecolor": "white",
            "ticks": ""
           }
          },
          "title": {
           "x": 0.05
          },
          "xaxis": {
           "automargin": true,
           "gridcolor": "white",
           "linecolor": "white",
           "ticks": "",
           "title": {
            "standoff": 15
           },
           "zerolinecolor": "white",
           "zerolinewidth": 2
          },
          "yaxis": {
           "automargin": true,
           "gridcolor": "white",
           "linecolor": "white",
           "ticks": "",
           "title": {
            "standoff": 15
           },
           "zerolinecolor": "white",
           "zerolinewidth": 2
          }
         }
        }
       }
      },
      "text/html": [
       "<div>\n",
       "        \n",
       "        \n",
       "            <div id=\"6413d4c7-f2e0-4d92-8036-2eb5f0a34c5d\" class=\"plotly-graph-div\" style=\"height:525px; width:100%;\"></div>\n",
       "            <script type=\"text/javascript\">\n",
       "                require([\"plotly\"], function(Plotly) {\n",
       "                    window.PLOTLYENV=window.PLOTLYENV || {};\n",
       "                    \n",
       "                if (document.getElementById(\"6413d4c7-f2e0-4d92-8036-2eb5f0a34c5d\")) {\n",
       "                    Plotly.newPlot(\n",
       "                        '6413d4c7-f2e0-4d92-8036-2eb5f0a34c5d',\n",
       "                        [{\"fill\": \"toself\", \"fillcolor\": \"rgba(0,100,80,0.2)\", \"line\": {\"color\": \"rgba(255,255,255,0)\"}, \"mode\": \"lines\", \"name\": \"GA acc\", \"showlegend\": false, \"type\": \"scatter\", \"x\": [1, 2, 3, 4, 5, 6, 7, 8, 9, 10, 11, 12, 13, 14, 15, 16, 17, 18, 19, 20, 21, 22, 23, 24, 25, 26, 27, 28, 29, 30, 31, 31, 30, 29, 28, 27, 26, 25, 24, 23, 22, 21, 20, 19, 18, 17, 16, 15, 14, 13, 12, 11, 10, 9, 8, 7, 6, 5, 4, 3, 2, 1], \"y\": [85.55, 85.61, 85.88, 85.72, 85.24, 84.93, 85.36, 85.37, 84.95, 84.55, 84.1, 84.94, 85.61, 85.33, 85.09, 84.63, 84.81, 85.78, 85.83, 85.68, 85.49, 86.63, 85.78, 86.05, 85.85, 85.28, 85.58, 84.85, 84.93, 85.77, 86.21, 64.52, 73.71, 77.37, 68.69, 72.43, 68.14, 73.65, 73.87, 69.92, 75.45, 73.88, 72.41, 66.9, 73.92, 73.07, 69.01, 71.09, 64.32, 74.81, 76.52, 78.96, 79.95, 79.32, 77.02, 76.23, 74.83, 77.03, 76.97, 78.66, 78.19, 77.99]}, {\"line\": {\"color\": \"rgb(0,100,80)\"}, \"mode\": \"lines\", \"name\": \"GA acc\", \"type\": \"scatter\", \"x\": [1, 2, 3, 4, 5, 6, 7, 8, 9, 10, 11, 12, 13, 14, 15, 16, 17, 18, 19, 20, 21, 22, 23, 24, 25, 26, 27, 28, 29, 30, 31], \"y\": [81.7845, 82.54700000000001, 82.55499999999999, 81.0805, 82.37100000000001, 82.194, 83.011, 83.13749999999999, 83.59799999999998, 83.35749999999999, 82.321, 83.006, 81.086, 79.6875, 78.94749999999999, 78.192, 80.3425, 80.6295, 78.89950000000002, 79.07750000000001, 80.462, 80.78799999999998, 79.8125, 79.9625, 80.4925, 79.54750000000001, 80.761, 79.4915, 81.317, 80.57050000000001, 79.54149999999997]}],\n",
       "                        {\"template\": {\"data\": {\"bar\": [{\"error_x\": {\"color\": \"#2a3f5f\"}, \"error_y\": {\"color\": \"#2a3f5f\"}, \"marker\": {\"line\": {\"color\": \"#E5ECF6\", \"width\": 0.5}}, \"type\": \"bar\"}], \"barpolar\": [{\"marker\": {\"line\": {\"color\": \"#E5ECF6\", \"width\": 0.5}}, \"type\": \"barpolar\"}], \"carpet\": [{\"aaxis\": {\"endlinecolor\": \"#2a3f5f\", \"gridcolor\": \"white\", \"linecolor\": \"white\", \"minorgridcolor\": \"white\", \"startlinecolor\": \"#2a3f5f\"}, \"baxis\": {\"endlinecolor\": \"#2a3f5f\", \"gridcolor\": \"white\", \"linecolor\": \"white\", \"minorgridcolor\": \"white\", \"startlinecolor\": \"#2a3f5f\"}, \"type\": \"carpet\"}], \"choropleth\": [{\"colorbar\": {\"outlinewidth\": 0, \"ticks\": \"\"}, \"type\": \"choropleth\"}], \"contour\": [{\"colorbar\": {\"outlinewidth\": 0, \"ticks\": \"\"}, \"colorscale\": [[0.0, \"#0d0887\"], [0.1111111111111111, \"#46039f\"], [0.2222222222222222, \"#7201a8\"], [0.3333333333333333, \"#9c179e\"], [0.4444444444444444, \"#bd3786\"], [0.5555555555555556, \"#d8576b\"], [0.6666666666666666, \"#ed7953\"], [0.7777777777777778, \"#fb9f3a\"], [0.8888888888888888, \"#fdca26\"], [1.0, \"#f0f921\"]], \"type\": \"contour\"}], \"contourcarpet\": [{\"colorbar\": {\"outlinewidth\": 0, \"ticks\": \"\"}, \"type\": \"contourcarpet\"}], \"heatmap\": [{\"colorbar\": {\"outlinewidth\": 0, \"ticks\": \"\"}, \"colorscale\": [[0.0, \"#0d0887\"], [0.1111111111111111, \"#46039f\"], [0.2222222222222222, \"#7201a8\"], [0.3333333333333333, \"#9c179e\"], [0.4444444444444444, \"#bd3786\"], [0.5555555555555556, \"#d8576b\"], [0.6666666666666666, \"#ed7953\"], [0.7777777777777778, \"#fb9f3a\"], [0.8888888888888888, \"#fdca26\"], [1.0, \"#f0f921\"]], \"type\": \"heatmap\"}], \"heatmapgl\": [{\"colorbar\": {\"outlinewidth\": 0, \"ticks\": \"\"}, \"colorscale\": [[0.0, \"#0d0887\"], [0.1111111111111111, \"#46039f\"], [0.2222222222222222, \"#7201a8\"], [0.3333333333333333, \"#9c179e\"], [0.4444444444444444, \"#bd3786\"], [0.5555555555555556, \"#d8576b\"], [0.6666666666666666, \"#ed7953\"], [0.7777777777777778, \"#fb9f3a\"], [0.8888888888888888, \"#fdca26\"], [1.0, \"#f0f921\"]], \"type\": \"heatmapgl\"}], \"histogram\": [{\"marker\": {\"colorbar\": {\"outlinewidth\": 0, \"ticks\": \"\"}}, \"type\": \"histogram\"}], \"histogram2d\": [{\"colorbar\": {\"outlinewidth\": 0, \"ticks\": \"\"}, \"colorscale\": [[0.0, \"#0d0887\"], [0.1111111111111111, \"#46039f\"], [0.2222222222222222, \"#7201a8\"], [0.3333333333333333, \"#9c179e\"], [0.4444444444444444, \"#bd3786\"], [0.5555555555555556, \"#d8576b\"], [0.6666666666666666, \"#ed7953\"], [0.7777777777777778, \"#fb9f3a\"], [0.8888888888888888, \"#fdca26\"], [1.0, \"#f0f921\"]], \"type\": \"histogram2d\"}], \"histogram2dcontour\": [{\"colorbar\": {\"outlinewidth\": 0, \"ticks\": \"\"}, \"colorscale\": [[0.0, \"#0d0887\"], [0.1111111111111111, \"#46039f\"], [0.2222222222222222, \"#7201a8\"], [0.3333333333333333, \"#9c179e\"], [0.4444444444444444, \"#bd3786\"], [0.5555555555555556, \"#d8576b\"], [0.6666666666666666, \"#ed7953\"], [0.7777777777777778, \"#fb9f3a\"], [0.8888888888888888, \"#fdca26\"], [1.0, \"#f0f921\"]], \"type\": \"histogram2dcontour\"}], \"mesh3d\": [{\"colorbar\": {\"outlinewidth\": 0, \"ticks\": \"\"}, \"type\": \"mesh3d\"}], \"parcoords\": [{\"line\": {\"colorbar\": {\"outlinewidth\": 0, \"ticks\": \"\"}}, \"type\": \"parcoords\"}], \"pie\": [{\"automargin\": true, \"type\": \"pie\"}], \"scatter\": [{\"marker\": {\"colorbar\": {\"outlinewidth\": 0, \"ticks\": \"\"}}, \"type\": \"scatter\"}], \"scatter3d\": [{\"line\": {\"colorbar\": {\"outlinewidth\": 0, \"ticks\": \"\"}}, \"marker\": {\"colorbar\": {\"outlinewidth\": 0, \"ticks\": \"\"}}, \"type\": \"scatter3d\"}], \"scattercarpet\": [{\"marker\": {\"colorbar\": {\"outlinewidth\": 0, \"ticks\": \"\"}}, \"type\": \"scattercarpet\"}], \"scattergeo\": [{\"marker\": {\"colorbar\": {\"outlinewidth\": 0, \"ticks\": \"\"}}, \"type\": \"scattergeo\"}], \"scattergl\": [{\"marker\": {\"colorbar\": {\"outlinewidth\": 0, \"ticks\": \"\"}}, \"type\": \"scattergl\"}], \"scattermapbox\": [{\"marker\": {\"colorbar\": {\"outlinewidth\": 0, \"ticks\": \"\"}}, \"type\": \"scattermapbox\"}], \"scatterpolar\": [{\"marker\": {\"colorbar\": {\"outlinewidth\": 0, \"ticks\": \"\"}}, \"type\": \"scatterpolar\"}], \"scatterpolargl\": [{\"marker\": {\"colorbar\": {\"outlinewidth\": 0, \"ticks\": \"\"}}, \"type\": \"scatterpolargl\"}], \"scatterternary\": [{\"marker\": {\"colorbar\": {\"outlinewidth\": 0, \"ticks\": \"\"}}, \"type\": \"scatterternary\"}], \"surface\": [{\"colorbar\": {\"outlinewidth\": 0, \"ticks\": \"\"}, \"colorscale\": [[0.0, \"#0d0887\"], [0.1111111111111111, \"#46039f\"], [0.2222222222222222, \"#7201a8\"], [0.3333333333333333, \"#9c179e\"], [0.4444444444444444, \"#bd3786\"], [0.5555555555555556, \"#d8576b\"], [0.6666666666666666, \"#ed7953\"], [0.7777777777777778, \"#fb9f3a\"], [0.8888888888888888, \"#fdca26\"], [1.0, \"#f0f921\"]], \"type\": \"surface\"}], \"table\": [{\"cells\": {\"fill\": {\"color\": \"#EBF0F8\"}, \"line\": {\"color\": \"white\"}}, \"header\": {\"fill\": {\"color\": \"#C8D4E3\"}, \"line\": {\"color\": \"white\"}}, \"type\": \"table\"}]}, \"layout\": {\"annotationdefaults\": {\"arrowcolor\": \"#2a3f5f\", \"arrowhead\": 0, \"arrowwidth\": 1}, \"coloraxis\": {\"colorbar\": {\"outlinewidth\": 0, \"ticks\": \"\"}}, \"colorscale\": {\"diverging\": [[0, \"#8e0152\"], [0.1, \"#c51b7d\"], [0.2, \"#de77ae\"], [0.3, \"#f1b6da\"], [0.4, \"#fde0ef\"], [0.5, \"#f7f7f7\"], [0.6, \"#e6f5d0\"], [0.7, \"#b8e186\"], [0.8, \"#7fbc41\"], [0.9, \"#4d9221\"], [1, \"#276419\"]], \"sequential\": [[0.0, \"#0d0887\"], [0.1111111111111111, \"#46039f\"], [0.2222222222222222, \"#7201a8\"], [0.3333333333333333, \"#9c179e\"], [0.4444444444444444, \"#bd3786\"], [0.5555555555555556, \"#d8576b\"], [0.6666666666666666, \"#ed7953\"], [0.7777777777777778, \"#fb9f3a\"], [0.8888888888888888, \"#fdca26\"], [1.0, \"#f0f921\"]], \"sequentialminus\": [[0.0, \"#0d0887\"], [0.1111111111111111, \"#46039f\"], [0.2222222222222222, \"#7201a8\"], [0.3333333333333333, \"#9c179e\"], [0.4444444444444444, \"#bd3786\"], [0.5555555555555556, \"#d8576b\"], [0.6666666666666666, \"#ed7953\"], [0.7777777777777778, \"#fb9f3a\"], [0.8888888888888888, \"#fdca26\"], [1.0, \"#f0f921\"]]}, \"colorway\": [\"#636efa\", \"#EF553B\", \"#00cc96\", \"#ab63fa\", \"#FFA15A\", \"#19d3f3\", \"#FF6692\", \"#B6E880\", \"#FF97FF\", \"#FECB52\"], \"font\": {\"color\": \"#2a3f5f\"}, \"geo\": {\"bgcolor\": \"white\", \"lakecolor\": \"white\", \"landcolor\": \"#E5ECF6\", \"showlakes\": true, \"showland\": true, \"subunitcolor\": \"white\"}, \"hoverlabel\": {\"align\": \"left\"}, \"hovermode\": \"closest\", \"mapbox\": {\"style\": \"light\"}, \"paper_bgcolor\": \"white\", \"plot_bgcolor\": \"#E5ECF6\", \"polar\": {\"angularaxis\": {\"gridcolor\": \"white\", \"linecolor\": \"white\", \"ticks\": \"\"}, \"bgcolor\": \"#E5ECF6\", \"radialaxis\": {\"gridcolor\": \"white\", \"linecolor\": \"white\", \"ticks\": \"\"}}, \"scene\": {\"xaxis\": {\"backgroundcolor\": \"#E5ECF6\", \"gridcolor\": \"white\", \"gridwidth\": 2, \"linecolor\": \"white\", \"showbackground\": true, \"ticks\": \"\", \"zerolinecolor\": \"white\"}, \"yaxis\": {\"backgroundcolor\": \"#E5ECF6\", \"gridcolor\": \"white\", \"gridwidth\": 2, \"linecolor\": \"white\", \"showbackground\": true, \"ticks\": \"\", \"zerolinecolor\": \"white\"}, \"zaxis\": {\"backgroundcolor\": \"#E5ECF6\", \"gridcolor\": \"white\", \"gridwidth\": 2, \"linecolor\": \"white\", \"showbackground\": true, \"ticks\": \"\", \"zerolinecolor\": \"white\"}}, \"shapedefaults\": {\"line\": {\"color\": \"#2a3f5f\"}}, \"ternary\": {\"aaxis\": {\"gridcolor\": \"white\", \"linecolor\": \"white\", \"ticks\": \"\"}, \"baxis\": {\"gridcolor\": \"white\", \"linecolor\": \"white\", \"ticks\": \"\"}, \"bgcolor\": \"#E5ECF6\", \"caxis\": {\"gridcolor\": \"white\", \"linecolor\": \"white\", \"ticks\": \"\"}}, \"title\": {\"x\": 0.05}, \"xaxis\": {\"automargin\": true, \"gridcolor\": \"white\", \"linecolor\": \"white\", \"ticks\": \"\", \"title\": {\"standoff\": 15}, \"zerolinecolor\": \"white\", \"zerolinewidth\": 2}, \"yaxis\": {\"automargin\": true, \"gridcolor\": \"white\", \"linecolor\": \"white\", \"ticks\": \"\", \"title\": {\"standoff\": 15}, \"zerolinecolor\": \"white\", \"zerolinewidth\": 2}}}},\n",
       "                        {\"responsive\": true}\n",
       "                    ).then(function(){\n",
       "                            \n",
       "var gd = document.getElementById('6413d4c7-f2e0-4d92-8036-2eb5f0a34c5d');\n",
       "var x = new MutationObserver(function (mutations, observer) {{\n",
       "        var display = window.getComputedStyle(gd).display;\n",
       "        if (!display || display === 'none') {{\n",
       "            console.log([gd, 'removed!']);\n",
       "            Plotly.purge(gd);\n",
       "            observer.disconnect();\n",
       "        }}\n",
       "}});\n",
       "\n",
       "// Listen for the removal of the full notebook cells\n",
       "var notebookContainer = gd.closest('#notebook-container');\n",
       "if (notebookContainer) {{\n",
       "    x.observe(notebookContainer, {childList: true});\n",
       "}}\n",
       "\n",
       "// Listen for the clearing of the current output cell\n",
       "var outputEl = gd.closest('.output');\n",
       "if (outputEl) {{\n",
       "    x.observe(outputEl, {childList: true});\n",
       "}}\n",
       "\n",
       "                        })\n",
       "                };\n",
       "                });\n",
       "            </script>\n",
       "        </div>"
      ]
     },
     "metadata": {},
     "output_type": "display_data"
    }
   ],
   "source": [
    "data_path = 'C:/Users/82103/Desktop/datascience/1219_code/basic_model/logs/__New_main_experiment_1_GA_30gen/'\n",
    "json2graph(data_path,0)"
   ]
  },
  {
   "cell_type": "markdown",
   "metadata": {},
   "source": [
    "## Pareto Frontier Test"
   ]
  },
  {
   "cell_type": "code",
   "execution_count": 188,
   "metadata": {},
   "outputs": [],
   "source": [
    "import numpy as np\n",
    "import os\n",
    "import json\n",
    "import sys\n",
    "sys.path.insert(0,'C:/Users/82103/Desktop/datascience/1219_code/basic_model/')\n",
    "from utils_kyy.create_toolbox import evaluate_v2\n",
    "\n",
    "\n",
    "# Faster than is_pareto_efficient_simple, but less readable.\n",
    "def is_pareto_efficient(costs, return_mask = True):\n",
    "    \"\"\"\n",
    "    Find the pareto-efficient points\n",
    "    :param costs: An (n_points, n_costs) array\n",
    "    :param return_mask: True to return a mask\n",
    "    :return: An array of indices of pareto-efficient points.\n",
    "        If return_mask is True, this will be an (n_points, ) boolean array\n",
    "        Otherwise it will be a (n_efficient_points, ) integer array of indices.\n",
    "    \"\"\"\n",
    "    is_efficient = np.arange(costs.shape[0])\n",
    "    n_points = costs.shape[0]\n",
    "    next_point_index = 0  # Next index in the is_efficient array to search for\n",
    "    while next_point_index<len(costs):\n",
    "        nondominated_point_mask = np.any(costs<costs[next_point_index], axis=1)\n",
    "        nondominated_point_mask[next_point_index] = 1\n",
    "        is_efficient = is_efficient[nondominated_point_mask]  # Remove dominated points\n",
    "        costs = costs[nondominated_point_mask]\n",
    "        next_point_index = np.sum(nondominated_point_mask[:next_point_index])+1\n",
    "    if return_mask:\n",
    "        is_efficient_mask = np.zeros(n_points)\n",
    "        is_efficient_mask[is_efficient] = 1\n",
    "        return is_efficient_mask\n",
    "    else:\n",
    "        return is_efficient\n",
    "    \n",
    "# https://stackoverflow.com/questions/32791911/fast-calculation-of-pareto-front-in-python"
   ]
  },
  {
   "cell_type": "markdown",
   "metadata": {},
   "source": [
    "* log data 불러오기 -> 모델 번호/ acc / flops / Generation / 파레토 유무\n",
    "* pareto 뽑기\n",
    "* pareto 만 색 따로주기\n",
    "* scatter 그리기"
   ]
  },
  {
   "cell_type": "code",
   "execution_count": 189,
   "metadata": {},
   "outputs": [],
   "source": [
    "import pandas as pd"
   ]
  },
  {
   "cell_type": "code",
   "execution_count": 190,
   "metadata": {},
   "outputs": [],
   "source": [
    "data_path = 'C:/Users/82103/Desktop/datascience/1219_code/basic_model/logs/__New_main_experiment_1_GA_30gen/'\n",
    "\n",
    "with open(os.path.join(data_path,\"train_logging.log\")) as json_file:\n",
    "    data = json.load(json_file)\n",
    "\n",
    "train_log = data['train_log']\n",
    "niter = len(train_log)\n",
    "npop = len(train_log['0'])\n",
    "objs =[]\n",
    "gen_num = []\n",
    "for i in range(niter):\n",
    "    gen_num.extend([i for j in range(npop)])\n",
    "    temp = [train_log[str(i)][j][1] for j in range(npop)]\n",
    "    objs.append(temp)\n",
    "\n",
    "objs = np.array(objs)\n",
    "epoch = list(range(niter))\n",
    "\n",
    "# 0 : acc , 1: Flops\n",
    "gr_type = 0\n",
    "\n",
    "objs[:,:,0]= -1*objs[:,:,0]\n",
    "\n",
    "y1 = objs[:,:,0].reshape(-1).tolist()\n",
    "y2 = objs[:,:,1].reshape(-1).tolist()\n",
    "idxs = [i for i in range(len(y1))]\n",
    "pareto = [0 for i in range(len(y1))]"
   ]
  },
  {
   "cell_type": "code",
   "execution_count": 191,
   "metadata": {},
   "outputs": [
    {
     "ename": "SyntaxError",
     "evalue": "invalid syntax (<ipython-input-191-42ebf1f1732e>, line 2)",
     "output_type": "error",
     "traceback": [
      "\u001b[1;36m  File \u001b[1;32m\"<ipython-input-191-42ebf1f1732e>\"\u001b[1;36m, line \u001b[1;32m2\u001b[0m\n\u001b[1;33m    1. 앞에 10 Generation 에서 파레토 만들기\u001b[0m\n\u001b[1;37m        ^\u001b[0m\n\u001b[1;31mSyntaxError\u001b[0m\u001b[1;31m:\u001b[0m invalid syntax\n"
     ]
    }
   ],
   "source": [
    "## Data Frame으로 만들기\n",
    "1. 앞에 10 Generation 에서 파레토 만들기\n",
    "2. 0 ~ 20 파레토 만들기\n",
    "3. 0 ~ 30 파레토 만들기\n",
    "\n"
   ]
  },
  {
   "cell_type": "code",
   "execution_count": 192,
   "metadata": {},
   "outputs": [],
   "source": [
    "df = pd.DataFrame({'gen':gen_num,'name': idxs, 'acc':y1, 'flops': y2})"
   ]
  },
  {
   "cell_type": "code",
   "execution_count": 193,
   "metadata": {},
   "outputs": [
    {
     "data": {
      "text/html": [
       "<div>\n",
       "<style scoped>\n",
       "    .dataframe tbody tr th:only-of-type {\n",
       "        vertical-align: middle;\n",
       "    }\n",
       "\n",
       "    .dataframe tbody tr th {\n",
       "        vertical-align: top;\n",
       "    }\n",
       "\n",
       "    .dataframe thead th {\n",
       "        text-align: right;\n",
       "    }\n",
       "</style>\n",
       "<table border=\"1\" class=\"dataframe\">\n",
       "  <thead>\n",
       "    <tr style=\"text-align: right;\">\n",
       "      <th></th>\n",
       "      <th>gen</th>\n",
       "      <th>name</th>\n",
       "      <th>acc</th>\n",
       "      <th>flops</th>\n",
       "    </tr>\n",
       "  </thead>\n",
       "  <tbody>\n",
       "    <tr>\n",
       "      <th>0</th>\n",
       "      <td>0</td>\n",
       "      <td>0</td>\n",
       "      <td>83.75</td>\n",
       "      <td>1.654448e+09</td>\n",
       "    </tr>\n",
       "    <tr>\n",
       "      <th>1</th>\n",
       "      <td>0</td>\n",
       "      <td>1</td>\n",
       "      <td>81.71</td>\n",
       "      <td>1.775048e+09</td>\n",
       "    </tr>\n",
       "    <tr>\n",
       "      <th>2</th>\n",
       "      <td>0</td>\n",
       "      <td>2</td>\n",
       "      <td>82.22</td>\n",
       "      <td>1.480460e+09</td>\n",
       "    </tr>\n",
       "    <tr>\n",
       "      <th>3</th>\n",
       "      <td>0</td>\n",
       "      <td>3</td>\n",
       "      <td>78.12</td>\n",
       "      <td>1.739114e+09</td>\n",
       "    </tr>\n",
       "    <tr>\n",
       "      <th>4</th>\n",
       "      <td>0</td>\n",
       "      <td>4</td>\n",
       "      <td>82.56</td>\n",
       "      <td>2.024451e+09</td>\n",
       "    </tr>\n",
       "  </tbody>\n",
       "</table>\n",
       "</div>"
      ],
      "text/plain": [
       "   gen  name    acc         flops\n",
       "0    0     0  83.75  1.654448e+09\n",
       "1    0     1  81.71  1.775048e+09\n",
       "2    0     2  82.22  1.480460e+09\n",
       "3    0     3  78.12  1.739114e+09\n",
       "4    0     4  82.56  2.024451e+09"
      ]
     },
     "execution_count": 193,
     "metadata": {},
     "output_type": "execute_result"
    }
   ],
   "source": [
    "df.head()"
   ]
  },
  {
   "cell_type": "markdown",
   "metadata": {},
   "source": [
    "* 데이터 index 별로 나누기\n",
    "* 나눈 걸로 파레토 각각 구하기,\n",
    "* 각각 구한 파레토 OR로 합쳐주기"
   ]
  },
  {
   "cell_type": "code",
   "execution_count": 209,
   "metadata": {
    "scrolled": true
   },
   "outputs": [],
   "source": [
    "idx1 = npop*niter//3 \n",
    "idx2 = npop*niter//3 * 2\n",
    "idx3 = npop*niter\n",
    "\n",
    "pareto1 = is_pareto_efficient(df[:idx1][['acc','flops']].to_numpy())\n",
    "pareto1 = np.append(pareto1,[0]*(idx3-idx1))\n",
    "\n",
    "pareto2 = is_pareto_efficient(df[:idx2][['acc','flops']].to_numpy())\n",
    "pareto2 = np.append(pareto2,[0]*(idx3-idx2))\n",
    "\n",
    "pareto3 = is_pareto_efficient(df[['acc','flops']].to_numpy())\n"
   ]
  },
  {
   "cell_type": "code",
   "execution_count": 201,
   "metadata": {},
   "outputs": [
    {
     "data": {
      "text/plain": [
       "array([0., 0., 0., 0., 0., 0., 0., 0., 0., 0., 0., 0., 0., 0., 0., 0., 0.,\n",
       "       0., 0., 0., 0., 0., 0., 0., 0., 0., 0., 0., 0., 0., 0., 0., 0., 0.,\n",
       "       0., 0., 0., 0., 0., 0., 0., 0., 0., 0., 0., 0., 0., 0., 0., 0., 0.,\n",
       "       0., 0., 0., 0., 0., 0., 0., 0., 0., 0., 0., 0., 0., 0., 0., 0., 0.,\n",
       "       0., 0., 0., 0., 0., 0., 0., 0., 0., 0., 0., 0., 0., 0., 0., 0., 0.,\n",
       "       0., 0., 0., 0., 0., 0., 0., 0., 0., 0., 0., 0., 0., 0., 0., 0., 0.,\n",
       "       0., 0., 0., 0., 0., 0., 0., 0., 0., 0., 0., 0., 0., 0., 0., 0., 0.,\n",
       "       0., 0., 0., 0., 0., 0., 0., 0., 0., 0., 0., 0., 0., 0., 0., 0., 0.,\n",
       "       0., 0., 0., 0., 0., 0., 0., 0., 0., 0., 0., 0., 0., 0., 0., 0., 0.,\n",
       "       0., 0., 0., 0., 0., 0., 0., 0., 0., 0., 0., 0., 0., 0., 0., 0., 0.,\n",
       "       0., 0., 0., 0., 0., 0., 0., 0., 0., 0., 0., 0., 0., 0., 0., 0., 0.,\n",
       "       0., 0., 0., 0., 0., 0., 0., 1., 0., 0., 1., 0., 0., 0., 0., 0., 0.,\n",
       "       0., 0., 0., 0., 0., 0., 0., 0., 0., 0., 0., 0., 0., 0., 0., 0., 0.,\n",
       "       0., 0., 0., 0., 0., 0., 0., 0., 0., 0., 0., 0., 0., 0., 0., 0., 0.,\n",
       "       0., 0., 0., 0., 0., 0., 0., 0., 0., 0., 0., 0., 0., 0., 0., 0., 0.,\n",
       "       0., 0., 0., 0., 0., 0., 0., 0., 0., 1., 1., 0., 1., 0., 0., 0., 0.,\n",
       "       0., 0., 0., 0., 0., 0., 0., 0., 0., 0., 0., 0., 0., 0., 0., 0., 0.,\n",
       "       0., 0., 0., 0., 0., 0., 0., 0., 0., 0., 0., 0., 0., 0., 0., 0., 0.,\n",
       "       0., 0., 0., 0., 0., 0., 0., 0., 0., 0., 0., 0., 0., 0., 0., 0., 0.,\n",
       "       0., 0., 0., 0., 0., 0., 0., 0., 0., 0., 0., 0., 0., 0., 0., 0., 0.,\n",
       "       0., 0., 0., 0., 0., 1., 0., 0., 0., 0., 0., 0., 0., 0., 0., 0., 0.,\n",
       "       0., 0., 0., 0., 0., 0., 0., 0., 0., 0., 0., 0., 0., 0., 0., 0., 0.,\n",
       "       0., 0., 0., 0., 0., 0., 0., 0., 0., 0., 0., 0., 0., 0., 0., 0., 0.,\n",
       "       0., 0., 0., 0., 0., 0., 0., 0., 0., 0., 0., 0., 0., 0., 0., 0., 0.,\n",
       "       0., 0., 0., 0., 0., 0., 0., 0., 0., 0., 0., 0., 0., 0., 0., 0., 0.,\n",
       "       0., 0., 0., 0., 0., 0., 0., 0., 0., 0., 0., 0., 0., 0., 0., 0., 0.,\n",
       "       0., 0., 0., 0., 0., 0., 0., 0., 0., 0., 0., 0., 0., 0., 0., 0., 0.,\n",
       "       0., 0., 0., 0., 0., 0., 0., 0., 0., 0., 0., 0., 0., 0., 0., 0., 0.,\n",
       "       0., 0., 0., 0., 0., 0., 0., 0., 0., 0., 0., 0., 0., 0., 0., 0., 0.,\n",
       "       0., 0., 0., 0., 0., 0., 0., 0., 0., 0., 0., 0., 0., 0., 0., 0., 0.,\n",
       "       0., 0., 0., 0., 0., 0., 0., 0., 0., 0., 0., 0., 0., 0., 0., 0., 0.,\n",
       "       0., 0., 0., 0., 0., 0., 0., 0., 0., 0., 0., 0., 0., 0., 0., 0., 0.,\n",
       "       0., 0., 0., 0., 0., 0., 0., 0., 0., 0., 0., 0., 0., 0., 0., 0., 0.,\n",
       "       0., 0., 0., 0., 0., 0., 0., 0., 0., 0., 0., 0., 0., 0., 0., 0., 0.,\n",
       "       0., 0., 0., 0., 0., 0., 0., 0., 0., 0., 0., 0., 0., 0., 0., 0., 0.,\n",
       "       0., 0., 0., 0., 0., 0., 0., 0., 0., 0., 0., 0., 0., 0., 0., 0., 0.,\n",
       "       0., 0., 0., 0., 0., 0., 0., 0.])"
      ]
     },
     "execution_count": 201,
     "metadata": {},
     "output_type": "execute_result"
    }
   ],
   "source": [
    "pareto2"
   ]
  },
  {
   "cell_type": "markdown",
   "metadata": {},
   "source": [
    "# "
   ]
  },
  {
   "cell_type": "code",
   "execution_count": 262,
   "metadata": {},
   "outputs": [],
   "source": [
    "pareto_final = np.logical_or(pareto1,pareto2, dtype ='float64')\n",
    "pareto_final = np.logical_or(pareto_final,pareto3)\n",
    "df['pareto'] = pareto_final"
   ]
  },
  {
   "cell_type": "code",
   "execution_count": 263,
   "metadata": {},
   "outputs": [
    {
     "data": {
      "text/plain": [
       "(array([117, 122, 140, 194, 197, 264, 265, 267, 345, 449, 493, 513],\n",
       "       dtype=int64),)"
      ]
     },
     "execution_count": 263,
     "metadata": {},
     "output_type": "execute_result"
    }
   ],
   "source": [
    "np.where(pareto_final==1)"
   ]
  },
  {
   "cell_type": "code",
   "execution_count": 264,
   "metadata": {},
   "outputs": [
    {
     "data": {
      "text/plain": [
       "(array([194, 197, 264, 267, 449, 493, 513], dtype=int64),)"
      ]
     },
     "execution_count": 264,
     "metadata": {},
     "output_type": "execute_result"
    }
   ],
   "source": [
    "np.where(pareto3==1)"
   ]
  },
  {
   "cell_type": "code",
   "execution_count": 265,
   "metadata": {},
   "outputs": [
    {
     "data": {
      "text/plain": [
       "(array([194, 197, 264, 265, 267, 345], dtype=int64),)"
      ]
     },
     "execution_count": 265,
     "metadata": {},
     "output_type": "execute_result"
    }
   ],
   "source": [
    "np.where(pareto2==1)"
   ]
  },
  {
   "cell_type": "code",
   "execution_count": 266,
   "metadata": {
    "scrolled": true
   },
   "outputs": [
    {
     "data": {
      "text/plain": [
       "(array([117, 122, 140, 194, 197], dtype=int64),)"
      ]
     },
     "execution_count": 266,
     "metadata": {},
     "output_type": "execute_result"
    }
   ],
   "source": [
    "np.where(pareto1==1)"
   ]
  },
  {
   "cell_type": "code",
   "execution_count": 301,
   "metadata": {
    "scrolled": true
   },
   "outputs": [
    {
     "data": {
      "text/html": [
       "<div>\n",
       "<style scoped>\n",
       "    .dataframe tbody tr th:only-of-type {\n",
       "        vertical-align: middle;\n",
       "    }\n",
       "\n",
       "    .dataframe tbody tr th {\n",
       "        vertical-align: top;\n",
       "    }\n",
       "\n",
       "    .dataframe thead th {\n",
       "        text-align: right;\n",
       "    }\n",
       "</style>\n",
       "<table border=\"1\" class=\"dataframe\">\n",
       "  <thead>\n",
       "    <tr style=\"text-align: right;\">\n",
       "      <th></th>\n",
       "      <th>gen</th>\n",
       "      <th>name</th>\n",
       "      <th>acc</th>\n",
       "      <th>flops</th>\n",
       "      <th>pareto</th>\n",
       "    </tr>\n",
       "  </thead>\n",
       "  <tbody>\n",
       "    <tr>\n",
       "      <th>0</th>\n",
       "      <td>0</td>\n",
       "      <td>0</td>\n",
       "      <td>83.75</td>\n",
       "      <td>1.654448e+09</td>\n",
       "      <td>0</td>\n",
       "    </tr>\n",
       "    <tr>\n",
       "      <th>1</th>\n",
       "      <td>0</td>\n",
       "      <td>1</td>\n",
       "      <td>81.71</td>\n",
       "      <td>1.775048e+09</td>\n",
       "      <td>0</td>\n",
       "    </tr>\n",
       "    <tr>\n",
       "      <th>2</th>\n",
       "      <td>0</td>\n",
       "      <td>2</td>\n",
       "      <td>82.22</td>\n",
       "      <td>1.480460e+09</td>\n",
       "      <td>0</td>\n",
       "    </tr>\n",
       "    <tr>\n",
       "      <th>3</th>\n",
       "      <td>0</td>\n",
       "      <td>3</td>\n",
       "      <td>78.12</td>\n",
       "      <td>1.739114e+09</td>\n",
       "      <td>0</td>\n",
       "    </tr>\n",
       "    <tr>\n",
       "      <th>4</th>\n",
       "      <td>0</td>\n",
       "      <td>4</td>\n",
       "      <td>82.56</td>\n",
       "      <td>2.024451e+09</td>\n",
       "      <td>0</td>\n",
       "    </tr>\n",
       "  </tbody>\n",
       "</table>\n",
       "</div>"
      ],
      "text/plain": [
       "   gen  name    acc         flops  pareto\n",
       "0    0     0  83.75  1.654448e+09       0\n",
       "1    0     1  81.71  1.775048e+09       0\n",
       "2    0     2  82.22  1.480460e+09       0\n",
       "3    0     3  78.12  1.739114e+09       0\n",
       "4    0     4  82.56  2.024451e+09       0"
      ]
     },
     "execution_count": 301,
     "metadata": {},
     "output_type": "execute_result"
    }
   ],
   "source": [
    "df.head()"
   ]
  },
  {
   "cell_type": "code",
   "execution_count": 274,
   "metadata": {},
   "outputs": [
    {
     "data": {
      "text/plain": [
       "array([0, 0, 0, 0, 0, 0, 0, 0, 0, 0, 0, 0, 0, 0, 0, 0, 0, 0, 0, 0, 0, 0,\n",
       "       0, 0, 0, 0, 0, 0, 0, 0, 0, 0, 0, 0, 0, 0, 0, 0, 0, 0, 0, 0, 0, 0,\n",
       "       0, 0, 0, 0, 0, 0, 0, 0, 0, 0, 0, 0, 0, 0, 0, 0, 0, 0, 0, 0, 0, 0,\n",
       "       0, 0, 0, 0, 0, 0, 0, 0, 0, 0, 0, 0, 0, 0, 0, 0, 0, 0, 0, 0, 0, 0,\n",
       "       0, 0, 0, 0, 0, 0, 0, 0, 0, 0, 0, 0, 0, 0, 0, 0, 0, 0, 0, 0, 0, 0,\n",
       "       0, 0, 0, 0, 0, 0, 0, 1, 0, 0, 0, 0, 1, 0, 0, 0, 0, 0, 0, 0, 0, 0,\n",
       "       0, 0, 0, 0, 0, 0, 0, 0, 1, 0, 0, 0, 0, 0, 0, 0, 0, 0, 0, 0, 0, 0,\n",
       "       0, 0, 0, 0, 0, 0, 0, 0, 0, 0, 0, 0, 0, 0, 0, 0, 0, 0, 0, 0, 0, 0,\n",
       "       0, 0, 0, 0, 0, 0, 0, 0, 0, 0, 0, 0, 0, 0, 0, 0, 0, 0, 1, 0, 0, 1,\n",
       "       0, 0, 0, 0, 0, 0, 0, 0, 0, 0, 0, 0, 0, 0, 0, 0, 0, 0, 0, 0, 0, 0,\n",
       "       0, 0, 0, 0, 0, 0, 0, 0, 0, 0, 0, 0, 0, 0, 0, 0, 0, 0, 0, 0, 0, 0,\n",
       "       0, 0, 0, 0, 0, 0, 0, 0, 0, 0, 0, 0, 0, 0, 0, 0, 0, 0, 0, 0, 0, 0,\n",
       "       1, 1, 0, 1, 0, 0, 0, 0, 0, 0, 0, 0, 0, 0, 0, 0, 0, 0, 0, 0, 0, 0,\n",
       "       0, 0, 0, 0, 0, 0, 0, 0, 0, 0, 0, 0, 0, 0, 0, 0, 0, 0, 0, 0, 0, 0,\n",
       "       0, 0, 0, 0, 0, 0, 0, 0, 0, 0, 0, 0, 0, 0, 0, 0, 0, 0, 0, 0, 0, 0,\n",
       "       0, 0, 0, 0, 0, 0, 0, 0, 0, 0, 0, 0, 0, 0, 0, 1, 0, 0, 0, 0, 0, 0,\n",
       "       0, 0, 0, 0, 0, 0, 0, 0, 0, 0, 0, 0, 0, 0, 0, 0, 0, 0, 0, 0, 0, 0,\n",
       "       0, 0, 0, 0, 0, 0, 0, 0, 0, 0, 0, 0, 0, 0, 0, 0, 0, 0, 0, 0, 0, 0,\n",
       "       0, 0, 0, 0, 0, 0, 0, 0, 0, 0, 0, 0, 0, 0, 0, 0, 0, 0, 0, 0, 0, 0,\n",
       "       0, 0, 0, 0, 0, 0, 0, 0, 0, 0, 0, 0, 0, 0, 0, 0, 0, 0, 0, 0, 0, 0,\n",
       "       0, 0, 0, 0, 0, 0, 0, 0, 0, 1, 0, 0, 0, 0, 0, 0, 0, 0, 0, 0, 0, 0,\n",
       "       0, 0, 0, 0, 0, 0, 0, 0, 0, 0, 0, 0, 0, 0, 0, 0, 0, 0, 0, 0, 0, 0,\n",
       "       0, 0, 0, 0, 0, 0, 0, 0, 0, 1, 0, 0, 0, 0, 0, 0, 0, 0, 0, 0, 0, 0,\n",
       "       0, 0, 0, 0, 0, 0, 0, 1, 0, 0, 0, 0, 0, 0, 0, 0, 0, 0, 0, 0, 0, 0,\n",
       "       0, 0, 0, 0, 0, 0, 0, 0, 0, 0, 0, 0, 0, 0, 0, 0, 0, 0, 0, 0, 0, 0,\n",
       "       0, 0, 0, 0, 0, 0, 0, 0, 0, 0, 0, 0, 0, 0, 0, 0, 0, 0, 0, 0, 0, 0,\n",
       "       0, 0, 0, 0, 0, 0, 0, 0, 0, 0, 0, 0, 0, 0, 0, 0, 0, 0, 0, 0, 0, 0,\n",
       "       0, 0, 0, 0, 0, 0, 0, 0, 0, 0, 0, 0, 0, 0, 0, 0, 0, 0, 0, 0, 0, 0,\n",
       "       0, 0, 0, 0])"
      ]
     },
     "execution_count": 274,
     "metadata": {},
     "output_type": "execute_result"
    }
   ],
   "source": [
    "pareto_final.astype(int)"
   ]
  },
  {
   "cell_type": "code",
   "execution_count": 275,
   "metadata": {},
   "outputs": [],
   "source": [
    "df['pareto'] = pareto_final.astype(int)"
   ]
  },
  {
   "cell_type": "code",
   "execution_count": 276,
   "metadata": {},
   "outputs": [
    {
     "data": {
      "text/html": [
       "<div>\n",
       "<style scoped>\n",
       "    .dataframe tbody tr th:only-of-type {\n",
       "        vertical-align: middle;\n",
       "    }\n",
       "\n",
       "    .dataframe tbody tr th {\n",
       "        vertical-align: top;\n",
       "    }\n",
       "\n",
       "    .dataframe thead th {\n",
       "        text-align: right;\n",
       "    }\n",
       "</style>\n",
       "<table border=\"1\" class=\"dataframe\">\n",
       "  <thead>\n",
       "    <tr style=\"text-align: right;\">\n",
       "      <th></th>\n",
       "      <th>gen</th>\n",
       "      <th>name</th>\n",
       "      <th>acc</th>\n",
       "      <th>flops</th>\n",
       "      <th>pareto</th>\n",
       "    </tr>\n",
       "  </thead>\n",
       "  <tbody>\n",
       "    <tr>\n",
       "      <th>117</th>\n",
       "      <td>5</td>\n",
       "      <td>117</td>\n",
       "      <td>74.83</td>\n",
       "      <td>1.866935e+09</td>\n",
       "      <td>1</td>\n",
       "    </tr>\n",
       "    <tr>\n",
       "      <th>122</th>\n",
       "      <td>6</td>\n",
       "      <td>122</td>\n",
       "      <td>76.23</td>\n",
       "      <td>1.485225e+09</td>\n",
       "      <td>1</td>\n",
       "    </tr>\n",
       "    <tr>\n",
       "      <th>140</th>\n",
       "      <td>7</td>\n",
       "      <td>140</td>\n",
       "      <td>77.02</td>\n",
       "      <td>1.315018e+09</td>\n",
       "      <td>1</td>\n",
       "    </tr>\n",
       "    <tr>\n",
       "      <th>194</th>\n",
       "      <td>9</td>\n",
       "      <td>194</td>\n",
       "      <td>79.95</td>\n",
       "      <td>1.219585e+09</td>\n",
       "      <td>1</td>\n",
       "    </tr>\n",
       "    <tr>\n",
       "      <th>197</th>\n",
       "      <td>9</td>\n",
       "      <td>197</td>\n",
       "      <td>80.11</td>\n",
       "      <td>1.200784e+09</td>\n",
       "      <td>1</td>\n",
       "    </tr>\n",
       "    <tr>\n",
       "      <th>264</th>\n",
       "      <td>13</td>\n",
       "      <td>264</td>\n",
       "      <td>64.32</td>\n",
       "      <td>1.435040e+09</td>\n",
       "      <td>1</td>\n",
       "    </tr>\n",
       "    <tr>\n",
       "      <th>265</th>\n",
       "      <td>13</td>\n",
       "      <td>265</td>\n",
       "      <td>75.85</td>\n",
       "      <td>1.276776e+09</td>\n",
       "      <td>1</td>\n",
       "    </tr>\n",
       "    <tr>\n",
       "      <th>267</th>\n",
       "      <td>13</td>\n",
       "      <td>267</td>\n",
       "      <td>79.12</td>\n",
       "      <td>1.239646e+09</td>\n",
       "      <td>1</td>\n",
       "    </tr>\n",
       "    <tr>\n",
       "      <th>345</th>\n",
       "      <td>17</td>\n",
       "      <td>345</td>\n",
       "      <td>73.92</td>\n",
       "      <td>1.353815e+09</td>\n",
       "      <td>1</td>\n",
       "    </tr>\n",
       "    <tr>\n",
       "      <th>449</th>\n",
       "      <td>22</td>\n",
       "      <td>449</td>\n",
       "      <td>69.92</td>\n",
       "      <td>1.353815e+09</td>\n",
       "      <td>1</td>\n",
       "    </tr>\n",
       "    <tr>\n",
       "      <th>493</th>\n",
       "      <td>24</td>\n",
       "      <td>493</td>\n",
       "      <td>74.45</td>\n",
       "      <td>1.259471e+09</td>\n",
       "      <td>1</td>\n",
       "    </tr>\n",
       "    <tr>\n",
       "      <th>513</th>\n",
       "      <td>25</td>\n",
       "      <td>513</td>\n",
       "      <td>73.08</td>\n",
       "      <td>1.315872e+09</td>\n",
       "      <td>1</td>\n",
       "    </tr>\n",
       "  </tbody>\n",
       "</table>\n",
       "</div>"
      ],
      "text/plain": [
       "     gen  name    acc         flops  pareto\n",
       "117    5   117  74.83  1.866935e+09       1\n",
       "122    6   122  76.23  1.485225e+09       1\n",
       "140    7   140  77.02  1.315018e+09       1\n",
       "194    9   194  79.95  1.219585e+09       1\n",
       "197    9   197  80.11  1.200784e+09       1\n",
       "264   13   264  64.32  1.435040e+09       1\n",
       "265   13   265  75.85  1.276776e+09       1\n",
       "267   13   267  79.12  1.239646e+09       1\n",
       "345   17   345  73.92  1.353815e+09       1\n",
       "449   22   449  69.92  1.353815e+09       1\n",
       "493   24   493  74.45  1.259471e+09       1\n",
       "513   25   513  73.08  1.315872e+09       1"
      ]
     },
     "execution_count": 276,
     "metadata": {},
     "output_type": "execute_result"
    }
   ],
   "source": [
    "df[df['pareto']==1]"
   ]
  },
  {
   "cell_type": "code",
   "execution_count": 277,
   "metadata": {},
   "outputs": [
    {
     "data": {
      "text/html": [
       "<div>\n",
       "<style scoped>\n",
       "    .dataframe tbody tr th:only-of-type {\n",
       "        vertical-align: middle;\n",
       "    }\n",
       "\n",
       "    .dataframe tbody tr th {\n",
       "        vertical-align: top;\n",
       "    }\n",
       "\n",
       "    .dataframe thead th {\n",
       "        text-align: right;\n",
       "    }\n",
       "</style>\n",
       "<table border=\"1\" class=\"dataframe\">\n",
       "  <thead>\n",
       "    <tr style=\"text-align: right;\">\n",
       "      <th></th>\n",
       "      <th>gen</th>\n",
       "      <th>name</th>\n",
       "      <th>acc</th>\n",
       "      <th>flops</th>\n",
       "      <th>pareto</th>\n",
       "    </tr>\n",
       "  </thead>\n",
       "  <tbody>\n",
       "    <tr>\n",
       "      <th>117</th>\n",
       "      <td>5</td>\n",
       "      <td>117</td>\n",
       "      <td>74.83</td>\n",
       "      <td>1.866935e+09</td>\n",
       "      <td>1</td>\n",
       "    </tr>\n",
       "    <tr>\n",
       "      <th>122</th>\n",
       "      <td>6</td>\n",
       "      <td>122</td>\n",
       "      <td>76.23</td>\n",
       "      <td>1.485225e+09</td>\n",
       "      <td>1</td>\n",
       "    </tr>\n",
       "    <tr>\n",
       "      <th>140</th>\n",
       "      <td>7</td>\n",
       "      <td>140</td>\n",
       "      <td>77.02</td>\n",
       "      <td>1.315018e+09</td>\n",
       "      <td>1</td>\n",
       "    </tr>\n",
       "    <tr>\n",
       "      <th>194</th>\n",
       "      <td>9</td>\n",
       "      <td>194</td>\n",
       "      <td>79.95</td>\n",
       "      <td>1.219585e+09</td>\n",
       "      <td>1</td>\n",
       "    </tr>\n",
       "    <tr>\n",
       "      <th>197</th>\n",
       "      <td>9</td>\n",
       "      <td>197</td>\n",
       "      <td>80.11</td>\n",
       "      <td>1.200784e+09</td>\n",
       "      <td>1</td>\n",
       "    </tr>\n",
       "    <tr>\n",
       "      <th>264</th>\n",
       "      <td>13</td>\n",
       "      <td>264</td>\n",
       "      <td>64.32</td>\n",
       "      <td>1.435040e+09</td>\n",
       "      <td>1</td>\n",
       "    </tr>\n",
       "    <tr>\n",
       "      <th>265</th>\n",
       "      <td>13</td>\n",
       "      <td>265</td>\n",
       "      <td>75.85</td>\n",
       "      <td>1.276776e+09</td>\n",
       "      <td>1</td>\n",
       "    </tr>\n",
       "    <tr>\n",
       "      <th>267</th>\n",
       "      <td>13</td>\n",
       "      <td>267</td>\n",
       "      <td>79.12</td>\n",
       "      <td>1.239646e+09</td>\n",
       "      <td>1</td>\n",
       "    </tr>\n",
       "    <tr>\n",
       "      <th>345</th>\n",
       "      <td>17</td>\n",
       "      <td>345</td>\n",
       "      <td>73.92</td>\n",
       "      <td>1.353815e+09</td>\n",
       "      <td>1</td>\n",
       "    </tr>\n",
       "    <tr>\n",
       "      <th>449</th>\n",
       "      <td>22</td>\n",
       "      <td>449</td>\n",
       "      <td>69.92</td>\n",
       "      <td>1.353815e+09</td>\n",
       "      <td>1</td>\n",
       "    </tr>\n",
       "    <tr>\n",
       "      <th>493</th>\n",
       "      <td>24</td>\n",
       "      <td>493</td>\n",
       "      <td>74.45</td>\n",
       "      <td>1.259471e+09</td>\n",
       "      <td>1</td>\n",
       "    </tr>\n",
       "    <tr>\n",
       "      <th>513</th>\n",
       "      <td>25</td>\n",
       "      <td>513</td>\n",
       "      <td>73.08</td>\n",
       "      <td>1.315872e+09</td>\n",
       "      <td>1</td>\n",
       "    </tr>\n",
       "  </tbody>\n",
       "</table>\n",
       "</div>"
      ],
      "text/plain": [
       "     gen  name    acc         flops  pareto\n",
       "117    5   117  74.83  1.866935e+09       1\n",
       "122    6   122  76.23  1.485225e+09       1\n",
       "140    7   140  77.02  1.315018e+09       1\n",
       "194    9   194  79.95  1.219585e+09       1\n",
       "197    9   197  80.11  1.200784e+09       1\n",
       "264   13   264  64.32  1.435040e+09       1\n",
       "265   13   265  75.85  1.276776e+09       1\n",
       "267   13   267  79.12  1.239646e+09       1\n",
       "345   17   345  73.92  1.353815e+09       1\n",
       "449   22   449  69.92  1.353815e+09       1\n",
       "493   24   493  74.45  1.259471e+09       1\n",
       "513   25   513  73.08  1.315872e+09       1"
      ]
     },
     "execution_count": 277,
     "metadata": {},
     "output_type": "execute_result"
    }
   ],
   "source": [
    "df[df['pareto']==1]"
   ]
  },
  {
   "cell_type": "code",
   "execution_count": 283,
   "metadata": {
    "scrolled": false
   },
   "outputs": [
    {
     "data": {
      "application/vnd.plotly.v1+json": {
       "config": {
        "plotlyServerURL": "https://plot.ly"
       },
       "data": [
        {
         "customdata": [
          [
           0
          ],
          [
           0
          ],
          [
           0
          ],
          [
           0
          ],
          [
           0
          ],
          [
           0
          ],
          [
           0
          ],
          [
           0
          ],
          [
           0
          ],
          [
           0
          ],
          [
           0
          ],
          [
           0
          ],
          [
           0
          ],
          [
           0
          ],
          [
           0
          ],
          [
           0
          ],
          [
           0
          ],
          [
           0
          ],
          [
           0
          ],
          [
           0
          ],
          [
           1
          ],
          [
           1
          ],
          [
           1
          ],
          [
           1
          ],
          [
           1
          ],
          [
           1
          ],
          [
           1
          ],
          [
           1
          ],
          [
           1
          ],
          [
           1
          ],
          [
           1
          ],
          [
           1
          ],
          [
           1
          ],
          [
           1
          ],
          [
           1
          ],
          [
           1
          ],
          [
           1
          ],
          [
           1
          ],
          [
           1
          ],
          [
           1
          ],
          [
           2
          ],
          [
           2
          ],
          [
           2
          ],
          [
           2
          ],
          [
           2
          ],
          [
           2
          ],
          [
           2
          ],
          [
           2
          ],
          [
           2
          ],
          [
           2
          ],
          [
           2
          ],
          [
           2
          ],
          [
           2
          ],
          [
           2
          ],
          [
           2
          ],
          [
           2
          ],
          [
           2
          ],
          [
           2
          ],
          [
           2
          ],
          [
           2
          ],
          [
           3
          ],
          [
           3
          ],
          [
           3
          ],
          [
           3
          ],
          [
           3
          ],
          [
           3
          ],
          [
           3
          ],
          [
           3
          ],
          [
           3
          ],
          [
           3
          ],
          [
           3
          ],
          [
           3
          ],
          [
           3
          ],
          [
           3
          ],
          [
           3
          ],
          [
           3
          ],
          [
           3
          ],
          [
           3
          ],
          [
           3
          ],
          [
           3
          ],
          [
           4
          ],
          [
           4
          ],
          [
           4
          ],
          [
           4
          ],
          [
           4
          ],
          [
           4
          ],
          [
           4
          ],
          [
           4
          ],
          [
           4
          ],
          [
           4
          ],
          [
           4
          ],
          [
           4
          ],
          [
           4
          ],
          [
           4
          ],
          [
           4
          ],
          [
           4
          ],
          [
           4
          ],
          [
           4
          ],
          [
           4
          ],
          [
           4
          ],
          [
           5
          ],
          [
           5
          ],
          [
           5
          ],
          [
           5
          ],
          [
           5
          ],
          [
           5
          ],
          [
           5
          ],
          [
           5
          ],
          [
           5
          ],
          [
           5
          ],
          [
           5
          ],
          [
           5
          ],
          [
           5
          ],
          [
           5
          ],
          [
           5
          ],
          [
           5
          ],
          [
           5
          ],
          [
           5
          ],
          [
           5
          ],
          [
           5
          ],
          [
           6
          ],
          [
           6
          ],
          [
           6
          ],
          [
           6
          ],
          [
           6
          ],
          [
           6
          ],
          [
           6
          ],
          [
           6
          ],
          [
           6
          ],
          [
           6
          ],
          [
           6
          ],
          [
           6
          ],
          [
           6
          ],
          [
           6
          ],
          [
           6
          ],
          [
           6
          ],
          [
           6
          ],
          [
           6
          ],
          [
           6
          ],
          [
           6
          ],
          [
           7
          ],
          [
           7
          ],
          [
           7
          ],
          [
           7
          ],
          [
           7
          ],
          [
           7
          ],
          [
           7
          ],
          [
           7
          ],
          [
           7
          ],
          [
           7
          ],
          [
           7
          ],
          [
           7
          ],
          [
           7
          ],
          [
           7
          ],
          [
           7
          ],
          [
           7
          ],
          [
           7
          ],
          [
           7
          ],
          [
           7
          ],
          [
           7
          ],
          [
           8
          ],
          [
           8
          ],
          [
           8
          ],
          [
           8
          ],
          [
           8
          ],
          [
           8
          ],
          [
           8
          ],
          [
           8
          ],
          [
           8
          ],
          [
           8
          ],
          [
           8
          ],
          [
           8
          ],
          [
           8
          ],
          [
           8
          ],
          [
           8
          ],
          [
           8
          ],
          [
           8
          ],
          [
           8
          ],
          [
           8
          ],
          [
           8
          ],
          [
           9
          ],
          [
           9
          ],
          [
           9
          ],
          [
           9
          ],
          [
           9
          ],
          [
           9
          ],
          [
           9
          ],
          [
           9
          ],
          [
           9
          ],
          [
           9
          ],
          [
           9
          ],
          [
           9
          ],
          [
           9
          ],
          [
           9
          ],
          [
           9
          ],
          [
           9
          ],
          [
           9
          ],
          [
           9
          ],
          [
           9
          ],
          [
           9
          ],
          [
           10
          ],
          [
           10
          ],
          [
           10
          ],
          [
           10
          ],
          [
           10
          ],
          [
           10
          ],
          [
           10
          ],
          [
           10
          ],
          [
           10
          ],
          [
           10
          ],
          [
           10
          ],
          [
           10
          ],
          [
           10
          ],
          [
           10
          ],
          [
           10
          ],
          [
           10
          ],
          [
           10
          ],
          [
           10
          ],
          [
           10
          ],
          [
           10
          ],
          [
           11
          ],
          [
           11
          ],
          [
           11
          ],
          [
           11
          ],
          [
           11
          ],
          [
           11
          ],
          [
           11
          ],
          [
           11
          ],
          [
           11
          ],
          [
           11
          ],
          [
           11
          ],
          [
           11
          ],
          [
           11
          ],
          [
           11
          ],
          [
           11
          ],
          [
           11
          ],
          [
           11
          ],
          [
           11
          ],
          [
           11
          ],
          [
           11
          ],
          [
           12
          ],
          [
           12
          ],
          [
           12
          ],
          [
           12
          ],
          [
           12
          ],
          [
           12
          ],
          [
           12
          ],
          [
           12
          ],
          [
           12
          ],
          [
           12
          ],
          [
           12
          ],
          [
           12
          ],
          [
           12
          ],
          [
           12
          ],
          [
           12
          ],
          [
           12
          ],
          [
           12
          ],
          [
           12
          ],
          [
           12
          ],
          [
           12
          ],
          [
           13
          ],
          [
           13
          ],
          [
           13
          ],
          [
           13
          ],
          [
           13
          ],
          [
           13
          ],
          [
           13
          ],
          [
           13
          ],
          [
           13
          ],
          [
           13
          ],
          [
           13
          ],
          [
           13
          ],
          [
           13
          ],
          [
           13
          ],
          [
           13
          ],
          [
           13
          ],
          [
           13
          ],
          [
           13
          ],
          [
           13
          ],
          [
           13
          ],
          [
           14
          ],
          [
           14
          ],
          [
           14
          ],
          [
           14
          ],
          [
           14
          ],
          [
           14
          ],
          [
           14
          ],
          [
           14
          ],
          [
           14
          ],
          [
           14
          ],
          [
           14
          ],
          [
           14
          ],
          [
           14
          ],
          [
           14
          ],
          [
           14
          ],
          [
           14
          ],
          [
           14
          ],
          [
           14
          ],
          [
           14
          ],
          [
           14
          ],
          [
           15
          ],
          [
           15
          ],
          [
           15
          ],
          [
           15
          ],
          [
           15
          ],
          [
           15
          ],
          [
           15
          ],
          [
           15
          ],
          [
           15
          ],
          [
           15
          ],
          [
           15
          ],
          [
           15
          ],
          [
           15
          ],
          [
           15
          ],
          [
           15
          ],
          [
           15
          ],
          [
           15
          ],
          [
           15
          ],
          [
           15
          ],
          [
           15
          ],
          [
           16
          ],
          [
           16
          ],
          [
           16
          ],
          [
           16
          ],
          [
           16
          ],
          [
           16
          ],
          [
           16
          ],
          [
           16
          ],
          [
           16
          ],
          [
           16
          ],
          [
           16
          ],
          [
           16
          ],
          [
           16
          ],
          [
           16
          ],
          [
           16
          ],
          [
           16
          ],
          [
           16
          ],
          [
           16
          ],
          [
           16
          ],
          [
           16
          ],
          [
           17
          ],
          [
           17
          ],
          [
           17
          ],
          [
           17
          ],
          [
           17
          ],
          [
           17
          ],
          [
           17
          ],
          [
           17
          ],
          [
           17
          ],
          [
           17
          ],
          [
           17
          ],
          [
           17
          ],
          [
           17
          ],
          [
           17
          ],
          [
           17
          ],
          [
           17
          ],
          [
           17
          ],
          [
           17
          ],
          [
           17
          ],
          [
           17
          ],
          [
           18
          ],
          [
           18
          ],
          [
           18
          ],
          [
           18
          ],
          [
           18
          ],
          [
           18
          ],
          [
           18
          ],
          [
           18
          ],
          [
           18
          ],
          [
           18
          ],
          [
           18
          ],
          [
           18
          ],
          [
           18
          ],
          [
           18
          ],
          [
           18
          ],
          [
           18
          ],
          [
           18
          ],
          [
           18
          ],
          [
           18
          ],
          [
           18
          ],
          [
           19
          ],
          [
           19
          ],
          [
           19
          ],
          [
           19
          ],
          [
           19
          ],
          [
           19
          ],
          [
           19
          ],
          [
           19
          ],
          [
           19
          ],
          [
           19
          ],
          [
           19
          ],
          [
           19
          ],
          [
           19
          ],
          [
           19
          ],
          [
           19
          ],
          [
           19
          ],
          [
           19
          ],
          [
           19
          ],
          [
           19
          ],
          [
           19
          ],
          [
           20
          ],
          [
           20
          ],
          [
           20
          ],
          [
           20
          ],
          [
           20
          ],
          [
           20
          ],
          [
           20
          ],
          [
           20
          ],
          [
           20
          ],
          [
           20
          ],
          [
           20
          ],
          [
           20
          ],
          [
           20
          ],
          [
           20
          ],
          [
           20
          ],
          [
           20
          ],
          [
           20
          ],
          [
           20
          ],
          [
           20
          ],
          [
           20
          ],
          [
           21
          ],
          [
           21
          ],
          [
           21
          ],
          [
           21
          ],
          [
           21
          ],
          [
           21
          ],
          [
           21
          ],
          [
           21
          ],
          [
           21
          ],
          [
           21
          ],
          [
           21
          ],
          [
           21
          ],
          [
           21
          ],
          [
           21
          ],
          [
           21
          ],
          [
           21
          ],
          [
           21
          ],
          [
           21
          ],
          [
           21
          ],
          [
           21
          ],
          [
           22
          ],
          [
           22
          ],
          [
           22
          ],
          [
           22
          ],
          [
           22
          ],
          [
           22
          ],
          [
           22
          ],
          [
           22
          ],
          [
           22
          ],
          [
           22
          ],
          [
           22
          ],
          [
           22
          ],
          [
           22
          ],
          [
           22
          ],
          [
           22
          ],
          [
           22
          ],
          [
           22
          ],
          [
           22
          ],
          [
           22
          ],
          [
           22
          ],
          [
           23
          ],
          [
           23
          ],
          [
           23
          ],
          [
           23
          ],
          [
           23
          ],
          [
           23
          ],
          [
           23
          ],
          [
           23
          ],
          [
           23
          ],
          [
           23
          ],
          [
           23
          ],
          [
           23
          ],
          [
           23
          ],
          [
           23
          ],
          [
           23
          ],
          [
           23
          ],
          [
           23
          ],
          [
           23
          ],
          [
           23
          ],
          [
           23
          ],
          [
           24
          ],
          [
           24
          ],
          [
           24
          ],
          [
           24
          ],
          [
           24
          ],
          [
           24
          ],
          [
           24
          ],
          [
           24
          ],
          [
           24
          ],
          [
           24
          ],
          [
           24
          ],
          [
           24
          ],
          [
           24
          ],
          [
           24
          ],
          [
           24
          ],
          [
           24
          ],
          [
           24
          ],
          [
           24
          ],
          [
           24
          ],
          [
           24
          ],
          [
           25
          ],
          [
           25
          ],
          [
           25
          ],
          [
           25
          ],
          [
           25
          ],
          [
           25
          ],
          [
           25
          ],
          [
           25
          ],
          [
           25
          ],
          [
           25
          ],
          [
           25
          ],
          [
           25
          ],
          [
           25
          ],
          [
           25
          ],
          [
           25
          ],
          [
           25
          ],
          [
           25
          ],
          [
           25
          ],
          [
           25
          ],
          [
           25
          ],
          [
           26
          ],
          [
           26
          ],
          [
           26
          ],
          [
           26
          ],
          [
           26
          ],
          [
           26
          ],
          [
           26
          ],
          [
           26
          ],
          [
           26
          ],
          [
           26
          ],
          [
           26
          ],
          [
           26
          ],
          [
           26
          ],
          [
           26
          ],
          [
           26
          ],
          [
           26
          ],
          [
           26
          ],
          [
           26
          ],
          [
           26
          ],
          [
           26
          ],
          [
           27
          ],
          [
           27
          ],
          [
           27
          ],
          [
           27
          ],
          [
           27
          ],
          [
           27
          ],
          [
           27
          ],
          [
           27
          ],
          [
           27
          ],
          [
           27
          ],
          [
           27
          ],
          [
           27
          ],
          [
           27
          ],
          [
           27
          ],
          [
           27
          ],
          [
           27
          ],
          [
           27
          ],
          [
           27
          ],
          [
           27
          ],
          [
           27
          ],
          [
           28
          ],
          [
           28
          ],
          [
           28
          ],
          [
           28
          ],
          [
           28
          ],
          [
           28
          ],
          [
           28
          ],
          [
           28
          ],
          [
           28
          ],
          [
           28
          ],
          [
           28
          ],
          [
           28
          ],
          [
           28
          ],
          [
           28
          ],
          [
           28
          ],
          [
           28
          ],
          [
           28
          ],
          [
           28
          ],
          [
           28
          ],
          [
           28
          ],
          [
           29
          ],
          [
           29
          ],
          [
           29
          ],
          [
           29
          ],
          [
           29
          ],
          [
           29
          ],
          [
           29
          ],
          [
           29
          ],
          [
           29
          ],
          [
           29
          ],
          [
           29
          ],
          [
           29
          ],
          [
           29
          ],
          [
           29
          ],
          [
           29
          ],
          [
           29
          ],
          [
           29
          ],
          [
           29
          ],
          [
           29
          ],
          [
           29
          ],
          [
           30
          ],
          [
           30
          ],
          [
           30
          ],
          [
           30
          ],
          [
           30
          ],
          [
           30
          ],
          [
           30
          ],
          [
           30
          ],
          [
           30
          ],
          [
           30
          ],
          [
           30
          ],
          [
           30
          ],
          [
           30
          ],
          [
           30
          ],
          [
           30
          ],
          [
           30
          ],
          [
           30
          ],
          [
           30
          ],
          [
           30
          ],
          [
           30
          ]
         ],
         "hoverlabel": {
          "namelength": 0
         },
         "hovertemplate": "<b>%{hovertext}</b><br><br>flops=%{x}<br>acc=%{y}<br>gen=%{customdata[0]}<br>pareto=%{marker.color}",
         "hovertext": [
          0,
          0,
          0,
          0,
          0,
          0,
          0,
          0,
          0,
          0,
          0,
          0,
          0,
          0,
          0,
          0,
          0,
          0,
          0,
          0,
          1,
          1,
          1,
          1,
          1,
          1,
          1,
          1,
          1,
          1,
          1,
          1,
          1,
          1,
          1,
          1,
          1,
          1,
          1,
          1,
          2,
          2,
          2,
          2,
          2,
          2,
          2,
          2,
          2,
          2,
          2,
          2,
          2,
          2,
          2,
          2,
          2,
          2,
          2,
          2,
          3,
          3,
          3,
          3,
          3,
          3,
          3,
          3,
          3,
          3,
          3,
          3,
          3,
          3,
          3,
          3,
          3,
          3,
          3,
          3,
          4,
          4,
          4,
          4,
          4,
          4,
          4,
          4,
          4,
          4,
          4,
          4,
          4,
          4,
          4,
          4,
          4,
          4,
          4,
          4,
          5,
          5,
          5,
          5,
          5,
          5,
          5,
          5,
          5,
          5,
          5,
          5,
          5,
          5,
          5,
          5,
          5,
          5,
          5,
          5,
          6,
          6,
          6,
          6,
          6,
          6,
          6,
          6,
          6,
          6,
          6,
          6,
          6,
          6,
          6,
          6,
          6,
          6,
          6,
          6,
          7,
          7,
          7,
          7,
          7,
          7,
          7,
          7,
          7,
          7,
          7,
          7,
          7,
          7,
          7,
          7,
          7,
          7,
          7,
          7,
          8,
          8,
          8,
          8,
          8,
          8,
          8,
          8,
          8,
          8,
          8,
          8,
          8,
          8,
          8,
          8,
          8,
          8,
          8,
          8,
          9,
          9,
          9,
          9,
          9,
          9,
          9,
          9,
          9,
          9,
          9,
          9,
          9,
          9,
          9,
          9,
          9,
          9,
          9,
          9,
          10,
          10,
          10,
          10,
          10,
          10,
          10,
          10,
          10,
          10,
          10,
          10,
          10,
          10,
          10,
          10,
          10,
          10,
          10,
          10,
          11,
          11,
          11,
          11,
          11,
          11,
          11,
          11,
          11,
          11,
          11,
          11,
          11,
          11,
          11,
          11,
          11,
          11,
          11,
          11,
          12,
          12,
          12,
          12,
          12,
          12,
          12,
          12,
          12,
          12,
          12,
          12,
          12,
          12,
          12,
          12,
          12,
          12,
          12,
          12,
          13,
          13,
          13,
          13,
          13,
          13,
          13,
          13,
          13,
          13,
          13,
          13,
          13,
          13,
          13,
          13,
          13,
          13,
          13,
          13,
          14,
          14,
          14,
          14,
          14,
          14,
          14,
          14,
          14,
          14,
          14,
          14,
          14,
          14,
          14,
          14,
          14,
          14,
          14,
          14,
          15,
          15,
          15,
          15,
          15,
          15,
          15,
          15,
          15,
          15,
          15,
          15,
          15,
          15,
          15,
          15,
          15,
          15,
          15,
          15,
          16,
          16,
          16,
          16,
          16,
          16,
          16,
          16,
          16,
          16,
          16,
          16,
          16,
          16,
          16,
          16,
          16,
          16,
          16,
          16,
          17,
          17,
          17,
          17,
          17,
          17,
          17,
          17,
          17,
          17,
          17,
          17,
          17,
          17,
          17,
          17,
          17,
          17,
          17,
          17,
          18,
          18,
          18,
          18,
          18,
          18,
          18,
          18,
          18,
          18,
          18,
          18,
          18,
          18,
          18,
          18,
          18,
          18,
          18,
          18,
          19,
          19,
          19,
          19,
          19,
          19,
          19,
          19,
          19,
          19,
          19,
          19,
          19,
          19,
          19,
          19,
          19,
          19,
          19,
          19,
          20,
          20,
          20,
          20,
          20,
          20,
          20,
          20,
          20,
          20,
          20,
          20,
          20,
          20,
          20,
          20,
          20,
          20,
          20,
          20,
          21,
          21,
          21,
          21,
          21,
          21,
          21,
          21,
          21,
          21,
          21,
          21,
          21,
          21,
          21,
          21,
          21,
          21,
          21,
          21,
          22,
          22,
          22,
          22,
          22,
          22,
          22,
          22,
          22,
          22,
          22,
          22,
          22,
          22,
          22,
          22,
          22,
          22,
          22,
          22,
          23,
          23,
          23,
          23,
          23,
          23,
          23,
          23,
          23,
          23,
          23,
          23,
          23,
          23,
          23,
          23,
          23,
          23,
          23,
          23,
          24,
          24,
          24,
          24,
          24,
          24,
          24,
          24,
          24,
          24,
          24,
          24,
          24,
          24,
          24,
          24,
          24,
          24,
          24,
          24,
          25,
          25,
          25,
          25,
          25,
          25,
          25,
          25,
          25,
          25,
          25,
          25,
          25,
          25,
          25,
          25,
          25,
          25,
          25,
          25,
          26,
          26,
          26,
          26,
          26,
          26,
          26,
          26,
          26,
          26,
          26,
          26,
          26,
          26,
          26,
          26,
          26,
          26,
          26,
          26,
          27,
          27,
          27,
          27,
          27,
          27,
          27,
          27,
          27,
          27,
          27,
          27,
          27,
          27,
          27,
          27,
          27,
          27,
          27,
          27,
          28,
          28,
          28,
          28,
          28,
          28,
          28,
          28,
          28,
          28,
          28,
          28,
          28,
          28,
          28,
          28,
          28,
          28,
          28,
          28,
          29,
          29,
          29,
          29,
          29,
          29,
          29,
          29,
          29,
          29,
          29,
          29,
          29,
          29,
          29,
          29,
          29,
          29,
          29,
          29,
          30,
          30,
          30,
          30,
          30,
          30,
          30,
          30,
          30,
          30,
          30,
          30,
          30,
          30,
          30,
          30,
          30,
          30,
          30,
          30
         ],
         "legendgroup": "",
         "marker": {
          "color": [
           0,
           0,
           0,
           0,
           0,
           0,
           0,
           0,
           0,
           0,
           0,
           0,
           0,
           0,
           0,
           0,
           0,
           0,
           0,
           0,
           0,
           0,
           0,
           0,
           0,
           0,
           0,
           0,
           0,
           0,
           0,
           0,
           0,
           0,
           0,
           0,
           0,
           0,
           0,
           0,
           0,
           0,
           0,
           0,
           0,
           0,
           0,
           0,
           0,
           0,
           0,
           0,
           0,
           0,
           0,
           0,
           0,
           0,
           0,
           0,
           0,
           0,
           0,
           0,
           0,
           0,
           0,
           0,
           0,
           0,
           0,
           0,
           0,
           0,
           0,
           0,
           0,
           0,
           0,
           0,
           0,
           0,
           0,
           0,
           0,
           0,
           0,
           0,
           0,
           0,
           0,
           0,
           0,
           0,
           0,
           0,
           0,
           0,
           0,
           0,
           0,
           0,
           0,
           0,
           0,
           0,
           0,
           0,
           0,
           0,
           0,
           0,
           0,
           0,
           0,
           0,
           0,
           1,
           0,
           0,
           0,
           0,
           1,
           0,
           0,
           0,
           0,
           0,
           0,
           0,
           0,
           0,
           0,
           0,
           0,
           0,
           0,
           0,
           0,
           0,
           1,
           0,
           0,
           0,
           0,
           0,
           0,
           0,
           0,
           0,
           0,
           0,
           0,
           0,
           0,
           0,
           0,
           0,
           0,
           0,
           0,
           0,
           0,
           0,
           0,
           0,
           0,
           0,
           0,
           0,
           0,
           0,
           0,
           0,
           0,
           0,
           0,
           0,
           0,
           0,
           0,
           0,
           0,
           0,
           0,
           0,
           0,
           0,
           0,
           0,
           0,
           0,
           0,
           0,
           1,
           0,
           0,
           1,
           0,
           0,
           0,
           0,
           0,
           0,
           0,
           0,
           0,
           0,
           0,
           0,
           0,
           0,
           0,
           0,
           0,
           0,
           0,
           0,
           0,
           0,
           0,
           0,
           0,
           0,
           0,
           0,
           0,
           0,
           0,
           0,
           0,
           0,
           0,
           0,
           0,
           0,
           0,
           0,
           0,
           0,
           0,
           0,
           0,
           0,
           0,
           0,
           0,
           0,
           0,
           0,
           0,
           0,
           0,
           0,
           0,
           0,
           0,
           0,
           0,
           0,
           0,
           0,
           0,
           0,
           1,
           1,
           0,
           1,
           0,
           0,
           0,
           0,
           0,
           0,
           0,
           0,
           0,
           0,
           0,
           0,
           0,
           0,
           0,
           0,
           0,
           0,
           0,
           0,
           0,
           0,
           0,
           0,
           0,
           0,
           0,
           0,
           0,
           0,
           0,
           0,
           0,
           0,
           0,
           0,
           0,
           0,
           0,
           0,
           0,
           0,
           0,
           0,
           0,
           0,
           0,
           0,
           0,
           0,
           0,
           0,
           0,
           0,
           0,
           0,
           0,
           0,
           0,
           0,
           0,
           0,
           0,
           0,
           0,
           0,
           0,
           0,
           0,
           0,
           0,
           0,
           0,
           0,
           0,
           0,
           0,
           1,
           0,
           0,
           0,
           0,
           0,
           0,
           0,
           0,
           0,
           0,
           0,
           0,
           0,
           0,
           0,
           0,
           0,
           0,
           0,
           0,
           0,
           0,
           0,
           0,
           0,
           0,
           0,
           0,
           0,
           0,
           0,
           0,
           0,
           0,
           0,
           0,
           0,
           0,
           0,
           0,
           0,
           0,
           0,
           0,
           0,
           0,
           0,
           0,
           0,
           0,
           0,
           0,
           0,
           0,
           0,
           0,
           0,
           0,
           0,
           0,
           0,
           0,
           0,
           0,
           0,
           0,
           0,
           0,
           0,
           0,
           0,
           0,
           0,
           0,
           0,
           0,
           0,
           0,
           0,
           0,
           0,
           0,
           0,
           0,
           0,
           0,
           0,
           0,
           0,
           0,
           0,
           0,
           0,
           0,
           0,
           0,
           0,
           0,
           0,
           0,
           0,
           0,
           0,
           1,
           0,
           0,
           0,
           0,
           0,
           0,
           0,
           0,
           0,
           0,
           0,
           0,
           0,
           0,
           0,
           0,
           0,
           0,
           0,
           0,
           0,
           0,
           0,
           0,
           0,
           0,
           0,
           0,
           0,
           0,
           0,
           0,
           0,
           0,
           0,
           0,
           0,
           0,
           0,
           0,
           0,
           0,
           0,
           1,
           0,
           0,
           0,
           0,
           0,
           0,
           0,
           0,
           0,
           0,
           0,
           0,
           0,
           0,
           0,
           0,
           0,
           0,
           0,
           1,
           0,
           0,
           0,
           0,
           0,
           0,
           0,
           0,
           0,
           0,
           0,
           0,
           0,
           0,
           0,
           0,
           0,
           0,
           0,
           0,
           0,
           0,
           0,
           0,
           0,
           0,
           0,
           0,
           0,
           0,
           0,
           0,
           0,
           0,
           0,
           0,
           0,
           0,
           0,
           0,
           0,
           0,
           0,
           0,
           0,
           0,
           0,
           0,
           0,
           0,
           0,
           0,
           0,
           0,
           0,
           0,
           0,
           0,
           0,
           0,
           0,
           0,
           0,
           0,
           0,
           0,
           0,
           0,
           0,
           0,
           0,
           0,
           0,
           0,
           0,
           0,
           0,
           0,
           0,
           0,
           0,
           0,
           0,
           0,
           0,
           0,
           0,
           0,
           0,
           0,
           0,
           0,
           0,
           0,
           0,
           0,
           0,
           0,
           0,
           0,
           0,
           0,
           0,
           0,
           0,
           0
          ],
          "coloraxis": "coloraxis",
          "symbol": "circle"
         },
         "mode": "markers",
         "name": "",
         "showlegend": false,
         "type": "scatter",
         "x": [
          1654448128,
          1775048064,
          1480460160,
          1739113984,
          2024450560,
          1791989888,
          1614753920,
          1611378304,
          1955167616,
          1566494208,
          1765605888,
          1926646912,
          2078224128,
          1498470400,
          1514280448,
          1839567488,
          1671154816,
          1651608320,
          1844973056,
          2000630528,
          1839567488,
          1315017728,
          1753577344,
          1629858560,
          1566494208,
          2224909056,
          1664256000,
          1509707520,
          1611378304,
          1344798976,
          1466936960,
          1614753920,
          1818437888,
          1898125952,
          1745929856,
          1858837376,
          1542758912,
          1765605888,
          1955787776,
          1822753920,
          1751655552,
          1864669184,
          1640968704,
          1582601600,
          1614604800,
          1572197632,
          1752915712,
          1542758912,
          1793656320,
          1570060672,
          1634857856,
          1697133440,
          1628256128,
          1753577344,
          1498470400,
          1753577344,
          1315017728,
          1374088960,
          1315017728,
          1509707520,
          1553995648,
          1611528064,
          1468880896,
          1829376896,
          1648680576,
          1697412096,
          1753577344,
          1837260416,
          2018105856,
          1870139264,
          1315017728,
          1592749824,
          1829376896,
          1583585024,
          1774706432,
          1793656320,
          1344798976,
          1315017728,
          1798527104,
          1514280448,
          1315017728,
          1695104896,
          1633491840,
          1315017728,
          1770304640,
          1276776192,
          1585143936,
          1753577344,
          1829376896,
          1315017728,
          1533165696,
          1374494976,
          1830809344,
          1793656320,
          1315017728,
          1697412096,
          2065555456,
          1663144320,
          1528507648,
          1793656320,
          1765605888,
          2011910400,
          1693994112,
          1276776192,
          1620629504,
          1494924160,
          1788100736,
          1793656320,
          1659767808,
          1315017728,
          1840636032,
          1315017728,
          1573607680,
          1682243328,
          2207305216,
          1315017728,
          1449952896,
          1866934656,
          1710807040,
          1869455872,
          1276776192,
          1790665728,
          1485224960,
          1528507648,
          1891823872,
          1608367360,
          1697412096,
          1829376896,
          1809017472,
          1592749824,
          1632657152,
          1509707520,
          1276776192,
          1662205184,
          1636395648,
          1614968192,
          1200784384,
          1671369216,
          1276776192,
          1798142592,
          1315017728,
          1545962752,
          1570125824,
          1456276864,
          1765605888,
          1950767232,
          1804551808,
          1695766528,
          1753577344,
          2123793280,
          1220054656,
          2170943488,
          1728647168,
          1335740800,
          1855547904,
          1784748032,
          1276776192,
          1592749824,
          1662205184,
          1420406144,
          1651906560,
          2147549952,
          1753577344,
          1545962752,
          1220054656,
          2169405440,
          1614156544,
          1276776192,
          1276776192,
          1570125824,
          1528507648,
          1415129216,
          1484733696,
          1276776192,
          1697476480,
          1296943744,
          1591873536,
          1753577344,
          1554508288,
          1635925504,
          1276776192,
          2019793536,
          1490437248,
          1509707520,
          1671369216,
          1278292864,
          1220951936,
          1725462656,
          1765648384,
          1852620416,
          2147549952,
          1522676224,
          1378831744,
          1671369216,
          1219584768,
          1296943744,
          1276776192,
          1200784384,
          2038594816,
          2019793536,
          1356142976,
          1276776192,
          1276776192,
          1566407424,
          2019793536,
          1792886912,
          1774386304,
          1522782976,
          1692113664,
          1437838848,
          1965229952,
          1500734464,
          1220951936,
          2227793152,
          1964718080,
          1662845184,
          1287351168,
          1240222208,
          1965230208,
          2019793536,
          1504901248,
          1500734464,
          1554508288,
          1953437440,
          1915986304,
          1692113664,
          1522782976,
          1356142976,
          1240222208,
          1356142976,
          1276776192,
          1580977536,
          1940148864,
          1566407424,
          1866356992,
          1498940032,
          1735056384,
          1295918336,
          1904428416,
          2019793536,
          1617210752,
          1803077760,
          1486293248,
          2019793536,
          1885157120,
          1692113664,
          1277652096,
          1498940032,
          1940148864,
          1276776192,
          1847857152,
          1435040384,
          1480951808,
          1865760640,
          1667651840,
          1522782976,
          1432925312,
          1566407424,
          1822198400,
          1625884800,
          1402502912,
          1594181248,
          1625735040,
          1606614528,
          1435040384,
          1276776192,
          1317367680,
          1239645568,
          1486293248,
          1782888832,
          1807862656,
          1604349696,
          1971298432,
          1522782976,
          1614968192,
          2019793536,
          1535728768,
          1617210752,
          1817734528,
          1604435200,
          1911158272,
          1623599616,
          1997746304,
          1790003200,
          1783742720,
          1495393536,
          2263556608,
          2055386624,
          1988731008,
          1576086272,
          1702132480,
          2145713152,
          2205446656,
          1962303872,
          1477512192,
          2105890816,
          1838071040,
          1696023424,
          1670321792,
          1779086720,
          2145713152,
          2105890816,
          2039491328,
          1802885888,
          1796220160,
          1958286976,
          1588391936,
          1798441984,
          1477512192,
          1911093120,
          1495393536,
          1623599616,
          2139453312,
          1728923008,
          1962303872,
          1571813120,
          1906779008,
          1642869888,
          1759816448,
          2126442880,
          1911158272,
          1571813120,
          2015307776,
          1634709248,
          1495393536,
          2105890816,
          1698971776,
          2145713152,
          2145713152,
          1875438080,
          1871014400,
          2006334976,
          1495393536,
          1412436992,
          1588391936,
          1477512192,
          1760989952,
          2245183744,
          1865161984,
          1731059456,
          1875438080,
          1786841984,
          1481208064,
          1684358656,
          1684358656,
          1353814656,
          1366034560,
          1483708160,
          1477512192,
          1738666112,
          1450679040,
          1458882816,
          1683333120,
          1939657984,
          1933548032,
          2030347904,
          1839503488,
          1670321792,
          2054147072,
          1939807744,
          1638062976,
          1694912640,
          1353814656,
          2015307776,
          1911158272,
          2209506304,
          1933974784,
          2105890816,
          1684358656,
          2105890816,
          1839503488,
          1802992384,
          2145713152,
          1564186112,
          1450679040,
          1939807744,
          1469949568,
          1819099904,
          1915175168,
          1680086016,
          1834077184,
          1690682624,
          1477512192,
          2126058496,
          2015307776,
          1373384064,
          1684358656,
          1875438080,
          1413206272,
          1875438080,
          1636845312,
          1770583424,
          2105890816,
          2141098624,
          1600932352,
          1467834496,
          1477512192,
          1477512192,
          2063782400,
          1621890432,
          1563032448,
          2015307776,
          1477512192,
          1935663104,
          1731487360,
          2105890816,
          2232579072,
          1929466880,
          1544980480,
          1998986752,
          1904919808,
          1815191552,
          1458882816,
          2100058240,
          2046157312,
          2028916352,
          2079313664,
          1412436992,
          1486463872,
          1623599616,
          1869349376,
          1664190976,
          1603773056,
          2015307776,
          1364111872,
          1644194816,
          1839503488,
          1458882816,
          1684358656,
          1616378496,
          1497166976,
          1901608448,
          1911158272,
          1477512192,
          1690682624,
          1848647168,
          1643211904,
          1878898944,
          1875438080,
          2145713152,
          2015307776,
          1888299136,
          1623599616,
          1585913216,
          1911308288,
          1801860352,
          2054788096,
          1483708160,
          1926690176,
          1353814656,
          1458882816,
          2145713152,
          1477512192,
          1684358656,
          1458241792,
          1373469440,
          1936689664,
          1696023424,
          1412436992,
          1751207424,
          1887124224,
          1690682624,
          1346507904,
          2046157312,
          1477512192,
          1810234112,
          1698971776,
          1682585216,
          1911158272,
          1259471360,
          1878236800,
          1799894784,
          1684358656,
          2185450240,
          2145713152,
          1412436992,
          2176242176,
          2015307776,
          1723475840,
          1875438080,
          1412436992,
          1562263424,
          1911158272,
          1710337408,
          1875438080,
          1451234304,
          1412436992,
          1459010944,
          1477512192,
          1599565312,
          1801860352,
          2030091520,
          1588391936,
          1259471360,
          1392013440,
          1498278016,
          1821749760,
          1797309184,
          1875438080,
          1508382976,
          1675642368,
          1900005888,
          1939657984,
          1797309184,
          1617617792,
          1451234304,
          1634709248,
          1259471360,
          1839503488,
          1872874496,
          1613260032,
          1449760128,
          1801860352,
          1315872256,
          1679443712,
          1794596608,
          2232579072,
          1569014528,
          1562263424,
          1690682624,
          1978454656,
          1662931712,
          1819528192,
          1630841344,
          1959782656,
          1589545600,
          1729991296,
          1451234304,
          1682243328,
          1662631552,
          1354071040,
          1911158272,
          1629496448,
          2145713152,
          2203823104,
          1259471360,
          1259471360,
          1477512192,
          1458882816,
          1875438080,
          1531649408,
          1679466368,
          1477512192,
          1911158272,
          1572582272,
          1619070464,
          1852236032,
          1784982784,
          1634709248,
          1259471360,
          1828095104,
          1497166976,
          1743984384,
          1815191552,
          2131719424,
          1477512192,
          2145713152,
          1875438080,
          1354071040,
          1451234304,
          1546475264,
          1797309184,
          1911158272,
          1617617792,
          1259471360,
          1458882816,
          1259471360,
          1679466368,
          1543634048,
          2145713152,
          1825403904,
          1911158272,
          1725249024,
          1354071040,
          1690682624,
          1911158272,
          1784106752,
          1815490432,
          1875438080,
          1477512192,
          1393166720,
          2145713152,
          1576086272,
          1259471360,
          1911158272,
          1404254720,
          1813653760,
          1815490432,
          1354071040,
          1259471360,
          1621890432,
          1731059456,
          1760158208,
          1862320256,
          1911158272,
          1640306048,
          1477512192,
          1802736768,
          2145713152,
          1911158272,
          1477512192,
          2031394560,
          1477512192,
          1696023424,
          1637870848,
          1259471360,
          1528402048,
          1259471360,
          1363599360,
          2145713152,
          1682735360,
          1855014400,
          1880030080,
          1722877056,
          1929531136,
          1731958016,
          1451234304,
          1693160320,
          1392013440,
          1354071040
         ],
         "xaxis": "x",
         "y": [
          83.75,
          81.71,
          82.22,
          78.12,
          82.56,
          78.43,
          80.74,
          82.25,
          80.11,
          82.96,
          86.21,
          81.95,
          82.88,
          80.28,
          84.29,
          77.99,
          84.25,
          83.24,
          81.47,
          80.28,
          82.28,
          84.11,
          85.07,
          82.52,
          83.1,
          83.32,
          82.12,
          85.77,
          84.45,
          78.19,
          81.28,
          81.8,
          83.85,
          81.12,
          83.1,
          78.26,
          81.68,
          83.88,
          83.4,
          81.64,
          82.51,
          79.45,
          82.39,
          80.65,
          80.38,
          78.66,
          82.91,
          80.42,
          84.93,
          80.5,
          81.69,
          83.77,
          84,
          84.41,
          83.78,
          84.6,
          84.34,
          83.69,
          84.87,
          83.15,
          81.45,
          84.85,
          80.21,
          83.93,
          78.66,
          84.69,
          76.97,
          82.02,
          83.55,
          79.32,
          78.46,
          79.31,
          83.68,
          80.87,
          77.93,
          80.94,
          82.21,
          80.51,
          81.52,
          80.53,
          78.07,
          79.62,
          80.09,
          84.36,
          81.72,
          84.87,
          84.41,
          82.66,
          83.39,
          82.81,
          81.47,
          83.33,
          79.15,
          85.58,
          81.86,
          82.97,
          85.47,
          77.03,
          85.52,
          83.04,
          84.37,
          82.4,
          84.75,
          85.28,
          83.87,
          81.53,
          79.67,
          82.59,
          81.28,
          84.38,
          80.63,
          81.84,
          82.2,
          82.2,
          83.06,
          80.8,
          81.21,
          74.83,
          83.76,
          83.23,
          82.97,
          84.01,
          76.23,
          82.39,
          84.78,
          79.27,
          82,
          83.55,
          85.85,
          83.37,
          83.39,
          81.32,
          84.13,
          85.41,
          81.43,
          83.12,
          84.25,
          85.29,
          85.37,
          82.09,
          77.02,
          85.1,
          86.05,
          83.52,
          82.63,
          84.61,
          81,
          80.44,
          85.94,
          85.92,
          83.82,
          83.38,
          84.06,
          82.24,
          82.51,
          82.65,
          85.15,
          82.57,
          83.13,
          81.01,
          81.79,
          85.78,
          84.83,
          79.32,
          84.79,
          84.1,
          85.08,
          85.51,
          84.55,
          80.14,
          85.54,
          83.6,
          82.5,
          85.45,
          82.39,
          83.93,
          84.2,
          81.51,
          83.1,
          83.85,
          82.59,
          86.63,
          83.62,
          84.79,
          81.39,
          81.7,
          83.44,
          83.15,
          84.63,
          82.99,
          84.82,
          84.37,
          81.19,
          84.06,
          79.95,
          83.15,
          85.32,
          80.11,
          83.58,
          85.67,
          81.14,
          84.96,
          85.12,
          84,
          84.81,
          79.82,
          79.33,
          80.66,
          84.59,
          82.15,
          78.96,
          83.62,
          80.95,
          80.95,
          80.65,
          79.77,
          83.6,
          83.89,
          81.96,
          85.49,
          80.79,
          82.33,
          84.89,
          79.53,
          76.52,
          81.59,
          84.44,
          83.01,
          82.99,
          84.33,
          81.73,
          85.21,
          84.89,
          85.68,
          83.54,
          83.25,
          83.78,
          81.5,
          84.64,
          85.48,
          80.81,
          84.05,
          85.83,
          84.64,
          77.66,
          81.13,
          78.4,
          82.98,
          83,
          79.14,
          81.68,
          81.52,
          79.91,
          83.48,
          77.76,
          74.81,
          79.61,
          83.09,
          79.66,
          82.56,
          78.01,
          82.13,
          74.58,
          76.08,
          64.32,
          75.85,
          81.45,
          79.12,
          84.11,
          81.38,
          82.6,
          80.28,
          79.96,
          79.8,
          79.94,
          85.78,
          81.72,
          82.73,
          79.51,
          84.4,
          83.49,
          84.81,
          71.09,
          80.19,
          75.05,
          81.74,
          79.01,
          79.33,
          76.93,
          79.27,
          77.92,
          75.87,
          77.96,
          82.49,
          77.5,
          78.45,
          80.47,
          77.49,
          79.27,
          80.62,
          75.79,
          77.81,
          75.61,
          79.57,
          82.64,
          80.38,
          82.82,
          77.23,
          84.63,
          79.56,
          78.55,
          83.42,
          79.64,
          77.16,
          81.06,
          73.67,
          78.21,
          75.78,
          71.3,
          69.01,
          84.95,
          78.75,
          85.09,
          80.87,
          78.56,
          79.91,
          77.58,
          73.07,
          79.03,
          82.68,
          78.68,
          77.34,
          83.16,
          79.34,
          83.38,
          82.65,
          78.24,
          82.1,
          78.42,
          83.05,
          77.28,
          82.36,
          77.17,
          83.88,
          83.89,
          73.92,
          82.26,
          79.92,
          83.55,
          80.34,
          79.31,
          82.52,
          76.62,
          84.4,
          83.9,
          75.7,
          85.33,
          74.82,
          80.62,
          84.8,
          80.23,
          76.46,
          77.24,
          82.74,
          85.61,
          82.82,
          75.33,
          75.55,
          83.23,
          78.89,
          83.43,
          71.65,
          76.4,
          66.9,
          73.62,
          84.05,
          78.33,
          80.67,
          83.63,
          81.21,
          83.86,
          84.94,
          79.84,
          83.52,
          73.25,
          77.5,
          83.54,
          76.47,
          82.56,
          74.17,
          74.93,
          80.89,
          76.57,
          79,
          72.41,
          79.19,
          77,
          78.7,
          84.8,
          78.41,
          77.38,
          81.26,
          81.74,
          84.1,
          76.6,
          78.09,
          78.12,
          81.14,
          84.06,
          83.68,
          79.65,
          83.06,
          83.12,
          79.83,
          78.79,
          83.67,
          77.9,
          82.35,
          73.88,
          80.82,
          80.81,
          78.1,
          75.45,
          79.68,
          78.81,
          79.34,
          81.69,
          83.54,
          81.92,
          84.3,
          82.48,
          84.55,
          83.15,
          82.5,
          83.7,
          80.8,
          77.5,
          82.83,
          78.25,
          76.36,
          82.76,
          75.89,
          84.08,
          83.24,
          84.09,
          84.95,
          78.09,
          82.95,
          78.77,
          69.92,
          80.79,
          76.34,
          77.96,
          84.2,
          82.03,
          75.9,
          78.34,
          77.49,
          74.18,
          84.28,
          76.21,
          84.34,
          77.05,
          73.87,
          80.22,
          80.86,
          75.9,
          81.75,
          85.37,
          76.54,
          82.98,
          81.19,
          82.18,
          83.85,
          77.43,
          78.5,
          78.04,
          84.41,
          80.03,
          78.53,
          79.54,
          78.01,
          84.74,
          84.13,
          81.51,
          82.13,
          79.19,
          81.17,
          76.83,
          85.36,
          84.26,
          75.03,
          84.2,
          74.45,
          82.27,
          84,
          82.97,
          78.43,
          73.65,
          77.98,
          77.56,
          76.96,
          84.93,
          84.15,
          76.58,
          84.42,
          84.59,
          77.58,
          82.55,
          74.32,
          81.3,
          80.6,
          84.91,
          73.08,
          68.14,
          76.34,
          79.86,
          81,
          77.89,
          84.19,
          85.24,
          82.31,
          78.38,
          80.49,
          84.73,
          78.79,
          80.96,
          81.44,
          77.7,
          84.75,
          82.95,
          83.77,
          83.51,
          79.24,
          77.03,
          81.85,
          76.46,
          82.54,
          80.65,
          72.43,
          82.16,
          84.54,
          80.3,
          85.72,
          74.95,
          78.87,
          68.69,
          70.16,
          82.35,
          77.55,
          82.45,
          79.93,
          77.74,
          80.29,
          85.15,
          80.63,
          77.41,
          77.73,
          83.7,
          79.51,
          78.48,
          83.94,
          85.88,
          80.98,
          77.37,
          82.46,
          79.08,
          85.13,
          79.16,
          79.16,
          83.02,
          85.88,
          79.31,
          78.32,
          80.79,
          83.08,
          77.76,
          85.24,
          79.87,
          81.43,
          80.98,
          79.84,
          73.71,
          74.73,
          84.47,
          79.68,
          76.99,
          84.6,
          78.62,
          76.5,
          79,
          81.79,
          85.61,
          84.33,
          84.01,
          78.36,
          83.76,
          84.39,
          74.92,
          85.12,
          79.77,
          79.39,
          77.36,
          77.02,
          79.21,
          75.35,
          79.32,
          80.26,
          75.48,
          77.77,
          81.75,
          85.55,
          64.52,
          84.42,
          84.4,
          84.44,
          81.01,
          81.38,
          80.31,
          82.12
         ],
         "yaxis": "y"
        }
       ],
       "layout": {
        "coloraxis": {
         "colorbar": {
          "title": {
           "text": "pareto"
          }
         },
         "colorscale": [
          [
           0,
           "rgb(0,0,255)"
          ],
          [
           1,
           "rgb(255,0,0)"
          ]
         ]
        },
        "height": 600,
        "legend": {
         "tracegroupgap": 0
        },
        "margin": {
         "t": 60
        },
        "template": {
         "data": {
          "bar": [
           {
            "error_x": {
             "color": "#2a3f5f"
            },
            "error_y": {
             "color": "#2a3f5f"
            },
            "marker": {
             "line": {
              "color": "#E5ECF6",
              "width": 0.5
             }
            },
            "type": "bar"
           }
          ],
          "barpolar": [
           {
            "marker": {
             "line": {
              "color": "#E5ECF6",
              "width": 0.5
             }
            },
            "type": "barpolar"
           }
          ],
          "carpet": [
           {
            "aaxis": {
             "endlinecolor": "#2a3f5f",
             "gridcolor": "white",
             "linecolor": "white",
             "minorgridcolor": "white",
             "startlinecolor": "#2a3f5f"
            },
            "baxis": {
             "endlinecolor": "#2a3f5f",
             "gridcolor": "white",
             "linecolor": "white",
             "minorgridcolor": "white",
             "startlinecolor": "#2a3f5f"
            },
            "type": "carpet"
           }
          ],
          "choropleth": [
           {
            "colorbar": {
             "outlinewidth": 0,
             "ticks": ""
            },
            "type": "choropleth"
           }
          ],
          "contour": [
           {
            "colorbar": {
             "outlinewidth": 0,
             "ticks": ""
            },
            "colorscale": [
             [
              0,
              "#0d0887"
             ],
             [
              0.1111111111111111,
              "#46039f"
             ],
             [
              0.2222222222222222,
              "#7201a8"
             ],
             [
              0.3333333333333333,
              "#9c179e"
             ],
             [
              0.4444444444444444,
              "#bd3786"
             ],
             [
              0.5555555555555556,
              "#d8576b"
             ],
             [
              0.6666666666666666,
              "#ed7953"
             ],
             [
              0.7777777777777778,
              "#fb9f3a"
             ],
             [
              0.8888888888888888,
              "#fdca26"
             ],
             [
              1,
              "#f0f921"
             ]
            ],
            "type": "contour"
           }
          ],
          "contourcarpet": [
           {
            "colorbar": {
             "outlinewidth": 0,
             "ticks": ""
            },
            "type": "contourcarpet"
           }
          ],
          "heatmap": [
           {
            "colorbar": {
             "outlinewidth": 0,
             "ticks": ""
            },
            "colorscale": [
             [
              0,
              "#0d0887"
             ],
             [
              0.1111111111111111,
              "#46039f"
             ],
             [
              0.2222222222222222,
              "#7201a8"
             ],
             [
              0.3333333333333333,
              "#9c179e"
             ],
             [
              0.4444444444444444,
              "#bd3786"
             ],
             [
              0.5555555555555556,
              "#d8576b"
             ],
             [
              0.6666666666666666,
              "#ed7953"
             ],
             [
              0.7777777777777778,
              "#fb9f3a"
             ],
             [
              0.8888888888888888,
              "#fdca26"
             ],
             [
              1,
              "#f0f921"
             ]
            ],
            "type": "heatmap"
           }
          ],
          "heatmapgl": [
           {
            "colorbar": {
             "outlinewidth": 0,
             "ticks": ""
            },
            "colorscale": [
             [
              0,
              "#0d0887"
             ],
             [
              0.1111111111111111,
              "#46039f"
             ],
             [
              0.2222222222222222,
              "#7201a8"
             ],
             [
              0.3333333333333333,
              "#9c179e"
             ],
             [
              0.4444444444444444,
              "#bd3786"
             ],
             [
              0.5555555555555556,
              "#d8576b"
             ],
             [
              0.6666666666666666,
              "#ed7953"
             ],
             [
              0.7777777777777778,
              "#fb9f3a"
             ],
             [
              0.8888888888888888,
              "#fdca26"
             ],
             [
              1,
              "#f0f921"
             ]
            ],
            "type": "heatmapgl"
           }
          ],
          "histogram": [
           {
            "marker": {
             "colorbar": {
              "outlinewidth": 0,
              "ticks": ""
             }
            },
            "type": "histogram"
           }
          ],
          "histogram2d": [
           {
            "colorbar": {
             "outlinewidth": 0,
             "ticks": ""
            },
            "colorscale": [
             [
              0,
              "#0d0887"
             ],
             [
              0.1111111111111111,
              "#46039f"
             ],
             [
              0.2222222222222222,
              "#7201a8"
             ],
             [
              0.3333333333333333,
              "#9c179e"
             ],
             [
              0.4444444444444444,
              "#bd3786"
             ],
             [
              0.5555555555555556,
              "#d8576b"
             ],
             [
              0.6666666666666666,
              "#ed7953"
             ],
             [
              0.7777777777777778,
              "#fb9f3a"
             ],
             [
              0.8888888888888888,
              "#fdca26"
             ],
             [
              1,
              "#f0f921"
             ]
            ],
            "type": "histogram2d"
           }
          ],
          "histogram2dcontour": [
           {
            "colorbar": {
             "outlinewidth": 0,
             "ticks": ""
            },
            "colorscale": [
             [
              0,
              "#0d0887"
             ],
             [
              0.1111111111111111,
              "#46039f"
             ],
             [
              0.2222222222222222,
              "#7201a8"
             ],
             [
              0.3333333333333333,
              "#9c179e"
             ],
             [
              0.4444444444444444,
              "#bd3786"
             ],
             [
              0.5555555555555556,
              "#d8576b"
             ],
             [
              0.6666666666666666,
              "#ed7953"
             ],
             [
              0.7777777777777778,
              "#fb9f3a"
             ],
             [
              0.8888888888888888,
              "#fdca26"
             ],
             [
              1,
              "#f0f921"
             ]
            ],
            "type": "histogram2dcontour"
           }
          ],
          "mesh3d": [
           {
            "colorbar": {
             "outlinewidth": 0,
             "ticks": ""
            },
            "type": "mesh3d"
           }
          ],
          "parcoords": [
           {
            "line": {
             "colorbar": {
              "outlinewidth": 0,
              "ticks": ""
             }
            },
            "type": "parcoords"
           }
          ],
          "pie": [
           {
            "automargin": true,
            "type": "pie"
           }
          ],
          "scatter": [
           {
            "marker": {
             "colorbar": {
              "outlinewidth": 0,
              "ticks": ""
             }
            },
            "type": "scatter"
           }
          ],
          "scatter3d": [
           {
            "line": {
             "colorbar": {
              "outlinewidth": 0,
              "ticks": ""
             }
            },
            "marker": {
             "colorbar": {
              "outlinewidth": 0,
              "ticks": ""
             }
            },
            "type": "scatter3d"
           }
          ],
          "scattercarpet": [
           {
            "marker": {
             "colorbar": {
              "outlinewidth": 0,
              "ticks": ""
             }
            },
            "type": "scattercarpet"
           }
          ],
          "scattergeo": [
           {
            "marker": {
             "colorbar": {
              "outlinewidth": 0,
              "ticks": ""
             }
            },
            "type": "scattergeo"
           }
          ],
          "scattergl": [
           {
            "marker": {
             "colorbar": {
              "outlinewidth": 0,
              "ticks": ""
             }
            },
            "type": "scattergl"
           }
          ],
          "scattermapbox": [
           {
            "marker": {
             "colorbar": {
              "outlinewidth": 0,
              "ticks": ""
             }
            },
            "type": "scattermapbox"
           }
          ],
          "scatterpolar": [
           {
            "marker": {
             "colorbar": {
              "outlinewidth": 0,
              "ticks": ""
             }
            },
            "type": "scatterpolar"
           }
          ],
          "scatterpolargl": [
           {
            "marker": {
             "colorbar": {
              "outlinewidth": 0,
              "ticks": ""
             }
            },
            "type": "scatterpolargl"
           }
          ],
          "scatterternary": [
           {
            "marker": {
             "colorbar": {
              "outlinewidth": 0,
              "ticks": ""
             }
            },
            "type": "scatterternary"
           }
          ],
          "surface": [
           {
            "colorbar": {
             "outlinewidth": 0,
             "ticks": ""
            },
            "colorscale": [
             [
              0,
              "#0d0887"
             ],
             [
              0.1111111111111111,
              "#46039f"
             ],
             [
              0.2222222222222222,
              "#7201a8"
             ],
             [
              0.3333333333333333,
              "#9c179e"
             ],
             [
              0.4444444444444444,
              "#bd3786"
             ],
             [
              0.5555555555555556,
              "#d8576b"
             ],
             [
              0.6666666666666666,
              "#ed7953"
             ],
             [
              0.7777777777777778,
              "#fb9f3a"
             ],
             [
              0.8888888888888888,
              "#fdca26"
             ],
             [
              1,
              "#f0f921"
             ]
            ],
            "type": "surface"
           }
          ],
          "table": [
           {
            "cells": {
             "fill": {
              "color": "#EBF0F8"
             },
             "line": {
              "color": "white"
             }
            },
            "header": {
             "fill": {
              "color": "#C8D4E3"
             },
             "line": {
              "color": "white"
             }
            },
            "type": "table"
           }
          ]
         },
         "layout": {
          "annotationdefaults": {
           "arrowcolor": "#2a3f5f",
           "arrowhead": 0,
           "arrowwidth": 1
          },
          "coloraxis": {
           "colorbar": {
            "outlinewidth": 0,
            "ticks": ""
           }
          },
          "colorscale": {
           "diverging": [
            [
             0,
             "#8e0152"
            ],
            [
             0.1,
             "#c51b7d"
            ],
            [
             0.2,
             "#de77ae"
            ],
            [
             0.3,
             "#f1b6da"
            ],
            [
             0.4,
             "#fde0ef"
            ],
            [
             0.5,
             "#f7f7f7"
            ],
            [
             0.6,
             "#e6f5d0"
            ],
            [
             0.7,
             "#b8e186"
            ],
            [
             0.8,
             "#7fbc41"
            ],
            [
             0.9,
             "#4d9221"
            ],
            [
             1,
             "#276419"
            ]
           ],
           "sequential": [
            [
             0,
             "#0d0887"
            ],
            [
             0.1111111111111111,
             "#46039f"
            ],
            [
             0.2222222222222222,
             "#7201a8"
            ],
            [
             0.3333333333333333,
             "#9c179e"
            ],
            [
             0.4444444444444444,
             "#bd3786"
            ],
            [
             0.5555555555555556,
             "#d8576b"
            ],
            [
             0.6666666666666666,
             "#ed7953"
            ],
            [
             0.7777777777777778,
             "#fb9f3a"
            ],
            [
             0.8888888888888888,
             "#fdca26"
            ],
            [
             1,
             "#f0f921"
            ]
           ],
           "sequentialminus": [
            [
             0,
             "#0d0887"
            ],
            [
             0.1111111111111111,
             "#46039f"
            ],
            [
             0.2222222222222222,
             "#7201a8"
            ],
            [
             0.3333333333333333,
             "#9c179e"
            ],
            [
             0.4444444444444444,
             "#bd3786"
            ],
            [
             0.5555555555555556,
             "#d8576b"
            ],
            [
             0.6666666666666666,
             "#ed7953"
            ],
            [
             0.7777777777777778,
             "#fb9f3a"
            ],
            [
             0.8888888888888888,
             "#fdca26"
            ],
            [
             1,
             "#f0f921"
            ]
           ]
          },
          "colorway": [
           "#636efa",
           "#EF553B",
           "#00cc96",
           "#ab63fa",
           "#FFA15A",
           "#19d3f3",
           "#FF6692",
           "#B6E880",
           "#FF97FF",
           "#FECB52"
          ],
          "font": {
           "color": "#2a3f5f"
          },
          "geo": {
           "bgcolor": "white",
           "lakecolor": "white",
           "landcolor": "#E5ECF6",
           "showlakes": true,
           "showland": true,
           "subunitcolor": "white"
          },
          "hoverlabel": {
           "align": "left"
          },
          "hovermode": "closest",
          "mapbox": {
           "style": "light"
          },
          "paper_bgcolor": "white",
          "plot_bgcolor": "#E5ECF6",
          "polar": {
           "angularaxis": {
            "gridcolor": "white",
            "linecolor": "white",
            "ticks": ""
           },
           "bgcolor": "#E5ECF6",
           "radialaxis": {
            "gridcolor": "white",
            "linecolor": "white",
            "ticks": ""
           }
          },
          "scene": {
           "xaxis": {
            "backgroundcolor": "#E5ECF6",
            "gridcolor": "white",
            "gridwidth": 2,
            "linecolor": "white",
            "showbackground": true,
            "ticks": "",
            "zerolinecolor": "white"
           },
           "yaxis": {
            "backgroundcolor": "#E5ECF6",
            "gridcolor": "white",
            "gridwidth": 2,
            "linecolor": "white",
            "showbackground": true,
            "ticks": "",
            "zerolinecolor": "white"
           },
           "zaxis": {
            "backgroundcolor": "#E5ECF6",
            "gridcolor": "white",
            "gridwidth": 2,
            "linecolor": "white",
            "showbackground": true,
            "ticks": "",
            "zerolinecolor": "white"
           }
          },
          "shapedefaults": {
           "line": {
            "color": "#2a3f5f"
           }
          },
          "ternary": {
           "aaxis": {
            "gridcolor": "white",
            "linecolor": "white",
            "ticks": ""
           },
           "baxis": {
            "gridcolor": "white",
            "linecolor": "white",
            "ticks": ""
           },
           "bgcolor": "#E5ECF6",
           "caxis": {
            "gridcolor": "white",
            "linecolor": "white",
            "ticks": ""
           }
          },
          "title": {
           "x": 0.05
          },
          "xaxis": {
           "automargin": true,
           "gridcolor": "white",
           "linecolor": "white",
           "ticks": "",
           "title": {
            "standoff": 15
           },
           "zerolinecolor": "white",
           "zerolinewidth": 2
          },
          "yaxis": {
           "automargin": true,
           "gridcolor": "white",
           "linecolor": "white",
           "ticks": "",
           "title": {
            "standoff": 15
           },
           "zerolinecolor": "white",
           "zerolinewidth": 2
          }
         }
        },
        "xaxis": {
         "anchor": "y",
         "domain": [
          0,
          1
         ],
         "title": {
          "text": "flops"
         }
        },
        "yaxis": {
         "anchor": "x",
         "domain": [
          0,
          1
         ],
         "title": {
          "text": "acc"
         }
        }
       }
      },
      "text/html": [
       "<div>\n",
       "        \n",
       "        \n",
       "            <div id=\"5c5b25e1-8340-4bd1-93e0-21e4858348e7\" class=\"plotly-graph-div\" style=\"height:600px; width:100%;\"></div>\n",
       "            <script type=\"text/javascript\">\n",
       "                require([\"plotly\"], function(Plotly) {\n",
       "                    window.PLOTLYENV=window.PLOTLYENV || {};\n",
       "                    \n",
       "                if (document.getElementById(\"5c5b25e1-8340-4bd1-93e0-21e4858348e7\")) {\n",
       "                    Plotly.newPlot(\n",
       "                        '5c5b25e1-8340-4bd1-93e0-21e4858348e7',\n",
       "                        [{\"customdata\": [[0], [0], [0], [0], [0], [0], [0], [0], [0], [0], [0], [0], [0], [0], [0], [0], [0], [0], [0], [0], [1], [1], [1], [1], [1], [1], [1], [1], [1], [1], [1], [1], [1], [1], [1], [1], [1], [1], [1], [1], [2], [2], [2], [2], [2], [2], [2], [2], [2], [2], [2], [2], [2], [2], [2], [2], [2], [2], [2], [2], [3], [3], [3], [3], [3], [3], [3], [3], [3], [3], [3], [3], [3], [3], [3], [3], [3], [3], [3], [3], [4], [4], [4], [4], [4], [4], [4], [4], [4], [4], [4], [4], [4], [4], [4], [4], [4], [4], [4], [4], [5], [5], [5], [5], [5], [5], [5], [5], [5], [5], [5], [5], [5], [5], [5], [5], [5], [5], [5], [5], [6], [6], [6], [6], [6], [6], [6], [6], [6], [6], [6], [6], [6], [6], [6], [6], [6], [6], [6], [6], [7], [7], [7], [7], [7], [7], [7], [7], [7], [7], [7], [7], [7], [7], [7], [7], [7], [7], [7], [7], [8], [8], [8], [8], [8], [8], [8], [8], [8], [8], [8], [8], [8], [8], [8], [8], [8], [8], [8], [8], [9], [9], [9], [9], [9], [9], [9], [9], [9], [9], [9], [9], [9], [9], [9], [9], [9], [9], [9], [9], [10], [10], [10], [10], [10], [10], [10], [10], [10], [10], [10], [10], [10], [10], [10], [10], [10], [10], [10], [10], [11], [11], [11], [11], [11], [11], [11], [11], [11], [11], [11], [11], [11], [11], [11], [11], [11], [11], [11], [11], [12], [12], [12], [12], [12], [12], [12], [12], [12], [12], [12], [12], [12], [12], [12], [12], [12], [12], [12], [12], [13], [13], [13], [13], [13], [13], [13], [13], [13], [13], [13], [13], [13], [13], [13], [13], [13], [13], [13], [13], [14], [14], [14], [14], [14], [14], [14], [14], [14], [14], [14], [14], [14], [14], [14], [14], [14], [14], [14], [14], [15], [15], [15], [15], [15], [15], [15], [15], [15], [15], [15], [15], [15], [15], [15], [15], [15], [15], [15], [15], [16], [16], [16], [16], [16], [16], [16], [16], [16], [16], [16], [16], [16], [16], [16], [16], [16], [16], [16], [16], [17], [17], [17], [17], [17], [17], [17], [17], [17], [17], [17], [17], [17], [17], [17], [17], [17], [17], [17], [17], [18], [18], [18], [18], [18], [18], [18], [18], [18], [18], [18], [18], [18], [18], [18], [18], [18], [18], [18], [18], [19], [19], [19], [19], [19], [19], [19], [19], [19], [19], [19], [19], [19], [19], [19], [19], [19], [19], [19], [19], [20], [20], [20], [20], [20], [20], [20], [20], [20], [20], [20], [20], [20], [20], [20], [20], [20], [20], [20], [20], [21], [21], [21], [21], [21], [21], [21], [21], [21], [21], [21], [21], [21], [21], [21], [21], [21], [21], [21], [21], [22], [22], [22], [22], [22], [22], [22], [22], [22], [22], [22], [22], [22], [22], [22], [22], [22], [22], [22], [22], [23], [23], [23], [23], [23], [23], [23], [23], [23], [23], [23], [23], [23], [23], [23], [23], [23], [23], [23], [23], [24], [24], [24], [24], [24], [24], [24], [24], [24], [24], [24], [24], [24], [24], [24], [24], [24], [24], [24], [24], [25], [25], [25], [25], [25], [25], [25], [25], [25], [25], [25], [25], [25], [25], [25], [25], [25], [25], [25], [25], [26], [26], [26], [26], [26], [26], [26], [26], [26], [26], [26], [26], [26], [26], [26], [26], [26], [26], [26], [26], [27], [27], [27], [27], [27], [27], [27], [27], [27], [27], [27], [27], [27], [27], [27], [27], [27], [27], [27], [27], [28], [28], [28], [28], [28], [28], [28], [28], [28], [28], [28], [28], [28], [28], [28], [28], [28], [28], [28], [28], [29], [29], [29], [29], [29], [29], [29], [29], [29], [29], [29], [29], [29], [29], [29], [29], [29], [29], [29], [29], [30], [30], [30], [30], [30], [30], [30], [30], [30], [30], [30], [30], [30], [30], [30], [30], [30], [30], [30], [30]], \"hoverlabel\": {\"namelength\": 0}, \"hovertemplate\": \"<b>%{hovertext}</b><br><br>flops=%{x}<br>acc=%{y}<br>gen=%{customdata[0]}<br>pareto=%{marker.color}\", \"hovertext\": [0.0, 0.0, 0.0, 0.0, 0.0, 0.0, 0.0, 0.0, 0.0, 0.0, 0.0, 0.0, 0.0, 0.0, 0.0, 0.0, 0.0, 0.0, 0.0, 0.0, 1.0, 1.0, 1.0, 1.0, 1.0, 1.0, 1.0, 1.0, 1.0, 1.0, 1.0, 1.0, 1.0, 1.0, 1.0, 1.0, 1.0, 1.0, 1.0, 1.0, 2.0, 2.0, 2.0, 2.0, 2.0, 2.0, 2.0, 2.0, 2.0, 2.0, 2.0, 2.0, 2.0, 2.0, 2.0, 2.0, 2.0, 2.0, 2.0, 2.0, 3.0, 3.0, 3.0, 3.0, 3.0, 3.0, 3.0, 3.0, 3.0, 3.0, 3.0, 3.0, 3.0, 3.0, 3.0, 3.0, 3.0, 3.0, 3.0, 3.0, 4.0, 4.0, 4.0, 4.0, 4.0, 4.0, 4.0, 4.0, 4.0, 4.0, 4.0, 4.0, 4.0, 4.0, 4.0, 4.0, 4.0, 4.0, 4.0, 4.0, 5.0, 5.0, 5.0, 5.0, 5.0, 5.0, 5.0, 5.0, 5.0, 5.0, 5.0, 5.0, 5.0, 5.0, 5.0, 5.0, 5.0, 5.0, 5.0, 5.0, 6.0, 6.0, 6.0, 6.0, 6.0, 6.0, 6.0, 6.0, 6.0, 6.0, 6.0, 6.0, 6.0, 6.0, 6.0, 6.0, 6.0, 6.0, 6.0, 6.0, 7.0, 7.0, 7.0, 7.0, 7.0, 7.0, 7.0, 7.0, 7.0, 7.0, 7.0, 7.0, 7.0, 7.0, 7.0, 7.0, 7.0, 7.0, 7.0, 7.0, 8.0, 8.0, 8.0, 8.0, 8.0, 8.0, 8.0, 8.0, 8.0, 8.0, 8.0, 8.0, 8.0, 8.0, 8.0, 8.0, 8.0, 8.0, 8.0, 8.0, 9.0, 9.0, 9.0, 9.0, 9.0, 9.0, 9.0, 9.0, 9.0, 9.0, 9.0, 9.0, 9.0, 9.0, 9.0, 9.0, 9.0, 9.0, 9.0, 9.0, 10.0, 10.0, 10.0, 10.0, 10.0, 10.0, 10.0, 10.0, 10.0, 10.0, 10.0, 10.0, 10.0, 10.0, 10.0, 10.0, 10.0, 10.0, 10.0, 10.0, 11.0, 11.0, 11.0, 11.0, 11.0, 11.0, 11.0, 11.0, 11.0, 11.0, 11.0, 11.0, 11.0, 11.0, 11.0, 11.0, 11.0, 11.0, 11.0, 11.0, 12.0, 12.0, 12.0, 12.0, 12.0, 12.0, 12.0, 12.0, 12.0, 12.0, 12.0, 12.0, 12.0, 12.0, 12.0, 12.0, 12.0, 12.0, 12.0, 12.0, 13.0, 13.0, 13.0, 13.0, 13.0, 13.0, 13.0, 13.0, 13.0, 13.0, 13.0, 13.0, 13.0, 13.0, 13.0, 13.0, 13.0, 13.0, 13.0, 13.0, 14.0, 14.0, 14.0, 14.0, 14.0, 14.0, 14.0, 14.0, 14.0, 14.0, 14.0, 14.0, 14.0, 14.0, 14.0, 14.0, 14.0, 14.0, 14.0, 14.0, 15.0, 15.0, 15.0, 15.0, 15.0, 15.0, 15.0, 15.0, 15.0, 15.0, 15.0, 15.0, 15.0, 15.0, 15.0, 15.0, 15.0, 15.0, 15.0, 15.0, 16.0, 16.0, 16.0, 16.0, 16.0, 16.0, 16.0, 16.0, 16.0, 16.0, 16.0, 16.0, 16.0, 16.0, 16.0, 16.0, 16.0, 16.0, 16.0, 16.0, 17.0, 17.0, 17.0, 17.0, 17.0, 17.0, 17.0, 17.0, 17.0, 17.0, 17.0, 17.0, 17.0, 17.0, 17.0, 17.0, 17.0, 17.0, 17.0, 17.0, 18.0, 18.0, 18.0, 18.0, 18.0, 18.0, 18.0, 18.0, 18.0, 18.0, 18.0, 18.0, 18.0, 18.0, 18.0, 18.0, 18.0, 18.0, 18.0, 18.0, 19.0, 19.0, 19.0, 19.0, 19.0, 19.0, 19.0, 19.0, 19.0, 19.0, 19.0, 19.0, 19.0, 19.0, 19.0, 19.0, 19.0, 19.0, 19.0, 19.0, 20.0, 20.0, 20.0, 20.0, 20.0, 20.0, 20.0, 20.0, 20.0, 20.0, 20.0, 20.0, 20.0, 20.0, 20.0, 20.0, 20.0, 20.0, 20.0, 20.0, 21.0, 21.0, 21.0, 21.0, 21.0, 21.0, 21.0, 21.0, 21.0, 21.0, 21.0, 21.0, 21.0, 21.0, 21.0, 21.0, 21.0, 21.0, 21.0, 21.0, 22.0, 22.0, 22.0, 22.0, 22.0, 22.0, 22.0, 22.0, 22.0, 22.0, 22.0, 22.0, 22.0, 22.0, 22.0, 22.0, 22.0, 22.0, 22.0, 22.0, 23.0, 23.0, 23.0, 23.0, 23.0, 23.0, 23.0, 23.0, 23.0, 23.0, 23.0, 23.0, 23.0, 23.0, 23.0, 23.0, 23.0, 23.0, 23.0, 23.0, 24.0, 24.0, 24.0, 24.0, 24.0, 24.0, 24.0, 24.0, 24.0, 24.0, 24.0, 24.0, 24.0, 24.0, 24.0, 24.0, 24.0, 24.0, 24.0, 24.0, 25.0, 25.0, 25.0, 25.0, 25.0, 25.0, 25.0, 25.0, 25.0, 25.0, 25.0, 25.0, 25.0, 25.0, 25.0, 25.0, 25.0, 25.0, 25.0, 25.0, 26.0, 26.0, 26.0, 26.0, 26.0, 26.0, 26.0, 26.0, 26.0, 26.0, 26.0, 26.0, 26.0, 26.0, 26.0, 26.0, 26.0, 26.0, 26.0, 26.0, 27.0, 27.0, 27.0, 27.0, 27.0, 27.0, 27.0, 27.0, 27.0, 27.0, 27.0, 27.0, 27.0, 27.0, 27.0, 27.0, 27.0, 27.0, 27.0, 27.0, 28.0, 28.0, 28.0, 28.0, 28.0, 28.0, 28.0, 28.0, 28.0, 28.0, 28.0, 28.0, 28.0, 28.0, 28.0, 28.0, 28.0, 28.0, 28.0, 28.0, 29.0, 29.0, 29.0, 29.0, 29.0, 29.0, 29.0, 29.0, 29.0, 29.0, 29.0, 29.0, 29.0, 29.0, 29.0, 29.0, 29.0, 29.0, 29.0, 29.0, 30.0, 30.0, 30.0, 30.0, 30.0, 30.0, 30.0, 30.0, 30.0, 30.0, 30.0, 30.0, 30.0, 30.0, 30.0, 30.0, 30.0, 30.0, 30.0, 30.0], \"legendgroup\": \"\", \"marker\": {\"color\": [0, 0, 0, 0, 0, 0, 0, 0, 0, 0, 0, 0, 0, 0, 0, 0, 0, 0, 0, 0, 0, 0, 0, 0, 0, 0, 0, 0, 0, 0, 0, 0, 0, 0, 0, 0, 0, 0, 0, 0, 0, 0, 0, 0, 0, 0, 0, 0, 0, 0, 0, 0, 0, 0, 0, 0, 0, 0, 0, 0, 0, 0, 0, 0, 0, 0, 0, 0, 0, 0, 0, 0, 0, 0, 0, 0, 0, 0, 0, 0, 0, 0, 0, 0, 0, 0, 0, 0, 0, 0, 0, 0, 0, 0, 0, 0, 0, 0, 0, 0, 0, 0, 0, 0, 0, 0, 0, 0, 0, 0, 0, 0, 0, 0, 0, 0, 0, 1, 0, 0, 0, 0, 1, 0, 0, 0, 0, 0, 0, 0, 0, 0, 0, 0, 0, 0, 0, 0, 0, 0, 1, 0, 0, 0, 0, 0, 0, 0, 0, 0, 0, 0, 0, 0, 0, 0, 0, 0, 0, 0, 0, 0, 0, 0, 0, 0, 0, 0, 0, 0, 0, 0, 0, 0, 0, 0, 0, 0, 0, 0, 0, 0, 0, 0, 0, 0, 0, 0, 0, 0, 0, 0, 0, 0, 1, 0, 0, 1, 0, 0, 0, 0, 0, 0, 0, 0, 0, 0, 0, 0, 0, 0, 0, 0, 0, 0, 0, 0, 0, 0, 0, 0, 0, 0, 0, 0, 0, 0, 0, 0, 0, 0, 0, 0, 0, 0, 0, 0, 0, 0, 0, 0, 0, 0, 0, 0, 0, 0, 0, 0, 0, 0, 0, 0, 0, 0, 0, 0, 0, 0, 0, 0, 0, 0, 1, 1, 0, 1, 0, 0, 0, 0, 0, 0, 0, 0, 0, 0, 0, 0, 0, 0, 0, 0, 0, 0, 0, 0, 0, 0, 0, 0, 0, 0, 0, 0, 0, 0, 0, 0, 0, 0, 0, 0, 0, 0, 0, 0, 0, 0, 0, 0, 0, 0, 0, 0, 0, 0, 0, 0, 0, 0, 0, 0, 0, 0, 0, 0, 0, 0, 0, 0, 0, 0, 0, 0, 0, 0, 0, 0, 0, 0, 0, 0, 0, 1, 0, 0, 0, 0, 0, 0, 0, 0, 0, 0, 0, 0, 0, 0, 0, 0, 0, 0, 0, 0, 0, 0, 0, 0, 0, 0, 0, 0, 0, 0, 0, 0, 0, 0, 0, 0, 0, 0, 0, 0, 0, 0, 0, 0, 0, 0, 0, 0, 0, 0, 0, 0, 0, 0, 0, 0, 0, 0, 0, 0, 0, 0, 0, 0, 0, 0, 0, 0, 0, 0, 0, 0, 0, 0, 0, 0, 0, 0, 0, 0, 0, 0, 0, 0, 0, 0, 0, 0, 0, 0, 0, 0, 0, 0, 0, 0, 0, 0, 0, 0, 0, 0, 0, 1, 0, 0, 0, 0, 0, 0, 0, 0, 0, 0, 0, 0, 0, 0, 0, 0, 0, 0, 0, 0, 0, 0, 0, 0, 0, 0, 0, 0, 0, 0, 0, 0, 0, 0, 0, 0, 0, 0, 0, 0, 0, 0, 0, 1, 0, 0, 0, 0, 0, 0, 0, 0, 0, 0, 0, 0, 0, 0, 0, 0, 0, 0, 0, 1, 0, 0, 0, 0, 0, 0, 0, 0, 0, 0, 0, 0, 0, 0, 0, 0, 0, 0, 0, 0, 0, 0, 0, 0, 0, 0, 0, 0, 0, 0, 0, 0, 0, 0, 0, 0, 0, 0, 0, 0, 0, 0, 0, 0, 0, 0, 0, 0, 0, 0, 0, 0, 0, 0, 0, 0, 0, 0, 0, 0, 0, 0, 0, 0, 0, 0, 0, 0, 0, 0, 0, 0, 0, 0, 0, 0, 0, 0, 0, 0, 0, 0, 0, 0, 0, 0, 0, 0, 0, 0, 0, 0, 0, 0, 0, 0, 0, 0, 0, 0, 0, 0, 0, 0, 0, 0], \"coloraxis\": \"coloraxis\", \"symbol\": \"circle\"}, \"mode\": \"markers\", \"name\": \"\", \"showlegend\": false, \"type\": \"scatter\", \"x\": [1654448128.0, 1775048064.0, 1480460160.0, 1739113984.0, 2024450560.0, 1791989888.0, 1614753920.0, 1611378304.0, 1955167616.0, 1566494208.0, 1765605888.0, 1926646912.0, 2078224128.0, 1498470400.0, 1514280448.0, 1839567488.0, 1671154816.0, 1651608320.0, 1844973056.0, 2000630528.0, 1839567488.0, 1315017728.0, 1753577344.0, 1629858560.0, 1566494208.0, 2224909056.0, 1664256000.0, 1509707520.0, 1611378304.0, 1344798976.0, 1466936960.0, 1614753920.0, 1818437888.0, 1898125952.0, 1745929856.0, 1858837376.0, 1542758912.0, 1765605888.0, 1955787776.0, 1822753920.0, 1751655552.0, 1864669184.0, 1640968704.0, 1582601600.0, 1614604800.0, 1572197632.0, 1752915712.0, 1542758912.0, 1793656320.0, 1570060672.0, 1634857856.0, 1697133440.0, 1628256128.0, 1753577344.0, 1498470400.0, 1753577344.0, 1315017728.0, 1374088960.0, 1315017728.0, 1509707520.0, 1553995648.0, 1611528064.0, 1468880896.0, 1829376896.0, 1648680576.0, 1697412096.0, 1753577344.0, 1837260416.0, 2018105856.0, 1870139264.0, 1315017728.0, 1592749824.0, 1829376896.0, 1583585024.0, 1774706432.0, 1793656320.0, 1344798976.0, 1315017728.0, 1798527104.0, 1514280448.0, 1315017728.0, 1695104896.0, 1633491840.0, 1315017728.0, 1770304640.0, 1276776192.0, 1585143936.0, 1753577344.0, 1829376896.0, 1315017728.0, 1533165696.0, 1374494976.0, 1830809344.0, 1793656320.0, 1315017728.0, 1697412096.0, 2065555456.0, 1663144320.0, 1528507648.0, 1793656320.0, 1765605888.0, 2011910400.0, 1693994112.0, 1276776192.0, 1620629504.0, 1494924160.0, 1788100736.0, 1793656320.0, 1659767808.0, 1315017728.0, 1840636032.0, 1315017728.0, 1573607680.0, 1682243328.0, 2207305216.0, 1315017728.0, 1449952896.0, 1866934656.0, 1710807040.0, 1869455872.0, 1276776192.0, 1790665728.0, 1485224960.0, 1528507648.0, 1891823872.0, 1608367360.0, 1697412096.0, 1829376896.0, 1809017472.0, 1592749824.0, 1632657152.0, 1509707520.0, 1276776192.0, 1662205184.0, 1636395648.0, 1614968192.0, 1200784384.0, 1671369216.0, 1276776192.0, 1798142592.0, 1315017728.0, 1545962752.0, 1570125824.0, 1456276864.0, 1765605888.0, 1950767232.0, 1804551808.0, 1695766528.0, 1753577344.0, 2123793280.0, 1220054656.0, 2170943488.0, 1728647168.0, 1335740800.0, 1855547904.0, 1784748032.0, 1276776192.0, 1592749824.0, 1662205184.0, 1420406144.0, 1651906560.0, 2147549952.0, 1753577344.0, 1545962752.0, 1220054656.0, 2169405440.0, 1614156544.0, 1276776192.0, 1276776192.0, 1570125824.0, 1528507648.0, 1415129216.0, 1484733696.0, 1276776192.0, 1697476480.0, 1296943744.0, 1591873536.0, 1753577344.0, 1554508288.0, 1635925504.0, 1276776192.0, 2019793536.0, 1490437248.0, 1509707520.0, 1671369216.0, 1278292864.0, 1220951936.0, 1725462656.0, 1765648384.0, 1852620416.0, 2147549952.0, 1522676224.0, 1378831744.0, 1671369216.0, 1219584768.0, 1296943744.0, 1276776192.0, 1200784384.0, 2038594816.0, 2019793536.0, 1356142976.0, 1276776192.0, 1276776192.0, 1566407424.0, 2019793536.0, 1792886912.0, 1774386304.0, 1522782976.0, 1692113664.0, 1437838848.0, 1965229952.0, 1500734464.0, 1220951936.0, 2227793152.0, 1964718080.0, 1662845184.0, 1287351168.0, 1240222208.0, 1965230208.0, 2019793536.0, 1504901248.0, 1500734464.0, 1554508288.0, 1953437440.0, 1915986304.0, 1692113664.0, 1522782976.0, 1356142976.0, 1240222208.0, 1356142976.0, 1276776192.0, 1580977536.0, 1940148864.0, 1566407424.0, 1866356992.0, 1498940032.0, 1735056384.0, 1295918336.0, 1904428416.0, 2019793536.0, 1617210752.0, 1803077760.0, 1486293248.0, 2019793536.0, 1885157120.0, 1692113664.0, 1277652096.0, 1498940032.0, 1940148864.0, 1276776192.0, 1847857152.0, 1435040384.0, 1480951808.0, 1865760640.0, 1667651840.0, 1522782976.0, 1432925312.0, 1566407424.0, 1822198400.0, 1625884800.0, 1402502912.0, 1594181248.0, 1625735040.0, 1606614528.0, 1435040384.0, 1276776192.0, 1317367680.0, 1239645568.0, 1486293248.0, 1782888832.0, 1807862656.0, 1604349696.0, 1971298432.0, 1522782976.0, 1614968192.0, 2019793536.0, 1535728768.0, 1617210752.0, 1817734528.0, 1604435200.0, 1911158272.0, 1623599616.0, 1997746304.0, 1790003200.0, 1783742720.0, 1495393536.0, 2263556608.0, 2055386624.0, 1988731008.0, 1576086272.0, 1702132480.0, 2145713152.0, 2205446656.0, 1962303872.0, 1477512192.0, 2105890816.0, 1838071040.0, 1696023424.0, 1670321792.0, 1779086720.0, 2145713152.0, 2105890816.0, 2039491328.0, 1802885888.0, 1796220160.0, 1958286976.0, 1588391936.0, 1798441984.0, 1477512192.0, 1911093120.0, 1495393536.0, 1623599616.0, 2139453312.0, 1728923008.0, 1962303872.0, 1571813120.0, 1906779008.0, 1642869888.0, 1759816448.0, 2126442880.0, 1911158272.0, 1571813120.0, 2015307776.0, 1634709248.0, 1495393536.0, 2105890816.0, 1698971776.0, 2145713152.0, 2145713152.0, 1875438080.0, 1871014400.0, 2006334976.0, 1495393536.0, 1412436992.0, 1588391936.0, 1477512192.0, 1760989952.0, 2245183744.0, 1865161984.0, 1731059456.0, 1875438080.0, 1786841984.0, 1481208064.0, 1684358656.0, 1684358656.0, 1353814656.0, 1366034560.0, 1483708160.0, 1477512192.0, 1738666112.0, 1450679040.0, 1458882816.0, 1683333120.0, 1939657984.0, 1933548032.0, 2030347904.0, 1839503488.0, 1670321792.0, 2054147072.0, 1939807744.0, 1638062976.0, 1694912640.0, 1353814656.0, 2015307776.0, 1911158272.0, 2209506304.0, 1933974784.0, 2105890816.0, 1684358656.0, 2105890816.0, 1839503488.0, 1802992384.0, 2145713152.0, 1564186112.0, 1450679040.0, 1939807744.0, 1469949568.0, 1819099904.0, 1915175168.0, 1680086016.0, 1834077184.0, 1690682624.0, 1477512192.0, 2126058496.0, 2015307776.0, 1373384064.0, 1684358656.0, 1875438080.0, 1413206272.0, 1875438080.0, 1636845312.0, 1770583424.0, 2105890816.0, 2141098624.0, 1600932352.0, 1467834496.0, 1477512192.0, 1477512192.0, 2063782400.0, 1621890432.0, 1563032448.0, 2015307776.0, 1477512192.0, 1935663104.0, 1731487360.0, 2105890816.0, 2232579072.0, 1929466880.0, 1544980480.0, 1998986752.0, 1904919808.0, 1815191552.0, 1458882816.0, 2100058240.0, 2046157312.0, 2028916352.0, 2079313664.0, 1412436992.0, 1486463872.0, 1623599616.0, 1869349376.0, 1664190976.0, 1603773056.0, 2015307776.0, 1364111872.0, 1644194816.0, 1839503488.0, 1458882816.0, 1684358656.0, 1616378496.0, 1497166976.0, 1901608448.0, 1911158272.0, 1477512192.0, 1690682624.0, 1848647168.0, 1643211904.0, 1878898944.0, 1875438080.0, 2145713152.0, 2015307776.0, 1888299136.0, 1623599616.0, 1585913216.0, 1911308288.0, 1801860352.0, 2054788096.0, 1483708160.0, 1926690176.0, 1353814656.0, 1458882816.0, 2145713152.0, 1477512192.0, 1684358656.0, 1458241792.0, 1373469440.0, 1936689664.0, 1696023424.0, 1412436992.0, 1751207424.0, 1887124224.0, 1690682624.0, 1346507904.0, 2046157312.0, 1477512192.0, 1810234112.0, 1698971776.0, 1682585216.0, 1911158272.0, 1259471360.0, 1878236800.0, 1799894784.0, 1684358656.0, 2185450240.0, 2145713152.0, 1412436992.0, 2176242176.0, 2015307776.0, 1723475840.0, 1875438080.0, 1412436992.0, 1562263424.0, 1911158272.0, 1710337408.0, 1875438080.0, 1451234304.0, 1412436992.0, 1459010944.0, 1477512192.0, 1599565312.0, 1801860352.0, 2030091520.0, 1588391936.0, 1259471360.0, 1392013440.0, 1498278016.0, 1821749760.0, 1797309184.0, 1875438080.0, 1508382976.0, 1675642368.0, 1900005888.0, 1939657984.0, 1797309184.0, 1617617792.0, 1451234304.0, 1634709248.0, 1259471360.0, 1839503488.0, 1872874496.0, 1613260032.0, 1449760128.0, 1801860352.0, 1315872256.0, 1679443712.0, 1794596608.0, 2232579072.0, 1569014528.0, 1562263424.0, 1690682624.0, 1978454656.0, 1662931712.0, 1819528192.0, 1630841344.0, 1959782656.0, 1589545600.0, 1729991296.0, 1451234304.0, 1682243328.0, 1662631552.0, 1354071040.0, 1911158272.0, 1629496448.0, 2145713152.0, 2203823104.0, 1259471360.0, 1259471360.0, 1477512192.0, 1458882816.0, 1875438080.0, 1531649408.0, 1679466368.0, 1477512192.0, 1911158272.0, 1572582272.0, 1619070464.0, 1852236032.0, 1784982784.0, 1634709248.0, 1259471360.0, 1828095104.0, 1497166976.0, 1743984384.0, 1815191552.0, 2131719424.0, 1477512192.0, 2145713152.0, 1875438080.0, 1354071040.0, 1451234304.0, 1546475264.0, 1797309184.0, 1911158272.0, 1617617792.0, 1259471360.0, 1458882816.0, 1259471360.0, 1679466368.0, 1543634048.0, 2145713152.0, 1825403904.0, 1911158272.0, 1725249024.0, 1354071040.0, 1690682624.0, 1911158272.0, 1784106752.0, 1815490432.0, 1875438080.0, 1477512192.0, 1393166720.0, 2145713152.0, 1576086272.0, 1259471360.0, 1911158272.0, 1404254720.0, 1813653760.0, 1815490432.0, 1354071040.0, 1259471360.0, 1621890432.0, 1731059456.0, 1760158208.0, 1862320256.0, 1911158272.0, 1640306048.0, 1477512192.0, 1802736768.0, 2145713152.0, 1911158272.0, 1477512192.0, 2031394560.0, 1477512192.0, 1696023424.0, 1637870848.0, 1259471360.0, 1528402048.0, 1259471360.0, 1363599360.0, 2145713152.0, 1682735360.0, 1855014400.0, 1880030080.0, 1722877056.0, 1929531136.0, 1731958016.0, 1451234304.0, 1693160320.0, 1392013440.0, 1354071040.0], \"xaxis\": \"x\", \"y\": [83.75, 81.71, 82.22, 78.12, 82.56, 78.43, 80.74, 82.25, 80.11, 82.96, 86.21, 81.95, 82.88, 80.28, 84.29, 77.99, 84.25, 83.24, 81.47, 80.28, 82.28, 84.11, 85.07, 82.52, 83.1, 83.32, 82.12, 85.77, 84.45, 78.19, 81.28, 81.8, 83.85, 81.12, 83.1, 78.26, 81.68, 83.88, 83.4, 81.64, 82.51, 79.45, 82.39, 80.65, 80.38, 78.66, 82.91, 80.42, 84.93, 80.5, 81.69, 83.77, 84.0, 84.41, 83.78, 84.6, 84.34, 83.69, 84.87, 83.15, 81.45, 84.85, 80.21, 83.93, 78.66, 84.69, 76.97, 82.02, 83.55, 79.32, 78.46, 79.31, 83.68, 80.87, 77.93, 80.94, 82.21, 80.51, 81.52, 80.53, 78.07, 79.62, 80.09, 84.36, 81.72, 84.87, 84.41, 82.66, 83.39, 82.81, 81.47, 83.33, 79.15, 85.58, 81.86, 82.97, 85.47, 77.03, 85.52, 83.04, 84.37, 82.4, 84.75, 85.28, 83.87, 81.53, 79.67, 82.59, 81.28, 84.38, 80.63, 81.84, 82.2, 82.2, 83.06, 80.8, 81.21, 74.83, 83.76, 83.23, 82.97, 84.01, 76.23, 82.39, 84.78, 79.27, 82.0, 83.55, 85.85, 83.37, 83.39, 81.32, 84.13, 85.41, 81.43, 83.12, 84.25, 85.29, 85.37, 82.09, 77.02, 85.1, 86.05, 83.52, 82.63, 84.61, 81.0, 80.44, 85.94, 85.92, 83.82, 83.38, 84.06, 82.24, 82.51, 82.65, 85.15, 82.57, 83.13, 81.01, 81.79, 85.78, 84.83, 79.32, 84.79, 84.1, 85.08, 85.51, 84.55, 80.14, 85.54, 83.6, 82.5, 85.45, 82.39, 83.93, 84.2, 81.51, 83.1, 83.85, 82.59, 86.63, 83.62, 84.79, 81.39, 81.7, 83.44, 83.15, 84.63, 82.99, 84.82, 84.37, 81.19, 84.06, 79.95, 83.15, 85.32, 80.11, 83.58, 85.67, 81.14, 84.96, 85.12, 84.0, 84.81, 79.82, 79.33, 80.66, 84.59, 82.15, 78.96, 83.62, 80.95, 80.95, 80.65, 79.77, 83.6, 83.89, 81.96, 85.49, 80.79, 82.33, 84.89, 79.53, 76.52, 81.59, 84.44, 83.01, 82.99, 84.33, 81.73, 85.21, 84.89, 85.68, 83.54, 83.25, 83.78, 81.5, 84.64, 85.48, 80.81, 84.05, 85.83, 84.64, 77.66, 81.13, 78.4, 82.98, 83.0, 79.14, 81.68, 81.52, 79.91, 83.48, 77.76, 74.81, 79.61, 83.09, 79.66, 82.56, 78.01, 82.13, 74.58, 76.08, 64.32, 75.85, 81.45, 79.12, 84.11, 81.38, 82.6, 80.28, 79.96, 79.8, 79.94, 85.78, 81.72, 82.73, 79.51, 84.4, 83.49, 84.81, 71.09, 80.19, 75.05, 81.74, 79.01, 79.33, 76.93, 79.27, 77.92, 75.87, 77.96, 82.49, 77.5, 78.45, 80.47, 77.49, 79.27, 80.62, 75.79, 77.81, 75.61, 79.57, 82.64, 80.38, 82.82, 77.23, 84.63, 79.56, 78.55, 83.42, 79.64, 77.16, 81.06, 73.67, 78.21, 75.78, 71.3, 69.01, 84.95, 78.75, 85.09, 80.87, 78.56, 79.91, 77.58, 73.07, 79.03, 82.68, 78.68, 77.34, 83.16, 79.34, 83.38, 82.65, 78.24, 82.1, 78.42, 83.05, 77.28, 82.36, 77.17, 83.88, 83.89, 73.92, 82.26, 79.92, 83.55, 80.34, 79.31, 82.52, 76.62, 84.4, 83.9, 75.7, 85.33, 74.82, 80.62, 84.8, 80.23, 76.46, 77.24, 82.74, 85.61, 82.82, 75.33, 75.55, 83.23, 78.89, 83.43, 71.65, 76.4, 66.9, 73.62, 84.05, 78.33, 80.67, 83.63, 81.21, 83.86, 84.94, 79.84, 83.52, 73.25, 77.5, 83.54, 76.47, 82.56, 74.17, 74.93, 80.89, 76.57, 79.0, 72.41, 79.19, 77.0, 78.7, 84.8, 78.41, 77.38, 81.26, 81.74, 84.1, 76.6, 78.09, 78.12, 81.14, 84.06, 83.68, 79.65, 83.06, 83.12, 79.83, 78.79, 83.67, 77.9, 82.35, 73.88, 80.82, 80.81, 78.1, 75.45, 79.68, 78.81, 79.34, 81.69, 83.54, 81.92, 84.3, 82.48, 84.55, 83.15, 82.5, 83.7, 80.8, 77.5, 82.83, 78.25, 76.36, 82.76, 75.89, 84.08, 83.24, 84.09, 84.95, 78.09, 82.95, 78.77, 69.92, 80.79, 76.34, 77.96, 84.2, 82.03, 75.9, 78.34, 77.49, 74.18, 84.28, 76.21, 84.34, 77.05, 73.87, 80.22, 80.86, 75.9, 81.75, 85.37, 76.54, 82.98, 81.19, 82.18, 83.85, 77.43, 78.5, 78.04, 84.41, 80.03, 78.53, 79.54, 78.01, 84.74, 84.13, 81.51, 82.13, 79.19, 81.17, 76.83, 85.36, 84.26, 75.03, 84.2, 74.45, 82.27, 84.0, 82.97, 78.43, 73.65, 77.98, 77.56, 76.96, 84.93, 84.15, 76.58, 84.42, 84.59, 77.58, 82.55, 74.32, 81.3, 80.6, 84.91, 73.08, 68.14, 76.34, 79.86, 81.0, 77.89, 84.19, 85.24, 82.31, 78.38, 80.49, 84.73, 78.79, 80.96, 81.44, 77.7, 84.75, 82.95, 83.77, 83.51, 79.24, 77.03, 81.85, 76.46, 82.54, 80.65, 72.43, 82.16, 84.54, 80.3, 85.72, 74.95, 78.87, 68.69, 70.16, 82.35, 77.55, 82.45, 79.93, 77.74, 80.29, 85.15, 80.63, 77.41, 77.73, 83.7, 79.51, 78.48, 83.94, 85.88, 80.98, 77.37, 82.46, 79.08, 85.13, 79.16, 79.16, 83.02, 85.88, 79.31, 78.32, 80.79, 83.08, 77.76, 85.24, 79.87, 81.43, 80.98, 79.84, 73.71, 74.73, 84.47, 79.68, 76.99, 84.6, 78.62, 76.5, 79.0, 81.79, 85.61, 84.33, 84.01, 78.36, 83.76, 84.39, 74.92, 85.12, 79.77, 79.39, 77.36, 77.02, 79.21, 75.35, 79.32, 80.26, 75.48, 77.77, 81.75, 85.55, 64.52, 84.42, 84.4, 84.44, 81.01, 81.38, 80.31, 82.12], \"yaxis\": \"y\"}],\n",
       "                        {\"coloraxis\": {\"colorbar\": {\"title\": {\"text\": \"pareto\"}}, \"colorscale\": [[0.0, \"rgb(0,0,255)\"], [1.0, \"rgb(255,0,0)\"]]}, \"height\": 600, \"legend\": {\"tracegroupgap\": 0}, \"margin\": {\"t\": 60}, \"template\": {\"data\": {\"bar\": [{\"error_x\": {\"color\": \"#2a3f5f\"}, \"error_y\": {\"color\": \"#2a3f5f\"}, \"marker\": {\"line\": {\"color\": \"#E5ECF6\", \"width\": 0.5}}, \"type\": \"bar\"}], \"barpolar\": [{\"marker\": {\"line\": {\"color\": \"#E5ECF6\", \"width\": 0.5}}, \"type\": \"barpolar\"}], \"carpet\": [{\"aaxis\": {\"endlinecolor\": \"#2a3f5f\", \"gridcolor\": \"white\", \"linecolor\": \"white\", \"minorgridcolor\": \"white\", \"startlinecolor\": \"#2a3f5f\"}, \"baxis\": {\"endlinecolor\": \"#2a3f5f\", \"gridcolor\": \"white\", \"linecolor\": \"white\", \"minorgridcolor\": \"white\", \"startlinecolor\": \"#2a3f5f\"}, \"type\": \"carpet\"}], \"choropleth\": [{\"colorbar\": {\"outlinewidth\": 0, \"ticks\": \"\"}, \"type\": \"choropleth\"}], \"contour\": [{\"colorbar\": {\"outlinewidth\": 0, \"ticks\": \"\"}, \"colorscale\": [[0.0, \"#0d0887\"], [0.1111111111111111, \"#46039f\"], [0.2222222222222222, \"#7201a8\"], [0.3333333333333333, \"#9c179e\"], [0.4444444444444444, \"#bd3786\"], [0.5555555555555556, \"#d8576b\"], [0.6666666666666666, \"#ed7953\"], [0.7777777777777778, \"#fb9f3a\"], [0.8888888888888888, \"#fdca26\"], [1.0, \"#f0f921\"]], \"type\": \"contour\"}], \"contourcarpet\": [{\"colorbar\": {\"outlinewidth\": 0, \"ticks\": \"\"}, \"type\": \"contourcarpet\"}], \"heatmap\": [{\"colorbar\": {\"outlinewidth\": 0, \"ticks\": \"\"}, \"colorscale\": [[0.0, \"#0d0887\"], [0.1111111111111111, \"#46039f\"], [0.2222222222222222, \"#7201a8\"], [0.3333333333333333, \"#9c179e\"], [0.4444444444444444, \"#bd3786\"], [0.5555555555555556, \"#d8576b\"], [0.6666666666666666, \"#ed7953\"], [0.7777777777777778, \"#fb9f3a\"], [0.8888888888888888, \"#fdca26\"], [1.0, \"#f0f921\"]], \"type\": \"heatmap\"}], \"heatmapgl\": [{\"colorbar\": {\"outlinewidth\": 0, \"ticks\": \"\"}, \"colorscale\": [[0.0, \"#0d0887\"], [0.1111111111111111, \"#46039f\"], [0.2222222222222222, \"#7201a8\"], [0.3333333333333333, \"#9c179e\"], [0.4444444444444444, \"#bd3786\"], [0.5555555555555556, \"#d8576b\"], [0.6666666666666666, \"#ed7953\"], [0.7777777777777778, \"#fb9f3a\"], [0.8888888888888888, \"#fdca26\"], [1.0, \"#f0f921\"]], \"type\": \"heatmapgl\"}], \"histogram\": [{\"marker\": {\"colorbar\": {\"outlinewidth\": 0, \"ticks\": \"\"}}, \"type\": \"histogram\"}], \"histogram2d\": [{\"colorbar\": {\"outlinewidth\": 0, \"ticks\": \"\"}, \"colorscale\": [[0.0, \"#0d0887\"], [0.1111111111111111, \"#46039f\"], [0.2222222222222222, \"#7201a8\"], [0.3333333333333333, \"#9c179e\"], [0.4444444444444444, \"#bd3786\"], [0.5555555555555556, \"#d8576b\"], [0.6666666666666666, \"#ed7953\"], [0.7777777777777778, \"#fb9f3a\"], [0.8888888888888888, \"#fdca26\"], [1.0, \"#f0f921\"]], \"type\": \"histogram2d\"}], \"histogram2dcontour\": [{\"colorbar\": {\"outlinewidth\": 0, \"ticks\": \"\"}, \"colorscale\": [[0.0, \"#0d0887\"], [0.1111111111111111, \"#46039f\"], [0.2222222222222222, \"#7201a8\"], [0.3333333333333333, \"#9c179e\"], [0.4444444444444444, \"#bd3786\"], [0.5555555555555556, \"#d8576b\"], [0.6666666666666666, \"#ed7953\"], [0.7777777777777778, \"#fb9f3a\"], [0.8888888888888888, \"#fdca26\"], [1.0, \"#f0f921\"]], \"type\": \"histogram2dcontour\"}], \"mesh3d\": [{\"colorbar\": {\"outlinewidth\": 0, \"ticks\": \"\"}, \"type\": \"mesh3d\"}], \"parcoords\": [{\"line\": {\"colorbar\": {\"outlinewidth\": 0, \"ticks\": \"\"}}, \"type\": \"parcoords\"}], \"pie\": [{\"automargin\": true, \"type\": \"pie\"}], \"scatter\": [{\"marker\": {\"colorbar\": {\"outlinewidth\": 0, \"ticks\": \"\"}}, \"type\": \"scatter\"}], \"scatter3d\": [{\"line\": {\"colorbar\": {\"outlinewidth\": 0, \"ticks\": \"\"}}, \"marker\": {\"colorbar\": {\"outlinewidth\": 0, \"ticks\": \"\"}}, \"type\": \"scatter3d\"}], \"scattercarpet\": [{\"marker\": {\"colorbar\": {\"outlinewidth\": 0, \"ticks\": \"\"}}, \"type\": \"scattercarpet\"}], \"scattergeo\": [{\"marker\": {\"colorbar\": {\"outlinewidth\": 0, \"ticks\": \"\"}}, \"type\": \"scattergeo\"}], \"scattergl\": [{\"marker\": {\"colorbar\": {\"outlinewidth\": 0, \"ticks\": \"\"}}, \"type\": \"scattergl\"}], \"scattermapbox\": [{\"marker\": {\"colorbar\": {\"outlinewidth\": 0, \"ticks\": \"\"}}, \"type\": \"scattermapbox\"}], \"scatterpolar\": [{\"marker\": {\"colorbar\": {\"outlinewidth\": 0, \"ticks\": \"\"}}, \"type\": \"scatterpolar\"}], \"scatterpolargl\": [{\"marker\": {\"colorbar\": {\"outlinewidth\": 0, \"ticks\": \"\"}}, \"type\": \"scatterpolargl\"}], \"scatterternary\": [{\"marker\": {\"colorbar\": {\"outlinewidth\": 0, \"ticks\": \"\"}}, \"type\": \"scatterternary\"}], \"surface\": [{\"colorbar\": {\"outlinewidth\": 0, \"ticks\": \"\"}, \"colorscale\": [[0.0, \"#0d0887\"], [0.1111111111111111, \"#46039f\"], [0.2222222222222222, \"#7201a8\"], [0.3333333333333333, \"#9c179e\"], [0.4444444444444444, \"#bd3786\"], [0.5555555555555556, \"#d8576b\"], [0.6666666666666666, \"#ed7953\"], [0.7777777777777778, \"#fb9f3a\"], [0.8888888888888888, \"#fdca26\"], [1.0, \"#f0f921\"]], \"type\": \"surface\"}], \"table\": [{\"cells\": {\"fill\": {\"color\": \"#EBF0F8\"}, \"line\": {\"color\": \"white\"}}, \"header\": {\"fill\": {\"color\": \"#C8D4E3\"}, \"line\": {\"color\": \"white\"}}, \"type\": \"table\"}]}, \"layout\": {\"annotationdefaults\": {\"arrowcolor\": \"#2a3f5f\", \"arrowhead\": 0, \"arrowwidth\": 1}, \"coloraxis\": {\"colorbar\": {\"outlinewidth\": 0, \"ticks\": \"\"}}, \"colorscale\": {\"diverging\": [[0, \"#8e0152\"], [0.1, \"#c51b7d\"], [0.2, \"#de77ae\"], [0.3, \"#f1b6da\"], [0.4, \"#fde0ef\"], [0.5, \"#f7f7f7\"], [0.6, \"#e6f5d0\"], [0.7, \"#b8e186\"], [0.8, \"#7fbc41\"], [0.9, \"#4d9221\"], [1, \"#276419\"]], \"sequential\": [[0.0, \"#0d0887\"], [0.1111111111111111, \"#46039f\"], [0.2222222222222222, \"#7201a8\"], [0.3333333333333333, \"#9c179e\"], [0.4444444444444444, \"#bd3786\"], [0.5555555555555556, \"#d8576b\"], [0.6666666666666666, \"#ed7953\"], [0.7777777777777778, \"#fb9f3a\"], [0.8888888888888888, \"#fdca26\"], [1.0, \"#f0f921\"]], \"sequentialminus\": [[0.0, \"#0d0887\"], [0.1111111111111111, \"#46039f\"], [0.2222222222222222, \"#7201a8\"], [0.3333333333333333, \"#9c179e\"], [0.4444444444444444, \"#bd3786\"], [0.5555555555555556, \"#d8576b\"], [0.6666666666666666, \"#ed7953\"], [0.7777777777777778, \"#fb9f3a\"], [0.8888888888888888, \"#fdca26\"], [1.0, \"#f0f921\"]]}, \"colorway\": [\"#636efa\", \"#EF553B\", \"#00cc96\", \"#ab63fa\", \"#FFA15A\", \"#19d3f3\", \"#FF6692\", \"#B6E880\", \"#FF97FF\", \"#FECB52\"], \"font\": {\"color\": \"#2a3f5f\"}, \"geo\": {\"bgcolor\": \"white\", \"lakecolor\": \"white\", \"landcolor\": \"#E5ECF6\", \"showlakes\": true, \"showland\": true, \"subunitcolor\": \"white\"}, \"hoverlabel\": {\"align\": \"left\"}, \"hovermode\": \"closest\", \"mapbox\": {\"style\": \"light\"}, \"paper_bgcolor\": \"white\", \"plot_bgcolor\": \"#E5ECF6\", \"polar\": {\"angularaxis\": {\"gridcolor\": \"white\", \"linecolor\": \"white\", \"ticks\": \"\"}, \"bgcolor\": \"#E5ECF6\", \"radialaxis\": {\"gridcolor\": \"white\", \"linecolor\": \"white\", \"ticks\": \"\"}}, \"scene\": {\"xaxis\": {\"backgroundcolor\": \"#E5ECF6\", \"gridcolor\": \"white\", \"gridwidth\": 2, \"linecolor\": \"white\", \"showbackground\": true, \"ticks\": \"\", \"zerolinecolor\": \"white\"}, \"yaxis\": {\"backgroundcolor\": \"#E5ECF6\", \"gridcolor\": \"white\", \"gridwidth\": 2, \"linecolor\": \"white\", \"showbackground\": true, \"ticks\": \"\", \"zerolinecolor\": \"white\"}, \"zaxis\": {\"backgroundcolor\": \"#E5ECF6\", \"gridcolor\": \"white\", \"gridwidth\": 2, \"linecolor\": \"white\", \"showbackground\": true, \"ticks\": \"\", \"zerolinecolor\": \"white\"}}, \"shapedefaults\": {\"line\": {\"color\": \"#2a3f5f\"}}, \"ternary\": {\"aaxis\": {\"gridcolor\": \"white\", \"linecolor\": \"white\", \"ticks\": \"\"}, \"baxis\": {\"gridcolor\": \"white\", \"linecolor\": \"white\", \"ticks\": \"\"}, \"bgcolor\": \"#E5ECF6\", \"caxis\": {\"gridcolor\": \"white\", \"linecolor\": \"white\", \"ticks\": \"\"}}, \"title\": {\"x\": 0.05}, \"xaxis\": {\"automargin\": true, \"gridcolor\": \"white\", \"linecolor\": \"white\", \"ticks\": \"\", \"title\": {\"standoff\": 15}, \"zerolinecolor\": \"white\", \"zerolinewidth\": 2}, \"yaxis\": {\"automargin\": true, \"gridcolor\": \"white\", \"linecolor\": \"white\", \"ticks\": \"\", \"title\": {\"standoff\": 15}, \"zerolinecolor\": \"white\", \"zerolinewidth\": 2}}}, \"xaxis\": {\"anchor\": \"y\", \"domain\": [0.0, 1.0], \"title\": {\"text\": \"flops\"}}, \"yaxis\": {\"anchor\": \"x\", \"domain\": [0.0, 1.0], \"title\": {\"text\": \"acc\"}}},\n",
       "                        {\"responsive\": true}\n",
       "                    ).then(function(){\n",
       "                            \n",
       "var gd = document.getElementById('5c5b25e1-8340-4bd1-93e0-21e4858348e7');\n",
       "var x = new MutationObserver(function (mutations, observer) {{\n",
       "        var display = window.getComputedStyle(gd).display;\n",
       "        if (!display || display === 'none') {{\n",
       "            console.log([gd, 'removed!']);\n",
       "            Plotly.purge(gd);\n",
       "            observer.disconnect();\n",
       "        }}\n",
       "}});\n",
       "\n",
       "// Listen for the removal of the full notebook cells\n",
       "var notebookContainer = gd.closest('#notebook-container');\n",
       "if (notebookContainer) {{\n",
       "    x.observe(notebookContainer, {childList: true});\n",
       "}}\n",
       "\n",
       "// Listen for the clearing of the current output cell\n",
       "var outputEl = gd.closest('.output');\n",
       "if (outputEl) {{\n",
       "    x.observe(outputEl, {childList: true});\n",
       "}}\n",
       "\n",
       "                        })\n",
       "                };\n",
       "                });\n",
       "            </script>\n",
       "        </div>"
      ]
     },
     "metadata": {},
     "output_type": "display_data"
    }
   ],
   "source": [
    "import plotly.express as px\n",
    "\n",
    "fig = px.scatter(df[['gen','flops','acc','pareto']], x= 'flops' , y='acc', color=\"pareto\",\n",
    "                 color_continuous_scale='bluered', hover_name=\"gen\", hover_data=[\"gen\"])\n",
    "fig.show()"
   ]
  },
  {
   "cell_type": "code",
   "execution_count": 304,
   "metadata": {},
   "outputs": [
    {
     "data": {
      "application/vnd.plotly.v1+json": {
       "config": {
        "plotlyServerURL": "https://plot.ly"
       },
       "data": [
        {
         "customdata": [
          [
           0
          ],
          [
           0
          ],
          [
           0
          ],
          [
           0
          ],
          [
           0
          ],
          [
           0
          ],
          [
           0
          ],
          [
           0
          ],
          [
           0
          ],
          [
           0
          ],
          [
           0
          ],
          [
           0
          ],
          [
           0
          ],
          [
           0
          ],
          [
           0
          ],
          [
           0
          ],
          [
           0
          ],
          [
           0
          ],
          [
           0
          ],
          [
           0
          ],
          [
           1
          ],
          [
           1
          ],
          [
           1
          ],
          [
           1
          ],
          [
           1
          ],
          [
           1
          ],
          [
           1
          ],
          [
           1
          ],
          [
           1
          ],
          [
           1
          ],
          [
           1
          ],
          [
           1
          ],
          [
           1
          ],
          [
           1
          ],
          [
           1
          ],
          [
           1
          ],
          [
           1
          ],
          [
           1
          ],
          [
           1
          ],
          [
           1
          ],
          [
           2
          ],
          [
           2
          ],
          [
           2
          ],
          [
           2
          ],
          [
           2
          ],
          [
           2
          ],
          [
           2
          ],
          [
           2
          ],
          [
           2
          ],
          [
           2
          ],
          [
           2
          ],
          [
           2
          ],
          [
           2
          ],
          [
           2
          ],
          [
           2
          ],
          [
           2
          ],
          [
           2
          ],
          [
           2
          ],
          [
           2
          ],
          [
           2
          ],
          [
           3
          ],
          [
           3
          ],
          [
           3
          ],
          [
           3
          ],
          [
           3
          ],
          [
           3
          ],
          [
           3
          ],
          [
           3
          ],
          [
           3
          ],
          [
           3
          ],
          [
           3
          ],
          [
           3
          ],
          [
           3
          ],
          [
           3
          ],
          [
           3
          ],
          [
           3
          ],
          [
           3
          ],
          [
           3
          ],
          [
           3
          ],
          [
           3
          ],
          [
           4
          ],
          [
           4
          ],
          [
           4
          ],
          [
           4
          ],
          [
           4
          ],
          [
           4
          ],
          [
           4
          ],
          [
           4
          ],
          [
           4
          ],
          [
           4
          ],
          [
           4
          ],
          [
           4
          ],
          [
           4
          ],
          [
           4
          ],
          [
           4
          ],
          [
           4
          ],
          [
           4
          ],
          [
           4
          ],
          [
           4
          ],
          [
           4
          ],
          [
           5
          ],
          [
           5
          ],
          [
           5
          ],
          [
           5
          ],
          [
           5
          ],
          [
           5
          ],
          [
           5
          ],
          [
           5
          ],
          [
           5
          ],
          [
           5
          ],
          [
           5
          ],
          [
           5
          ],
          [
           5
          ],
          [
           5
          ],
          [
           5
          ],
          [
           5
          ],
          [
           5
          ],
          [
           5
          ],
          [
           5
          ],
          [
           5
          ],
          [
           6
          ],
          [
           6
          ],
          [
           6
          ],
          [
           6
          ],
          [
           6
          ],
          [
           6
          ],
          [
           6
          ],
          [
           6
          ],
          [
           6
          ],
          [
           6
          ],
          [
           6
          ],
          [
           6
          ],
          [
           6
          ],
          [
           6
          ],
          [
           6
          ],
          [
           6
          ],
          [
           6
          ],
          [
           6
          ],
          [
           6
          ],
          [
           6
          ],
          [
           7
          ],
          [
           7
          ],
          [
           7
          ],
          [
           7
          ],
          [
           7
          ],
          [
           7
          ],
          [
           7
          ],
          [
           7
          ],
          [
           7
          ],
          [
           7
          ],
          [
           7
          ],
          [
           7
          ],
          [
           7
          ],
          [
           7
          ],
          [
           7
          ],
          [
           7
          ],
          [
           7
          ],
          [
           7
          ],
          [
           7
          ],
          [
           7
          ],
          [
           8
          ],
          [
           8
          ],
          [
           8
          ],
          [
           8
          ],
          [
           8
          ],
          [
           8
          ],
          [
           8
          ],
          [
           8
          ],
          [
           8
          ],
          [
           8
          ],
          [
           8
          ],
          [
           8
          ],
          [
           8
          ],
          [
           8
          ],
          [
           8
          ],
          [
           8
          ],
          [
           8
          ],
          [
           8
          ],
          [
           8
          ],
          [
           8
          ],
          [
           9
          ],
          [
           9
          ],
          [
           9
          ],
          [
           9
          ],
          [
           9
          ],
          [
           9
          ],
          [
           9
          ],
          [
           9
          ],
          [
           9
          ],
          [
           9
          ],
          [
           9
          ],
          [
           9
          ],
          [
           9
          ],
          [
           9
          ],
          [
           9
          ],
          [
           9
          ],
          [
           9
          ],
          [
           9
          ],
          [
           9
          ],
          [
           9
          ],
          [
           10
          ],
          [
           10
          ],
          [
           10
          ],
          [
           10
          ],
          [
           10
          ],
          [
           10
          ],
          [
           10
          ],
          [
           10
          ],
          [
           10
          ],
          [
           10
          ],
          [
           10
          ],
          [
           10
          ],
          [
           10
          ],
          [
           10
          ],
          [
           10
          ],
          [
           10
          ],
          [
           10
          ],
          [
           10
          ],
          [
           10
          ],
          [
           10
          ],
          [
           11
          ],
          [
           11
          ],
          [
           11
          ],
          [
           11
          ],
          [
           11
          ],
          [
           11
          ],
          [
           11
          ],
          [
           11
          ],
          [
           11
          ],
          [
           11
          ],
          [
           11
          ],
          [
           11
          ],
          [
           11
          ],
          [
           11
          ],
          [
           11
          ],
          [
           11
          ],
          [
           11
          ],
          [
           11
          ],
          [
           11
          ],
          [
           11
          ],
          [
           12
          ],
          [
           12
          ],
          [
           12
          ],
          [
           12
          ],
          [
           12
          ],
          [
           12
          ],
          [
           12
          ],
          [
           12
          ],
          [
           12
          ],
          [
           12
          ],
          [
           12
          ],
          [
           12
          ],
          [
           12
          ],
          [
           12
          ],
          [
           12
          ],
          [
           12
          ],
          [
           12
          ],
          [
           12
          ],
          [
           12
          ],
          [
           12
          ],
          [
           13
          ],
          [
           13
          ],
          [
           13
          ],
          [
           13
          ],
          [
           13
          ],
          [
           13
          ],
          [
           13
          ],
          [
           13
          ],
          [
           13
          ],
          [
           13
          ],
          [
           13
          ],
          [
           13
          ],
          [
           13
          ],
          [
           13
          ],
          [
           13
          ],
          [
           13
          ],
          [
           13
          ],
          [
           13
          ],
          [
           13
          ],
          [
           13
          ],
          [
           14
          ],
          [
           14
          ],
          [
           14
          ],
          [
           14
          ],
          [
           14
          ],
          [
           14
          ],
          [
           14
          ],
          [
           14
          ],
          [
           14
          ],
          [
           14
          ],
          [
           14
          ],
          [
           14
          ],
          [
           14
          ],
          [
           14
          ],
          [
           14
          ],
          [
           14
          ],
          [
           14
          ],
          [
           14
          ],
          [
           14
          ],
          [
           14
          ],
          [
           15
          ],
          [
           15
          ],
          [
           15
          ],
          [
           15
          ],
          [
           15
          ],
          [
           15
          ],
          [
           15
          ],
          [
           15
          ],
          [
           15
          ],
          [
           15
          ],
          [
           15
          ],
          [
           15
          ],
          [
           15
          ],
          [
           15
          ],
          [
           15
          ],
          [
           15
          ],
          [
           15
          ],
          [
           15
          ],
          [
           15
          ],
          [
           15
          ],
          [
           16
          ],
          [
           16
          ],
          [
           16
          ],
          [
           16
          ],
          [
           16
          ],
          [
           16
          ],
          [
           16
          ],
          [
           16
          ],
          [
           16
          ],
          [
           16
          ],
          [
           16
          ],
          [
           16
          ],
          [
           16
          ],
          [
           16
          ],
          [
           16
          ],
          [
           16
          ],
          [
           16
          ],
          [
           16
          ],
          [
           16
          ],
          [
           16
          ],
          [
           17
          ],
          [
           17
          ],
          [
           17
          ],
          [
           17
          ],
          [
           17
          ],
          [
           17
          ],
          [
           17
          ],
          [
           17
          ],
          [
           17
          ],
          [
           17
          ],
          [
           17
          ],
          [
           17
          ],
          [
           17
          ],
          [
           17
          ],
          [
           17
          ],
          [
           17
          ],
          [
           17
          ],
          [
           17
          ],
          [
           17
          ],
          [
           17
          ],
          [
           18
          ],
          [
           18
          ],
          [
           18
          ],
          [
           18
          ],
          [
           18
          ],
          [
           18
          ],
          [
           18
          ],
          [
           18
          ],
          [
           18
          ],
          [
           18
          ],
          [
           18
          ],
          [
           18
          ],
          [
           18
          ],
          [
           18
          ],
          [
           18
          ],
          [
           18
          ],
          [
           18
          ],
          [
           18
          ],
          [
           18
          ],
          [
           18
          ],
          [
           19
          ],
          [
           19
          ],
          [
           19
          ],
          [
           19
          ],
          [
           19
          ],
          [
           19
          ],
          [
           19
          ],
          [
           19
          ],
          [
           19
          ],
          [
           19
          ],
          [
           19
          ],
          [
           19
          ],
          [
           19
          ],
          [
           19
          ],
          [
           19
          ],
          [
           19
          ],
          [
           19
          ],
          [
           19
          ],
          [
           19
          ],
          [
           19
          ],
          [
           20
          ],
          [
           20
          ],
          [
           20
          ],
          [
           20
          ],
          [
           20
          ],
          [
           20
          ],
          [
           20
          ],
          [
           20
          ],
          [
           20
          ],
          [
           20
          ],
          [
           20
          ],
          [
           20
          ],
          [
           20
          ],
          [
           20
          ],
          [
           20
          ],
          [
           20
          ],
          [
           20
          ],
          [
           20
          ],
          [
           20
          ],
          [
           20
          ],
          [
           21
          ],
          [
           21
          ],
          [
           21
          ],
          [
           21
          ],
          [
           21
          ],
          [
           21
          ],
          [
           21
          ],
          [
           21
          ],
          [
           21
          ],
          [
           21
          ],
          [
           21
          ],
          [
           21
          ],
          [
           21
          ],
          [
           21
          ],
          [
           21
          ],
          [
           21
          ],
          [
           21
          ],
          [
           21
          ],
          [
           21
          ],
          [
           21
          ],
          [
           22
          ],
          [
           22
          ],
          [
           22
          ],
          [
           22
          ],
          [
           22
          ],
          [
           22
          ],
          [
           22
          ],
          [
           22
          ],
          [
           22
          ],
          [
           22
          ],
          [
           22
          ],
          [
           22
          ],
          [
           22
          ],
          [
           22
          ],
          [
           22
          ],
          [
           22
          ],
          [
           22
          ],
          [
           22
          ],
          [
           22
          ],
          [
           22
          ],
          [
           23
          ],
          [
           23
          ],
          [
           23
          ],
          [
           23
          ],
          [
           23
          ],
          [
           23
          ],
          [
           23
          ],
          [
           23
          ],
          [
           23
          ],
          [
           23
          ],
          [
           23
          ],
          [
           23
          ],
          [
           23
          ],
          [
           23
          ],
          [
           23
          ],
          [
           23
          ],
          [
           23
          ],
          [
           23
          ],
          [
           23
          ],
          [
           23
          ],
          [
           24
          ],
          [
           24
          ],
          [
           24
          ],
          [
           24
          ],
          [
           24
          ],
          [
           24
          ],
          [
           24
          ],
          [
           24
          ],
          [
           24
          ],
          [
           24
          ],
          [
           24
          ],
          [
           24
          ],
          [
           24
          ],
          [
           24
          ],
          [
           24
          ],
          [
           24
          ],
          [
           24
          ],
          [
           24
          ],
          [
           24
          ],
          [
           24
          ],
          [
           25
          ],
          [
           25
          ],
          [
           25
          ],
          [
           25
          ],
          [
           25
          ],
          [
           25
          ],
          [
           25
          ],
          [
           25
          ],
          [
           25
          ],
          [
           25
          ],
          [
           25
          ],
          [
           25
          ],
          [
           25
          ],
          [
           25
          ],
          [
           25
          ],
          [
           25
          ],
          [
           25
          ],
          [
           25
          ],
          [
           25
          ],
          [
           25
          ],
          [
           26
          ],
          [
           26
          ],
          [
           26
          ],
          [
           26
          ],
          [
           26
          ],
          [
           26
          ],
          [
           26
          ],
          [
           26
          ],
          [
           26
          ],
          [
           26
          ],
          [
           26
          ],
          [
           26
          ],
          [
           26
          ],
          [
           26
          ],
          [
           26
          ],
          [
           26
          ],
          [
           26
          ],
          [
           26
          ],
          [
           26
          ],
          [
           26
          ],
          [
           27
          ],
          [
           27
          ],
          [
           27
          ],
          [
           27
          ],
          [
           27
          ],
          [
           27
          ],
          [
           27
          ],
          [
           27
          ],
          [
           27
          ],
          [
           27
          ],
          [
           27
          ],
          [
           27
          ],
          [
           27
          ],
          [
           27
          ],
          [
           27
          ],
          [
           27
          ],
          [
           27
          ],
          [
           27
          ],
          [
           27
          ],
          [
           27
          ],
          [
           28
          ],
          [
           28
          ],
          [
           28
          ],
          [
           28
          ],
          [
           28
          ],
          [
           28
          ],
          [
           28
          ],
          [
           28
          ],
          [
           28
          ],
          [
           28
          ],
          [
           28
          ],
          [
           28
          ],
          [
           28
          ],
          [
           28
          ],
          [
           28
          ],
          [
           28
          ],
          [
           28
          ],
          [
           28
          ],
          [
           28
          ],
          [
           28
          ],
          [
           29
          ],
          [
           29
          ],
          [
           29
          ],
          [
           29
          ],
          [
           29
          ],
          [
           29
          ],
          [
           29
          ],
          [
           29
          ],
          [
           29
          ],
          [
           29
          ],
          [
           29
          ],
          [
           29
          ],
          [
           29
          ],
          [
           29
          ],
          [
           29
          ],
          [
           29
          ],
          [
           29
          ],
          [
           29
          ],
          [
           29
          ],
          [
           29
          ],
          [
           30
          ],
          [
           30
          ],
          [
           30
          ],
          [
           30
          ],
          [
           30
          ],
          [
           30
          ],
          [
           30
          ],
          [
           30
          ],
          [
           30
          ],
          [
           30
          ],
          [
           30
          ],
          [
           30
          ],
          [
           30
          ],
          [
           30
          ],
          [
           30
          ],
          [
           30
          ],
          [
           30
          ],
          [
           30
          ],
          [
           30
          ],
          [
           30
          ]
         ],
         "hoverlabel": {
          "namelength": 0
         },
         "hovertemplate": "<b>%{hovertext}</b><br><br>flops=%{x}<br>acc=%{y}<br>gen=%{customdata[0]}<br>pareto=%{marker.color}",
         "hovertext": [
          0,
          0,
          0,
          0,
          0,
          0,
          0,
          0,
          0,
          0,
          0,
          0,
          0,
          0,
          0,
          0,
          0,
          0,
          0,
          0,
          1,
          1,
          1,
          1,
          1,
          1,
          1,
          1,
          1,
          1,
          1,
          1,
          1,
          1,
          1,
          1,
          1,
          1,
          1,
          1,
          2,
          2,
          2,
          2,
          2,
          2,
          2,
          2,
          2,
          2,
          2,
          2,
          2,
          2,
          2,
          2,
          2,
          2,
          2,
          2,
          3,
          3,
          3,
          3,
          3,
          3,
          3,
          3,
          3,
          3,
          3,
          3,
          3,
          3,
          3,
          3,
          3,
          3,
          3,
          3,
          4,
          4,
          4,
          4,
          4,
          4,
          4,
          4,
          4,
          4,
          4,
          4,
          4,
          4,
          4,
          4,
          4,
          4,
          4,
          4,
          5,
          5,
          5,
          5,
          5,
          5,
          5,
          5,
          5,
          5,
          5,
          5,
          5,
          5,
          5,
          5,
          5,
          5,
          5,
          5,
          6,
          6,
          6,
          6,
          6,
          6,
          6,
          6,
          6,
          6,
          6,
          6,
          6,
          6,
          6,
          6,
          6,
          6,
          6,
          6,
          7,
          7,
          7,
          7,
          7,
          7,
          7,
          7,
          7,
          7,
          7,
          7,
          7,
          7,
          7,
          7,
          7,
          7,
          7,
          7,
          8,
          8,
          8,
          8,
          8,
          8,
          8,
          8,
          8,
          8,
          8,
          8,
          8,
          8,
          8,
          8,
          8,
          8,
          8,
          8,
          9,
          9,
          9,
          9,
          9,
          9,
          9,
          9,
          9,
          9,
          9,
          9,
          9,
          9,
          9,
          9,
          9,
          9,
          9,
          9,
          10,
          10,
          10,
          10,
          10,
          10,
          10,
          10,
          10,
          10,
          10,
          10,
          10,
          10,
          10,
          10,
          10,
          10,
          10,
          10,
          11,
          11,
          11,
          11,
          11,
          11,
          11,
          11,
          11,
          11,
          11,
          11,
          11,
          11,
          11,
          11,
          11,
          11,
          11,
          11,
          12,
          12,
          12,
          12,
          12,
          12,
          12,
          12,
          12,
          12,
          12,
          12,
          12,
          12,
          12,
          12,
          12,
          12,
          12,
          12,
          13,
          13,
          13,
          13,
          13,
          13,
          13,
          13,
          13,
          13,
          13,
          13,
          13,
          13,
          13,
          13,
          13,
          13,
          13,
          13,
          14,
          14,
          14,
          14,
          14,
          14,
          14,
          14,
          14,
          14,
          14,
          14,
          14,
          14,
          14,
          14,
          14,
          14,
          14,
          14,
          15,
          15,
          15,
          15,
          15,
          15,
          15,
          15,
          15,
          15,
          15,
          15,
          15,
          15,
          15,
          15,
          15,
          15,
          15,
          15,
          16,
          16,
          16,
          16,
          16,
          16,
          16,
          16,
          16,
          16,
          16,
          16,
          16,
          16,
          16,
          16,
          16,
          16,
          16,
          16,
          17,
          17,
          17,
          17,
          17,
          17,
          17,
          17,
          17,
          17,
          17,
          17,
          17,
          17,
          17,
          17,
          17,
          17,
          17,
          17,
          18,
          18,
          18,
          18,
          18,
          18,
          18,
          18,
          18,
          18,
          18,
          18,
          18,
          18,
          18,
          18,
          18,
          18,
          18,
          18,
          19,
          19,
          19,
          19,
          19,
          19,
          19,
          19,
          19,
          19,
          19,
          19,
          19,
          19,
          19,
          19,
          19,
          19,
          19,
          19,
          20,
          20,
          20,
          20,
          20,
          20,
          20,
          20,
          20,
          20,
          20,
          20,
          20,
          20,
          20,
          20,
          20,
          20,
          20,
          20,
          21,
          21,
          21,
          21,
          21,
          21,
          21,
          21,
          21,
          21,
          21,
          21,
          21,
          21,
          21,
          21,
          21,
          21,
          21,
          21,
          22,
          22,
          22,
          22,
          22,
          22,
          22,
          22,
          22,
          22,
          22,
          22,
          22,
          22,
          22,
          22,
          22,
          22,
          22,
          22,
          23,
          23,
          23,
          23,
          23,
          23,
          23,
          23,
          23,
          23,
          23,
          23,
          23,
          23,
          23,
          23,
          23,
          23,
          23,
          23,
          24,
          24,
          24,
          24,
          24,
          24,
          24,
          24,
          24,
          24,
          24,
          24,
          24,
          24,
          24,
          24,
          24,
          24,
          24,
          24,
          25,
          25,
          25,
          25,
          25,
          25,
          25,
          25,
          25,
          25,
          25,
          25,
          25,
          25,
          25,
          25,
          25,
          25,
          25,
          25,
          26,
          26,
          26,
          26,
          26,
          26,
          26,
          26,
          26,
          26,
          26,
          26,
          26,
          26,
          26,
          26,
          26,
          26,
          26,
          26,
          27,
          27,
          27,
          27,
          27,
          27,
          27,
          27,
          27,
          27,
          27,
          27,
          27,
          27,
          27,
          27,
          27,
          27,
          27,
          27,
          28,
          28,
          28,
          28,
          28,
          28,
          28,
          28,
          28,
          28,
          28,
          28,
          28,
          28,
          28,
          28,
          28,
          28,
          28,
          28,
          29,
          29,
          29,
          29,
          29,
          29,
          29,
          29,
          29,
          29,
          29,
          29,
          29,
          29,
          29,
          29,
          29,
          29,
          29,
          29,
          30,
          30,
          30,
          30,
          30,
          30,
          30,
          30,
          30,
          30,
          30,
          30,
          30,
          30,
          30,
          30,
          30,
          30,
          30,
          30
         ],
         "legendgroup": "",
         "marker": {
          "color": [
           0,
           0,
           0,
           0,
           0,
           0,
           0,
           0,
           0,
           0,
           0,
           0,
           0,
           0,
           0,
           0,
           0,
           0,
           0,
           0,
           0,
           0,
           1,
           0,
           0,
           0,
           0,
           0,
           0,
           1,
           0,
           0,
           0,
           0,
           0,
           1,
           0,
           0,
           0,
           0,
           0,
           0,
           0,
           0,
           0,
           0,
           0,
           0,
           0,
           0,
           0,
           0,
           0,
           0,
           0,
           0,
           0,
           0,
           0,
           0,
           0,
           0,
           0,
           0,
           0,
           0,
           0,
           0,
           0,
           0,
           0,
           0,
           0,
           0,
           0,
           0,
           0,
           0,
           0,
           0,
           0,
           0,
           0,
           0,
           0,
           0,
           0,
           0,
           0,
           0,
           0,
           0,
           0,
           0,
           0,
           0,
           0,
           0,
           0,
           0,
           0,
           0,
           0,
           0,
           0,
           0,
           0,
           0,
           0,
           0,
           0,
           0,
           0,
           0,
           0,
           0,
           0,
           0,
           0,
           0,
           0,
           0,
           0,
           0,
           0,
           0,
           0,
           0,
           0,
           0,
           0,
           0,
           0,
           0,
           0,
           0,
           0,
           0,
           0,
           0,
           0,
           0,
           0,
           0,
           0,
           0,
           0,
           0,
           0,
           0,
           0,
           1,
           0,
           0,
           0,
           0,
           0,
           0,
           0,
           0,
           0,
           0,
           0,
           0,
           0,
           0,
           0,
           0,
           0,
           0,
           0,
           0,
           0,
           0,
           0,
           0,
           0,
           0,
           0,
           0,
           0,
           0,
           0,
           0,
           0,
           0,
           0,
           0,
           0,
           0,
           0,
           0,
           0,
           0,
           0,
           0,
           0,
           0,
           0,
           0,
           0,
           0,
           0,
           0,
           0,
           0,
           0,
           0,
           0,
           0,
           0,
           0,
           0,
           0,
           0,
           0,
           0,
           0,
           0,
           0,
           0,
           0,
           0,
           0,
           0,
           0,
           0,
           0,
           0,
           0,
           0,
           0,
           0,
           0,
           0,
           0,
           0,
           0,
           0,
           0,
           0,
           0,
           0,
           0,
           0,
           0,
           0,
           0,
           0,
           1,
           0,
           0,
           0,
           0,
           0,
           0,
           0,
           0,
           0,
           0,
           0,
           0,
           0,
           0,
           0,
           0,
           0,
           0,
           0,
           0,
           0,
           0,
           0,
           0,
           0,
           0,
           0,
           0,
           0,
           0,
           0,
           0,
           0,
           0,
           0,
           0,
           0,
           0,
           0,
           0,
           0,
           0,
           0,
           0,
           0,
           0,
           0,
           0,
           0,
           0,
           0,
           0,
           0,
           0,
           0,
           0,
           1,
           0,
           0,
           0,
           0,
           0,
           0,
           0,
           0,
           0,
           0,
           0,
           0,
           0,
           0,
           0,
           0,
           0,
           0,
           0,
           0,
           0,
           0,
           0,
           0,
           0,
           0,
           0,
           0,
           0,
           0,
           0,
           0,
           0,
           0,
           0,
           0,
           0,
           0,
           0,
           0,
           0,
           0,
           0,
           0,
           0,
           0,
           0,
           0,
           0,
           0,
           1,
           0,
           0,
           0,
           0,
           0,
           0,
           0,
           0,
           0,
           0,
           0,
           0,
           0,
           0,
           0,
           0,
           0,
           0,
           0,
           0,
           0,
           0,
           0,
           0,
           0,
           0,
           0,
           0,
           0,
           0,
           0,
           0,
           0,
           0,
           0,
           0,
           0,
           0,
           0,
           0,
           0,
           0,
           0,
           0,
           0,
           0,
           0,
           0,
           0,
           0,
           0,
           0,
           0,
           0,
           0,
           0,
           0,
           0,
           0,
           0,
           0,
           0,
           0,
           0,
           0,
           0,
           0,
           0,
           0,
           0,
           0,
           0,
           0,
           0,
           0,
           0,
           0,
           0,
           0,
           0,
           0,
           0,
           0,
           0,
           0,
           0,
           0,
           0,
           0,
           0,
           0,
           0,
           0,
           0,
           0,
           0,
           0,
           0,
           0,
           0,
           0,
           0,
           0,
           0,
           0,
           0,
           0,
           0,
           0,
           0,
           0,
           0,
           0,
           0,
           0,
           0,
           0,
           0,
           0,
           0,
           0,
           0,
           0,
           0,
           0,
           0,
           0,
           0,
           0,
           0,
           0,
           0,
           0,
           0,
           0,
           0,
           0,
           0,
           0,
           0,
           0,
           0,
           0,
           0,
           0,
           0,
           0,
           0,
           0,
           0,
           0,
           0,
           0,
           0,
           0,
           0,
           0,
           0,
           0,
           0,
           0,
           0,
           0,
           0,
           0,
           0,
           0,
           0,
           0,
           0,
           0,
           0,
           0,
           0,
           0,
           0,
           1,
           0,
           0,
           0,
           0,
           0,
           0,
           0,
           0,
           0,
           0,
           0,
           0,
           0,
           0,
           0,
           0,
           0,
           0,
           0,
           0,
           0,
           0,
           0,
           0,
           0,
           0,
           0,
           0,
           0,
           0,
           0,
           0,
           0,
           0,
           0,
           0,
           0,
           0,
           0,
           0,
           0,
           0,
           0,
           0,
           0,
           0,
           0,
           0,
           0,
           0,
           0,
           0,
           0,
           0,
           0,
           0,
           0,
           0,
           0,
           0,
           0,
           0,
           0,
           0,
           0,
           0,
           0,
           0,
           0,
           0,
           0,
           0,
           0,
           0,
           0,
           0,
           0,
           0,
           0,
           0,
           0,
           0,
           0,
           0,
           0
          ],
          "coloraxis": "coloraxis",
          "symbol": "circle"
         },
         "mode": "markers",
         "name": "",
         "showlegend": false,
         "type": "scatter",
         "x": [
          1815276672,
          1849373568,
          2053121792,
          1682072832,
          1880564352,
          1776457984,
          1532268160,
          1996336640,
          1574248832,
          1886055552,
          1949635712,
          1437476608,
          1736550656,
          1612617728,
          1515540864,
          1665579520,
          1762337408,
          1863580544,
          2075532544,
          1465612032,
          1700808576,
          1531605504,
          1586511488,
          1657888384,
          1928441088,
          1628342144,
          1960487552,
          1917632128,
          1555064064,
          1334138496,
          1790602624,
          1818908160,
          1645326208,
          1624690304,
          2025882752,
          2074186112,
          1733858048,
          2079847936,
          1784320384,
          1450208640,
          1789748608,
          2043656960,
          2135522048,
          1708649216,
          1511566080,
          2140969728,
          1810703872,
          1528358272,
          2093520512,
          2008920576,
          1946194048,
          1930918784,
          2131228288,
          1943054208,
          1757422336,
          1997277184,
          2054082688,
          1798399872,
          1428097152,
          1460271360,
          1817732992,
          1598176768,
          1541091072,
          1940939520,
          1894900096,
          1888833152,
          1705892608,
          1589908224,
          1772656896,
          1586810496,
          1964803328,
          1754410624,
          2027762560,
          1656884224,
          1758192384,
          1708371840,
          2016033536,
          1832517760,
          1338902528,
          1899684352,
          1560126464,
          1469500160,
          1810875648,
          1783485952,
          1901458688,
          1931881344,
          2170559488,
          1655943424,
          1575935872,
          1764130560,
          1617424896,
          1983923456,
          1673526144,
          1732405120,
          2078608896,
          1355844096,
          1536883072,
          2002125952,
          1693459072,
          1473965696,
          2111574144,
          1679294976,
          1988773376,
          1726038528,
          1909341184,
          1768212992,
          1503618560,
          1604606080,
          1705273984,
          1515540096,
          1870801920,
          1794531712,
          1555960704,
          1672586624,
          2081065472,
          1740310016,
          1687968896,
          1974288000,
          1766737920,
          1815319040,
          1734606336,
          1864307072,
          1667802624,
          1928506112,
          1950638976,
          1485823104,
          1784170880,
          1893576448,
          1610055040,
          1745331712,
          2014110848,
          1682649856,
          1670962560,
          1612532992,
          1605909376,
          1694740608,
          1683761024,
          2013235072,
          2074933760,
          1773360896,
          2163403264,
          2242683904,
          1952475008,
          1640070784,
          1859627392,
          1851232256,
          2001014784,
          1541197696,
          1902505984,
          1836085120,
          1677052288,
          1620500736,
          1722194176,
          1918805504,
          1603560576,
          1797202048,
          1544830080,
          1869263232,
          1903702528,
          1387291904,
          2056369792,
          1770690944,
          1990034432,
          2014067968,
          2157334784,
          2132723200,
          1735803008,
          1950509440,
          1585912704,
          1613046400,
          1533593344,
          1666903040,
          1795557632,
          1552948352,
          1636759168,
          1409404032,
          2051519104,
          1646800768,
          1874947072,
          1814551552,
          1709333376,
          1594543872,
          1722706432,
          1457622016,
          2035410688,
          1609050880,
          1913250688,
          1589843712,
          1822775552,
          1852792192,
          2194615040,
          1421175168,
          2131163648,
          1662205184,
          1682713600,
          1604072576,
          1704889344,
          1866998784,
          1976596352,
          1492146304,
          1782696704,
          1901822080,
          1767678720,
          1855868288,
          1503276928,
          1637656576,
          1571321216,
          2039725184,
          1688056064,
          2275242752,
          1866378496,
          1582259968,
          1995438976,
          1404041344,
          2083415296,
          1710144640,
          1887017216,
          1943118080,
          2030325888,
          1968498432,
          1371546880,
          1926433024,
          1450486912,
          1713797120,
          2298935552,
          1401050496,
          1782183296,
          1741570688,
          1800044032,
          1852151296,
          1981295744,
          1508019712,
          1625372032,
          1922138496,
          1940876288,
          1984628480,
          1807735296,
          2346406144,
          1865012480,
          2000181504,
          1954975488,
          1979416448,
          2007274112,
          1805044480,
          1405344896,
          1723860224,
          2019515648,
          1495394048,
          1788935168,
          1242401536,
          2001975936,
          1450614784,
          1507976960,
          1966576384,
          1554828288,
          1754091776,
          2011119616,
          1826834816,
          1806923648,
          1995246720,
          1819164032,
          1441107712,
          1905881216,
          1903188736,
          1814272512,
          1822839936,
          1434143232,
          1532909440,
          1822006656,
          1761076480,
          1625905792,
          1573479680,
          1864179712,
          1890007936,
          1921905664,
          1709311744,
          1491505408,
          1574653824,
          1462706816,
          1913700096,
          1774364928,
          1847344000,
          1381887360,
          1805193600,
          1942904448,
          1959355648,
          1763511936,
          1890221440,
          1716384256,
          1755756672,
          1916328704,
          1942819712,
          1963947520,
          1583349376,
          1792353664,
          1657076096,
          1697090944,
          1681196032,
          1833628672,
          1872297984,
          1857106560,
          1604242816,
          1711981568,
          1554422016,
          1659468416,
          1707709440,
          1297029248,
          1856338432,
          1959653632,
          1879902208,
          1991486720,
          1572134400,
          1591296256,
          1459673216,
          1627658368,
          1945064064,
          1985290880,
          1966083712,
          1866699520,
          1642334848,
          1841724672,
          1630756224,
          2014752384,
          1713884160,
          2085082496,
          1952945920,
          1571962112,
          1429016064,
          1626718464,
          1481207808,
          1636695296,
          1980912128,
          1675001984,
          1523081600,
          2130373248,
          1933013632,
          1911734528,
          1958607232,
          1394598400,
          1851338880,
          1488343936,
          1496270336,
          1666156032,
          1704076800,
          1801475968,
          1913294848,
          1460100224,
          1838158208,
          1908958208,
          2041371648,
          1633511552,
          1609626496,
          1485544832,
          1721980800,
          1664980864,
          1643319040,
          1682392064,
          1336146560,
          1738580608,
          1637228672,
          1931090816,
          2012209408,
          1706832384,
          1707196544,
          1772163456,
          1655218432,
          1849202944,
          1947861632,
          1623171712,
          1710806144,
          1973305984,
          1830638336,
          1649705344,
          1459715584,
          1547500416,
          1867533440,
          2023938048,
          2082411776,
          1774108160,
          1508917120,
          1779579520,
          1900881664,
          1838049792,
          1920621312,
          1920066816,
          1625970304,
          1905025664,
          1818588160,
          1737576832,
          1876634240,
          1630264832,
          1866785920,
          1961704448,
          1781522560,
          1770476288,
          1531007616,
          1677970048,
          1505136384,
          1668185088,
          1494624384,
          2001271168,
          1576747776,
          1912932736,
          1527952256,
          2138748544,
          1893724032,
          1740310912,
          1749155200,
          1741678080,
          2198866688,
          1663549824,
          1804658816,
          1627721984,
          1594543872,
          1853155712,
          1587557504,
          1585550208,
          1623748224,
          1915216768,
          1344692480,
          2063889408,
          1674060800,
          1808952832,
          1537672960,
          1631781248,
          1898510464,
          1663442048,
          2017957120,
          2041349888,
          1478110464,
          1738260224,
          1654000000,
          1618172160,
          2103903616,
          1566813056,
          1509707904,
          1777184896,
          2024729344,
          1589694976,
          1595378048,
          1709140224,
          1827346432,
          2023104896,
          1790301696,
          1651757184,
          1600718208,
          1584545152,
          1952283264,
          1933227776,
          1913956864,
          1875394048,
          1937521408,
          1875287168,
          1485118208,
          2033765632,
          1626312064,
          1615375104,
          1596019200,
          1725697408,
          1562348160,
          1593390592,
          1674915584,
          1552863360,
          1685447552,
          1651736064,
          1364197504,
          1795558016,
          1438651264,
          1598517248,
          1596231424,
          1796540672,
          1402631424,
          1343196800,
          1593091328,
          1672053504,
          1899984768,
          1803953920,
          1783572224,
          1514258688,
          1969588224,
          1803012736,
          2005437440,
          1869220480,
          1798056704,
          1658977664,
          1981722752,
          2150092800,
          2167653376,
          1513874048,
          1969652864,
          1878045184,
          1788743040,
          2013876224,
          1597791104,
          2097707776,
          1990097664,
          1545043712,
          1911052032,
          1631460992,
          1875543936,
          1365052160,
          1415919488,
          1675278208,
          1670642048,
          1748557824,
          1980377728,
          1729585920,
          1465868928,
          1785815680,
          1984607232,
          2072948608,
          2178549248,
          1589118080,
          1466787072,
          2023553536,
          1924788480,
          1833457280,
          1861572608,
          2140863232,
          1907162752,
          1966000128,
          1603687424,
          1588391424,
          1741356416,
          1925899904,
          2113623936,
          1751291776,
          1808780928,
          1863751296,
          1879753472,
          1663443072,
          1902292480,
          2214697216,
          1804978176,
          1928996736,
          1770689536,
          1960764928,
          2027484672,
          1654085760,
          1760029568,
          1459950720,
          1672544128,
          1720164352,
          1794125952,
          1932222336,
          1883534720,
          1564121600,
          1700893184,
          2057693824,
          1856615808,
          1892935552,
          1842452736,
          1794426368,
          1377913088,
          2083501568,
          2098519680,
          1511395072,
          2027121664,
          2033809408,
          1738857856,
          1589736704,
          1419273728,
          1839139712,
          1477533568,
          1600868096,
          1756653056,
          1852642176,
          1653444096,
          1683525504,
          2269986816,
          1971532672,
          1718390400,
          1968861312,
          1642185472,
          1705743616,
          1652014208,
          2074720640,
          1606978304,
          1693052672,
          1570830592,
          1942669696,
          1938760960,
          1563993472,
          1836533504,
          1489796352,
          1601700480,
          1791669504,
          1927181440,
          1835998720,
          1632122624,
          1815895936,
          1760563840,
          2009218688,
          1453670016,
          1826428672,
          1451597568,
          1886247936,
          1754582400,
          1816899200,
          1716126208,
          1709096960,
          1783594240,
          1564784256,
          1806966912,
          1758533632,
          1549209472,
          2233134080,
          1782440064,
          1460271488,
          1870993024,
          1533079936,
          1989755648,
          1509002368,
          1736978304,
          1599372288,
          1299016192,
          1904920064,
          1732148352,
          1766246272,
          1571749504
         ],
         "xaxis": "x",
         "y": [
          83.05,
          84.98,
          83.4,
          82.85,
          81.96,
          80.61,
          76.12,
          83.89,
          84.76,
          83.41,
          83.12,
          83.58,
          81.84,
          81.94,
          82.32,
          84.66,
          72.42,
          79.85,
          80.68,
          80.8,
          77.67,
          81.88,
          71.05,
          84.22,
          75.09,
          82.4,
          76.56,
          85.05,
          77.39,
          74.31,
          83.2,
          83.79,
          75.13,
          78.04,
          73.06,
          66.58,
          81.2,
          85.26,
          81.43,
          78.62,
          81.65,
          74.64,
          78.09,
          81.18,
          78.87,
          78.26,
          81.77,
          84.46,
          82.32,
          80.15,
          76.74,
          78.05,
          75.53,
          79.26,
          80.76,
          81.82,
          71.71,
          80.87,
          83.81,
          80.62,
          77.44,
          77.1,
          81.76,
          83.51,
          83.31,
          80.02,
          75.61,
          80.51,
          84.88,
          80.08,
          75.63,
          77.94,
          81.25,
          84.48,
          79.68,
          82.49,
          79.75,
          74.57,
          81.24,
          78.73,
          75.38,
          84.03,
          72.72,
          82.26,
          82.3,
          80.66,
          85.1,
          78.17,
          81.61,
          78.41,
          77.72,
          79.52,
          83.79,
          79.04,
          79.2,
          80.64,
          76.36,
          83.72,
          79.78,
          83.07,
          82.69,
          79.97,
          80.22,
          78.2,
          81.71,
          78.47,
          82.91,
          76.83,
          79.76,
          78.47,
          80.7,
          83.12,
          81.89,
          83.62,
          76.17,
          82.74,
          82.13,
          80.94,
          84.23,
          83.08,
          81.31,
          81.55,
          80.67,
          80.61,
          78.8,
          81.57,
          79.03,
          83.93,
          77.8,
          79.28,
          78.63,
          81.82,
          79.12,
          78.58,
          84.33,
          81.36,
          77.08,
          82.92,
          81.62,
          84.86,
          82.53,
          83.29,
          75.71,
          74.99,
          85.04,
          80.29,
          82.89,
          77.97,
          73.89,
          81.24,
          82.76,
          70.35,
          83.64,
          72.1,
          79.91,
          84.31,
          79.53,
          71.73,
          77.28,
          85.01,
          78.07,
          75.3,
          84.22,
          80.72,
          79.65,
          81.06,
          74.48,
          76.65,
          81.08,
          80.87,
          74.91,
          84.71,
          82.23,
          83.42,
          77.56,
          82.16,
          80.27,
          82.56,
          84.4,
          82.81,
          78.78,
          75.48,
          75.81,
          78.73,
          73.93,
          84.17,
          80.1,
          79.83,
          77.98,
          82.32,
          82.54,
          75.41,
          71.98,
          83.93,
          82.07,
          75.07,
          77.33,
          73.64,
          85.76,
          83.25,
          85.51,
          80.8,
          82.7,
          78.12,
          82.56,
          80.94,
          82.23,
          81.13,
          83.62,
          78.43,
          73.55,
          83.32,
          80.8,
          80.25,
          79.44,
          80.85,
          82.08,
          81.56,
          77.47,
          80.87,
          77.01,
          73.57,
          79.85,
          82.27,
          81.71,
          77.41,
          81.69,
          71.69,
          85.18,
          85.85,
          81.44,
          83.17,
          81.15,
          79.35,
          79.47,
          76.02,
          81.16,
          81.87,
          82.91,
          79.24,
          76.03,
          80.98,
          83.7,
          80.98,
          73.29,
          81.24,
          82,
          80.32,
          84.39,
          82.12,
          78.53,
          78.28,
          75.45,
          78.97,
          83.06,
          80.32,
          75.29,
          83.21,
          82.71,
          76.01,
          80.44,
          77.63,
          76.19,
          82.63,
          81.79,
          77.91,
          79.4,
          80.57,
          81.94,
          79.81,
          78.78,
          83.8,
          81.35,
          83.91,
          77.58,
          84.68,
          82.96,
          76.32,
          68.51,
          77.74,
          80.61,
          78.01,
          81.7,
          75.91,
          85.29,
          78.23,
          80.84,
          75.07,
          75.03,
          83.47,
          81.27,
          73.41,
          84.1,
          79.03,
          81.95,
          82.07,
          80.9,
          78.66,
          81.28,
          80.42,
          83.93,
          83.68,
          80.45,
          74.3,
          75.42,
          77.96,
          75.86,
          81.07,
          79.5,
          81.06,
          76.8,
          81.28,
          71.64,
          77.25,
          79.53,
          81.36,
          83.08,
          77.7,
          78.36,
          80.49,
          78.4,
          79.36,
          80.93,
          82.92,
          84.72,
          83.3,
          70.83,
          81.98,
          83.18,
          80.34,
          82.81,
          79.83,
          82.33,
          81.63,
          76.82,
          80.12,
          83.2,
          70.11,
          79.48,
          79.06,
          83.62,
          83.15,
          83.83,
          75.02,
          80.89,
          76.6,
          82.48,
          78.08,
          79.6,
          82.84,
          78.12,
          82.58,
          81.62,
          81.03,
          83.12,
          79.99,
          73.97,
          67.1,
          78.66,
          67.52,
          77.96,
          75.89,
          79.35,
          83.12,
          84.1,
          80.44,
          75.8,
          84.06,
          79.73,
          81.57,
          83.52,
          82.1,
          81.32,
          79.76,
          78.36,
          76.05,
          80.82,
          80.21,
          81.7,
          81,
          83.16,
          80.19,
          81.31,
          83.91,
          81.77,
          77.44,
          83.01,
          76.73,
          82.86,
          82.23,
          78.7,
          80.98,
          76.7,
          83.68,
          83.51,
          85.25,
          78.81,
          81.57,
          79.04,
          82.21,
          68.43,
          78.6,
          79.33,
          82.68,
          83.9,
          75.51,
          76.69,
          82.12,
          79.36,
          80.97,
          82.62,
          80.7,
          82.29,
          75.54,
          84.02,
          79.45,
          82.32,
          82.99,
          67.37,
          80.35,
          82.79,
          71.32,
          74.94,
          79,
          80.6,
          76.64,
          80.78,
          76.88,
          78.9,
          78.09,
          84.17,
          82.15,
          77.77,
          73.86,
          76.81,
          82.29,
          76.79,
          84.12,
          72.89,
          85.08,
          78.63,
          82.9,
          78.7,
          81.02,
          82.99,
          81.96,
          76.33,
          77.73,
          83.66,
          82.69,
          81.36,
          82.63,
          78.95,
          79.61,
          80.74,
          76.02,
          83.04,
          78.89,
          81.51,
          83,
          84.01,
          83.27,
          75.36,
          80.21,
          77.05,
          78.08,
          71.5,
          80.95,
          79.36,
          80.84,
          82.67,
          82.2,
          79.94,
          85.65,
          77.2,
          78.98,
          80.94,
          76.98,
          71.76,
          80.49,
          81.91,
          76.16,
          79.45,
          78.12,
          83.34,
          85.71,
          83.71,
          75.91,
          82.75,
          74.39,
          70.95,
          75.37,
          82.84,
          73.56,
          78.31,
          82.2,
          69.32,
          80.9,
          81.13,
          78.08,
          83.22,
          72.97,
          77.41,
          81.39,
          73.13,
          75.23,
          84.1,
          78.66,
          75.6,
          78.7,
          83.56,
          74.3,
          78.15,
          81.5,
          79.15,
          86.07,
          77.21,
          77.7,
          78.89,
          75.69,
          83.9,
          81.52,
          81.02,
          85.19,
          82.23,
          76.1,
          79.42,
          76.67,
          80.95,
          77.06,
          81.7,
          82.58,
          80.33,
          82.39,
          65.69,
          75.33,
          77.44,
          80.27,
          84.92,
          79.85,
          82.16,
          85.03,
          79.81,
          81.3,
          78.29,
          78.58,
          85.47,
          75.72,
          79.28,
          79.46,
          79.07,
          77.13,
          81.2,
          79.6,
          78.08,
          83.97,
          79.91,
          78.89,
          85.91,
          75.91,
          81.43,
          80.1,
          82.43,
          83.12,
          83.72,
          77.58,
          83.46,
          78.55,
          82.65,
          81.6,
          83.66,
          72.11,
          82.71,
          72.33,
          82.08,
          80.29,
          83.2,
          77.25,
          82.89,
          77.24,
          81.34,
          81.44,
          83.81,
          78.97,
          79.29,
          78.97,
          78.71,
          69.41,
          78.64,
          78.95,
          80.76,
          75.23,
          81.39,
          84.09,
          80.18,
          84.17,
          80.62,
          79.26,
          78.32,
          68.64,
          79.66,
          76.14,
          78.57,
          78.09,
          82.67,
          78.26,
          81.52,
          78.52,
          81.82,
          84.97,
          83.4,
          76.14,
          74.29,
          75.67,
          84.66,
          81.95,
          72.11,
          79.22,
          82.51,
          82.45
         ],
         "yaxis": "y"
        }
       ],
       "layout": {
        "coloraxis": {
         "colorbar": {
          "title": {
           "text": "pareto"
          }
         },
         "colorscale": [
          [
           0,
           "rgb(0,0,255)"
          ],
          [
           1,
           "rgb(255,0,0)"
          ]
         ]
        },
        "height": 600,
        "legend": {
         "tracegroupgap": 0
        },
        "margin": {
         "t": 60
        },
        "template": {
         "data": {
          "bar": [
           {
            "error_x": {
             "color": "#2a3f5f"
            },
            "error_y": {
             "color": "#2a3f5f"
            },
            "marker": {
             "line": {
              "color": "#E5ECF6",
              "width": 0.5
             }
            },
            "type": "bar"
           }
          ],
          "barpolar": [
           {
            "marker": {
             "line": {
              "color": "#E5ECF6",
              "width": 0.5
             }
            },
            "type": "barpolar"
           }
          ],
          "carpet": [
           {
            "aaxis": {
             "endlinecolor": "#2a3f5f",
             "gridcolor": "white",
             "linecolor": "white",
             "minorgridcolor": "white",
             "startlinecolor": "#2a3f5f"
            },
            "baxis": {
             "endlinecolor": "#2a3f5f",
             "gridcolor": "white",
             "linecolor": "white",
             "minorgridcolor": "white",
             "startlinecolor": "#2a3f5f"
            },
            "type": "carpet"
           }
          ],
          "choropleth": [
           {
            "colorbar": {
             "outlinewidth": 0,
             "ticks": ""
            },
            "type": "choropleth"
           }
          ],
          "contour": [
           {
            "colorbar": {
             "outlinewidth": 0,
             "ticks": ""
            },
            "colorscale": [
             [
              0,
              "#0d0887"
             ],
             [
              0.1111111111111111,
              "#46039f"
             ],
             [
              0.2222222222222222,
              "#7201a8"
             ],
             [
              0.3333333333333333,
              "#9c179e"
             ],
             [
              0.4444444444444444,
              "#bd3786"
             ],
             [
              0.5555555555555556,
              "#d8576b"
             ],
             [
              0.6666666666666666,
              "#ed7953"
             ],
             [
              0.7777777777777778,
              "#fb9f3a"
             ],
             [
              0.8888888888888888,
              "#fdca26"
             ],
             [
              1,
              "#f0f921"
             ]
            ],
            "type": "contour"
           }
          ],
          "contourcarpet": [
           {
            "colorbar": {
             "outlinewidth": 0,
             "ticks": ""
            },
            "type": "contourcarpet"
           }
          ],
          "heatmap": [
           {
            "colorbar": {
             "outlinewidth": 0,
             "ticks": ""
            },
            "colorscale": [
             [
              0,
              "#0d0887"
             ],
             [
              0.1111111111111111,
              "#46039f"
             ],
             [
              0.2222222222222222,
              "#7201a8"
             ],
             [
              0.3333333333333333,
              "#9c179e"
             ],
             [
              0.4444444444444444,
              "#bd3786"
             ],
             [
              0.5555555555555556,
              "#d8576b"
             ],
             [
              0.6666666666666666,
              "#ed7953"
             ],
             [
              0.7777777777777778,
              "#fb9f3a"
             ],
             [
              0.8888888888888888,
              "#fdca26"
             ],
             [
              1,
              "#f0f921"
             ]
            ],
            "type": "heatmap"
           }
          ],
          "heatmapgl": [
           {
            "colorbar": {
             "outlinewidth": 0,
             "ticks": ""
            },
            "colorscale": [
             [
              0,
              "#0d0887"
             ],
             [
              0.1111111111111111,
              "#46039f"
             ],
             [
              0.2222222222222222,
              "#7201a8"
             ],
             [
              0.3333333333333333,
              "#9c179e"
             ],
             [
              0.4444444444444444,
              "#bd3786"
             ],
             [
              0.5555555555555556,
              "#d8576b"
             ],
             [
              0.6666666666666666,
              "#ed7953"
             ],
             [
              0.7777777777777778,
              "#fb9f3a"
             ],
             [
              0.8888888888888888,
              "#fdca26"
             ],
             [
              1,
              "#f0f921"
             ]
            ],
            "type": "heatmapgl"
           }
          ],
          "histogram": [
           {
            "marker": {
             "colorbar": {
              "outlinewidth": 0,
              "ticks": ""
             }
            },
            "type": "histogram"
           }
          ],
          "histogram2d": [
           {
            "colorbar": {
             "outlinewidth": 0,
             "ticks": ""
            },
            "colorscale": [
             [
              0,
              "#0d0887"
             ],
             [
              0.1111111111111111,
              "#46039f"
             ],
             [
              0.2222222222222222,
              "#7201a8"
             ],
             [
              0.3333333333333333,
              "#9c179e"
             ],
             [
              0.4444444444444444,
              "#bd3786"
             ],
             [
              0.5555555555555556,
              "#d8576b"
             ],
             [
              0.6666666666666666,
              "#ed7953"
             ],
             [
              0.7777777777777778,
              "#fb9f3a"
             ],
             [
              0.8888888888888888,
              "#fdca26"
             ],
             [
              1,
              "#f0f921"
             ]
            ],
            "type": "histogram2d"
           }
          ],
          "histogram2dcontour": [
           {
            "colorbar": {
             "outlinewidth": 0,
             "ticks": ""
            },
            "colorscale": [
             [
              0,
              "#0d0887"
             ],
             [
              0.1111111111111111,
              "#46039f"
             ],
             [
              0.2222222222222222,
              "#7201a8"
             ],
             [
              0.3333333333333333,
              "#9c179e"
             ],
             [
              0.4444444444444444,
              "#bd3786"
             ],
             [
              0.5555555555555556,
              "#d8576b"
             ],
             [
              0.6666666666666666,
              "#ed7953"
             ],
             [
              0.7777777777777778,
              "#fb9f3a"
             ],
             [
              0.8888888888888888,
              "#fdca26"
             ],
             [
              1,
              "#f0f921"
             ]
            ],
            "type": "histogram2dcontour"
           }
          ],
          "mesh3d": [
           {
            "colorbar": {
             "outlinewidth": 0,
             "ticks": ""
            },
            "type": "mesh3d"
           }
          ],
          "parcoords": [
           {
            "line": {
             "colorbar": {
              "outlinewidth": 0,
              "ticks": ""
             }
            },
            "type": "parcoords"
           }
          ],
          "pie": [
           {
            "automargin": true,
            "type": "pie"
           }
          ],
          "scatter": [
           {
            "marker": {
             "colorbar": {
              "outlinewidth": 0,
              "ticks": ""
             }
            },
            "type": "scatter"
           }
          ],
          "scatter3d": [
           {
            "line": {
             "colorbar": {
              "outlinewidth": 0,
              "ticks": ""
             }
            },
            "marker": {
             "colorbar": {
              "outlinewidth": 0,
              "ticks": ""
             }
            },
            "type": "scatter3d"
           }
          ],
          "scattercarpet": [
           {
            "marker": {
             "colorbar": {
              "outlinewidth": 0,
              "ticks": ""
             }
            },
            "type": "scattercarpet"
           }
          ],
          "scattergeo": [
           {
            "marker": {
             "colorbar": {
              "outlinewidth": 0,
              "ticks": ""
             }
            },
            "type": "scattergeo"
           }
          ],
          "scattergl": [
           {
            "marker": {
             "colorbar": {
              "outlinewidth": 0,
              "ticks": ""
             }
            },
            "type": "scattergl"
           }
          ],
          "scattermapbox": [
           {
            "marker": {
             "colorbar": {
              "outlinewidth": 0,
              "ticks": ""
             }
            },
            "type": "scattermapbox"
           }
          ],
          "scatterpolar": [
           {
            "marker": {
             "colorbar": {
              "outlinewidth": 0,
              "ticks": ""
             }
            },
            "type": "scatterpolar"
           }
          ],
          "scatterpolargl": [
           {
            "marker": {
             "colorbar": {
              "outlinewidth": 0,
              "ticks": ""
             }
            },
            "type": "scatterpolargl"
           }
          ],
          "scatterternary": [
           {
            "marker": {
             "colorbar": {
              "outlinewidth": 0,
              "ticks": ""
             }
            },
            "type": "scatterternary"
           }
          ],
          "surface": [
           {
            "colorbar": {
             "outlinewidth": 0,
             "ticks": ""
            },
            "colorscale": [
             [
              0,
              "#0d0887"
             ],
             [
              0.1111111111111111,
              "#46039f"
             ],
             [
              0.2222222222222222,
              "#7201a8"
             ],
             [
              0.3333333333333333,
              "#9c179e"
             ],
             [
              0.4444444444444444,
              "#bd3786"
             ],
             [
              0.5555555555555556,
              "#d8576b"
             ],
             [
              0.6666666666666666,
              "#ed7953"
             ],
             [
              0.7777777777777778,
              "#fb9f3a"
             ],
             [
              0.8888888888888888,
              "#fdca26"
             ],
             [
              1,
              "#f0f921"
             ]
            ],
            "type": "surface"
           }
          ],
          "table": [
           {
            "cells": {
             "fill": {
              "color": "#EBF0F8"
             },
             "line": {
              "color": "white"
             }
            },
            "header": {
             "fill": {
              "color": "#C8D4E3"
             },
             "line": {
              "color": "white"
             }
            },
            "type": "table"
           }
          ]
         },
         "layout": {
          "annotationdefaults": {
           "arrowcolor": "#2a3f5f",
           "arrowhead": 0,
           "arrowwidth": 1
          },
          "coloraxis": {
           "colorbar": {
            "outlinewidth": 0,
            "ticks": ""
           }
          },
          "colorscale": {
           "diverging": [
            [
             0,
             "#8e0152"
            ],
            [
             0.1,
             "#c51b7d"
            ],
            [
             0.2,
             "#de77ae"
            ],
            [
             0.3,
             "#f1b6da"
            ],
            [
             0.4,
             "#fde0ef"
            ],
            [
             0.5,
             "#f7f7f7"
            ],
            [
             0.6,
             "#e6f5d0"
            ],
            [
             0.7,
             "#b8e186"
            ],
            [
             0.8,
             "#7fbc41"
            ],
            [
             0.9,
             "#4d9221"
            ],
            [
             1,
             "#276419"
            ]
           ],
           "sequential": [
            [
             0,
             "#0d0887"
            ],
            [
             0.1111111111111111,
             "#46039f"
            ],
            [
             0.2222222222222222,
             "#7201a8"
            ],
            [
             0.3333333333333333,
             "#9c179e"
            ],
            [
             0.4444444444444444,
             "#bd3786"
            ],
            [
             0.5555555555555556,
             "#d8576b"
            ],
            [
             0.6666666666666666,
             "#ed7953"
            ],
            [
             0.7777777777777778,
             "#fb9f3a"
            ],
            [
             0.8888888888888888,
             "#fdca26"
            ],
            [
             1,
             "#f0f921"
            ]
           ],
           "sequentialminus": [
            [
             0,
             "#0d0887"
            ],
            [
             0.1111111111111111,
             "#46039f"
            ],
            [
             0.2222222222222222,
             "#7201a8"
            ],
            [
             0.3333333333333333,
             "#9c179e"
            ],
            [
             0.4444444444444444,
             "#bd3786"
            ],
            [
             0.5555555555555556,
             "#d8576b"
            ],
            [
             0.6666666666666666,
             "#ed7953"
            ],
            [
             0.7777777777777778,
             "#fb9f3a"
            ],
            [
             0.8888888888888888,
             "#fdca26"
            ],
            [
             1,
             "#f0f921"
            ]
           ]
          },
          "colorway": [
           "#636efa",
           "#EF553B",
           "#00cc96",
           "#ab63fa",
           "#FFA15A",
           "#19d3f3",
           "#FF6692",
           "#B6E880",
           "#FF97FF",
           "#FECB52"
          ],
          "font": {
           "color": "#2a3f5f"
          },
          "geo": {
           "bgcolor": "white",
           "lakecolor": "white",
           "landcolor": "#E5ECF6",
           "showlakes": true,
           "showland": true,
           "subunitcolor": "white"
          },
          "hoverlabel": {
           "align": "left"
          },
          "hovermode": "closest",
          "mapbox": {
           "style": "light"
          },
          "paper_bgcolor": "white",
          "plot_bgcolor": "#E5ECF6",
          "polar": {
           "angularaxis": {
            "gridcolor": "white",
            "linecolor": "white",
            "ticks": ""
           },
           "bgcolor": "#E5ECF6",
           "radialaxis": {
            "gridcolor": "white",
            "linecolor": "white",
            "ticks": ""
           }
          },
          "scene": {
           "xaxis": {
            "backgroundcolor": "#E5ECF6",
            "gridcolor": "white",
            "gridwidth": 2,
            "linecolor": "white",
            "showbackground": true,
            "ticks": "",
            "zerolinecolor": "white"
           },
           "yaxis": {
            "backgroundcolor": "#E5ECF6",
            "gridcolor": "white",
            "gridwidth": 2,
            "linecolor": "white",
            "showbackground": true,
            "ticks": "",
            "zerolinecolor": "white"
           },
           "zaxis": {
            "backgroundcolor": "#E5ECF6",
            "gridcolor": "white",
            "gridwidth": 2,
            "linecolor": "white",
            "showbackground": true,
            "ticks": "",
            "zerolinecolor": "white"
           }
          },
          "shapedefaults": {
           "line": {
            "color": "#2a3f5f"
           }
          },
          "ternary": {
           "aaxis": {
            "gridcolor": "white",
            "linecolor": "white",
            "ticks": ""
           },
           "baxis": {
            "gridcolor": "white",
            "linecolor": "white",
            "ticks": ""
           },
           "bgcolor": "#E5ECF6",
           "caxis": {
            "gridcolor": "white",
            "linecolor": "white",
            "ticks": ""
           }
          },
          "title": {
           "x": 0.05
          },
          "xaxis": {
           "automargin": true,
           "gridcolor": "white",
           "linecolor": "white",
           "ticks": "",
           "title": {
            "standoff": 15
           },
           "zerolinecolor": "white",
           "zerolinewidth": 2
          },
          "yaxis": {
           "automargin": true,
           "gridcolor": "white",
           "linecolor": "white",
           "ticks": "",
           "title": {
            "standoff": 15
           },
           "zerolinecolor": "white",
           "zerolinewidth": 2
          }
         }
        },
        "xaxis": {
         "anchor": "y",
         "domain": [
          0,
          1
         ],
         "title": {
          "text": "flops"
         }
        },
        "yaxis": {
         "anchor": "x",
         "domain": [
          0,
          1
         ],
         "title": {
          "text": "acc"
         }
        }
       }
      },
      "text/html": [
       "<div>\n",
       "        \n",
       "        \n",
       "            <div id=\"38904632-d3a8-4e46-8883-a3b093ba1886\" class=\"plotly-graph-div\" style=\"height:600px; width:100%;\"></div>\n",
       "            <script type=\"text/javascript\">\n",
       "                require([\"plotly\"], function(Plotly) {\n",
       "                    window.PLOTLYENV=window.PLOTLYENV || {};\n",
       "                    \n",
       "                if (document.getElementById(\"38904632-d3a8-4e46-8883-a3b093ba1886\")) {\n",
       "                    Plotly.newPlot(\n",
       "                        '38904632-d3a8-4e46-8883-a3b093ba1886',\n",
       "                        [{\"customdata\": [[0], [0], [0], [0], [0], [0], [0], [0], [0], [0], [0], [0], [0], [0], [0], [0], [0], [0], [0], [0], [1], [1], [1], [1], [1], [1], [1], [1], [1], [1], [1], [1], [1], [1], [1], [1], [1], [1], [1], [1], [2], [2], [2], [2], [2], [2], [2], [2], [2], [2], [2], [2], [2], [2], [2], [2], [2], [2], [2], [2], [3], [3], [3], [3], [3], [3], [3], [3], [3], [3], [3], [3], [3], [3], [3], [3], [3], [3], [3], [3], [4], [4], [4], [4], [4], [4], [4], [4], [4], [4], [4], [4], [4], [4], [4], [4], [4], [4], [4], [4], [5], [5], [5], [5], [5], [5], [5], [5], [5], [5], [5], [5], [5], [5], [5], [5], [5], [5], [5], [5], [6], [6], [6], [6], [6], [6], [6], [6], [6], [6], [6], [6], [6], [6], [6], [6], [6], [6], [6], [6], [7], [7], [7], [7], [7], [7], [7], [7], [7], [7], [7], [7], [7], [7], [7], [7], [7], [7], [7], [7], [8], [8], [8], [8], [8], [8], [8], [8], [8], [8], [8], [8], [8], [8], [8], [8], [8], [8], [8], [8], [9], [9], [9], [9], [9], [9], [9], [9], [9], [9], [9], [9], [9], [9], [9], [9], [9], [9], [9], [9], [10], [10], [10], [10], [10], [10], [10], [10], [10], [10], [10], [10], [10], [10], [10], [10], [10], [10], [10], [10], [11], [11], [11], [11], [11], [11], [11], [11], [11], [11], [11], [11], [11], [11], [11], [11], [11], [11], [11], [11], [12], [12], [12], [12], [12], [12], [12], [12], [12], [12], [12], [12], [12], [12], [12], [12], [12], [12], [12], [12], [13], [13], [13], [13], [13], [13], [13], [13], [13], [13], [13], [13], [13], [13], [13], [13], [13], [13], [13], [13], [14], [14], [14], [14], [14], [14], [14], [14], [14], [14], [14], [14], [14], [14], [14], [14], [14], [14], [14], [14], [15], [15], [15], [15], [15], [15], [15], [15], [15], [15], [15], [15], [15], [15], [15], [15], [15], [15], [15], [15], [16], [16], [16], [16], [16], [16], [16], [16], [16], [16], [16], [16], [16], [16], [16], [16], [16], [16], [16], [16], [17], [17], [17], [17], [17], [17], [17], [17], [17], [17], [17], [17], [17], [17], [17], [17], [17], [17], [17], [17], [18], [18], [18], [18], [18], [18], [18], [18], [18], [18], [18], [18], [18], [18], [18], [18], [18], [18], [18], [18], [19], [19], [19], [19], [19], [19], [19], [19], [19], [19], [19], [19], [19], [19], [19], [19], [19], [19], [19], [19], [20], [20], [20], [20], [20], [20], [20], [20], [20], [20], [20], [20], [20], [20], [20], [20], [20], [20], [20], [20], [21], [21], [21], [21], [21], [21], [21], [21], [21], [21], [21], [21], [21], [21], [21], [21], [21], [21], [21], [21], [22], [22], [22], [22], [22], [22], [22], [22], [22], [22], [22], [22], [22], [22], [22], [22], [22], [22], [22], [22], [23], [23], [23], [23], [23], [23], [23], [23], [23], [23], [23], [23], [23], [23], [23], [23], [23], [23], [23], [23], [24], [24], [24], [24], [24], [24], [24], [24], [24], [24], [24], [24], [24], [24], [24], [24], [24], [24], [24], [24], [25], [25], [25], [25], [25], [25], [25], [25], [25], [25], [25], [25], [25], [25], [25], [25], [25], [25], [25], [25], [26], [26], [26], [26], [26], [26], [26], [26], [26], [26], [26], [26], [26], [26], [26], [26], [26], [26], [26], [26], [27], [27], [27], [27], [27], [27], [27], [27], [27], [27], [27], [27], [27], [27], [27], [27], [27], [27], [27], [27], [28], [28], [28], [28], [28], [28], [28], [28], [28], [28], [28], [28], [28], [28], [28], [28], [28], [28], [28], [28], [29], [29], [29], [29], [29], [29], [29], [29], [29], [29], [29], [29], [29], [29], [29], [29], [29], [29], [29], [29], [30], [30], [30], [30], [30], [30], [30], [30], [30], [30], [30], [30], [30], [30], [30], [30], [30], [30], [30], [30]], \"hoverlabel\": {\"namelength\": 0}, \"hovertemplate\": \"<b>%{hovertext}</b><br><br>flops=%{x}<br>acc=%{y}<br>gen=%{customdata[0]}<br>pareto=%{marker.color}\", \"hovertext\": [0.0, 0.0, 0.0, 0.0, 0.0, 0.0, 0.0, 0.0, 0.0, 0.0, 0.0, 0.0, 0.0, 0.0, 0.0, 0.0, 0.0, 0.0, 0.0, 0.0, 1.0, 1.0, 1.0, 1.0, 1.0, 1.0, 1.0, 1.0, 1.0, 1.0, 1.0, 1.0, 1.0, 1.0, 1.0, 1.0, 1.0, 1.0, 1.0, 1.0, 2.0, 2.0, 2.0, 2.0, 2.0, 2.0, 2.0, 2.0, 2.0, 2.0, 2.0, 2.0, 2.0, 2.0, 2.0, 2.0, 2.0, 2.0, 2.0, 2.0, 3.0, 3.0, 3.0, 3.0, 3.0, 3.0, 3.0, 3.0, 3.0, 3.0, 3.0, 3.0, 3.0, 3.0, 3.0, 3.0, 3.0, 3.0, 3.0, 3.0, 4.0, 4.0, 4.0, 4.0, 4.0, 4.0, 4.0, 4.0, 4.0, 4.0, 4.0, 4.0, 4.0, 4.0, 4.0, 4.0, 4.0, 4.0, 4.0, 4.0, 5.0, 5.0, 5.0, 5.0, 5.0, 5.0, 5.0, 5.0, 5.0, 5.0, 5.0, 5.0, 5.0, 5.0, 5.0, 5.0, 5.0, 5.0, 5.0, 5.0, 6.0, 6.0, 6.0, 6.0, 6.0, 6.0, 6.0, 6.0, 6.0, 6.0, 6.0, 6.0, 6.0, 6.0, 6.0, 6.0, 6.0, 6.0, 6.0, 6.0, 7.0, 7.0, 7.0, 7.0, 7.0, 7.0, 7.0, 7.0, 7.0, 7.0, 7.0, 7.0, 7.0, 7.0, 7.0, 7.0, 7.0, 7.0, 7.0, 7.0, 8.0, 8.0, 8.0, 8.0, 8.0, 8.0, 8.0, 8.0, 8.0, 8.0, 8.0, 8.0, 8.0, 8.0, 8.0, 8.0, 8.0, 8.0, 8.0, 8.0, 9.0, 9.0, 9.0, 9.0, 9.0, 9.0, 9.0, 9.0, 9.0, 9.0, 9.0, 9.0, 9.0, 9.0, 9.0, 9.0, 9.0, 9.0, 9.0, 9.0, 10.0, 10.0, 10.0, 10.0, 10.0, 10.0, 10.0, 10.0, 10.0, 10.0, 10.0, 10.0, 10.0, 10.0, 10.0, 10.0, 10.0, 10.0, 10.0, 10.0, 11.0, 11.0, 11.0, 11.0, 11.0, 11.0, 11.0, 11.0, 11.0, 11.0, 11.0, 11.0, 11.0, 11.0, 11.0, 11.0, 11.0, 11.0, 11.0, 11.0, 12.0, 12.0, 12.0, 12.0, 12.0, 12.0, 12.0, 12.0, 12.0, 12.0, 12.0, 12.0, 12.0, 12.0, 12.0, 12.0, 12.0, 12.0, 12.0, 12.0, 13.0, 13.0, 13.0, 13.0, 13.0, 13.0, 13.0, 13.0, 13.0, 13.0, 13.0, 13.0, 13.0, 13.0, 13.0, 13.0, 13.0, 13.0, 13.0, 13.0, 14.0, 14.0, 14.0, 14.0, 14.0, 14.0, 14.0, 14.0, 14.0, 14.0, 14.0, 14.0, 14.0, 14.0, 14.0, 14.0, 14.0, 14.0, 14.0, 14.0, 15.0, 15.0, 15.0, 15.0, 15.0, 15.0, 15.0, 15.0, 15.0, 15.0, 15.0, 15.0, 15.0, 15.0, 15.0, 15.0, 15.0, 15.0, 15.0, 15.0, 16.0, 16.0, 16.0, 16.0, 16.0, 16.0, 16.0, 16.0, 16.0, 16.0, 16.0, 16.0, 16.0, 16.0, 16.0, 16.0, 16.0, 16.0, 16.0, 16.0, 17.0, 17.0, 17.0, 17.0, 17.0, 17.0, 17.0, 17.0, 17.0, 17.0, 17.0, 17.0, 17.0, 17.0, 17.0, 17.0, 17.0, 17.0, 17.0, 17.0, 18.0, 18.0, 18.0, 18.0, 18.0, 18.0, 18.0, 18.0, 18.0, 18.0, 18.0, 18.0, 18.0, 18.0, 18.0, 18.0, 18.0, 18.0, 18.0, 18.0, 19.0, 19.0, 19.0, 19.0, 19.0, 19.0, 19.0, 19.0, 19.0, 19.0, 19.0, 19.0, 19.0, 19.0, 19.0, 19.0, 19.0, 19.0, 19.0, 19.0, 20.0, 20.0, 20.0, 20.0, 20.0, 20.0, 20.0, 20.0, 20.0, 20.0, 20.0, 20.0, 20.0, 20.0, 20.0, 20.0, 20.0, 20.0, 20.0, 20.0, 21.0, 21.0, 21.0, 21.0, 21.0, 21.0, 21.0, 21.0, 21.0, 21.0, 21.0, 21.0, 21.0, 21.0, 21.0, 21.0, 21.0, 21.0, 21.0, 21.0, 22.0, 22.0, 22.0, 22.0, 22.0, 22.0, 22.0, 22.0, 22.0, 22.0, 22.0, 22.0, 22.0, 22.0, 22.0, 22.0, 22.0, 22.0, 22.0, 22.0, 23.0, 23.0, 23.0, 23.0, 23.0, 23.0, 23.0, 23.0, 23.0, 23.0, 23.0, 23.0, 23.0, 23.0, 23.0, 23.0, 23.0, 23.0, 23.0, 23.0, 24.0, 24.0, 24.0, 24.0, 24.0, 24.0, 24.0, 24.0, 24.0, 24.0, 24.0, 24.0, 24.0, 24.0, 24.0, 24.0, 24.0, 24.0, 24.0, 24.0, 25.0, 25.0, 25.0, 25.0, 25.0, 25.0, 25.0, 25.0, 25.0, 25.0, 25.0, 25.0, 25.0, 25.0, 25.0, 25.0, 25.0, 25.0, 25.0, 25.0, 26.0, 26.0, 26.0, 26.0, 26.0, 26.0, 26.0, 26.0, 26.0, 26.0, 26.0, 26.0, 26.0, 26.0, 26.0, 26.0, 26.0, 26.0, 26.0, 26.0, 27.0, 27.0, 27.0, 27.0, 27.0, 27.0, 27.0, 27.0, 27.0, 27.0, 27.0, 27.0, 27.0, 27.0, 27.0, 27.0, 27.0, 27.0, 27.0, 27.0, 28.0, 28.0, 28.0, 28.0, 28.0, 28.0, 28.0, 28.0, 28.0, 28.0, 28.0, 28.0, 28.0, 28.0, 28.0, 28.0, 28.0, 28.0, 28.0, 28.0, 29.0, 29.0, 29.0, 29.0, 29.0, 29.0, 29.0, 29.0, 29.0, 29.0, 29.0, 29.0, 29.0, 29.0, 29.0, 29.0, 29.0, 29.0, 29.0, 29.0, 30.0, 30.0, 30.0, 30.0, 30.0, 30.0, 30.0, 30.0, 30.0, 30.0, 30.0, 30.0, 30.0, 30.0, 30.0, 30.0, 30.0, 30.0, 30.0, 30.0], \"legendgroup\": \"\", \"marker\": {\"color\": [0, 0, 0, 0, 0, 0, 0, 0, 0, 0, 0, 0, 0, 0, 0, 0, 0, 0, 0, 0, 0, 0, 1, 0, 0, 0, 0, 0, 0, 1, 0, 0, 0, 0, 0, 1, 0, 0, 0, 0, 0, 0, 0, 0, 0, 0, 0, 0, 0, 0, 0, 0, 0, 0, 0, 0, 0, 0, 0, 0, 0, 0, 0, 0, 0, 0, 0, 0, 0, 0, 0, 0, 0, 0, 0, 0, 0, 0, 0, 0, 0, 0, 0, 0, 0, 0, 0, 0, 0, 0, 0, 0, 0, 0, 0, 0, 0, 0, 0, 0, 0, 0, 0, 0, 0, 0, 0, 0, 0, 0, 0, 0, 0, 0, 0, 0, 0, 0, 0, 0, 0, 0, 0, 0, 0, 0, 0, 0, 0, 0, 0, 0, 0, 0, 0, 0, 0, 0, 0, 0, 0, 0, 0, 0, 0, 0, 0, 0, 0, 0, 0, 1, 0, 0, 0, 0, 0, 0, 0, 0, 0, 0, 0, 0, 0, 0, 0, 0, 0, 0, 0, 0, 0, 0, 0, 0, 0, 0, 0, 0, 0, 0, 0, 0, 0, 0, 0, 0, 0, 0, 0, 0, 0, 0, 0, 0, 0, 0, 0, 0, 0, 0, 0, 0, 0, 0, 0, 0, 0, 0, 0, 0, 0, 0, 0, 0, 0, 0, 0, 0, 0, 0, 0, 0, 0, 0, 0, 0, 0, 0, 0, 0, 0, 0, 0, 0, 0, 0, 0, 0, 0, 0, 0, 0, 0, 0, 0, 0, 0, 1, 0, 0, 0, 0, 0, 0, 0, 0, 0, 0, 0, 0, 0, 0, 0, 0, 0, 0, 0, 0, 0, 0, 0, 0, 0, 0, 0, 0, 0, 0, 0, 0, 0, 0, 0, 0, 0, 0, 0, 0, 0, 0, 0, 0, 0, 0, 0, 0, 0, 0, 0, 0, 0, 0, 0, 0, 1, 0, 0, 0, 0, 0, 0, 0, 0, 0, 0, 0, 0, 0, 0, 0, 0, 0, 0, 0, 0, 0, 0, 0, 0, 0, 0, 0, 0, 0, 0, 0, 0, 0, 0, 0, 0, 0, 0, 0, 0, 0, 0, 0, 0, 0, 0, 0, 0, 0, 0, 1, 0, 0, 0, 0, 0, 0, 0, 0, 0, 0, 0, 0, 0, 0, 0, 0, 0, 0, 0, 0, 0, 0, 0, 0, 0, 0, 0, 0, 0, 0, 0, 0, 0, 0, 0, 0, 0, 0, 0, 0, 0, 0, 0, 0, 0, 0, 0, 0, 0, 0, 0, 0, 0, 0, 0, 0, 0, 0, 0, 0, 0, 0, 0, 0, 0, 0, 0, 0, 0, 0, 0, 0, 0, 0, 0, 0, 0, 0, 0, 0, 0, 0, 0, 0, 0, 0, 0, 0, 0, 0, 0, 0, 0, 0, 0, 0, 0, 0, 0, 0, 0, 0, 0, 0, 0, 0, 0, 0, 0, 0, 0, 0, 0, 0, 0, 0, 0, 0, 0, 0, 0, 0, 0, 0, 0, 0, 0, 0, 0, 0, 0, 0, 0, 0, 0, 0, 0, 0, 0, 0, 0, 0, 0, 0, 0, 0, 0, 0, 0, 0, 0, 0, 0, 0, 0, 0, 0, 0, 0, 0, 0, 0, 0, 0, 0, 0, 0, 0, 0, 0, 0, 0, 0, 0, 0, 0, 1, 0, 0, 0, 0, 0, 0, 0, 0, 0, 0, 0, 0, 0, 0, 0, 0, 0, 0, 0, 0, 0, 0, 0, 0, 0, 0, 0, 0, 0, 0, 0, 0, 0, 0, 0, 0, 0, 0, 0, 0, 0, 0, 0, 0, 0, 0, 0, 0, 0, 0, 0, 0, 0, 0, 0, 0, 0, 0, 0, 0, 0, 0, 0, 0, 0, 0, 0, 0, 0, 0, 0, 0, 0, 0, 0, 0, 0, 0, 0, 0, 0, 0, 0, 0, 0], \"coloraxis\": \"coloraxis\", \"symbol\": \"circle\"}, \"mode\": \"markers\", \"name\": \"\", \"showlegend\": false, \"type\": \"scatter\", \"x\": [1815276672.0, 1849373568.0, 2053121792.0, 1682072832.0, 1880564352.0, 1776457984.0, 1532268160.0, 1996336640.0, 1574248832.0, 1886055552.0, 1949635712.0, 1437476608.0, 1736550656.0, 1612617728.0, 1515540864.0, 1665579520.0, 1762337408.0, 1863580544.0, 2075532544.0, 1465612032.0, 1700808576.0, 1531605504.0, 1586511488.0, 1657888384.0, 1928441088.0, 1628342144.0, 1960487552.0, 1917632128.0, 1555064064.0, 1334138496.0, 1790602624.0, 1818908160.0, 1645326208.0, 1624690304.0, 2025882752.0, 2074186112.0, 1733858048.0, 2079847936.0, 1784320384.0, 1450208640.0, 1789748608.0, 2043656960.0, 2135522048.0, 1708649216.0, 1511566080.0, 2140969728.0, 1810703872.0, 1528358272.0, 2093520512.0, 2008920576.0, 1946194048.0, 1930918784.0, 2131228288.0, 1943054208.0, 1757422336.0, 1997277184.0, 2054082688.0, 1798399872.0, 1428097152.0, 1460271360.0, 1817732992.0, 1598176768.0, 1541091072.0, 1940939520.0, 1894900096.0, 1888833152.0, 1705892608.0, 1589908224.0, 1772656896.0, 1586810496.0, 1964803328.0, 1754410624.0, 2027762560.0, 1656884224.0, 1758192384.0, 1708371840.0, 2016033536.0, 1832517760.0, 1338902528.0, 1899684352.0, 1560126464.0, 1469500160.0, 1810875648.0, 1783485952.0, 1901458688.0, 1931881344.0, 2170559488.0, 1655943424.0, 1575935872.0, 1764130560.0, 1617424896.0, 1983923456.0, 1673526144.0, 1732405120.0, 2078608896.0, 1355844096.0, 1536883072.0, 2002125952.0, 1693459072.0, 1473965696.0, 2111574144.0, 1679294976.0, 1988773376.0, 1726038528.0, 1909341184.0, 1768212992.0, 1503618560.0, 1604606080.0, 1705273984.0, 1515540096.0, 1870801920.0, 1794531712.0, 1555960704.0, 1672586624.0, 2081065472.0, 1740310016.0, 1687968896.0, 1974288000.0, 1766737920.0, 1815319040.0, 1734606336.0, 1864307072.0, 1667802624.0, 1928506112.0, 1950638976.0, 1485823104.0, 1784170880.0, 1893576448.0, 1610055040.0, 1745331712.0, 2014110848.0, 1682649856.0, 1670962560.0, 1612532992.0, 1605909376.0, 1694740608.0, 1683761024.0, 2013235072.0, 2074933760.0, 1773360896.0, 2163403264.0, 2242683904.0, 1952475008.0, 1640070784.0, 1859627392.0, 1851232256.0, 2001014784.0, 1541197696.0, 1902505984.0, 1836085120.0, 1677052288.0, 1620500736.0, 1722194176.0, 1918805504.0, 1603560576.0, 1797202048.0, 1544830080.0, 1869263232.0, 1903702528.0, 1387291904.0, 2056369792.0, 1770690944.0, 1990034432.0, 2014067968.0, 2157334784.0, 2132723200.0, 1735803008.0, 1950509440.0, 1585912704.0, 1613046400.0, 1533593344.0, 1666903040.0, 1795557632.0, 1552948352.0, 1636759168.0, 1409404032.0, 2051519104.0, 1646800768.0, 1874947072.0, 1814551552.0, 1709333376.0, 1594543872.0, 1722706432.0, 1457622016.0, 2035410688.0, 1609050880.0, 1913250688.0, 1589843712.0, 1822775552.0, 1852792192.0, 2194615040.0, 1421175168.0, 2131163648.0, 1662205184.0, 1682713600.0, 1604072576.0, 1704889344.0, 1866998784.0, 1976596352.0, 1492146304.0, 1782696704.0, 1901822080.0, 1767678720.0, 1855868288.0, 1503276928.0, 1637656576.0, 1571321216.0, 2039725184.0, 1688056064.0, 2275242752.0, 1866378496.0, 1582259968.0, 1995438976.0, 1404041344.0, 2083415296.0, 1710144640.0, 1887017216.0, 1943118080.0, 2030325888.0, 1968498432.0, 1371546880.0, 1926433024.0, 1450486912.0, 1713797120.0, 2298935552.0, 1401050496.0, 1782183296.0, 1741570688.0, 1800044032.0, 1852151296.0, 1981295744.0, 1508019712.0, 1625372032.0, 1922138496.0, 1940876288.0, 1984628480.0, 1807735296.0, 2346406144.0, 1865012480.0, 2000181504.0, 1954975488.0, 1979416448.0, 2007274112.0, 1805044480.0, 1405344896.0, 1723860224.0, 2019515648.0, 1495394048.0, 1788935168.0, 1242401536.0, 2001975936.0, 1450614784.0, 1507976960.0, 1966576384.0, 1554828288.0, 1754091776.0, 2011119616.0, 1826834816.0, 1806923648.0, 1995246720.0, 1819164032.0, 1441107712.0, 1905881216.0, 1903188736.0, 1814272512.0, 1822839936.0, 1434143232.0, 1532909440.0, 1822006656.0, 1761076480.0, 1625905792.0, 1573479680.0, 1864179712.0, 1890007936.0, 1921905664.0, 1709311744.0, 1491505408.0, 1574653824.0, 1462706816.0, 1913700096.0, 1774364928.0, 1847344000.0, 1381887360.0, 1805193600.0, 1942904448.0, 1959355648.0, 1763511936.0, 1890221440.0, 1716384256.0, 1755756672.0, 1916328704.0, 1942819712.0, 1963947520.0, 1583349376.0, 1792353664.0, 1657076096.0, 1697090944.0, 1681196032.0, 1833628672.0, 1872297984.0, 1857106560.0, 1604242816.0, 1711981568.0, 1554422016.0, 1659468416.0, 1707709440.0, 1297029248.0, 1856338432.0, 1959653632.0, 1879902208.0, 1991486720.0, 1572134400.0, 1591296256.0, 1459673216.0, 1627658368.0, 1945064064.0, 1985290880.0, 1966083712.0, 1866699520.0, 1642334848.0, 1841724672.0, 1630756224.0, 2014752384.0, 1713884160.0, 2085082496.0, 1952945920.0, 1571962112.0, 1429016064.0, 1626718464.0, 1481207808.0, 1636695296.0, 1980912128.0, 1675001984.0, 1523081600.0, 2130373248.0, 1933013632.0, 1911734528.0, 1958607232.0, 1394598400.0, 1851338880.0, 1488343936.0, 1496270336.0, 1666156032.0, 1704076800.0, 1801475968.0, 1913294848.0, 1460100224.0, 1838158208.0, 1908958208.0, 2041371648.0, 1633511552.0, 1609626496.0, 1485544832.0, 1721980800.0, 1664980864.0, 1643319040.0, 1682392064.0, 1336146560.0, 1738580608.0, 1637228672.0, 1931090816.0, 2012209408.0, 1706832384.0, 1707196544.0, 1772163456.0, 1655218432.0, 1849202944.0, 1947861632.0, 1623171712.0, 1710806144.0, 1973305984.0, 1830638336.0, 1649705344.0, 1459715584.0, 1547500416.0, 1867533440.0, 2023938048.0, 2082411776.0, 1774108160.0, 1508917120.0, 1779579520.0, 1900881664.0, 1838049792.0, 1920621312.0, 1920066816.0, 1625970304.0, 1905025664.0, 1818588160.0, 1737576832.0, 1876634240.0, 1630264832.0, 1866785920.0, 1961704448.0, 1781522560.0, 1770476288.0, 1531007616.0, 1677970048.0, 1505136384.0, 1668185088.0, 1494624384.0, 2001271168.0, 1576747776.0, 1912932736.0, 1527952256.0, 2138748544.0, 1893724032.0, 1740310912.0, 1749155200.0, 1741678080.0, 2198866688.0, 1663549824.0, 1804658816.0, 1627721984.0, 1594543872.0, 1853155712.0, 1587557504.0, 1585550208.0, 1623748224.0, 1915216768.0, 1344692480.0, 2063889408.0, 1674060800.0, 1808952832.0, 1537672960.0, 1631781248.0, 1898510464.0, 1663442048.0, 2017957120.0, 2041349888.0, 1478110464.0, 1738260224.0, 1654000000.0, 1618172160.0, 2103903616.0, 1566813056.0, 1509707904.0, 1777184896.0, 2024729344.0, 1589694976.0, 1595378048.0, 1709140224.0, 1827346432.0, 2023104896.0, 1790301696.0, 1651757184.0, 1600718208.0, 1584545152.0, 1952283264.0, 1933227776.0, 1913956864.0, 1875394048.0, 1937521408.0, 1875287168.0, 1485118208.0, 2033765632.0, 1626312064.0, 1615375104.0, 1596019200.0, 1725697408.0, 1562348160.0, 1593390592.0, 1674915584.0, 1552863360.0, 1685447552.0, 1651736064.0, 1364197504.0, 1795558016.0, 1438651264.0, 1598517248.0, 1596231424.0, 1796540672.0, 1402631424.0, 1343196800.0, 1593091328.0, 1672053504.0, 1899984768.0, 1803953920.0, 1783572224.0, 1514258688.0, 1969588224.0, 1803012736.0, 2005437440.0, 1869220480.0, 1798056704.0, 1658977664.0, 1981722752.0, 2150092800.0, 2167653376.0, 1513874048.0, 1969652864.0, 1878045184.0, 1788743040.0, 2013876224.0, 1597791104.0, 2097707776.0, 1990097664.0, 1545043712.0, 1911052032.0, 1631460992.0, 1875543936.0, 1365052160.0, 1415919488.0, 1675278208.0, 1670642048.0, 1748557824.0, 1980377728.0, 1729585920.0, 1465868928.0, 1785815680.0, 1984607232.0, 2072948608.0, 2178549248.0, 1589118080.0, 1466787072.0, 2023553536.0, 1924788480.0, 1833457280.0, 1861572608.0, 2140863232.0, 1907162752.0, 1966000128.0, 1603687424.0, 1588391424.0, 1741356416.0, 1925899904.0, 2113623936.0, 1751291776.0, 1808780928.0, 1863751296.0, 1879753472.0, 1663443072.0, 1902292480.0, 2214697216.0, 1804978176.0, 1928996736.0, 1770689536.0, 1960764928.0, 2027484672.0, 1654085760.0, 1760029568.0, 1459950720.0, 1672544128.0, 1720164352.0, 1794125952.0, 1932222336.0, 1883534720.0, 1564121600.0, 1700893184.0, 2057693824.0, 1856615808.0, 1892935552.0, 1842452736.0, 1794426368.0, 1377913088.0, 2083501568.0, 2098519680.0, 1511395072.0, 2027121664.0, 2033809408.0, 1738857856.0, 1589736704.0, 1419273728.0, 1839139712.0, 1477533568.0, 1600868096.0, 1756653056.0, 1852642176.0, 1653444096.0, 1683525504.0, 2269986816.0, 1971532672.0, 1718390400.0, 1968861312.0, 1642185472.0, 1705743616.0, 1652014208.0, 2074720640.0, 1606978304.0, 1693052672.0, 1570830592.0, 1942669696.0, 1938760960.0, 1563993472.0, 1836533504.0, 1489796352.0, 1601700480.0, 1791669504.0, 1927181440.0, 1835998720.0, 1632122624.0, 1815895936.0, 1760563840.0, 2009218688.0, 1453670016.0, 1826428672.0, 1451597568.0, 1886247936.0, 1754582400.0, 1816899200.0, 1716126208.0, 1709096960.0, 1783594240.0, 1564784256.0, 1806966912.0, 1758533632.0, 1549209472.0, 2233134080.0, 1782440064.0, 1460271488.0, 1870993024.0, 1533079936.0, 1989755648.0, 1509002368.0, 1736978304.0, 1599372288.0, 1299016192.0, 1904920064.0, 1732148352.0, 1766246272.0, 1571749504.0], \"xaxis\": \"x\", \"y\": [83.05, 84.98, 83.4, 82.85, 81.96, 80.61, 76.12, 83.89, 84.76, 83.41, 83.12, 83.58, 81.84, 81.94, 82.32, 84.66, 72.42, 79.85, 80.68, 80.8, 77.67, 81.88, 71.05, 84.22, 75.09, 82.4, 76.56, 85.05, 77.39, 74.31, 83.2, 83.79, 75.13, 78.04, 73.06, 66.58, 81.2, 85.26, 81.43, 78.62, 81.65, 74.64, 78.09, 81.18, 78.87, 78.26, 81.77, 84.46, 82.32, 80.15, 76.74, 78.05, 75.53, 79.26, 80.76, 81.82, 71.71, 80.87, 83.81, 80.62, 77.44, 77.1, 81.76, 83.51, 83.31, 80.02, 75.61, 80.51, 84.88, 80.08, 75.63, 77.94, 81.25, 84.48, 79.68, 82.49, 79.75, 74.57, 81.24, 78.73, 75.38, 84.03, 72.72, 82.26, 82.3, 80.66, 85.1, 78.17, 81.61, 78.41, 77.72, 79.52, 83.79, 79.04, 79.2, 80.64, 76.36, 83.72, 79.78, 83.07, 82.69, 79.97, 80.22, 78.2, 81.71, 78.47, 82.91, 76.83, 79.76, 78.47, 80.7, 83.12, 81.89, 83.62, 76.17, 82.74, 82.13, 80.94, 84.23, 83.08, 81.31, 81.55, 80.67, 80.61, 78.8, 81.57, 79.03, 83.93, 77.8, 79.28, 78.63, 81.82, 79.12, 78.58, 84.33, 81.36, 77.08, 82.92, 81.62, 84.86, 82.53, 83.29, 75.71, 74.99, 85.04, 80.29, 82.89, 77.97, 73.89, 81.24, 82.76, 70.35, 83.64, 72.1, 79.91, 84.31, 79.53, 71.73, 77.28, 85.01, 78.07, 75.3, 84.22, 80.72, 79.65, 81.06, 74.48, 76.65, 81.08, 80.87, 74.91, 84.71, 82.23, 83.42, 77.56, 82.16, 80.27, 82.56, 84.4, 82.81, 78.78, 75.48, 75.81, 78.73, 73.93, 84.17, 80.1, 79.83, 77.98, 82.32, 82.54, 75.41, 71.98, 83.93, 82.07, 75.07, 77.33, 73.64, 85.76, 83.25, 85.51, 80.8, 82.7, 78.12, 82.56, 80.94, 82.23, 81.13, 83.62, 78.43, 73.55, 83.32, 80.8, 80.25, 79.44, 80.85, 82.08, 81.56, 77.47, 80.87, 77.01, 73.57, 79.85, 82.27, 81.71, 77.41, 81.69, 71.69, 85.18, 85.85, 81.44, 83.17, 81.15, 79.35, 79.47, 76.02, 81.16, 81.87, 82.91, 79.24, 76.03, 80.98, 83.7, 80.98, 73.29, 81.24, 82.0, 80.32, 84.39, 82.12, 78.53, 78.28, 75.45, 78.97, 83.06, 80.32, 75.29, 83.21, 82.71, 76.01, 80.44, 77.63, 76.19, 82.63, 81.79, 77.91, 79.4, 80.57, 81.94, 79.81, 78.78, 83.8, 81.35, 83.91, 77.58, 84.68, 82.96, 76.32, 68.51, 77.74, 80.61, 78.01, 81.7, 75.91, 85.29, 78.23, 80.84, 75.07, 75.03, 83.47, 81.27, 73.41, 84.1, 79.03, 81.95, 82.07, 80.9, 78.66, 81.28, 80.42, 83.93, 83.68, 80.45, 74.3, 75.42, 77.96, 75.86, 81.07, 79.5, 81.06, 76.8, 81.28, 71.64, 77.25, 79.53, 81.36, 83.08, 77.7, 78.36, 80.49, 78.4, 79.36, 80.93, 82.92, 84.72, 83.3, 70.83, 81.98, 83.18, 80.34, 82.81, 79.83, 82.33, 81.63, 76.82, 80.12, 83.2, 70.11, 79.48, 79.06, 83.62, 83.15, 83.83, 75.02, 80.89, 76.6, 82.48, 78.08, 79.6, 82.84, 78.12, 82.58, 81.62, 81.03, 83.12, 79.99, 73.97, 67.1, 78.66, 67.52, 77.96, 75.89, 79.35, 83.12, 84.1, 80.44, 75.8, 84.06, 79.73, 81.57, 83.52, 82.1, 81.32, 79.76, 78.36, 76.05, 80.82, 80.21, 81.7, 81.0, 83.16, 80.19, 81.31, 83.91, 81.77, 77.44, 83.01, 76.73, 82.86, 82.23, 78.7, 80.98, 76.7, 83.68, 83.51, 85.25, 78.81, 81.57, 79.04, 82.21, 68.43, 78.6, 79.33, 82.68, 83.9, 75.51, 76.69, 82.12, 79.36, 80.97, 82.62, 80.7, 82.29, 75.54, 84.02, 79.45, 82.32, 82.99, 67.37, 80.35, 82.79, 71.32, 74.94, 79.0, 80.6, 76.64, 80.78, 76.88, 78.9, 78.09, 84.17, 82.15, 77.77, 73.86, 76.81, 82.29, 76.79, 84.12, 72.89, 85.08, 78.63, 82.9, 78.7, 81.02, 82.99, 81.96, 76.33, 77.73, 83.66, 82.69, 81.36, 82.63, 78.95, 79.61, 80.74, 76.02, 83.04, 78.89, 81.51, 83.0, 84.01, 83.27, 75.36, 80.21, 77.05, 78.08, 71.5, 80.95, 79.36, 80.84, 82.67, 82.2, 79.94, 85.65, 77.2, 78.98, 80.94, 76.98, 71.76, 80.49, 81.91, 76.16, 79.45, 78.12, 83.34, 85.71, 83.71, 75.91, 82.75, 74.39, 70.95, 75.37, 82.84, 73.56, 78.31, 82.2, 69.32, 80.9, 81.13, 78.08, 83.22, 72.97, 77.41, 81.39, 73.13, 75.23, 84.1, 78.66, 75.6, 78.7, 83.56, 74.3, 78.15, 81.5, 79.15, 86.07, 77.21, 77.7, 78.89, 75.69, 83.9, 81.52, 81.02, 85.19, 82.23, 76.1, 79.42, 76.67, 80.95, 77.06, 81.7, 82.58, 80.33, 82.39, 65.69, 75.33, 77.44, 80.27, 84.92, 79.85, 82.16, 85.03, 79.81, 81.3, 78.29, 78.58, 85.47, 75.72, 79.28, 79.46, 79.07, 77.13, 81.2, 79.6, 78.08, 83.97, 79.91, 78.89, 85.91, 75.91, 81.43, 80.1, 82.43, 83.12, 83.72, 77.58, 83.46, 78.55, 82.65, 81.6, 83.66, 72.11, 82.71, 72.33, 82.08, 80.29, 83.2, 77.25, 82.89, 77.24, 81.34, 81.44, 83.81, 78.97, 79.29, 78.97, 78.71, 69.41, 78.64, 78.95, 80.76, 75.23, 81.39, 84.09, 80.18, 84.17, 80.62, 79.26, 78.32, 68.64, 79.66, 76.14, 78.57, 78.09, 82.67, 78.26, 81.52, 78.52, 81.82, 84.97, 83.4, 76.14, 74.29, 75.67, 84.66, 81.95, 72.11, 79.22, 82.51, 82.45], \"yaxis\": \"y\"}],\n",
       "                        {\"coloraxis\": {\"colorbar\": {\"title\": {\"text\": \"pareto\"}}, \"colorscale\": [[0.0, \"rgb(0,0,255)\"], [1.0, \"rgb(255,0,0)\"]]}, \"height\": 600, \"legend\": {\"tracegroupgap\": 0}, \"margin\": {\"t\": 60}, \"template\": {\"data\": {\"bar\": [{\"error_x\": {\"color\": \"#2a3f5f\"}, \"error_y\": {\"color\": \"#2a3f5f\"}, \"marker\": {\"line\": {\"color\": \"#E5ECF6\", \"width\": 0.5}}, \"type\": \"bar\"}], \"barpolar\": [{\"marker\": {\"line\": {\"color\": \"#E5ECF6\", \"width\": 0.5}}, \"type\": \"barpolar\"}], \"carpet\": [{\"aaxis\": {\"endlinecolor\": \"#2a3f5f\", \"gridcolor\": \"white\", \"linecolor\": \"white\", \"minorgridcolor\": \"white\", \"startlinecolor\": \"#2a3f5f\"}, \"baxis\": {\"endlinecolor\": \"#2a3f5f\", \"gridcolor\": \"white\", \"linecolor\": \"white\", \"minorgridcolor\": \"white\", \"startlinecolor\": \"#2a3f5f\"}, \"type\": \"carpet\"}], \"choropleth\": [{\"colorbar\": {\"outlinewidth\": 0, \"ticks\": \"\"}, \"type\": \"choropleth\"}], \"contour\": [{\"colorbar\": {\"outlinewidth\": 0, \"ticks\": \"\"}, \"colorscale\": [[0.0, \"#0d0887\"], [0.1111111111111111, \"#46039f\"], [0.2222222222222222, \"#7201a8\"], [0.3333333333333333, \"#9c179e\"], [0.4444444444444444, \"#bd3786\"], [0.5555555555555556, \"#d8576b\"], [0.6666666666666666, \"#ed7953\"], [0.7777777777777778, \"#fb9f3a\"], [0.8888888888888888, \"#fdca26\"], [1.0, \"#f0f921\"]], \"type\": \"contour\"}], \"contourcarpet\": [{\"colorbar\": {\"outlinewidth\": 0, \"ticks\": \"\"}, \"type\": \"contourcarpet\"}], \"heatmap\": [{\"colorbar\": {\"outlinewidth\": 0, \"ticks\": \"\"}, \"colorscale\": [[0.0, \"#0d0887\"], [0.1111111111111111, \"#46039f\"], [0.2222222222222222, \"#7201a8\"], [0.3333333333333333, \"#9c179e\"], [0.4444444444444444, \"#bd3786\"], [0.5555555555555556, \"#d8576b\"], [0.6666666666666666, \"#ed7953\"], [0.7777777777777778, \"#fb9f3a\"], [0.8888888888888888, \"#fdca26\"], [1.0, \"#f0f921\"]], \"type\": \"heatmap\"}], \"heatmapgl\": [{\"colorbar\": {\"outlinewidth\": 0, \"ticks\": \"\"}, \"colorscale\": [[0.0, \"#0d0887\"], [0.1111111111111111, \"#46039f\"], [0.2222222222222222, \"#7201a8\"], [0.3333333333333333, \"#9c179e\"], [0.4444444444444444, \"#bd3786\"], [0.5555555555555556, \"#d8576b\"], [0.6666666666666666, \"#ed7953\"], [0.7777777777777778, \"#fb9f3a\"], [0.8888888888888888, \"#fdca26\"], [1.0, \"#f0f921\"]], \"type\": \"heatmapgl\"}], \"histogram\": [{\"marker\": {\"colorbar\": {\"outlinewidth\": 0, \"ticks\": \"\"}}, \"type\": \"histogram\"}], \"histogram2d\": [{\"colorbar\": {\"outlinewidth\": 0, \"ticks\": \"\"}, \"colorscale\": [[0.0, \"#0d0887\"], [0.1111111111111111, \"#46039f\"], [0.2222222222222222, \"#7201a8\"], [0.3333333333333333, \"#9c179e\"], [0.4444444444444444, \"#bd3786\"], [0.5555555555555556, \"#d8576b\"], [0.6666666666666666, \"#ed7953\"], [0.7777777777777778, \"#fb9f3a\"], [0.8888888888888888, \"#fdca26\"], [1.0, \"#f0f921\"]], \"type\": \"histogram2d\"}], \"histogram2dcontour\": [{\"colorbar\": {\"outlinewidth\": 0, \"ticks\": \"\"}, \"colorscale\": [[0.0, \"#0d0887\"], [0.1111111111111111, \"#46039f\"], [0.2222222222222222, \"#7201a8\"], [0.3333333333333333, \"#9c179e\"], [0.4444444444444444, \"#bd3786\"], [0.5555555555555556, \"#d8576b\"], [0.6666666666666666, \"#ed7953\"], [0.7777777777777778, \"#fb9f3a\"], [0.8888888888888888, \"#fdca26\"], [1.0, \"#f0f921\"]], \"type\": \"histogram2dcontour\"}], \"mesh3d\": [{\"colorbar\": {\"outlinewidth\": 0, \"ticks\": \"\"}, \"type\": \"mesh3d\"}], \"parcoords\": [{\"line\": {\"colorbar\": {\"outlinewidth\": 0, \"ticks\": \"\"}}, \"type\": \"parcoords\"}], \"pie\": [{\"automargin\": true, \"type\": \"pie\"}], \"scatter\": [{\"marker\": {\"colorbar\": {\"outlinewidth\": 0, \"ticks\": \"\"}}, \"type\": \"scatter\"}], \"scatter3d\": [{\"line\": {\"colorbar\": {\"outlinewidth\": 0, \"ticks\": \"\"}}, \"marker\": {\"colorbar\": {\"outlinewidth\": 0, \"ticks\": \"\"}}, \"type\": \"scatter3d\"}], \"scattercarpet\": [{\"marker\": {\"colorbar\": {\"outlinewidth\": 0, \"ticks\": \"\"}}, \"type\": \"scattercarpet\"}], \"scattergeo\": [{\"marker\": {\"colorbar\": {\"outlinewidth\": 0, \"ticks\": \"\"}}, \"type\": \"scattergeo\"}], \"scattergl\": [{\"marker\": {\"colorbar\": {\"outlinewidth\": 0, \"ticks\": \"\"}}, \"type\": \"scattergl\"}], \"scattermapbox\": [{\"marker\": {\"colorbar\": {\"outlinewidth\": 0, \"ticks\": \"\"}}, \"type\": \"scattermapbox\"}], \"scatterpolar\": [{\"marker\": {\"colorbar\": {\"outlinewidth\": 0, \"ticks\": \"\"}}, \"type\": \"scatterpolar\"}], \"scatterpolargl\": [{\"marker\": {\"colorbar\": {\"outlinewidth\": 0, \"ticks\": \"\"}}, \"type\": \"scatterpolargl\"}], \"scatterternary\": [{\"marker\": {\"colorbar\": {\"outlinewidth\": 0, \"ticks\": \"\"}}, \"type\": \"scatterternary\"}], \"surface\": [{\"colorbar\": {\"outlinewidth\": 0, \"ticks\": \"\"}, \"colorscale\": [[0.0, \"#0d0887\"], [0.1111111111111111, \"#46039f\"], [0.2222222222222222, \"#7201a8\"], [0.3333333333333333, \"#9c179e\"], [0.4444444444444444, \"#bd3786\"], [0.5555555555555556, \"#d8576b\"], [0.6666666666666666, \"#ed7953\"], [0.7777777777777778, \"#fb9f3a\"], [0.8888888888888888, \"#fdca26\"], [1.0, \"#f0f921\"]], \"type\": \"surface\"}], \"table\": [{\"cells\": {\"fill\": {\"color\": \"#EBF0F8\"}, \"line\": {\"color\": \"white\"}}, \"header\": {\"fill\": {\"color\": \"#C8D4E3\"}, \"line\": {\"color\": \"white\"}}, \"type\": \"table\"}]}, \"layout\": {\"annotationdefaults\": {\"arrowcolor\": \"#2a3f5f\", \"arrowhead\": 0, \"arrowwidth\": 1}, \"coloraxis\": {\"colorbar\": {\"outlinewidth\": 0, \"ticks\": \"\"}}, \"colorscale\": {\"diverging\": [[0, \"#8e0152\"], [0.1, \"#c51b7d\"], [0.2, \"#de77ae\"], [0.3, \"#f1b6da\"], [0.4, \"#fde0ef\"], [0.5, \"#f7f7f7\"], [0.6, \"#e6f5d0\"], [0.7, \"#b8e186\"], [0.8, \"#7fbc41\"], [0.9, \"#4d9221\"], [1, \"#276419\"]], \"sequential\": [[0.0, \"#0d0887\"], [0.1111111111111111, \"#46039f\"], [0.2222222222222222, \"#7201a8\"], [0.3333333333333333, \"#9c179e\"], [0.4444444444444444, \"#bd3786\"], [0.5555555555555556, \"#d8576b\"], [0.6666666666666666, \"#ed7953\"], [0.7777777777777778, \"#fb9f3a\"], [0.8888888888888888, \"#fdca26\"], [1.0, \"#f0f921\"]], \"sequentialminus\": [[0.0, \"#0d0887\"], [0.1111111111111111, \"#46039f\"], [0.2222222222222222, \"#7201a8\"], [0.3333333333333333, \"#9c179e\"], [0.4444444444444444, \"#bd3786\"], [0.5555555555555556, \"#d8576b\"], [0.6666666666666666, \"#ed7953\"], [0.7777777777777778, \"#fb9f3a\"], [0.8888888888888888, \"#fdca26\"], [1.0, \"#f0f921\"]]}, \"colorway\": [\"#636efa\", \"#EF553B\", \"#00cc96\", \"#ab63fa\", \"#FFA15A\", \"#19d3f3\", \"#FF6692\", \"#B6E880\", \"#FF97FF\", \"#FECB52\"], \"font\": {\"color\": \"#2a3f5f\"}, \"geo\": {\"bgcolor\": \"white\", \"lakecolor\": \"white\", \"landcolor\": \"#E5ECF6\", \"showlakes\": true, \"showland\": true, \"subunitcolor\": \"white\"}, \"hoverlabel\": {\"align\": \"left\"}, \"hovermode\": \"closest\", \"mapbox\": {\"style\": \"light\"}, \"paper_bgcolor\": \"white\", \"plot_bgcolor\": \"#E5ECF6\", \"polar\": {\"angularaxis\": {\"gridcolor\": \"white\", \"linecolor\": \"white\", \"ticks\": \"\"}, \"bgcolor\": \"#E5ECF6\", \"radialaxis\": {\"gridcolor\": \"white\", \"linecolor\": \"white\", \"ticks\": \"\"}}, \"scene\": {\"xaxis\": {\"backgroundcolor\": \"#E5ECF6\", \"gridcolor\": \"white\", \"gridwidth\": 2, \"linecolor\": \"white\", \"showbackground\": true, \"ticks\": \"\", \"zerolinecolor\": \"white\"}, \"yaxis\": {\"backgroundcolor\": \"#E5ECF6\", \"gridcolor\": \"white\", \"gridwidth\": 2, \"linecolor\": \"white\", \"showbackground\": true, \"ticks\": \"\", \"zerolinecolor\": \"white\"}, \"zaxis\": {\"backgroundcolor\": \"#E5ECF6\", \"gridcolor\": \"white\", \"gridwidth\": 2, \"linecolor\": \"white\", \"showbackground\": true, \"ticks\": \"\", \"zerolinecolor\": \"white\"}}, \"shapedefaults\": {\"line\": {\"color\": \"#2a3f5f\"}}, \"ternary\": {\"aaxis\": {\"gridcolor\": \"white\", \"linecolor\": \"white\", \"ticks\": \"\"}, \"baxis\": {\"gridcolor\": \"white\", \"linecolor\": \"white\", \"ticks\": \"\"}, \"bgcolor\": \"#E5ECF6\", \"caxis\": {\"gridcolor\": \"white\", \"linecolor\": \"white\", \"ticks\": \"\"}}, \"title\": {\"x\": 0.05}, \"xaxis\": {\"automargin\": true, \"gridcolor\": \"white\", \"linecolor\": \"white\", \"ticks\": \"\", \"title\": {\"standoff\": 15}, \"zerolinecolor\": \"white\", \"zerolinewidth\": 2}, \"yaxis\": {\"automargin\": true, \"gridcolor\": \"white\", \"linecolor\": \"white\", \"ticks\": \"\", \"title\": {\"standoff\": 15}, \"zerolinecolor\": \"white\", \"zerolinewidth\": 2}}}, \"xaxis\": {\"anchor\": \"y\", \"domain\": [0.0, 1.0], \"title\": {\"text\": \"flops\"}}, \"yaxis\": {\"anchor\": \"x\", \"domain\": [0.0, 1.0], \"title\": {\"text\": \"acc\"}}},\n",
       "                        {\"responsive\": true}\n",
       "                    ).then(function(){\n",
       "                            \n",
       "var gd = document.getElementById('38904632-d3a8-4e46-8883-a3b093ba1886');\n",
       "var x = new MutationObserver(function (mutations, observer) {{\n",
       "        var display = window.getComputedStyle(gd).display;\n",
       "        if (!display || display === 'none') {{\n",
       "            console.log([gd, 'removed!']);\n",
       "            Plotly.purge(gd);\n",
       "            observer.disconnect();\n",
       "        }}\n",
       "}});\n",
       "\n",
       "// Listen for the removal of the full notebook cells\n",
       "var notebookContainer = gd.closest('#notebook-container');\n",
       "if (notebookContainer) {{\n",
       "    x.observe(notebookContainer, {childList: true});\n",
       "}}\n",
       "\n",
       "// Listen for the clearing of the current output cell\n",
       "var outputEl = gd.closest('.output');\n",
       "if (outputEl) {{\n",
       "    x.observe(outputEl, {childList: true});\n",
       "}}\n",
       "\n",
       "                        })\n",
       "                };\n",
       "                });\n",
       "            </script>\n",
       "        </div>"
      ]
     },
     "metadata": {},
     "output_type": "display_data"
    }
   ],
   "source": [
    "## Modular\n",
    "import pandas as pd\n",
    "import plotly.express as px\n",
    "\n",
    "\n",
    "data_path='../logs/__New_main_experiment_1_RandomSerach_30gen/'\n",
    "\n",
    "def pareto_visulize(data_path):\n",
    "       \n",
    "    \n",
    "    with open(os.path.join(data_path,\"train_logging.log\")) as json_file:\n",
    "        data = json.load(json_file)\n",
    "\n",
    "    train_log = data['train_log']\n",
    "    niter = len(train_log)\n",
    "    npop = len(train_log['0'])\n",
    "    objs =[]\n",
    "    gen_num = []\n",
    "    for i in range(niter):\n",
    "        gen_num.extend([i for j in range(npop)])\n",
    "        temp = [train_log[str(i)][j][1] for j in range(npop)]\n",
    "        objs.append(temp)\n",
    "\n",
    "    objs = np.array(objs)\n",
    "    epoch = list(range(niter))\n",
    "\n",
    "    # 0 : acc , 1: Flops\n",
    "    gr_type = 0\n",
    "\n",
    "    objs[:,:,0]= -1*objs[:,:,0]\n",
    "\n",
    "    y1 = objs[:,:,0].reshape(-1).tolist()\n",
    "    y2 = objs[:,:,1].reshape(-1).tolist()\n",
    "    idxs = [i for i in range(len(y1))]\n",
    "    pareto = [0 for i in range(len(y1))]\n",
    "    \n",
    "    df = pd.DataFrame({'gen':gen_num,'name': idxs, 'acc':y1, 'flops': y2})\n",
    "\n",
    "    idx1 = npop*niter//3 \n",
    "    idx2 = npop*niter//3 * 2\n",
    "    idx3 = npop*niter\n",
    "\n",
    "    pareto1 = is_pareto_efficient(df[:idx1][['acc','flops']].to_numpy())\n",
    "    pareto1 = np.append(pareto1,[0]*(idx3-idx1))\n",
    "\n",
    "    pareto2 = is_pareto_efficient(df[:idx2][['acc','flops']].to_numpy())\n",
    "    pareto2 = np.append(pareto2,[0]*(idx3-idx2))\n",
    "\n",
    "    pareto3 = is_pareto_efficient(df[['acc','flops']].to_numpy())\n",
    "\n",
    "    pareto_final = np.logical_or(pareto1,pareto2, dtype ='float64')\n",
    "    pareto_final = np.logical_or(pareto_final,pareto3)\n",
    "    df['pareto'] = pareto_final.astype(int)\n",
    "    fig = px.scatter(df[['gen','flops','acc','pareto']], x= 'flops' , y='acc', color=\"pareto\",\n",
    "                 color_continuous_scale='bluered', hover_name=\"gen\", hover_data=[\"gen\"])\n",
    "    fig.show()\n",
    "    \n",
    "pareto_visulize(data_path)"
   ]
  },
  {
   "cell_type": "markdown",
   "metadata": {},
   "source": [
    "### Pareto Frontier 모델 파일 떨구기"
   ]
  },
  {
   "cell_type": "code",
   "execution_count": 297,
   "metadata": {},
   "outputs": [],
   "source": [
    "inds = np.where(pareto3==1)"
   ]
  },
  {
   "cell_type": "code",
   "execution_count": 289,
   "metadata": {},
   "outputs": [],
   "source": [
    "data_path = 'C:/Users/82103/Desktop/datascience/1219_code/basic_model/logs/__New_main_experiment_1_GA_30gen/'\n",
    "with open(os.path.join(data_path,\"train_logging.log\")) as json_file:\n",
    "    data = json.load(json_file)\n",
    "\n",
    "train_log = data['train_log']\n",
    "niter = len(train_log)\n",
    "npop = len(train_log['0'])\n",
    "objs =[]\n",
    "\n",
    "for i in range(niter):\n",
    "    temp = [train_log[str(i)][j][0] for j in range(npop)]\n",
    "    objs.append(temp)\n",
    "\n",
    "objs = np.array(objs)\n",
    "epoch = list(range(niter))\n",
    "model_info = objs.reshape(-1,21)"
   ]
  },
  {
   "cell_type": "code",
   "execution_count": 298,
   "metadata": {},
   "outputs": [
    {
     "data": {
      "text/plain": [
       "array([[1, 0, 0, 0, 0, 1, 0, 1, 0, 0, 0, 0, 0, 1, 0, 0, 1, 0, 1, 1, 1],\n",
       "       [1, 0, 0, 0, 0, 1, 0, 1, 0, 0, 0, 0, 0, 1, 0, 0, 1, 1, 1, 0, 1],\n",
       "       [1, 1, 1, 0, 0, 1, 1, 0, 0, 0, 1, 1, 1, 1, 0, 1, 0, 1, 0, 0, 1],\n",
       "       [1, 1, 0, 0, 0, 1, 0, 0, 0, 0, 1, 1, 1, 1, 1, 1, 0, 1, 1, 0, 1],\n",
       "       [1, 0, 1, 0, 1, 1, 0, 1, 1, 0, 0, 0, 0, 1, 0, 1, 0, 0, 0, 0, 1],\n",
       "       [1, 0, 1, 0, 1, 1, 0, 1, 0, 0, 1, 0, 0, 0, 0, 0, 1, 1, 1, 0, 1],\n",
       "       [1, 0, 1, 0, 1, 1, 0, 1, 1, 0, 0, 0, 0, 0, 1, 0, 1, 1, 1, 1, 0]])"
      ]
     },
     "execution_count": 298,
     "metadata": {},
     "output_type": "execute_result"
    }
   ],
   "source": [
    "model_info[inds]"
   ]
  },
  {
   "cell_type": "code",
   "execution_count": 305,
   "metadata": {},
   "outputs": [
    {
     "data": {
      "text/plain": [
       "array([[0, 1, 1, 1, 1, 0, 1, 1, 1, 0, 0, 1, 0, 0, 1, 0, 1, 1, 1, 1, 1],\n",
       "       [1, 0, 0, 0, 0, 1, 1, 1, 0, 0, 0, 1, 0, 0, 1, 1, 0, 1, 1, 0, 0],\n",
       "       [1, 0, 1, 1, 1, 0, 1, 0, 0, 0, 1, 1, 0, 0, 1, 0, 0, 1, 1, 1, 0],\n",
       "       [0, 1, 0, 0, 1, 1, 0, 0, 1, 1, 1, 0, 1, 0, 1, 1, 1, 1, 1, 0, 0],\n",
       "       [0, 1, 0, 1, 1, 1, 1, 1, 1, 1, 0, 1, 1, 1, 0, 1, 0, 1, 0, 1, 0],\n",
       "       [1, 0, 1, 1, 1, 0, 0, 0, 1, 1, 0, 0, 0, 1, 0, 1, 0, 0, 0, 0, 0],\n",
       "       [1, 0, 0, 0, 0, 1, 1, 1, 0, 0, 1, 1, 0, 1, 1, 0, 1, 1, 1, 1, 0]])"
      ]
     },
     "execution_count": 305,
     "metadata": {},
     "output_type": "execute_result"
    }
   ],
   "source": [
    "data_path='../logs/__New_main_experiment_1_RandomSerach_30gen/'\n",
    "with open(os.path.join(data_path,\"train_logging.log\")) as json_file:\n",
    "    data = json.load(json_file)\n",
    "\n",
    "train_log = data['train_log']\n",
    "niter = len(train_log)\n",
    "npop = len(train_log['0'])\n",
    "objs =[]\n",
    "\n",
    "for i in range(niter):\n",
    "    temp = [train_log[str(i)][j][0] for j in range(npop)]\n",
    "    objs.append(temp)\n",
    "\n",
    "objs = np.array(objs)\n",
    "epoch = list(range(niter))\n",
    "model_info = objs.reshape(-1,21)\n",
    "model_info[inds]"
   ]
  },
  {
   "cell_type": "code",
   "execution_count": null,
   "metadata": {},
   "outputs": [],
   "source": []
  }
 ],
 "metadata": {
  "kernelspec": {
   "display_name": "Python 3",
   "language": "python",
   "name": "python3"
  },
  "language_info": {
   "codemirror_mode": {
    "name": "ipython",
    "version": 3
   },
   "file_extension": ".py",
   "mimetype": "text/x-python",
   "name": "python",
   "nbconvert_exporter": "python",
   "pygments_lexer": "ipython3",
   "version": "3.5.2"
  },
  "toc": {
   "base_numbering": 1,
   "nav_menu": {},
   "number_sections": true,
   "sideBar": true,
   "skip_h1_title": false,
   "title_cell": "Table of Contents",
   "title_sidebar": "Contents",
   "toc_cell": false,
   "toc_position": {},
   "toc_section_display": true,
   "toc_window_display": false
  }
 },
 "nbformat": 4,
 "nbformat_minor": 2
}
