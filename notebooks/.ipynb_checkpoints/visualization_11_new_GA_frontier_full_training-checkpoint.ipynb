{
 "cells": [
  {
   "cell_type": "markdown",
   "metadata": {},
   "source": [
    "## GA 프론티어 - Full training"
   ]
  },
  {
   "cell_type": "code",
   "execution_count": 2,
   "metadata": {},
   "outputs": [
    {
     "data": {
      "text/html": [
       "        <script type=\"text/javascript\">\n",
       "        window.PlotlyConfig = {MathJaxConfig: 'local'};\n",
       "        if (window.MathJax) {MathJax.Hub.Config({SVG: {font: \"STIX-Web\"}});}\n",
       "        if (typeof require !== 'undefined') {\n",
       "        require.undef(\"plotly\");\n",
       "        requirejs.config({\n",
       "            paths: {\n",
       "                'plotly': ['https://cdn.plot.ly/plotly-latest.min']\n",
       "            }\n",
       "        });\n",
       "        require(['plotly'], function(Plotly) {\n",
       "            window._Plotly = Plotly;\n",
       "        });\n",
       "        }\n",
       "        </script>\n",
       "        "
      ]
     },
     "metadata": {},
     "output_type": "display_data"
    }
   ],
   "source": [
    "import sys\n",
    "sys.path.insert(0, '../')\n",
    "\n",
    "import numpy as np\n",
    "import os\n",
    "import json\n",
    "\n",
    "import pandas as pd\n",
    "\n",
    "import glob\n",
    "\n",
    "import plotly\n",
    "import plotly.graph_objects as go\n",
    "from plotly.subplots import make_subplots\n",
    "plotly.offline.init_notebook_mode(connected=True)\n",
    "\n",
    "from utils_kyy.pareto_front import identify_pareto\n",
    "from utils_kyy.utils_graycode_v2 import graydecode"
   ]
  },
  {
   "cell_type": "markdown",
   "metadata": {},
   "source": [
    "## [0] GA - 파레토 프론티어 찾기 (Full training)"
   ]
  },
  {
   "cell_type": "code",
   "execution_count": 3,
   "metadata": {},
   "outputs": [],
   "source": [
    "data_path = '../logs/_final_New_main_full_train_GA_20200103/'\n",
    "\n",
    "with open(os.path.join(data_path,\"train_logging.log\")) as json_file:\n",
    "    data = json.load(json_file)\n",
    "\n",
    "train_log = data['train_log']"
   ]
  },
  {
   "cell_type": "code",
   "execution_count": 4,
   "metadata": {
    "scrolled": true
   },
   "outputs": [
    {
     "data": {
      "text/plain": [
       "{'0': {'epoch': 599,\n",
       "  'fitness': [-91.75999764404297, 239474800.0],\n",
       "  'model_id': [1, 1, 1, 1, 0, 1, 0, 1, 0, 0, 0, 0, 0, 1, 0, 0, 1, 1, 0, 0, 1],\n",
       "  'time': 20645.00702738762},\n",
       " '1': {'epoch': 599,\n",
       "  'fitness': [-92.38999769287109, 222941296.0],\n",
       "  'model_id': [1, 0, 0, 0, 1, 0, 0, 0, 1, 0, 0, 0, 1, 0, 1, 1, 1, 1, 0, 0, 0],\n",
       "  'time': 21022.793867588043},\n",
       " '2': {'epoch': 599,\n",
       "  'fitness': [-92.54999719238282, 329265920.0],\n",
       "  'model_id': [1, 0, 1, 1, 1, 0, 1, 0, 0, 0, 1, 1, 0, 1, 0, 0, 0, 1, 1, 0, 0],\n",
       "  'time': 30918.39890384674},\n",
       " '3': {'epoch': 599,\n",
       "  'fitness': [-92.22999615478516, 272711552.0],\n",
       "  'model_id': [0, 1, 0, 1, 1, 1, 0, 0, 0, 0, 1, 0, 0, 1, 0, 1, 1, 1, 1, 0, 0],\n",
       "  'time': 25826.464430332184},\n",
       " '4': {'epoch': 599,\n",
       "  'fitness': [-91.63999664306641, 195924592.0],\n",
       "  'model_id': [1, 0, 1, 0, 1, 0, 0, 0, 1, 0, 0, 0, 1, 0, 1, 1, 1, 1, 0, 0, 0],\n",
       "  'time': 18034.645045042038},\n",
       " '5': {'epoch': 599,\n",
       "  'fitness': [-92.20999846191407, 289304960.0],\n",
       "  'model_id': [1, 0, 1, 1, 1, 0, 1, 0, 0, 0, 1, 1, 0, 1, 1, 1, 1, 1, 0, 0, 0],\n",
       "  'time': 27520.00409579277},\n",
       " '6': {'epoch': 599,\n",
       "  'fitness': [-92.37999650878906, 285890432.0],\n",
       "  'model_id': [1, 0, 1, 1, 0, 1, 1, 0, 0, 0, 1, 1, 0, 1, 1, 1, 1, 1, 0, 0, 0],\n",
       "  'time': 27247.638516664505},\n",
       " '7': {'epoch': 599,\n",
       "  'fitness': [-92.48999700927735, 216172144.0],\n",
       "  'model_id': [1, 0, 1, 1, 1, 0, 0, 0, 1, 0, 0, 0, 1, 0, 1, 1, 1, 1, 0, 0, 0],\n",
       "  'time': 23130.003273248672},\n",
       " '8': {'epoch': 599,\n",
       "  'fitness': [-92.28999768066406, 230249584.0],\n",
       "  'model_id': [1, 0, 1, 1, 0, 1, 1, 0, 1, 0, 0, 0, 1, 0, 1, 1, 1, 1, 0, 0, 0],\n",
       "  'time': 22117.47431063652}}"
      ]
     },
     "execution_count": 4,
     "metadata": {},
     "output_type": "execute_result"
    }
   ],
   "source": [
    "train_log"
   ]
  },
  {
   "cell_type": "code",
   "execution_count": 5,
   "metadata": {},
   "outputs": [],
   "source": [
    "fitness = []\n",
    "model_id = []\n",
    "for key, val in train_log.items():\n",
    "    fitness.append(val['fitness'])\n",
    "    model_id.append(val['model_id'])"
   ]
  },
  {
   "cell_type": "code",
   "execution_count": 6,
   "metadata": {
    "scrolled": false
   },
   "outputs": [
    {
     "data": {
      "text/plain": [
       "[[-92.38999769287109, 222941296.0],\n",
       " [-91.63999664306641, 195924592.0],\n",
       " [-92.20999846191407, 289304960.0],\n",
       " [-91.75999764404297, 239474800.0],\n",
       " [-92.28999768066406, 230249584.0],\n",
       " [-92.22999615478516, 272711552.0],\n",
       " [-92.48999700927735, 216172144.0],\n",
       " [-92.37999650878906, 285890432.0],\n",
       " [-92.54999719238282, 329265920.0]]"
      ]
     },
     "execution_count": 6,
     "metadata": {},
     "output_type": "execute_result"
    }
   ],
   "source": [
    "fitness"
   ]
  },
  {
   "cell_type": "code",
   "execution_count": 7,
   "metadata": {},
   "outputs": [],
   "source": [
    "acc_y1 = []\n",
    "flops_y2 = []\n",
    "for fit_i in fitness:\n",
    "    acc_y1.append(-fit_i[0])\n",
    "    flops_y2.append(fit_i[1])"
   ]
  },
  {
   "cell_type": "code",
   "execution_count": 8,
   "metadata": {},
   "outputs": [],
   "source": [
    "pareto_front_20gen_full_training = pd.DataFrame({'acc': acc_y1, 'flops': flops_y2})"
   ]
  },
  {
   "cell_type": "code",
   "execution_count": 9,
   "metadata": {},
   "outputs": [
    {
     "data": {
      "text/html": [
       "<div>\n",
       "<style scoped>\n",
       "    .dataframe tbody tr th:only-of-type {\n",
       "        vertical-align: middle;\n",
       "    }\n",
       "\n",
       "    .dataframe tbody tr th {\n",
       "        vertical-align: top;\n",
       "    }\n",
       "\n",
       "    .dataframe thead th {\n",
       "        text-align: right;\n",
       "    }\n",
       "</style>\n",
       "<table border=\"1\" class=\"dataframe\">\n",
       "  <thead>\n",
       "    <tr style=\"text-align: right;\">\n",
       "      <th></th>\n",
       "      <th>acc</th>\n",
       "      <th>flops</th>\n",
       "    </tr>\n",
       "  </thead>\n",
       "  <tbody>\n",
       "    <tr>\n",
       "      <th>0</th>\n",
       "      <td>92.389998</td>\n",
       "      <td>222941296.0</td>\n",
       "    </tr>\n",
       "    <tr>\n",
       "      <th>1</th>\n",
       "      <td>91.639997</td>\n",
       "      <td>195924592.0</td>\n",
       "    </tr>\n",
       "    <tr>\n",
       "      <th>2</th>\n",
       "      <td>92.209998</td>\n",
       "      <td>289304960.0</td>\n",
       "    </tr>\n",
       "    <tr>\n",
       "      <th>3</th>\n",
       "      <td>91.759998</td>\n",
       "      <td>239474800.0</td>\n",
       "    </tr>\n",
       "    <tr>\n",
       "      <th>4</th>\n",
       "      <td>92.289998</td>\n",
       "      <td>230249584.0</td>\n",
       "    </tr>\n",
       "    <tr>\n",
       "      <th>5</th>\n",
       "      <td>92.229996</td>\n",
       "      <td>272711552.0</td>\n",
       "    </tr>\n",
       "    <tr>\n",
       "      <th>6</th>\n",
       "      <td>92.489997</td>\n",
       "      <td>216172144.0</td>\n",
       "    </tr>\n",
       "    <tr>\n",
       "      <th>7</th>\n",
       "      <td>92.379997</td>\n",
       "      <td>285890432.0</td>\n",
       "    </tr>\n",
       "    <tr>\n",
       "      <th>8</th>\n",
       "      <td>92.549997</td>\n",
       "      <td>329265920.0</td>\n",
       "    </tr>\n",
       "  </tbody>\n",
       "</table>\n",
       "</div>"
      ],
      "text/plain": [
       "         acc        flops\n",
       "0  92.389998  222941296.0\n",
       "1  91.639997  195924592.0\n",
       "2  92.209998  289304960.0\n",
       "3  91.759998  239474800.0\n",
       "4  92.289998  230249584.0\n",
       "5  92.229996  272711552.0\n",
       "6  92.489997  216172144.0\n",
       "7  92.379997  285890432.0\n",
       "8  92.549997  329265920.0"
      ]
     },
     "execution_count": 9,
     "metadata": {},
     "output_type": "execute_result"
    }
   ],
   "source": [
    "pareto_front_20gen_full_training"
   ]
  },
  {
   "cell_type": "code",
   "execution_count": 10,
   "metadata": {},
   "outputs": [],
   "source": [
    "pareto_front_20gen_full_training_score = pareto_front_20gen_full_training.values  # (9, 2)\n",
    "pareto_front_20gen_full_training_score[:, 1] = -pareto_front_20gen_full_training_score[:, 1]"
   ]
  },
  {
   "cell_type": "code",
   "execution_count": 11,
   "metadata": {},
   "outputs": [
    {
     "data": {
      "text/plain": [
       "array([1, 6, 8])"
      ]
     },
     "execution_count": 11,
     "metadata": {},
     "output_type": "execute_result"
    }
   ],
   "source": [
    "## pareto front 찾기\n",
    "full_training_score_pareto_idx = identify_pareto(pareto_front_20gen_full_training_score)\n",
    "full_training_score_pareto_idx"
   ]
  },
  {
   "cell_type": "code",
   "execution_count": 12,
   "metadata": {},
   "outputs": [],
   "source": [
    "full_training_score_pareto = pareto_front_20gen_full_training.values[full_training_score_pareto_idx]"
   ]
  },
  {
   "cell_type": "code",
   "execution_count": 13,
   "metadata": {},
   "outputs": [
    {
     "data": {
      "text/plain": [
       "array([[ 9.16399966e+01, -1.95924592e+08],\n",
       "       [ 9.24899970e+01, -2.16172144e+08],\n",
       "       [ 9.25499972e+01, -3.29265920e+08]])"
      ]
     },
     "execution_count": 13,
     "metadata": {},
     "output_type": "execute_result"
    }
   ],
   "source": [
    "full_training_score_pareto"
   ]
  },
  {
   "cell_type": "code",
   "execution_count": 14,
   "metadata": {},
   "outputs": [],
   "source": [
    "full_training_score_pareto[:, 1] = -full_training_score_pareto[:, 1]"
   ]
  },
  {
   "cell_type": "code",
   "execution_count": 15,
   "metadata": {},
   "outputs": [],
   "source": [
    "# Plot\n",
    "#  x축: FLOPS, y축: Validation accuracy\n",
    "x_pareto_front_full_training = full_training_score_pareto[:, 1]\n",
    "y_pareto_front_full_training = full_training_score_pareto[:, 0]"
   ]
  },
  {
   "cell_type": "code",
   "execution_count": 16,
   "metadata": {
    "scrolled": false
   },
   "outputs": [
    {
     "data": {
      "application/vnd.plotly.v1+json": {
       "config": {
        "plotlyServerURL": "https://plot.ly"
       },
       "data": [
        {
         "line": {
          "color": "rgb(102, 000, 000)"
         },
         "mode": "lines+markers",
         "name": "Pareto Frontier (20 gen) - Full training",
         "type": "scatter",
         "x": [
          195924592,
          216172144,
          329265920
         ],
         "y": [
          91.63999664306641,
          92.48999700927735,
          92.54999719238282
         ]
        }
       ],
       "layout": {
        "template": {
         "data": {
          "bar": [
           {
            "error_x": {
             "color": "#2a3f5f"
            },
            "error_y": {
             "color": "#2a3f5f"
            },
            "marker": {
             "line": {
              "color": "#E5ECF6",
              "width": 0.5
             }
            },
            "type": "bar"
           }
          ],
          "barpolar": [
           {
            "marker": {
             "line": {
              "color": "#E5ECF6",
              "width": 0.5
             }
            },
            "type": "barpolar"
           }
          ],
          "carpet": [
           {
            "aaxis": {
             "endlinecolor": "#2a3f5f",
             "gridcolor": "white",
             "linecolor": "white",
             "minorgridcolor": "white",
             "startlinecolor": "#2a3f5f"
            },
            "baxis": {
             "endlinecolor": "#2a3f5f",
             "gridcolor": "white",
             "linecolor": "white",
             "minorgridcolor": "white",
             "startlinecolor": "#2a3f5f"
            },
            "type": "carpet"
           }
          ],
          "choropleth": [
           {
            "colorbar": {
             "outlinewidth": 0,
             "ticks": ""
            },
            "type": "choropleth"
           }
          ],
          "contour": [
           {
            "colorbar": {
             "outlinewidth": 0,
             "ticks": ""
            },
            "colorscale": [
             [
              0,
              "#0d0887"
             ],
             [
              0.1111111111111111,
              "#46039f"
             ],
             [
              0.2222222222222222,
              "#7201a8"
             ],
             [
              0.3333333333333333,
              "#9c179e"
             ],
             [
              0.4444444444444444,
              "#bd3786"
             ],
             [
              0.5555555555555556,
              "#d8576b"
             ],
             [
              0.6666666666666666,
              "#ed7953"
             ],
             [
              0.7777777777777778,
              "#fb9f3a"
             ],
             [
              0.8888888888888888,
              "#fdca26"
             ],
             [
              1,
              "#f0f921"
             ]
            ],
            "type": "contour"
           }
          ],
          "contourcarpet": [
           {
            "colorbar": {
             "outlinewidth": 0,
             "ticks": ""
            },
            "type": "contourcarpet"
           }
          ],
          "heatmap": [
           {
            "colorbar": {
             "outlinewidth": 0,
             "ticks": ""
            },
            "colorscale": [
             [
              0,
              "#0d0887"
             ],
             [
              0.1111111111111111,
              "#46039f"
             ],
             [
              0.2222222222222222,
              "#7201a8"
             ],
             [
              0.3333333333333333,
              "#9c179e"
             ],
             [
              0.4444444444444444,
              "#bd3786"
             ],
             [
              0.5555555555555556,
              "#d8576b"
             ],
             [
              0.6666666666666666,
              "#ed7953"
             ],
             [
              0.7777777777777778,
              "#fb9f3a"
             ],
             [
              0.8888888888888888,
              "#fdca26"
             ],
             [
              1,
              "#f0f921"
             ]
            ],
            "type": "heatmap"
           }
          ],
          "heatmapgl": [
           {
            "colorbar": {
             "outlinewidth": 0,
             "ticks": ""
            },
            "colorscale": [
             [
              0,
              "#0d0887"
             ],
             [
              0.1111111111111111,
              "#46039f"
             ],
             [
              0.2222222222222222,
              "#7201a8"
             ],
             [
              0.3333333333333333,
              "#9c179e"
             ],
             [
              0.4444444444444444,
              "#bd3786"
             ],
             [
              0.5555555555555556,
              "#d8576b"
             ],
             [
              0.6666666666666666,
              "#ed7953"
             ],
             [
              0.7777777777777778,
              "#fb9f3a"
             ],
             [
              0.8888888888888888,
              "#fdca26"
             ],
             [
              1,
              "#f0f921"
             ]
            ],
            "type": "heatmapgl"
           }
          ],
          "histogram": [
           {
            "marker": {
             "colorbar": {
              "outlinewidth": 0,
              "ticks": ""
             }
            },
            "type": "histogram"
           }
          ],
          "histogram2d": [
           {
            "colorbar": {
             "outlinewidth": 0,
             "ticks": ""
            },
            "colorscale": [
             [
              0,
              "#0d0887"
             ],
             [
              0.1111111111111111,
              "#46039f"
             ],
             [
              0.2222222222222222,
              "#7201a8"
             ],
             [
              0.3333333333333333,
              "#9c179e"
             ],
             [
              0.4444444444444444,
              "#bd3786"
             ],
             [
              0.5555555555555556,
              "#d8576b"
             ],
             [
              0.6666666666666666,
              "#ed7953"
             ],
             [
              0.7777777777777778,
              "#fb9f3a"
             ],
             [
              0.8888888888888888,
              "#fdca26"
             ],
             [
              1,
              "#f0f921"
             ]
            ],
            "type": "histogram2d"
           }
          ],
          "histogram2dcontour": [
           {
            "colorbar": {
             "outlinewidth": 0,
             "ticks": ""
            },
            "colorscale": [
             [
              0,
              "#0d0887"
             ],
             [
              0.1111111111111111,
              "#46039f"
             ],
             [
              0.2222222222222222,
              "#7201a8"
             ],
             [
              0.3333333333333333,
              "#9c179e"
             ],
             [
              0.4444444444444444,
              "#bd3786"
             ],
             [
              0.5555555555555556,
              "#d8576b"
             ],
             [
              0.6666666666666666,
              "#ed7953"
             ],
             [
              0.7777777777777778,
              "#fb9f3a"
             ],
             [
              0.8888888888888888,
              "#fdca26"
             ],
             [
              1,
              "#f0f921"
             ]
            ],
            "type": "histogram2dcontour"
           }
          ],
          "mesh3d": [
           {
            "colorbar": {
             "outlinewidth": 0,
             "ticks": ""
            },
            "type": "mesh3d"
           }
          ],
          "parcoords": [
           {
            "line": {
             "colorbar": {
              "outlinewidth": 0,
              "ticks": ""
             }
            },
            "type": "parcoords"
           }
          ],
          "pie": [
           {
            "automargin": true,
            "type": "pie"
           }
          ],
          "scatter": [
           {
            "marker": {
             "colorbar": {
              "outlinewidth": 0,
              "ticks": ""
             }
            },
            "type": "scatter"
           }
          ],
          "scatter3d": [
           {
            "line": {
             "colorbar": {
              "outlinewidth": 0,
              "ticks": ""
             }
            },
            "marker": {
             "colorbar": {
              "outlinewidth": 0,
              "ticks": ""
             }
            },
            "type": "scatter3d"
           }
          ],
          "scattercarpet": [
           {
            "marker": {
             "colorbar": {
              "outlinewidth": 0,
              "ticks": ""
             }
            },
            "type": "scattercarpet"
           }
          ],
          "scattergeo": [
           {
            "marker": {
             "colorbar": {
              "outlinewidth": 0,
              "ticks": ""
             }
            },
            "type": "scattergeo"
           }
          ],
          "scattergl": [
           {
            "marker": {
             "colorbar": {
              "outlinewidth": 0,
              "ticks": ""
             }
            },
            "type": "scattergl"
           }
          ],
          "scattermapbox": [
           {
            "marker": {
             "colorbar": {
              "outlinewidth": 0,
              "ticks": ""
             }
            },
            "type": "scattermapbox"
           }
          ],
          "scatterpolar": [
           {
            "marker": {
             "colorbar": {
              "outlinewidth": 0,
              "ticks": ""
             }
            },
            "type": "scatterpolar"
           }
          ],
          "scatterpolargl": [
           {
            "marker": {
             "colorbar": {
              "outlinewidth": 0,
              "ticks": ""
             }
            },
            "type": "scatterpolargl"
           }
          ],
          "scatterternary": [
           {
            "marker": {
             "colorbar": {
              "outlinewidth": 0,
              "ticks": ""
             }
            },
            "type": "scatterternary"
           }
          ],
          "surface": [
           {
            "colorbar": {
             "outlinewidth": 0,
             "ticks": ""
            },
            "colorscale": [
             [
              0,
              "#0d0887"
             ],
             [
              0.1111111111111111,
              "#46039f"
             ],
             [
              0.2222222222222222,
              "#7201a8"
             ],
             [
              0.3333333333333333,
              "#9c179e"
             ],
             [
              0.4444444444444444,
              "#bd3786"
             ],
             [
              0.5555555555555556,
              "#d8576b"
             ],
             [
              0.6666666666666666,
              "#ed7953"
             ],
             [
              0.7777777777777778,
              "#fb9f3a"
             ],
             [
              0.8888888888888888,
              "#fdca26"
             ],
             [
              1,
              "#f0f921"
             ]
            ],
            "type": "surface"
           }
          ],
          "table": [
           {
            "cells": {
             "fill": {
              "color": "#EBF0F8"
             },
             "line": {
              "color": "white"
             }
            },
            "header": {
             "fill": {
              "color": "#C8D4E3"
             },
             "line": {
              "color": "white"
             }
            },
            "type": "table"
           }
          ]
         },
         "layout": {
          "annotationdefaults": {
           "arrowcolor": "#2a3f5f",
           "arrowhead": 0,
           "arrowwidth": 1
          },
          "coloraxis": {
           "colorbar": {
            "outlinewidth": 0,
            "ticks": ""
           }
          },
          "colorscale": {
           "diverging": [
            [
             0,
             "#8e0152"
            ],
            [
             0.1,
             "#c51b7d"
            ],
            [
             0.2,
             "#de77ae"
            ],
            [
             0.3,
             "#f1b6da"
            ],
            [
             0.4,
             "#fde0ef"
            ],
            [
             0.5,
             "#f7f7f7"
            ],
            [
             0.6,
             "#e6f5d0"
            ],
            [
             0.7,
             "#b8e186"
            ],
            [
             0.8,
             "#7fbc41"
            ],
            [
             0.9,
             "#4d9221"
            ],
            [
             1,
             "#276419"
            ]
           ],
           "sequential": [
            [
             0,
             "#0d0887"
            ],
            [
             0.1111111111111111,
             "#46039f"
            ],
            [
             0.2222222222222222,
             "#7201a8"
            ],
            [
             0.3333333333333333,
             "#9c179e"
            ],
            [
             0.4444444444444444,
             "#bd3786"
            ],
            [
             0.5555555555555556,
             "#d8576b"
            ],
            [
             0.6666666666666666,
             "#ed7953"
            ],
            [
             0.7777777777777778,
             "#fb9f3a"
            ],
            [
             0.8888888888888888,
             "#fdca26"
            ],
            [
             1,
             "#f0f921"
            ]
           ],
           "sequentialminus": [
            [
             0,
             "#0d0887"
            ],
            [
             0.1111111111111111,
             "#46039f"
            ],
            [
             0.2222222222222222,
             "#7201a8"
            ],
            [
             0.3333333333333333,
             "#9c179e"
            ],
            [
             0.4444444444444444,
             "#bd3786"
            ],
            [
             0.5555555555555556,
             "#d8576b"
            ],
            [
             0.6666666666666666,
             "#ed7953"
            ],
            [
             0.7777777777777778,
             "#fb9f3a"
            ],
            [
             0.8888888888888888,
             "#fdca26"
            ],
            [
             1,
             "#f0f921"
            ]
           ]
          },
          "colorway": [
           "#636efa",
           "#EF553B",
           "#00cc96",
           "#ab63fa",
           "#FFA15A",
           "#19d3f3",
           "#FF6692",
           "#B6E880",
           "#FF97FF",
           "#FECB52"
          ],
          "font": {
           "color": "#2a3f5f"
          },
          "geo": {
           "bgcolor": "white",
           "lakecolor": "white",
           "landcolor": "#E5ECF6",
           "showlakes": true,
           "showland": true,
           "subunitcolor": "white"
          },
          "hoverlabel": {
           "align": "left"
          },
          "hovermode": "closest",
          "mapbox": {
           "style": "light"
          },
          "paper_bgcolor": "white",
          "plot_bgcolor": "#E5ECF6",
          "polar": {
           "angularaxis": {
            "gridcolor": "white",
            "linecolor": "white",
            "ticks": ""
           },
           "bgcolor": "#E5ECF6",
           "radialaxis": {
            "gridcolor": "white",
            "linecolor": "white",
            "ticks": ""
           }
          },
          "scene": {
           "xaxis": {
            "backgroundcolor": "#E5ECF6",
            "gridcolor": "white",
            "gridwidth": 2,
            "linecolor": "white",
            "showbackground": true,
            "ticks": "",
            "zerolinecolor": "white"
           },
           "yaxis": {
            "backgroundcolor": "#E5ECF6",
            "gridcolor": "white",
            "gridwidth": 2,
            "linecolor": "white",
            "showbackground": true,
            "ticks": "",
            "zerolinecolor": "white"
           },
           "zaxis": {
            "backgroundcolor": "#E5ECF6",
            "gridcolor": "white",
            "gridwidth": 2,
            "linecolor": "white",
            "showbackground": true,
            "ticks": "",
            "zerolinecolor": "white"
           }
          },
          "shapedefaults": {
           "line": {
            "color": "#2a3f5f"
           }
          },
          "ternary": {
           "aaxis": {
            "gridcolor": "white",
            "linecolor": "white",
            "ticks": ""
           },
           "baxis": {
            "gridcolor": "white",
            "linecolor": "white",
            "ticks": ""
           },
           "bgcolor": "#E5ECF6",
           "caxis": {
            "gridcolor": "white",
            "linecolor": "white",
            "ticks": ""
           }
          },
          "title": {
           "x": 0.05
          },
          "xaxis": {
           "automargin": true,
           "gridcolor": "white",
           "linecolor": "white",
           "ticks": "",
           "title": {
            "standoff": 15
           },
           "zerolinecolor": "white",
           "zerolinewidth": 2
          },
          "yaxis": {
           "automargin": true,
           "gridcolor": "white",
           "linecolor": "white",
           "ticks": "",
           "title": {
            "standoff": 15
           },
           "zerolinecolor": "white",
           "zerolinewidth": 2
          }
         }
        },
        "title": {
         "text": "Pareto Frontier"
        },
        "xaxis": {
         "title": {
          "text": "FLOPS"
         },
         "zeroline": false
        },
        "yaxis": {
         "title": {
          "text": "Validation Accuracy"
         },
         "zeroline": false
        }
       }
      },
      "text/html": [
       "<div>\n",
       "        \n",
       "        \n",
       "            <div id=\"8279dbf3-51c7-409a-9a5f-44a7b1cadb1d\" class=\"plotly-graph-div\" style=\"height:525px; width:100%;\"></div>\n",
       "            <script type=\"text/javascript\">\n",
       "                require([\"plotly\"], function(Plotly) {\n",
       "                    window.PLOTLYENV=window.PLOTLYENV || {};\n",
       "                    \n",
       "                if (document.getElementById(\"8279dbf3-51c7-409a-9a5f-44a7b1cadb1d\")) {\n",
       "                    Plotly.newPlot(\n",
       "                        '8279dbf3-51c7-409a-9a5f-44a7b1cadb1d',\n",
       "                        [{\"line\": {\"color\": \"rgb(102, 000, 000)\"}, \"mode\": \"lines+markers\", \"name\": \"Pareto Frontier (20 gen) - Full training\", \"type\": \"scatter\", \"x\": [195924592.0, 216172144.0, 329265920.0], \"y\": [91.63999664306641, 92.48999700927735, 92.54999719238282]}],\n",
       "                        {\"template\": {\"data\": {\"bar\": [{\"error_x\": {\"color\": \"#2a3f5f\"}, \"error_y\": {\"color\": \"#2a3f5f\"}, \"marker\": {\"line\": {\"color\": \"#E5ECF6\", \"width\": 0.5}}, \"type\": \"bar\"}], \"barpolar\": [{\"marker\": {\"line\": {\"color\": \"#E5ECF6\", \"width\": 0.5}}, \"type\": \"barpolar\"}], \"carpet\": [{\"aaxis\": {\"endlinecolor\": \"#2a3f5f\", \"gridcolor\": \"white\", \"linecolor\": \"white\", \"minorgridcolor\": \"white\", \"startlinecolor\": \"#2a3f5f\"}, \"baxis\": {\"endlinecolor\": \"#2a3f5f\", \"gridcolor\": \"white\", \"linecolor\": \"white\", \"minorgridcolor\": \"white\", \"startlinecolor\": \"#2a3f5f\"}, \"type\": \"carpet\"}], \"choropleth\": [{\"colorbar\": {\"outlinewidth\": 0, \"ticks\": \"\"}, \"type\": \"choropleth\"}], \"contour\": [{\"colorbar\": {\"outlinewidth\": 0, \"ticks\": \"\"}, \"colorscale\": [[0.0, \"#0d0887\"], [0.1111111111111111, \"#46039f\"], [0.2222222222222222, \"#7201a8\"], [0.3333333333333333, \"#9c179e\"], [0.4444444444444444, \"#bd3786\"], [0.5555555555555556, \"#d8576b\"], [0.6666666666666666, \"#ed7953\"], [0.7777777777777778, \"#fb9f3a\"], [0.8888888888888888, \"#fdca26\"], [1.0, \"#f0f921\"]], \"type\": \"contour\"}], \"contourcarpet\": [{\"colorbar\": {\"outlinewidth\": 0, \"ticks\": \"\"}, \"type\": \"contourcarpet\"}], \"heatmap\": [{\"colorbar\": {\"outlinewidth\": 0, \"ticks\": \"\"}, \"colorscale\": [[0.0, \"#0d0887\"], [0.1111111111111111, \"#46039f\"], [0.2222222222222222, \"#7201a8\"], [0.3333333333333333, \"#9c179e\"], [0.4444444444444444, \"#bd3786\"], [0.5555555555555556, \"#d8576b\"], [0.6666666666666666, \"#ed7953\"], [0.7777777777777778, \"#fb9f3a\"], [0.8888888888888888, \"#fdca26\"], [1.0, \"#f0f921\"]], \"type\": \"heatmap\"}], \"heatmapgl\": [{\"colorbar\": {\"outlinewidth\": 0, \"ticks\": \"\"}, \"colorscale\": [[0.0, \"#0d0887\"], [0.1111111111111111, \"#46039f\"], [0.2222222222222222, \"#7201a8\"], [0.3333333333333333, \"#9c179e\"], [0.4444444444444444, \"#bd3786\"], [0.5555555555555556, \"#d8576b\"], [0.6666666666666666, \"#ed7953\"], [0.7777777777777778, \"#fb9f3a\"], [0.8888888888888888, \"#fdca26\"], [1.0, \"#f0f921\"]], \"type\": \"heatmapgl\"}], \"histogram\": [{\"marker\": {\"colorbar\": {\"outlinewidth\": 0, \"ticks\": \"\"}}, \"type\": \"histogram\"}], \"histogram2d\": [{\"colorbar\": {\"outlinewidth\": 0, \"ticks\": \"\"}, \"colorscale\": [[0.0, \"#0d0887\"], [0.1111111111111111, \"#46039f\"], [0.2222222222222222, \"#7201a8\"], [0.3333333333333333, \"#9c179e\"], [0.4444444444444444, \"#bd3786\"], [0.5555555555555556, \"#d8576b\"], [0.6666666666666666, \"#ed7953\"], [0.7777777777777778, \"#fb9f3a\"], [0.8888888888888888, \"#fdca26\"], [1.0, \"#f0f921\"]], \"type\": \"histogram2d\"}], \"histogram2dcontour\": [{\"colorbar\": {\"outlinewidth\": 0, \"ticks\": \"\"}, \"colorscale\": [[0.0, \"#0d0887\"], [0.1111111111111111, \"#46039f\"], [0.2222222222222222, \"#7201a8\"], [0.3333333333333333, \"#9c179e\"], [0.4444444444444444, \"#bd3786\"], [0.5555555555555556, \"#d8576b\"], [0.6666666666666666, \"#ed7953\"], [0.7777777777777778, \"#fb9f3a\"], [0.8888888888888888, \"#fdca26\"], [1.0, \"#f0f921\"]], \"type\": \"histogram2dcontour\"}], \"mesh3d\": [{\"colorbar\": {\"outlinewidth\": 0, \"ticks\": \"\"}, \"type\": \"mesh3d\"}], \"parcoords\": [{\"line\": {\"colorbar\": {\"outlinewidth\": 0, \"ticks\": \"\"}}, \"type\": \"parcoords\"}], \"pie\": [{\"automargin\": true, \"type\": \"pie\"}], \"scatter\": [{\"marker\": {\"colorbar\": {\"outlinewidth\": 0, \"ticks\": \"\"}}, \"type\": \"scatter\"}], \"scatter3d\": [{\"line\": {\"colorbar\": {\"outlinewidth\": 0, \"ticks\": \"\"}}, \"marker\": {\"colorbar\": {\"outlinewidth\": 0, \"ticks\": \"\"}}, \"type\": \"scatter3d\"}], \"scattercarpet\": [{\"marker\": {\"colorbar\": {\"outlinewidth\": 0, \"ticks\": \"\"}}, \"type\": \"scattercarpet\"}], \"scattergeo\": [{\"marker\": {\"colorbar\": {\"outlinewidth\": 0, \"ticks\": \"\"}}, \"type\": \"scattergeo\"}], \"scattergl\": [{\"marker\": {\"colorbar\": {\"outlinewidth\": 0, \"ticks\": \"\"}}, \"type\": \"scattergl\"}], \"scattermapbox\": [{\"marker\": {\"colorbar\": {\"outlinewidth\": 0, \"ticks\": \"\"}}, \"type\": \"scattermapbox\"}], \"scatterpolar\": [{\"marker\": {\"colorbar\": {\"outlinewidth\": 0, \"ticks\": \"\"}}, \"type\": \"scatterpolar\"}], \"scatterpolargl\": [{\"marker\": {\"colorbar\": {\"outlinewidth\": 0, \"ticks\": \"\"}}, \"type\": \"scatterpolargl\"}], \"scatterternary\": [{\"marker\": {\"colorbar\": {\"outlinewidth\": 0, \"ticks\": \"\"}}, \"type\": \"scatterternary\"}], \"surface\": [{\"colorbar\": {\"outlinewidth\": 0, \"ticks\": \"\"}, \"colorscale\": [[0.0, \"#0d0887\"], [0.1111111111111111, \"#46039f\"], [0.2222222222222222, \"#7201a8\"], [0.3333333333333333, \"#9c179e\"], [0.4444444444444444, \"#bd3786\"], [0.5555555555555556, \"#d8576b\"], [0.6666666666666666, \"#ed7953\"], [0.7777777777777778, \"#fb9f3a\"], [0.8888888888888888, \"#fdca26\"], [1.0, \"#f0f921\"]], \"type\": \"surface\"}], \"table\": [{\"cells\": {\"fill\": {\"color\": \"#EBF0F8\"}, \"line\": {\"color\": \"white\"}}, \"header\": {\"fill\": {\"color\": \"#C8D4E3\"}, \"line\": {\"color\": \"white\"}}, \"type\": \"table\"}]}, \"layout\": {\"annotationdefaults\": {\"arrowcolor\": \"#2a3f5f\", \"arrowhead\": 0, \"arrowwidth\": 1}, \"coloraxis\": {\"colorbar\": {\"outlinewidth\": 0, \"ticks\": \"\"}}, \"colorscale\": {\"diverging\": [[0, \"#8e0152\"], [0.1, \"#c51b7d\"], [0.2, \"#de77ae\"], [0.3, \"#f1b6da\"], [0.4, \"#fde0ef\"], [0.5, \"#f7f7f7\"], [0.6, \"#e6f5d0\"], [0.7, \"#b8e186\"], [0.8, \"#7fbc41\"], [0.9, \"#4d9221\"], [1, \"#276419\"]], \"sequential\": [[0.0, \"#0d0887\"], [0.1111111111111111, \"#46039f\"], [0.2222222222222222, \"#7201a8\"], [0.3333333333333333, \"#9c179e\"], [0.4444444444444444, \"#bd3786\"], [0.5555555555555556, \"#d8576b\"], [0.6666666666666666, \"#ed7953\"], [0.7777777777777778, \"#fb9f3a\"], [0.8888888888888888, \"#fdca26\"], [1.0, \"#f0f921\"]], \"sequentialminus\": [[0.0, \"#0d0887\"], [0.1111111111111111, \"#46039f\"], [0.2222222222222222, \"#7201a8\"], [0.3333333333333333, \"#9c179e\"], [0.4444444444444444, \"#bd3786\"], [0.5555555555555556, \"#d8576b\"], [0.6666666666666666, \"#ed7953\"], [0.7777777777777778, \"#fb9f3a\"], [0.8888888888888888, \"#fdca26\"], [1.0, \"#f0f921\"]]}, \"colorway\": [\"#636efa\", \"#EF553B\", \"#00cc96\", \"#ab63fa\", \"#FFA15A\", \"#19d3f3\", \"#FF6692\", \"#B6E880\", \"#FF97FF\", \"#FECB52\"], \"font\": {\"color\": \"#2a3f5f\"}, \"geo\": {\"bgcolor\": \"white\", \"lakecolor\": \"white\", \"landcolor\": \"#E5ECF6\", \"showlakes\": true, \"showland\": true, \"subunitcolor\": \"white\"}, \"hoverlabel\": {\"align\": \"left\"}, \"hovermode\": \"closest\", \"mapbox\": {\"style\": \"light\"}, \"paper_bgcolor\": \"white\", \"plot_bgcolor\": \"#E5ECF6\", \"polar\": {\"angularaxis\": {\"gridcolor\": \"white\", \"linecolor\": \"white\", \"ticks\": \"\"}, \"bgcolor\": \"#E5ECF6\", \"radialaxis\": {\"gridcolor\": \"white\", \"linecolor\": \"white\", \"ticks\": \"\"}}, \"scene\": {\"xaxis\": {\"backgroundcolor\": \"#E5ECF6\", \"gridcolor\": \"white\", \"gridwidth\": 2, \"linecolor\": \"white\", \"showbackground\": true, \"ticks\": \"\", \"zerolinecolor\": \"white\"}, \"yaxis\": {\"backgroundcolor\": \"#E5ECF6\", \"gridcolor\": \"white\", \"gridwidth\": 2, \"linecolor\": \"white\", \"showbackground\": true, \"ticks\": \"\", \"zerolinecolor\": \"white\"}, \"zaxis\": {\"backgroundcolor\": \"#E5ECF6\", \"gridcolor\": \"white\", \"gridwidth\": 2, \"linecolor\": \"white\", \"showbackground\": true, \"ticks\": \"\", \"zerolinecolor\": \"white\"}}, \"shapedefaults\": {\"line\": {\"color\": \"#2a3f5f\"}}, \"ternary\": {\"aaxis\": {\"gridcolor\": \"white\", \"linecolor\": \"white\", \"ticks\": \"\"}, \"baxis\": {\"gridcolor\": \"white\", \"linecolor\": \"white\", \"ticks\": \"\"}, \"bgcolor\": \"#E5ECF6\", \"caxis\": {\"gridcolor\": \"white\", \"linecolor\": \"white\", \"ticks\": \"\"}}, \"title\": {\"x\": 0.05}, \"xaxis\": {\"automargin\": true, \"gridcolor\": \"white\", \"linecolor\": \"white\", \"ticks\": \"\", \"title\": {\"standoff\": 15}, \"zerolinecolor\": \"white\", \"zerolinewidth\": 2}, \"yaxis\": {\"automargin\": true, \"gridcolor\": \"white\", \"linecolor\": \"white\", \"ticks\": \"\", \"title\": {\"standoff\": 15}, \"zerolinecolor\": \"white\", \"zerolinewidth\": 2}}}, \"title\": {\"text\": \"Pareto Frontier\"}, \"xaxis\": {\"title\": {\"text\": \"FLOPS\"}, \"zeroline\": false}, \"yaxis\": {\"title\": {\"text\": \"Validation Accuracy\"}, \"zeroline\": false}},\n",
       "                        {\"responsive\": true}\n",
       "                    ).then(function(){\n",
       "                            \n",
       "var gd = document.getElementById('8279dbf3-51c7-409a-9a5f-44a7b1cadb1d');\n",
       "var x = new MutationObserver(function (mutations, observer) {{\n",
       "        var display = window.getComputedStyle(gd).display;\n",
       "        if (!display || display === 'none') {{\n",
       "            console.log([gd, 'removed!']);\n",
       "            Plotly.purge(gd);\n",
       "            observer.disconnect();\n",
       "        }}\n",
       "}});\n",
       "\n",
       "// Listen for the removal of the full notebook cells\n",
       "var notebookContainer = gd.closest('#notebook-container');\n",
       "if (notebookContainer) {{\n",
       "    x.observe(notebookContainer, {childList: true});\n",
       "}}\n",
       "\n",
       "// Listen for the clearing of the current output cell\n",
       "var outputEl = gd.closest('.output');\n",
       "if (outputEl) {{\n",
       "    x.observe(outputEl, {childList: true});\n",
       "}}\n",
       "\n",
       "                        })\n",
       "                };\n",
       "                });\n",
       "            </script>\n",
       "        </div>"
      ]
     },
     "metadata": {},
     "output_type": "display_data"
    }
   ],
   "source": [
    "# Plot\n",
    "# [Reference - RGB color] http://www.n2n.pe.kr/lev-1/color.htm\n",
    "fig = go.Figure()\n",
    "\n",
    "# Add traces\n",
    "# fig.add_trace(go.Scatter(x=x_pareto_full_training, y=y_pareto_full_training,\n",
    "#                     mode='markers',\n",
    "#                     name='GA search points',\n",
    "#                     marker_color='rgb(051, 102, 204)'\n",
    "#                 ))\n",
    "\n",
    "fig.add_trace(go.Scatter(x=x_pareto_front_full_training, y=y_pareto_front_full_training,\n",
    "                    mode='lines+markers',\n",
    "                    name='Pareto Frontier (20 gen) - Full training',\n",
    "                    line_color='rgb(102, 000, 000)'  # 생상값 660000\n",
    "                ))\n",
    "\n",
    "fig.update_layout(title='Pareto Frontier',\n",
    "\n",
    "                  xaxis_title='FLOPS',\n",
    "                  yaxis_title='Validation Accuracy',\n",
    "                  \n",
    "                  yaxis_zeroline=False, xaxis_zeroline=False)\n",
    "\n",
    "fig.show()"
   ]
  },
  {
   "cell_type": "markdown",
   "metadata": {},
   "source": [
    "### full training 전 pareto frontier 와 비교해보기"
   ]
  },
  {
   "cell_type": "code",
   "execution_count": 17,
   "metadata": {},
   "outputs": [],
   "source": [
    "data_path = '../logs/_final_New_main_experiment_1_GA_27gen/'\n",
    "\n",
    "with open(os.path.join(data_path,\"train_logging.log\")) as json_file:\n",
    "    data = json.load(json_file)\n",
    "\n",
    "train_log = data['train_log']\n",
    "#############################\n",
    "# 총 20 generation 만 진행\n",
    "#############################\n",
    "# niter = len(train_log)\n",
    "niter = 20\n",
    "\n",
    "npop = len(train_log['0'])\n",
    "\n",
    "objs_fitness = []\n",
    "objs_chromo = []\n",
    "gen_num = []\n",
    "for i in range(niter):\n",
    "    gen_num.extend([i for j in range(npop)])\n",
    "    fitness_i = [train_log[str(i)][j][1] for j in range(npop)]  # [-val_acc, flops]\n",
    "    chromo_i = [train_log[str(i)][j][0] for j in range(npop)]  # [-val_acc, flops]\n",
    "    objs_fitness.append(fitness_i)\n",
    "    objs_chromo.append(chromo_i)\n",
    "\n",
    "objs_fitness = np.array(objs_fitness)\n",
    "epoch = list(range(niter))\n",
    "\n",
    "objs_fitness[:,:,0]= -1*objs_fitness[:,:,0]  # -val_acc => +val_acc\n",
    "\n",
    "y1 = objs_fitness[:,:,0].reshape(-1).tolist()  # val_accuracy 는 - 붙어있는채로 사용 => minimize 하는 pareto frontier 찾는 함수 그대로 사용\n",
    "y2 = objs_fitness[:,:,1].reshape(-1).tolist()\n",
    "idxs = [i for i in range(len(y1))]\n",
    "pareto = [0 for i in range(len(y1))]\n",
    "\n",
    "df = pd.DataFrame({'gen':gen_num,'idx': idxs, 'acc':y1, 'flops': y2})"
   ]
  },
  {
   "cell_type": "code",
   "execution_count": 18,
   "metadata": {},
   "outputs": [],
   "source": [
    "## pareto front 찾기\n",
    "data_20gen_score = df[['acc','flops']].values  # df 전부\n",
    "\n",
    "# 1) flops 에 - 붙이기 => (값이 클수록 좋은) score 로 만들기\n",
    "data_20gen_score[:, 1] = -data_20gen_score[:, 1]\n",
    "\n",
    "# 2) 파레토 프론티어 찾기\n",
    "pareto_20gen_idx = identify_pareto(data_20gen_score)\n",
    "pareto_front_20gen = data_20gen_score[pareto_20gen_idx]\n",
    "\n",
    "# 파레토 프론티어 찾은 뒤, FLOPS 에 - 붙였던거 다시 부호 바꾸기\n",
    "data_20gen_score[:, 1] = -data_20gen_score[:, 1]\n",
    "pareto_front_20gen[:, 1] = -pareto_front_20gen[:, 1]\n",
    "\n",
    "# 3) 파레토 프론티어에 있는 크로모좀 리스트 만들기\n",
    "pareto_chromos = []\n",
    "for idx in list(pareto_20gen_idx):\n",
    "    i = int(idx / 20)   # e.g. 33 => 1 * 20 + 13 => 1 gen 의 14번째 => objs_chromo[1][13]  ## 각각 0번째 ~ 19번째 있음\n",
    "    j = idx - i*20\n",
    "    temp_chromo = objs_chromo[i][j]\n",
    "    pareto_chromos.append( temp_chromo )"
   ]
  },
  {
   "cell_type": "code",
   "execution_count": 19,
   "metadata": {},
   "outputs": [],
   "source": [
    "# 파레토 프론티어 직선 그리기 위해 sorting\n",
    "pareto_front_20gen_df = pd.DataFrame(pareto_front_20gen)\n",
    "pareto_front_20gen_df.sort_values(0, inplace=True)\n",
    "pareto_front_20gen_df = pareto_front_20gen_df.values"
   ]
  },
  {
   "cell_type": "code",
   "execution_count": 20,
   "metadata": {},
   "outputs": [],
   "source": [
    "# Plot\n",
    "#  x축: FLOPS, y축: Validation accuracy\n",
    "x_all = data_20gen_score[:, 1]\n",
    "y_all = data_20gen_score[:, 0]\n",
    "x_pareto = pareto_front_20gen_df[:, 1]\n",
    "y_pareto = pareto_front_20gen_df[:, 0]"
   ]
  },
  {
   "cell_type": "code",
   "execution_count": 21,
   "metadata": {
    "scrolled": false
   },
   "outputs": [
    {
     "data": {
      "application/vnd.plotly.v1+json": {
       "config": {
        "plotlyServerURL": "https://plot.ly"
       },
       "data": [
        {
         "marker": {
          "color": "rgb(051, 102, 204)"
         },
         "mode": "markers",
         "name": "GA search points",
         "type": "scatter",
         "x": [
          319811072,
          239474800,
          273929600,
          238666096,
          222941296,
          256896880,
          329265920,
          335665664,
          320160512,
          283534208,
          352673408,
          355683584,
          309906944,
          296673152,
          277344128,
          243103984,
          267549808,
          279999872,
          272711552,
          325921280,
          632133184,
          466746176,
          632133184,
          595564992,
          614595520,
          427324800,
          569286400,
          459944576,
          522826240,
          537336320,
          497545216,
          576604224,
          674819328,
          457949440,
          517503552,
          651142784,
          490708736,
          615083840,
          493806080,
          522826240,
          427324800,
          522826240,
          518556928,
          650068480,
          632133184,
          674819328,
          466746176,
          375730304,
          564235776,
          476561408,
          537336320,
          522826240,
          529969664,
          445936768,
          440328064,
          513987648,
          518696448,
          572948800,
          582533824,
          516345536,
          566942464,
          523140160,
          440328064,
          623859648,
          543747264,
          526258432,
          632133184,
          594909248,
          638418560,
          551888256,
          681320960,
          576032192,
          466746176,
          375730304,
          464137152,
          388008064,
          510241536,
          687404032,
          554664704,
          504793280,
          593004800,
          427324800,
          414405248,
          483872256,
          615083840,
          521361280,
          522826240,
          526258432,
          388315008,
          492787584,
          641536832,
          427324800,
          566942464,
          619157824,
          474636032,
          416484096,
          585798592,
          466746176,
          447499392,
          524381888,
          557685312,
          440328064,
          677226048,
          644410944,
          457949440,
          521361280,
          444974080,
          453582464,
          615181504,
          632035520,
          427324800,
          592495552,
          554664704,
          427324800,
          414405248,
          482686336,
          576032192,
          459944576,
          457949440,
          545163392,
          638118592,
          597134592,
          508288256,
          632133184,
          571818688,
          576032192,
          492341120,
          459944576,
          486355712,
          532690304,
          427324800,
          524347008,
          452605824,
          532543808,
          509083520,
          388008064,
          554664704,
          531197440,
          573130176,
          447499392,
          453582464,
          444974080,
          427324800,
          554664704,
          457782016,
          416484096,
          482337536,
          444353216,
          445587968,
          452605824,
          516743168,
          610151808,
          427324800,
          461779264,
          403599424,
          548163072,
          526000320,
          438877056,
          512264576,
          554664704,
          466746176,
          452605824,
          470868992,
          414405248,
          445671680,
          566942464,
          526258432,
          487618368,
          683476544,
          493854912,
          565582144,
          471643328,
          522826240,
          557371392,
          568867840,
          557685312,
          427324800,
          567842368,
          375730304,
          576032192,
          448085376,
          576032192,
          440328064,
          388008064,
          427324800,
          452605824,
          457949440,
          526000320,
          490457600,
          510653120,
          447499392,
          536401536,
          554664704,
          492787584,
          554664704,
          466746176,
          459944576,
          375730304,
          427324800,
          576032192,
          375730304,
          457949440,
          554664704,
          491992320,
          427324800,
          375730304,
          523042496,
          549990784,
          548163072,
          494147904,
          571093184,
          554664704,
          576074048,
          505755968,
          455193920,
          548163072,
          522826240,
          493854912,
          632133184,
          440823360,
          447499392,
          522826240,
          447499392,
          611958592,
          512264576,
          375730304,
          491043584,
          521570560,
          440997760,
          562359232,
          492787584,
          548163072,
          547493376,
          622255168,
          615083840,
          466746176,
          427324800,
          492787584,
          557259776,
          729664640,
          538703616,
          457949440,
          427324800,
          444974080,
          515152640,
          514196928,
          457949440,
          632133184,
          375730304,
          634693376,
          576032192,
          375730304,
          441158208,
          525749184,
          554664704,
          548163072,
          548163072,
          538375744,
          504214272,
          445936768,
          440997760,
          510764736,
          435096064,
          547674752,
          537713024,
          577029760,
          632133184,
          457949440,
          429187392,
          632133184,
          375730304,
          427324800,
          468664576,
          577343680,
          466746176,
          641536832,
          445671680,
          554204288,
          394342272,
          426362112,
          576032192,
          459916672,
          522826240,
          457949440,
          414405248,
          419274496,
          427324800,
          375730304,
          560364096,
          582533824,
          475452224,
          466746176,
          554664704,
          571037376,
          554664704,
          551183680,
          468657600,
          519128960,
          528895360,
          394195776,
          569425920,
          528895360,
          588616896,
          475766144,
          554664704,
          427324800,
          554664704,
          427324800,
          457949440,
          576032192,
          589161024,
          483872256,
          375730304,
          466746176,
          576032192,
          414405248,
          615083840,
          414405248,
          466746176,
          375730304,
          491043584,
          599039040,
          427324800,
          457949440,
          510764736,
          414405248,
          394195776,
          582533824,
          375730304,
          427324800,
          414405248,
          536157376,
          645317824,
          548163072,
          562359232,
          444018368,
          661216128,
          454084736,
          560747776,
          570081664,
          375730304,
          632133184,
          457949440,
          427324800,
          498842752,
          550486080,
          469627264,
          632133184,
          447499392,
          427324800,
          510764736,
          545665664,
          492787584,
          457949440,
          615753536,
          575362496,
          582533824,
          438877056,
          447499392,
          492906176,
          493764224,
          566998272,
          375730304,
          457949440,
          498842752,
          583894144,
          504214272,
          445936768,
          622255168,
          547493376,
          536352704,
          506425664,
          477314816,
          473540800,
          615083840,
          632133184,
          440997760,
          549439680,
          521570560,
          447499392,
          440997760,
          427324800,
          521570560,
          554664704,
          472347904,
          599039040,
          615083840,
          375730304,
          547493376,
          622255168,
          534280832,
          471552640,
          457949440,
          375730304,
          447359872,
          388315008,
          403599424,
          521486848,
          557371392,
          401318272
         ],
         "y": [
          86.76,
          87.57,
          88.02,
          86.46,
          87.36,
          86.07,
          88.32,
          87.63,
          88.24,
          87.66,
          87.76,
          87.22,
          87.25,
          87.42,
          86.81,
          87.52,
          87.55,
          87.37,
          88.29,
          87.63,
          89.7,
          88.71,
          89.29,
          88.24,
          88.79,
          88.52,
          88.56,
          88.22,
          89.13,
          88.92,
          88.64,
          88.6,
          89.51,
          88.24,
          88.36,
          88.29,
          88.31,
          88.73,
          87.96,
          89.03,
          88.67,
          89.01,
          88.61,
          88.87,
          89.55,
          89.35,
          88.28,
          88.99,
          88.92,
          88.67,
          88.63,
          88.93,
          88.74,
          88.08,
          89.08,
          88.46,
          88.42,
          89.03,
          89.31,
          88.97,
          89.18,
          88.62,
          89.06,
          88.5,
          88.59,
          88.63,
          89.29,
          89.4,
          89.3,
          89.36,
          88.98,
          89.46,
          88.6,
          88.53,
          88.56,
          87.93,
          88.74,
          89.16,
          90.03,
          87.99,
          89.05,
          88.43,
          88.98,
          88.14,
          88.41,
          89.17,
          89.27,
          88.96,
          88.75,
          89.48,
          89.46,
          88.66,
          88.84,
          89.02,
          88.35,
          88.72,
          88.97,
          88.83,
          89.35,
          89.03,
          89.44,
          88.42,
          89.3,
          89.52,
          88.54,
          88.86,
          89.12,
          88.95,
          88.99,
          89.9,
          89.08,
          89.46,
          89.17,
          88.77,
          88.78,
          88.65,
          88.6,
          88.97,
          88.74,
          88.51,
          89.18,
          88.76,
          88.45,
          89.6,
          88.31,
          89.93,
          89,
          87.91,
          88.6,
          88.85,
          88.17,
          88.84,
          88.76,
          88.27,
          89.12,
          88.33,
          89.57,
          88.97,
          89.47,
          88.74,
          88.75,
          89.12,
          89.06,
          89.27,
          88.98,
          87.89,
          88.51,
          88.04,
          88.42,
          89.16,
          89.5,
          88.95,
          88.24,
          88.83,
          88.86,
          89.44,
          89.52,
          88.84,
          89.11,
          88.63,
          88.33,
          88.92,
          87.97,
          88.48,
          88.15,
          89.17,
          88.71,
          87.99,
          89.45,
          88.99,
          89.32,
          88.45,
          89.03,
          88.8,
          88.73,
          89.11,
          88.24,
          88.6,
          88.67,
          88.86,
          88.13,
          89.49,
          88.66,
          87.94,
          88.55,
          88.97,
          88.7,
          89.28,
          88.56,
          88.61,
          88.91,
          88.43,
          89.62,
          89.39,
          89.04,
          88.34,
          88.3,
          88.52,
          88.1,
          89.29,
          88.75,
          88.78,
          89.57,
          88.76,
          89.1,
          88.75,
          88.81,
          88.52,
          89.61,
          89.03,
          89.12,
          89.12,
          88.79,
          88.8,
          89.24,
          89.42,
          89.01,
          88.26,
          89.49,
          88.12,
          88.81,
          88.68,
          89.1,
          89.12,
          89.01,
          88.6,
          88.82,
          88.86,
          89.08,
          89.05,
          88.96,
          89.4,
          88.98,
          88.94,
          88.64,
          88.88,
          88.9,
          88.83,
          89.32,
          89.4,
          89.07,
          88.48,
          88.91,
          89.07,
          89.31,
          88.19,
          88.93,
          89.46,
          88.64,
          89.6,
          88.91,
          88.67,
          87.94,
          88.67,
          89.12,
          89.01,
          89.21,
          88.89,
          89.23,
          88.37,
          88.76,
          89.38,
          88.48,
          89.03,
          89.15,
          89.54,
          89.52,
          88.76,
          89.12,
          89.16,
          88.58,
          88.41,
          88.43,
          88.84,
          88.7,
          89.74,
          88.67,
          88.63,
          88.93,
          88.89,
          89.62,
          88.83,
          88.79,
          87.87,
          88.93,
          88.49,
          88.77,
          88.7,
          89.23,
          89.67,
          89.45,
          88.89,
          89.59,
          88.69,
          89.55,
          88.95,
          87.42,
          88.91,
          89.26,
          88.79,
          89.11,
          88.56,
          89.51,
          88.55,
          89.17,
          88.88,
          89.86,
          88.55,
          88.35,
          89.62,
          88.99,
          88.56,
          88.24,
          88.43,
          89.03,
          88.54,
          89.1,
          88.95,
          88.34,
          88.35,
          88.86,
          89.32,
          88.48,
          88.66,
          89.07,
          88.85,
          88.66,
          89.1,
          88.82,
          88.92,
          89.32,
          89.08,
          88.3,
          89.41,
          88.61,
          89.13,
          89.52,
          88.99,
          89.25,
          89.27,
          88.96,
          89.38,
          88.69,
          88.96,
          88.56,
          88.82,
          88.56,
          89.26,
          88.5,
          88.54,
          89.26,
          88.86,
          88.87,
          88.22,
          88.6,
          88.96,
          89.66,
          87.99,
          88.77,
          89.18,
          89.03,
          88.92,
          88.62,
          88.47,
          88.85,
          88.75,
          88.78,
          88.34,
          89.51,
          89.13,
          89.39,
          88.32,
          88.48,
          88.56,
          88.29,
          89.05,
          89.59,
          89.12,
          89.53,
          88.8,
          88.83,
          88.59,
          88.74,
          89.59,
          89.17,
          89.34,
          88.55,
          88.46,
          88.87,
          89.02,
          89.1,
          88.77,
          88.5,
          88.63,
          88.96,
          88.65,
          88.89,
          89.08,
          89.04,
          88.88
         ]
        },
        {
         "line": {
          "color": "rgb(102, 000, 000)"
         },
         "mode": "lines+markers",
         "name": "Pareto Frontier - Before full training",
         "type": "scatter",
         "x": [
          222941296,
          239474800,
          272711552,
          329265920,
          375730304,
          414405248,
          440997760,
          548163072,
          554664704
         ],
         "y": [
          87.36,
          87.57,
          88.29,
          88.32,
          88.99,
          89.32,
          89.59,
          89.61,
          90.03
         ]
        },
        {
         "line": {
          "color": "rgb(102, 000, 000)"
         },
         "mode": "lines+markers",
         "name": "Pareto Frontier - After full training",
         "type": "scatter",
         "x": [
          195924592,
          216172144,
          329265920
         ],
         "y": [
          91.63999664306641,
          92.48999700927735,
          92.54999719238282
         ]
        }
       ],
       "layout": {
        "template": {
         "data": {
          "bar": [
           {
            "error_x": {
             "color": "#2a3f5f"
            },
            "error_y": {
             "color": "#2a3f5f"
            },
            "marker": {
             "line": {
              "color": "#E5ECF6",
              "width": 0.5
             }
            },
            "type": "bar"
           }
          ],
          "barpolar": [
           {
            "marker": {
             "line": {
              "color": "#E5ECF6",
              "width": 0.5
             }
            },
            "type": "barpolar"
           }
          ],
          "carpet": [
           {
            "aaxis": {
             "endlinecolor": "#2a3f5f",
             "gridcolor": "white",
             "linecolor": "white",
             "minorgridcolor": "white",
             "startlinecolor": "#2a3f5f"
            },
            "baxis": {
             "endlinecolor": "#2a3f5f",
             "gridcolor": "white",
             "linecolor": "white",
             "minorgridcolor": "white",
             "startlinecolor": "#2a3f5f"
            },
            "type": "carpet"
           }
          ],
          "choropleth": [
           {
            "colorbar": {
             "outlinewidth": 0,
             "ticks": ""
            },
            "type": "choropleth"
           }
          ],
          "contour": [
           {
            "colorbar": {
             "outlinewidth": 0,
             "ticks": ""
            },
            "colorscale": [
             [
              0,
              "#0d0887"
             ],
             [
              0.1111111111111111,
              "#46039f"
             ],
             [
              0.2222222222222222,
              "#7201a8"
             ],
             [
              0.3333333333333333,
              "#9c179e"
             ],
             [
              0.4444444444444444,
              "#bd3786"
             ],
             [
              0.5555555555555556,
              "#d8576b"
             ],
             [
              0.6666666666666666,
              "#ed7953"
             ],
             [
              0.7777777777777778,
              "#fb9f3a"
             ],
             [
              0.8888888888888888,
              "#fdca26"
             ],
             [
              1,
              "#f0f921"
             ]
            ],
            "type": "contour"
           }
          ],
          "contourcarpet": [
           {
            "colorbar": {
             "outlinewidth": 0,
             "ticks": ""
            },
            "type": "contourcarpet"
           }
          ],
          "heatmap": [
           {
            "colorbar": {
             "outlinewidth": 0,
             "ticks": ""
            },
            "colorscale": [
             [
              0,
              "#0d0887"
             ],
             [
              0.1111111111111111,
              "#46039f"
             ],
             [
              0.2222222222222222,
              "#7201a8"
             ],
             [
              0.3333333333333333,
              "#9c179e"
             ],
             [
              0.4444444444444444,
              "#bd3786"
             ],
             [
              0.5555555555555556,
              "#d8576b"
             ],
             [
              0.6666666666666666,
              "#ed7953"
             ],
             [
              0.7777777777777778,
              "#fb9f3a"
             ],
             [
              0.8888888888888888,
              "#fdca26"
             ],
             [
              1,
              "#f0f921"
             ]
            ],
            "type": "heatmap"
           }
          ],
          "heatmapgl": [
           {
            "colorbar": {
             "outlinewidth": 0,
             "ticks": ""
            },
            "colorscale": [
             [
              0,
              "#0d0887"
             ],
             [
              0.1111111111111111,
              "#46039f"
             ],
             [
              0.2222222222222222,
              "#7201a8"
             ],
             [
              0.3333333333333333,
              "#9c179e"
             ],
             [
              0.4444444444444444,
              "#bd3786"
             ],
             [
              0.5555555555555556,
              "#d8576b"
             ],
             [
              0.6666666666666666,
              "#ed7953"
             ],
             [
              0.7777777777777778,
              "#fb9f3a"
             ],
             [
              0.8888888888888888,
              "#fdca26"
             ],
             [
              1,
              "#f0f921"
             ]
            ],
            "type": "heatmapgl"
           }
          ],
          "histogram": [
           {
            "marker": {
             "colorbar": {
              "outlinewidth": 0,
              "ticks": ""
             }
            },
            "type": "histogram"
           }
          ],
          "histogram2d": [
           {
            "colorbar": {
             "outlinewidth": 0,
             "ticks": ""
            },
            "colorscale": [
             [
              0,
              "#0d0887"
             ],
             [
              0.1111111111111111,
              "#46039f"
             ],
             [
              0.2222222222222222,
              "#7201a8"
             ],
             [
              0.3333333333333333,
              "#9c179e"
             ],
             [
              0.4444444444444444,
              "#bd3786"
             ],
             [
              0.5555555555555556,
              "#d8576b"
             ],
             [
              0.6666666666666666,
              "#ed7953"
             ],
             [
              0.7777777777777778,
              "#fb9f3a"
             ],
             [
              0.8888888888888888,
              "#fdca26"
             ],
             [
              1,
              "#f0f921"
             ]
            ],
            "type": "histogram2d"
           }
          ],
          "histogram2dcontour": [
           {
            "colorbar": {
             "outlinewidth": 0,
             "ticks": ""
            },
            "colorscale": [
             [
              0,
              "#0d0887"
             ],
             [
              0.1111111111111111,
              "#46039f"
             ],
             [
              0.2222222222222222,
              "#7201a8"
             ],
             [
              0.3333333333333333,
              "#9c179e"
             ],
             [
              0.4444444444444444,
              "#bd3786"
             ],
             [
              0.5555555555555556,
              "#d8576b"
             ],
             [
              0.6666666666666666,
              "#ed7953"
             ],
             [
              0.7777777777777778,
              "#fb9f3a"
             ],
             [
              0.8888888888888888,
              "#fdca26"
             ],
             [
              1,
              "#f0f921"
             ]
            ],
            "type": "histogram2dcontour"
           }
          ],
          "mesh3d": [
           {
            "colorbar": {
             "outlinewidth": 0,
             "ticks": ""
            },
            "type": "mesh3d"
           }
          ],
          "parcoords": [
           {
            "line": {
             "colorbar": {
              "outlinewidth": 0,
              "ticks": ""
             }
            },
            "type": "parcoords"
           }
          ],
          "pie": [
           {
            "automargin": true,
            "type": "pie"
           }
          ],
          "scatter": [
           {
            "marker": {
             "colorbar": {
              "outlinewidth": 0,
              "ticks": ""
             }
            },
            "type": "scatter"
           }
          ],
          "scatter3d": [
           {
            "line": {
             "colorbar": {
              "outlinewidth": 0,
              "ticks": ""
             }
            },
            "marker": {
             "colorbar": {
              "outlinewidth": 0,
              "ticks": ""
             }
            },
            "type": "scatter3d"
           }
          ],
          "scattercarpet": [
           {
            "marker": {
             "colorbar": {
              "outlinewidth": 0,
              "ticks": ""
             }
            },
            "type": "scattercarpet"
           }
          ],
          "scattergeo": [
           {
            "marker": {
             "colorbar": {
              "outlinewidth": 0,
              "ticks": ""
             }
            },
            "type": "scattergeo"
           }
          ],
          "scattergl": [
           {
            "marker": {
             "colorbar": {
              "outlinewidth": 0,
              "ticks": ""
             }
            },
            "type": "scattergl"
           }
          ],
          "scattermapbox": [
           {
            "marker": {
             "colorbar": {
              "outlinewidth": 0,
              "ticks": ""
             }
            },
            "type": "scattermapbox"
           }
          ],
          "scatterpolar": [
           {
            "marker": {
             "colorbar": {
              "outlinewidth": 0,
              "ticks": ""
             }
            },
            "type": "scatterpolar"
           }
          ],
          "scatterpolargl": [
           {
            "marker": {
             "colorbar": {
              "outlinewidth": 0,
              "ticks": ""
             }
            },
            "type": "scatterpolargl"
           }
          ],
          "scatterternary": [
           {
            "marker": {
             "colorbar": {
              "outlinewidth": 0,
              "ticks": ""
             }
            },
            "type": "scatterternary"
           }
          ],
          "surface": [
           {
            "colorbar": {
             "outlinewidth": 0,
             "ticks": ""
            },
            "colorscale": [
             [
              0,
              "#0d0887"
             ],
             [
              0.1111111111111111,
              "#46039f"
             ],
             [
              0.2222222222222222,
              "#7201a8"
             ],
             [
              0.3333333333333333,
              "#9c179e"
             ],
             [
              0.4444444444444444,
              "#bd3786"
             ],
             [
              0.5555555555555556,
              "#d8576b"
             ],
             [
              0.6666666666666666,
              "#ed7953"
             ],
             [
              0.7777777777777778,
              "#fb9f3a"
             ],
             [
              0.8888888888888888,
              "#fdca26"
             ],
             [
              1,
              "#f0f921"
             ]
            ],
            "type": "surface"
           }
          ],
          "table": [
           {
            "cells": {
             "fill": {
              "color": "#EBF0F8"
             },
             "line": {
              "color": "white"
             }
            },
            "header": {
             "fill": {
              "color": "#C8D4E3"
             },
             "line": {
              "color": "white"
             }
            },
            "type": "table"
           }
          ]
         },
         "layout": {
          "annotationdefaults": {
           "arrowcolor": "#2a3f5f",
           "arrowhead": 0,
           "arrowwidth": 1
          },
          "coloraxis": {
           "colorbar": {
            "outlinewidth": 0,
            "ticks": ""
           }
          },
          "colorscale": {
           "diverging": [
            [
             0,
             "#8e0152"
            ],
            [
             0.1,
             "#c51b7d"
            ],
            [
             0.2,
             "#de77ae"
            ],
            [
             0.3,
             "#f1b6da"
            ],
            [
             0.4,
             "#fde0ef"
            ],
            [
             0.5,
             "#f7f7f7"
            ],
            [
             0.6,
             "#e6f5d0"
            ],
            [
             0.7,
             "#b8e186"
            ],
            [
             0.8,
             "#7fbc41"
            ],
            [
             0.9,
             "#4d9221"
            ],
            [
             1,
             "#276419"
            ]
           ],
           "sequential": [
            [
             0,
             "#0d0887"
            ],
            [
             0.1111111111111111,
             "#46039f"
            ],
            [
             0.2222222222222222,
             "#7201a8"
            ],
            [
             0.3333333333333333,
             "#9c179e"
            ],
            [
             0.4444444444444444,
             "#bd3786"
            ],
            [
             0.5555555555555556,
             "#d8576b"
            ],
            [
             0.6666666666666666,
             "#ed7953"
            ],
            [
             0.7777777777777778,
             "#fb9f3a"
            ],
            [
             0.8888888888888888,
             "#fdca26"
            ],
            [
             1,
             "#f0f921"
            ]
           ],
           "sequentialminus": [
            [
             0,
             "#0d0887"
            ],
            [
             0.1111111111111111,
             "#46039f"
            ],
            [
             0.2222222222222222,
             "#7201a8"
            ],
            [
             0.3333333333333333,
             "#9c179e"
            ],
            [
             0.4444444444444444,
             "#bd3786"
            ],
            [
             0.5555555555555556,
             "#d8576b"
            ],
            [
             0.6666666666666666,
             "#ed7953"
            ],
            [
             0.7777777777777778,
             "#fb9f3a"
            ],
            [
             0.8888888888888888,
             "#fdca26"
            ],
            [
             1,
             "#f0f921"
            ]
           ]
          },
          "colorway": [
           "#636efa",
           "#EF553B",
           "#00cc96",
           "#ab63fa",
           "#FFA15A",
           "#19d3f3",
           "#FF6692",
           "#B6E880",
           "#FF97FF",
           "#FECB52"
          ],
          "font": {
           "color": "#2a3f5f"
          },
          "geo": {
           "bgcolor": "white",
           "lakecolor": "white",
           "landcolor": "#E5ECF6",
           "showlakes": true,
           "showland": true,
           "subunitcolor": "white"
          },
          "hoverlabel": {
           "align": "left"
          },
          "hovermode": "closest",
          "mapbox": {
           "style": "light"
          },
          "paper_bgcolor": "white",
          "plot_bgcolor": "#E5ECF6",
          "polar": {
           "angularaxis": {
            "gridcolor": "white",
            "linecolor": "white",
            "ticks": ""
           },
           "bgcolor": "#E5ECF6",
           "radialaxis": {
            "gridcolor": "white",
            "linecolor": "white",
            "ticks": ""
           }
          },
          "scene": {
           "xaxis": {
            "backgroundcolor": "#E5ECF6",
            "gridcolor": "white",
            "gridwidth": 2,
            "linecolor": "white",
            "showbackground": true,
            "ticks": "",
            "zerolinecolor": "white"
           },
           "yaxis": {
            "backgroundcolor": "#E5ECF6",
            "gridcolor": "white",
            "gridwidth": 2,
            "linecolor": "white",
            "showbackground": true,
            "ticks": "",
            "zerolinecolor": "white"
           },
           "zaxis": {
            "backgroundcolor": "#E5ECF6",
            "gridcolor": "white",
            "gridwidth": 2,
            "linecolor": "white",
            "showbackground": true,
            "ticks": "",
            "zerolinecolor": "white"
           }
          },
          "shapedefaults": {
           "line": {
            "color": "#2a3f5f"
           }
          },
          "ternary": {
           "aaxis": {
            "gridcolor": "white",
            "linecolor": "white",
            "ticks": ""
           },
           "baxis": {
            "gridcolor": "white",
            "linecolor": "white",
            "ticks": ""
           },
           "bgcolor": "#E5ECF6",
           "caxis": {
            "gridcolor": "white",
            "linecolor": "white",
            "ticks": ""
           }
          },
          "title": {
           "x": 0.05
          },
          "xaxis": {
           "automargin": true,
           "gridcolor": "white",
           "linecolor": "white",
           "ticks": "",
           "title": {
            "standoff": 15
           },
           "zerolinecolor": "white",
           "zerolinewidth": 2
          },
          "yaxis": {
           "automargin": true,
           "gridcolor": "white",
           "linecolor": "white",
           "ticks": "",
           "title": {
            "standoff": 15
           },
           "zerolinecolor": "white",
           "zerolinewidth": 2
          }
         }
        },
        "title": {
         "text": "GA history & Pareto Frontier"
        },
        "xaxis": {
         "title": {
          "text": "FLOPS"
         },
         "zeroline": false
        },
        "yaxis": {
         "title": {
          "text": "Validation Accuracy"
         },
         "zeroline": false
        }
       }
      },
      "text/html": [
       "<div>\n",
       "        \n",
       "        \n",
       "            <div id=\"5844fddc-8677-4ddf-9288-adf33fc8ea1e\" class=\"plotly-graph-div\" style=\"height:525px; width:100%;\"></div>\n",
       "            <script type=\"text/javascript\">\n",
       "                require([\"plotly\"], function(Plotly) {\n",
       "                    window.PLOTLYENV=window.PLOTLYENV || {};\n",
       "                    \n",
       "                if (document.getElementById(\"5844fddc-8677-4ddf-9288-adf33fc8ea1e\")) {\n",
       "                    Plotly.newPlot(\n",
       "                        '5844fddc-8677-4ddf-9288-adf33fc8ea1e',\n",
       "                        [{\"marker\": {\"color\": \"rgb(051, 102, 204)\"}, \"mode\": \"markers\", \"name\": \"GA search points\", \"type\": \"scatter\", \"x\": [319811072.0, 239474800.0, 273929600.0, 238666096.0, 222941296.0, 256896880.0, 329265920.0, 335665664.0, 320160512.0, 283534208.0, 352673408.0, 355683584.0, 309906944.0, 296673152.0, 277344128.0, 243103984.0, 267549808.0, 279999872.0, 272711552.0, 325921280.0, 632133184.0, 466746176.0, 632133184.0, 595564992.0, 614595520.0, 427324800.0, 569286400.0, 459944576.0, 522826240.0, 537336320.0, 497545216.0, 576604224.0, 674819328.0, 457949440.0, 517503552.0, 651142784.0, 490708736.0, 615083840.0, 493806080.0, 522826240.0, 427324800.0, 522826240.0, 518556928.0, 650068480.0, 632133184.0, 674819328.0, 466746176.0, 375730304.0, 564235776.0, 476561408.0, 537336320.0, 522826240.0, 529969664.0, 445936768.0, 440328064.0, 513987648.0, 518696448.0, 572948800.0, 582533824.0, 516345536.0, 566942464.0, 523140160.0, 440328064.0, 623859648.0, 543747264.0, 526258432.0, 632133184.0, 594909248.0, 638418560.0, 551888256.0, 681320960.0, 576032192.0, 466746176.0, 375730304.0, 464137152.0, 388008064.0, 510241536.0, 687404032.0, 554664704.0, 504793280.0, 593004800.0, 427324800.0, 414405248.0, 483872256.0, 615083840.0, 521361280.0, 522826240.0, 526258432.0, 388315008.0, 492787584.0, 641536832.0, 427324800.0, 566942464.0, 619157824.0, 474636032.0, 416484096.0, 585798592.0, 466746176.0, 447499392.0, 524381888.0, 557685312.0, 440328064.0, 677226048.0, 644410944.0, 457949440.0, 521361280.0, 444974080.0, 453582464.0, 615181504.0, 632035520.0, 427324800.0, 592495552.0, 554664704.0, 427324800.0, 414405248.0, 482686336.0, 576032192.0, 459944576.0, 457949440.0, 545163392.0, 638118592.0, 597134592.0, 508288256.0, 632133184.0, 571818688.0, 576032192.0, 492341120.0, 459944576.0, 486355712.0, 532690304.0, 427324800.0, 524347008.0, 452605824.0, 532543808.0, 509083520.0, 388008064.0, 554664704.0, 531197440.0, 573130176.0, 447499392.0, 453582464.0, 444974080.0, 427324800.0, 554664704.0, 457782016.0, 416484096.0, 482337536.0, 444353216.0, 445587968.0, 452605824.0, 516743168.0, 610151808.0, 427324800.0, 461779264.0, 403599424.0, 548163072.0, 526000320.0, 438877056.0, 512264576.0, 554664704.0, 466746176.0, 452605824.0, 470868992.0, 414405248.0, 445671680.0, 566942464.0, 526258432.0, 487618368.0, 683476544.0, 493854912.0, 565582144.0, 471643328.0, 522826240.0, 557371392.0, 568867840.0, 557685312.0, 427324800.0, 567842368.0, 375730304.0, 576032192.0, 448085376.0, 576032192.0, 440328064.0, 388008064.0, 427324800.0, 452605824.0, 457949440.0, 526000320.0, 490457600.0, 510653120.0, 447499392.0, 536401536.0, 554664704.0, 492787584.0, 554664704.0, 466746176.0, 459944576.0, 375730304.0, 427324800.0, 576032192.0, 375730304.0, 457949440.0, 554664704.0, 491992320.0, 427324800.0, 375730304.0, 523042496.0, 549990784.0, 548163072.0, 494147904.0, 571093184.0, 554664704.0, 576074048.0, 505755968.0, 455193920.0, 548163072.0, 522826240.0, 493854912.0, 632133184.0, 440823360.0, 447499392.0, 522826240.0, 447499392.0, 611958592.0, 512264576.0, 375730304.0, 491043584.0, 521570560.0, 440997760.0, 562359232.0, 492787584.0, 548163072.0, 547493376.0, 622255168.0, 615083840.0, 466746176.0, 427324800.0, 492787584.0, 557259776.0, 729664640.0, 538703616.0, 457949440.0, 427324800.0, 444974080.0, 515152640.0, 514196928.0, 457949440.0, 632133184.0, 375730304.0, 634693376.0, 576032192.0, 375730304.0, 441158208.0, 525749184.0, 554664704.0, 548163072.0, 548163072.0, 538375744.0, 504214272.0, 445936768.0, 440997760.0, 510764736.0, 435096064.0, 547674752.0, 537713024.0, 577029760.0, 632133184.0, 457949440.0, 429187392.0, 632133184.0, 375730304.0, 427324800.0, 468664576.0, 577343680.0, 466746176.0, 641536832.0, 445671680.0, 554204288.0, 394342272.0, 426362112.0, 576032192.0, 459916672.0, 522826240.0, 457949440.0, 414405248.0, 419274496.0, 427324800.0, 375730304.0, 560364096.0, 582533824.0, 475452224.0, 466746176.0, 554664704.0, 571037376.0, 554664704.0, 551183680.0, 468657600.0, 519128960.0, 528895360.0, 394195776.0, 569425920.0, 528895360.0, 588616896.0, 475766144.0, 554664704.0, 427324800.0, 554664704.0, 427324800.0, 457949440.0, 576032192.0, 589161024.0, 483872256.0, 375730304.0, 466746176.0, 576032192.0, 414405248.0, 615083840.0, 414405248.0, 466746176.0, 375730304.0, 491043584.0, 599039040.0, 427324800.0, 457949440.0, 510764736.0, 414405248.0, 394195776.0, 582533824.0, 375730304.0, 427324800.0, 414405248.0, 536157376.0, 645317824.0, 548163072.0, 562359232.0, 444018368.0, 661216128.0, 454084736.0, 560747776.0, 570081664.0, 375730304.0, 632133184.0, 457949440.0, 427324800.0, 498842752.0, 550486080.0, 469627264.0, 632133184.0, 447499392.0, 427324800.0, 510764736.0, 545665664.0, 492787584.0, 457949440.0, 615753536.0, 575362496.0, 582533824.0, 438877056.0, 447499392.0, 492906176.0, 493764224.0, 566998272.0, 375730304.0, 457949440.0, 498842752.0, 583894144.0, 504214272.0, 445936768.0, 622255168.0, 547493376.0, 536352704.0, 506425664.0, 477314816.0, 473540800.0, 615083840.0, 632133184.0, 440997760.0, 549439680.0, 521570560.0, 447499392.0, 440997760.0, 427324800.0, 521570560.0, 554664704.0, 472347904.0, 599039040.0, 615083840.0, 375730304.0, 547493376.0, 622255168.0, 534280832.0, 471552640.0, 457949440.0, 375730304.0, 447359872.0, 388315008.0, 403599424.0, 521486848.0, 557371392.0, 401318272.0], \"y\": [86.76, 87.57, 88.02, 86.46, 87.36, 86.07, 88.32, 87.63, 88.24, 87.66, 87.76, 87.22, 87.25, 87.42, 86.81, 87.52, 87.55, 87.37, 88.29, 87.63, 89.7, 88.71, 89.29, 88.24, 88.79, 88.52, 88.56, 88.22, 89.13, 88.92, 88.64, 88.6, 89.51, 88.24, 88.36, 88.29, 88.31, 88.73, 87.96, 89.03, 88.67, 89.01, 88.61, 88.87, 89.55, 89.35, 88.28, 88.99, 88.92, 88.67, 88.63, 88.93, 88.74, 88.08, 89.08, 88.46, 88.42, 89.03, 89.31, 88.97, 89.18, 88.62, 89.06, 88.5, 88.59, 88.63, 89.29, 89.4, 89.3, 89.36, 88.98, 89.46, 88.6, 88.53, 88.56, 87.93, 88.74, 89.16, 90.03, 87.99, 89.05, 88.43, 88.98, 88.14, 88.41, 89.17, 89.27, 88.96, 88.75, 89.48, 89.46, 88.66, 88.84, 89.02, 88.35, 88.72, 88.97, 88.83, 89.35, 89.03, 89.44, 88.42, 89.3, 89.52, 88.54, 88.86, 89.12, 88.95, 88.99, 89.9, 89.08, 89.46, 89.17, 88.77, 88.78, 88.65, 88.6, 88.97, 88.74, 88.51, 89.18, 88.76, 88.45, 89.6, 88.31, 89.93, 89.0, 87.91, 88.6, 88.85, 88.17, 88.84, 88.76, 88.27, 89.12, 88.33, 89.57, 88.97, 89.47, 88.74, 88.75, 89.12, 89.06, 89.27, 88.98, 87.89, 88.51, 88.04, 88.42, 89.16, 89.5, 88.95, 88.24, 88.83, 88.86, 89.44, 89.52, 88.84, 89.11, 88.63, 88.33, 88.92, 87.97, 88.48, 88.15, 89.17, 88.71, 87.99, 89.45, 88.99, 89.32, 88.45, 89.03, 88.8, 88.73, 89.11, 88.24, 88.6, 88.67, 88.86, 88.13, 89.49, 88.66, 87.94, 88.55, 88.97, 88.7, 89.28, 88.56, 88.61, 88.91, 88.43, 89.62, 89.39, 89.04, 88.34, 88.3, 88.52, 88.1, 89.29, 88.75, 88.78, 89.57, 88.76, 89.1, 88.75, 88.81, 88.52, 89.61, 89.03, 89.12, 89.12, 88.79, 88.8, 89.24, 89.42, 89.01, 88.26, 89.49, 88.12, 88.81, 88.68, 89.1, 89.12, 89.01, 88.6, 88.82, 88.86, 89.08, 89.05, 88.96, 89.4, 88.98, 88.94, 88.64, 88.88, 88.9, 88.83, 89.32, 89.4, 89.07, 88.48, 88.91, 89.07, 89.31, 88.19, 88.93, 89.46, 88.64, 89.6, 88.91, 88.67, 87.94, 88.67, 89.12, 89.01, 89.21, 88.89, 89.23, 88.37, 88.76, 89.38, 88.48, 89.03, 89.15, 89.54, 89.52, 88.76, 89.12, 89.16, 88.58, 88.41, 88.43, 88.84, 88.7, 89.74, 88.67, 88.63, 88.93, 88.89, 89.62, 88.83, 88.79, 87.87, 88.93, 88.49, 88.77, 88.7, 89.23, 89.67, 89.45, 88.89, 89.59, 88.69, 89.55, 88.95, 87.42, 88.91, 89.26, 88.79, 89.11, 88.56, 89.51, 88.55, 89.17, 88.88, 89.86, 88.55, 88.35, 89.62, 88.99, 88.56, 88.24, 88.43, 89.03, 88.54, 89.1, 88.95, 88.34, 88.35, 88.86, 89.32, 88.48, 88.66, 89.07, 88.85, 88.66, 89.1, 88.82, 88.92, 89.32, 89.08, 88.3, 89.41, 88.61, 89.13, 89.52, 88.99, 89.25, 89.27, 88.96, 89.38, 88.69, 88.96, 88.56, 88.82, 88.56, 89.26, 88.5, 88.54, 89.26, 88.86, 88.87, 88.22, 88.6, 88.96, 89.66, 87.99, 88.77, 89.18, 89.03, 88.92, 88.62, 88.47, 88.85, 88.75, 88.78, 88.34, 89.51, 89.13, 89.39, 88.32, 88.48, 88.56, 88.29, 89.05, 89.59, 89.12, 89.53, 88.8, 88.83, 88.59, 88.74, 89.59, 89.17, 89.34, 88.55, 88.46, 88.87, 89.02, 89.1, 88.77, 88.5, 88.63, 88.96, 88.65, 88.89, 89.08, 89.04, 88.88]}, {\"line\": {\"color\": \"rgb(102, 000, 000)\"}, \"mode\": \"lines+markers\", \"name\": \"Pareto Frontier - Before full training\", \"type\": \"scatter\", \"x\": [222941296.0, 239474800.0, 272711552.0, 329265920.0, 375730304.0, 414405248.0, 440997760.0, 548163072.0, 554664704.0], \"y\": [87.36, 87.57, 88.29, 88.32, 88.99, 89.32, 89.59, 89.61, 90.03]}, {\"line\": {\"color\": \"rgb(102, 000, 000)\"}, \"mode\": \"lines+markers\", \"name\": \"Pareto Frontier - After full training\", \"type\": \"scatter\", \"x\": [195924592.0, 216172144.0, 329265920.0], \"y\": [91.63999664306641, 92.48999700927735, 92.54999719238282]}],\n",
       "                        {\"template\": {\"data\": {\"bar\": [{\"error_x\": {\"color\": \"#2a3f5f\"}, \"error_y\": {\"color\": \"#2a3f5f\"}, \"marker\": {\"line\": {\"color\": \"#E5ECF6\", \"width\": 0.5}}, \"type\": \"bar\"}], \"barpolar\": [{\"marker\": {\"line\": {\"color\": \"#E5ECF6\", \"width\": 0.5}}, \"type\": \"barpolar\"}], \"carpet\": [{\"aaxis\": {\"endlinecolor\": \"#2a3f5f\", \"gridcolor\": \"white\", \"linecolor\": \"white\", \"minorgridcolor\": \"white\", \"startlinecolor\": \"#2a3f5f\"}, \"baxis\": {\"endlinecolor\": \"#2a3f5f\", \"gridcolor\": \"white\", \"linecolor\": \"white\", \"minorgridcolor\": \"white\", \"startlinecolor\": \"#2a3f5f\"}, \"type\": \"carpet\"}], \"choropleth\": [{\"colorbar\": {\"outlinewidth\": 0, \"ticks\": \"\"}, \"type\": \"choropleth\"}], \"contour\": [{\"colorbar\": {\"outlinewidth\": 0, \"ticks\": \"\"}, \"colorscale\": [[0.0, \"#0d0887\"], [0.1111111111111111, \"#46039f\"], [0.2222222222222222, \"#7201a8\"], [0.3333333333333333, \"#9c179e\"], [0.4444444444444444, \"#bd3786\"], [0.5555555555555556, \"#d8576b\"], [0.6666666666666666, \"#ed7953\"], [0.7777777777777778, \"#fb9f3a\"], [0.8888888888888888, \"#fdca26\"], [1.0, \"#f0f921\"]], \"type\": \"contour\"}], \"contourcarpet\": [{\"colorbar\": {\"outlinewidth\": 0, \"ticks\": \"\"}, \"type\": \"contourcarpet\"}], \"heatmap\": [{\"colorbar\": {\"outlinewidth\": 0, \"ticks\": \"\"}, \"colorscale\": [[0.0, \"#0d0887\"], [0.1111111111111111, \"#46039f\"], [0.2222222222222222, \"#7201a8\"], [0.3333333333333333, \"#9c179e\"], [0.4444444444444444, \"#bd3786\"], [0.5555555555555556, \"#d8576b\"], [0.6666666666666666, \"#ed7953\"], [0.7777777777777778, \"#fb9f3a\"], [0.8888888888888888, \"#fdca26\"], [1.0, \"#f0f921\"]], \"type\": \"heatmap\"}], \"heatmapgl\": [{\"colorbar\": {\"outlinewidth\": 0, \"ticks\": \"\"}, \"colorscale\": [[0.0, \"#0d0887\"], [0.1111111111111111, \"#46039f\"], [0.2222222222222222, \"#7201a8\"], [0.3333333333333333, \"#9c179e\"], [0.4444444444444444, \"#bd3786\"], [0.5555555555555556, \"#d8576b\"], [0.6666666666666666, \"#ed7953\"], [0.7777777777777778, \"#fb9f3a\"], [0.8888888888888888, \"#fdca26\"], [1.0, \"#f0f921\"]], \"type\": \"heatmapgl\"}], \"histogram\": [{\"marker\": {\"colorbar\": {\"outlinewidth\": 0, \"ticks\": \"\"}}, \"type\": \"histogram\"}], \"histogram2d\": [{\"colorbar\": {\"outlinewidth\": 0, \"ticks\": \"\"}, \"colorscale\": [[0.0, \"#0d0887\"], [0.1111111111111111, \"#46039f\"], [0.2222222222222222, \"#7201a8\"], [0.3333333333333333, \"#9c179e\"], [0.4444444444444444, \"#bd3786\"], [0.5555555555555556, \"#d8576b\"], [0.6666666666666666, \"#ed7953\"], [0.7777777777777778, \"#fb9f3a\"], [0.8888888888888888, \"#fdca26\"], [1.0, \"#f0f921\"]], \"type\": \"histogram2d\"}], \"histogram2dcontour\": [{\"colorbar\": {\"outlinewidth\": 0, \"ticks\": \"\"}, \"colorscale\": [[0.0, \"#0d0887\"], [0.1111111111111111, \"#46039f\"], [0.2222222222222222, \"#7201a8\"], [0.3333333333333333, \"#9c179e\"], [0.4444444444444444, \"#bd3786\"], [0.5555555555555556, \"#d8576b\"], [0.6666666666666666, \"#ed7953\"], [0.7777777777777778, \"#fb9f3a\"], [0.8888888888888888, \"#fdca26\"], [1.0, \"#f0f921\"]], \"type\": \"histogram2dcontour\"}], \"mesh3d\": [{\"colorbar\": {\"outlinewidth\": 0, \"ticks\": \"\"}, \"type\": \"mesh3d\"}], \"parcoords\": [{\"line\": {\"colorbar\": {\"outlinewidth\": 0, \"ticks\": \"\"}}, \"type\": \"parcoords\"}], \"pie\": [{\"automargin\": true, \"type\": \"pie\"}], \"scatter\": [{\"marker\": {\"colorbar\": {\"outlinewidth\": 0, \"ticks\": \"\"}}, \"type\": \"scatter\"}], \"scatter3d\": [{\"line\": {\"colorbar\": {\"outlinewidth\": 0, \"ticks\": \"\"}}, \"marker\": {\"colorbar\": {\"outlinewidth\": 0, \"ticks\": \"\"}}, \"type\": \"scatter3d\"}], \"scattercarpet\": [{\"marker\": {\"colorbar\": {\"outlinewidth\": 0, \"ticks\": \"\"}}, \"type\": \"scattercarpet\"}], \"scattergeo\": [{\"marker\": {\"colorbar\": {\"outlinewidth\": 0, \"ticks\": \"\"}}, \"type\": \"scattergeo\"}], \"scattergl\": [{\"marker\": {\"colorbar\": {\"outlinewidth\": 0, \"ticks\": \"\"}}, \"type\": \"scattergl\"}], \"scattermapbox\": [{\"marker\": {\"colorbar\": {\"outlinewidth\": 0, \"ticks\": \"\"}}, \"type\": \"scattermapbox\"}], \"scatterpolar\": [{\"marker\": {\"colorbar\": {\"outlinewidth\": 0, \"ticks\": \"\"}}, \"type\": \"scatterpolar\"}], \"scatterpolargl\": [{\"marker\": {\"colorbar\": {\"outlinewidth\": 0, \"ticks\": \"\"}}, \"type\": \"scatterpolargl\"}], \"scatterternary\": [{\"marker\": {\"colorbar\": {\"outlinewidth\": 0, \"ticks\": \"\"}}, \"type\": \"scatterternary\"}], \"surface\": [{\"colorbar\": {\"outlinewidth\": 0, \"ticks\": \"\"}, \"colorscale\": [[0.0, \"#0d0887\"], [0.1111111111111111, \"#46039f\"], [0.2222222222222222, \"#7201a8\"], [0.3333333333333333, \"#9c179e\"], [0.4444444444444444, \"#bd3786\"], [0.5555555555555556, \"#d8576b\"], [0.6666666666666666, \"#ed7953\"], [0.7777777777777778, \"#fb9f3a\"], [0.8888888888888888, \"#fdca26\"], [1.0, \"#f0f921\"]], \"type\": \"surface\"}], \"table\": [{\"cells\": {\"fill\": {\"color\": \"#EBF0F8\"}, \"line\": {\"color\": \"white\"}}, \"header\": {\"fill\": {\"color\": \"#C8D4E3\"}, \"line\": {\"color\": \"white\"}}, \"type\": \"table\"}]}, \"layout\": {\"annotationdefaults\": {\"arrowcolor\": \"#2a3f5f\", \"arrowhead\": 0, \"arrowwidth\": 1}, \"coloraxis\": {\"colorbar\": {\"outlinewidth\": 0, \"ticks\": \"\"}}, \"colorscale\": {\"diverging\": [[0, \"#8e0152\"], [0.1, \"#c51b7d\"], [0.2, \"#de77ae\"], [0.3, \"#f1b6da\"], [0.4, \"#fde0ef\"], [0.5, \"#f7f7f7\"], [0.6, \"#e6f5d0\"], [0.7, \"#b8e186\"], [0.8, \"#7fbc41\"], [0.9, \"#4d9221\"], [1, \"#276419\"]], \"sequential\": [[0.0, \"#0d0887\"], [0.1111111111111111, \"#46039f\"], [0.2222222222222222, \"#7201a8\"], [0.3333333333333333, \"#9c179e\"], [0.4444444444444444, \"#bd3786\"], [0.5555555555555556, \"#d8576b\"], [0.6666666666666666, \"#ed7953\"], [0.7777777777777778, \"#fb9f3a\"], [0.8888888888888888, \"#fdca26\"], [1.0, \"#f0f921\"]], \"sequentialminus\": [[0.0, \"#0d0887\"], [0.1111111111111111, \"#46039f\"], [0.2222222222222222, \"#7201a8\"], [0.3333333333333333, \"#9c179e\"], [0.4444444444444444, \"#bd3786\"], [0.5555555555555556, \"#d8576b\"], [0.6666666666666666, \"#ed7953\"], [0.7777777777777778, \"#fb9f3a\"], [0.8888888888888888, \"#fdca26\"], [1.0, \"#f0f921\"]]}, \"colorway\": [\"#636efa\", \"#EF553B\", \"#00cc96\", \"#ab63fa\", \"#FFA15A\", \"#19d3f3\", \"#FF6692\", \"#B6E880\", \"#FF97FF\", \"#FECB52\"], \"font\": {\"color\": \"#2a3f5f\"}, \"geo\": {\"bgcolor\": \"white\", \"lakecolor\": \"white\", \"landcolor\": \"#E5ECF6\", \"showlakes\": true, \"showland\": true, \"subunitcolor\": \"white\"}, \"hoverlabel\": {\"align\": \"left\"}, \"hovermode\": \"closest\", \"mapbox\": {\"style\": \"light\"}, \"paper_bgcolor\": \"white\", \"plot_bgcolor\": \"#E5ECF6\", \"polar\": {\"angularaxis\": {\"gridcolor\": \"white\", \"linecolor\": \"white\", \"ticks\": \"\"}, \"bgcolor\": \"#E5ECF6\", \"radialaxis\": {\"gridcolor\": \"white\", \"linecolor\": \"white\", \"ticks\": \"\"}}, \"scene\": {\"xaxis\": {\"backgroundcolor\": \"#E5ECF6\", \"gridcolor\": \"white\", \"gridwidth\": 2, \"linecolor\": \"white\", \"showbackground\": true, \"ticks\": \"\", \"zerolinecolor\": \"white\"}, \"yaxis\": {\"backgroundcolor\": \"#E5ECF6\", \"gridcolor\": \"white\", \"gridwidth\": 2, \"linecolor\": \"white\", \"showbackground\": true, \"ticks\": \"\", \"zerolinecolor\": \"white\"}, \"zaxis\": {\"backgroundcolor\": \"#E5ECF6\", \"gridcolor\": \"white\", \"gridwidth\": 2, \"linecolor\": \"white\", \"showbackground\": true, \"ticks\": \"\", \"zerolinecolor\": \"white\"}}, \"shapedefaults\": {\"line\": {\"color\": \"#2a3f5f\"}}, \"ternary\": {\"aaxis\": {\"gridcolor\": \"white\", \"linecolor\": \"white\", \"ticks\": \"\"}, \"baxis\": {\"gridcolor\": \"white\", \"linecolor\": \"white\", \"ticks\": \"\"}, \"bgcolor\": \"#E5ECF6\", \"caxis\": {\"gridcolor\": \"white\", \"linecolor\": \"white\", \"ticks\": \"\"}}, \"title\": {\"x\": 0.05}, \"xaxis\": {\"automargin\": true, \"gridcolor\": \"white\", \"linecolor\": \"white\", \"ticks\": \"\", \"title\": {\"standoff\": 15}, \"zerolinecolor\": \"white\", \"zerolinewidth\": 2}, \"yaxis\": {\"automargin\": true, \"gridcolor\": \"white\", \"linecolor\": \"white\", \"ticks\": \"\", \"title\": {\"standoff\": 15}, \"zerolinecolor\": \"white\", \"zerolinewidth\": 2}}}, \"title\": {\"text\": \"GA history & Pareto Frontier\"}, \"xaxis\": {\"title\": {\"text\": \"FLOPS\"}, \"zeroline\": false}, \"yaxis\": {\"title\": {\"text\": \"Validation Accuracy\"}, \"zeroline\": false}},\n",
       "                        {\"responsive\": true}\n",
       "                    ).then(function(){\n",
       "                            \n",
       "var gd = document.getElementById('5844fddc-8677-4ddf-9288-adf33fc8ea1e');\n",
       "var x = new MutationObserver(function (mutations, observer) {{\n",
       "        var display = window.getComputedStyle(gd).display;\n",
       "        if (!display || display === 'none') {{\n",
       "            console.log([gd, 'removed!']);\n",
       "            Plotly.purge(gd);\n",
       "            observer.disconnect();\n",
       "        }}\n",
       "}});\n",
       "\n",
       "// Listen for the removal of the full notebook cells\n",
       "var notebookContainer = gd.closest('#notebook-container');\n",
       "if (notebookContainer) {{\n",
       "    x.observe(notebookContainer, {childList: true});\n",
       "}}\n",
       "\n",
       "// Listen for the clearing of the current output cell\n",
       "var outputEl = gd.closest('.output');\n",
       "if (outputEl) {{\n",
       "    x.observe(outputEl, {childList: true});\n",
       "}}\n",
       "\n",
       "                        })\n",
       "                };\n",
       "                });\n",
       "            </script>\n",
       "        </div>"
      ]
     },
     "metadata": {},
     "output_type": "display_data"
    }
   ],
   "source": [
    "# Plot\n",
    "# [Reference - RGB color] http://www.n2n.pe.kr/lev-1/color.htm\n",
    "fig = go.Figure()\n",
    "\n",
    "# Add traces\n",
    "fig.add_trace(go.Scatter(x=x_all, y=y_all,\n",
    "                    mode='markers',\n",
    "                    name='GA search points',\n",
    "                    marker_color='rgb(051, 102, 204)'\n",
    "                ))\n",
    "\n",
    "\n",
    "fig.add_trace(go.Scatter(x=x_pareto, y=y_pareto,\n",
    "                    mode='lines+markers',\n",
    "                    name='Pareto Frontier - Before full training',\n",
    "                    line_color='rgb(102, 000, 000)'  # 생상값 660000\n",
    "                ))\n",
    "\n",
    "\n",
    "fig.add_trace(go.Scatter(x=x_pareto_front_full_training, y=y_pareto_front_full_training,\n",
    "                    mode='lines+markers',\n",
    "                    name='Pareto Frontier - After full training',\n",
    "                    line_color='rgb(102, 000, 000)'  # 생상값 660000\n",
    "                ))\n",
    "\n",
    "\n",
    "fig.update_layout(title='GA search history & Pareto Frontier',\n",
    "                  yaxis_zeroline=False, xaxis_zeroline=False)\n",
    "\n",
    "fig.update_layout(title='GA history & Pareto Frontier',\n",
    "\n",
    "                  xaxis_title='FLOPS',\n",
    "                  yaxis_title='Validation Accuracy',\n",
    "                  \n",
    "                  yaxis_zeroline=False, xaxis_zeroline=False)\n",
    "\n",
    "fig.show()"
   ]
  },
  {
   "cell_type": "code",
   "execution_count": 22,
   "metadata": {},
   "outputs": [],
   "source": [
    "data_path = '../logs/New_main_full_train/'\n",
    "\n",
    "with open(os.path.join(data_path,\"train_logging.log\")) as json_file:\n",
    "    data = json.load(json_file)\n",
    "\n",
    "train_log_ = data['train_log']\n",
    "\n",
    "fitness_ = []\n",
    "model_id_ = []\n",
    "for key, val in train_log_.items():\n",
    "    fitness_.append(val['fitness'])\n",
    "    model_id_.append(val['model_id'])\n",
    "    \n",
    "acc_y1_ = []\n",
    "flops_y2_ = []\n",
    "for fit_i_ in fitness_:\n",
    "    acc_y1_.append(-fit_i_[0])\n",
    "    flops_y2_.append(fit_i_[1])\n",
    "    \n",
    "pareto_front_20gen_full_training_ = pd.DataFrame({'acc': acc_y1_, 'flops': flops_y2_})"
   ]
  },
  {
   "cell_type": "code",
   "execution_count": 23,
   "metadata": {},
   "outputs": [
    {
     "data": {
      "text/html": [
       "<div>\n",
       "<style scoped>\n",
       "    .dataframe tbody tr th:only-of-type {\n",
       "        vertical-align: middle;\n",
       "    }\n",
       "\n",
       "    .dataframe tbody tr th {\n",
       "        vertical-align: top;\n",
       "    }\n",
       "\n",
       "    .dataframe thead th {\n",
       "        text-align: right;\n",
       "    }\n",
       "</style>\n",
       "<table border=\"1\" class=\"dataframe\">\n",
       "  <thead>\n",
       "    <tr style=\"text-align: right;\">\n",
       "      <th></th>\n",
       "      <th>acc</th>\n",
       "      <th>flops</th>\n",
       "    </tr>\n",
       "  </thead>\n",
       "  <tbody>\n",
       "    <tr>\n",
       "      <th>0</th>\n",
       "      <td>10.0</td>\n",
       "      <td>222941296.0</td>\n",
       "    </tr>\n",
       "    <tr>\n",
       "      <th>1</th>\n",
       "      <td>10.0</td>\n",
       "      <td>195924592.0</td>\n",
       "    </tr>\n",
       "    <tr>\n",
       "      <th>2</th>\n",
       "      <td>10.0</td>\n",
       "      <td>289304960.0</td>\n",
       "    </tr>\n",
       "    <tr>\n",
       "      <th>3</th>\n",
       "      <td>10.0</td>\n",
       "      <td>239474800.0</td>\n",
       "    </tr>\n",
       "    <tr>\n",
       "      <th>4</th>\n",
       "      <td>10.0</td>\n",
       "      <td>230249584.0</td>\n",
       "    </tr>\n",
       "    <tr>\n",
       "      <th>5</th>\n",
       "      <td>10.0</td>\n",
       "      <td>272711552.0</td>\n",
       "    </tr>\n",
       "    <tr>\n",
       "      <th>6</th>\n",
       "      <td>10.0</td>\n",
       "      <td>216172144.0</td>\n",
       "    </tr>\n",
       "    <tr>\n",
       "      <th>7</th>\n",
       "      <td>10.0</td>\n",
       "      <td>285890432.0</td>\n",
       "    </tr>\n",
       "    <tr>\n",
       "      <th>8</th>\n",
       "      <td>10.0</td>\n",
       "      <td>329265920.0</td>\n",
       "    </tr>\n",
       "  </tbody>\n",
       "</table>\n",
       "</div>"
      ],
      "text/plain": [
       "    acc        flops\n",
       "0  10.0  222941296.0\n",
       "1  10.0  195924592.0\n",
       "2  10.0  289304960.0\n",
       "3  10.0  239474800.0\n",
       "4  10.0  230249584.0\n",
       "5  10.0  272711552.0\n",
       "6  10.0  216172144.0\n",
       "7  10.0  285890432.0\n",
       "8  10.0  329265920.0"
      ]
     },
     "execution_count": 23,
     "metadata": {},
     "output_type": "execute_result"
    }
   ],
   "source": [
    "pareto_front_20gen_full_training_"
   ]
  },
  {
   "cell_type": "markdown",
   "metadata": {},
   "source": [
    "# full training 메인 코드 확인"
   ]
  },
  {
   "cell_type": "code",
   "execution_count": 24,
   "metadata": {},
   "outputs": [
    {
     "ename": "NameError",
     "evalue": "name 'data_30gen_score' is not defined",
     "output_type": "error",
     "traceback": [
      "\u001b[0;31m---------------------------------------------------------------------------\u001b[0m",
      "\u001b[0;31mNameError\u001b[0m                                 Traceback (most recent call last)",
      "\u001b[0;32m<ipython-input-24-b65ac9c5cf24>\u001b[0m in \u001b[0;36m<module>\u001b[0;34m\u001b[0m\n\u001b[0;32m----> 1\u001b[0;31m \u001b[0mdata_30gen_score\u001b[0m\u001b[0;34m.\u001b[0m\u001b[0mshape\u001b[0m\u001b[0;34m\u001b[0m\u001b[0m\n\u001b[0m",
      "\u001b[0;31mNameError\u001b[0m: name 'data_30gen_score' is not defined"
     ]
    }
   ],
   "source": [
    "data_30gen_score.shape"
   ]
  },
  {
   "cell_type": "code",
   "execution_count": 70,
   "metadata": {},
   "outputs": [
    {
     "name": "stdout",
     "output_type": "stream",
     "text": [
      "(27, 20, 2)\n",
      "(27, 20, 21)\n",
      "(540, 21)\n",
      "(21,)\n",
      "1 0 1\n",
      "4 0 4\n",
      "6 0 6\n",
      "18 0 18\n",
      "47 2 7\n",
      "78 3 18\n",
      "208 10 8\n",
      "330 16 10\n",
      "376 18 16\n"
     ]
    }
   ],
   "source": [
    "GA_data_path = \"/root/data/basic_model/logs/_final_New_main_experiment_1_GA_27gen/\"\n",
    "\n",
    "###################################\n",
    "##### 2.1. GA training.log 읽어오기\n",
    "###################################\n",
    "with open(os.path.join(GA_data_path, \"train_logging.log\")) as json_file:\n",
    "    data = json.load(json_file)\n",
    "\n",
    "train_log = data['train_log']\n",
    "niter = len(train_log)\n",
    "npop = len(train_log['0'])\n",
    "\n",
    "objs_fitness = []\n",
    "objs_chromo = []\n",
    "gen_num = []\n",
    "for i in range(niter):\n",
    "    gen_num.extend([i for j in range(npop)])\n",
    "    fitness_i = [train_log[str(i)][j][1] for j in range(npop)]  # [-val_acc, flops]\n",
    "    chromo_i = [train_log[str(i)][j][0] for j in range(npop)]  # [1, 1, 1, 0, 0, ..., 0] => chromosome 1개\n",
    "    objs_fitness.append(fitness_i)\n",
    "    objs_chromo.append(chromo_i)\n",
    "\n",
    "objs_fitness = np.array(objs_fitness)\n",
    "epoch = list(range(niter)) # (27, 20, 2)\n",
    "\n",
    "objs_fitness[:,:,0]= -1*objs_fitness[:,:,0]  # -val_acc => +val_acc\n",
    "print(objs_fitness.shape)\n",
    "\n",
    "y1 = objs_fitness[:,:,0].reshape(-1).tolist()  # val_accuracy 는 - 붙어있는채로 사용 => minimize 하는 pareto frontier 찾는 함수 그대로 사용\n",
    "y2 = objs_fitness[:,:,1].reshape(-1).tolist()\n",
    "\n",
    "chromo_list = np.array(objs_chromo) #####\n",
    "print(chromo_list.shape)  # (27, 20, 21)\n",
    "chromo_list = chromo_list.reshape(-1, 21)\n",
    "print(chromo_list.shape)  # (540, 21)\n",
    "print(chromo_list[0].shape)\n",
    "\n",
    "idxs = [i for i in range(len(y1))]\n",
    "pareto = [0 for i in range(len(y1))]\n",
    "\n",
    "df = pd.DataFrame({'gen':gen_num,'idx': idxs, 'acc':y1, 'flops': y2})\n",
    "\n",
    "###################################\n",
    "###### 2.2 pareto front 찾기\n",
    "###################################\n",
    "data_30gen_score = df[['acc','flops']].values[:400, :]  ########################### ~ 20 gen ####################\n",
    "\n",
    "# 1) flops 에 - 붙이기 => score 로 만들기\n",
    "data_30gen_score[:, 1] = -data_30gen_score[:, 1]\n",
    "\n",
    "# 2) 파레토 프론티어 찾기\n",
    "pareto_30gen_idx = identify_pareto(data_30gen_score)\n",
    "pareto_front_30gen = data_30gen_score[pareto_30gen_idx]\n",
    "\n",
    "# 3) 파레토 프론티어에 있는 크로모좀 리스트 만들기\n",
    "pareto_chromos = []\n",
    "pareto_chromos_2 = []\n",
    "for idx in list(pareto_30gen_idx):\n",
    "    ##### idx 가 33 이면,인덱스가 33 임 #####\n",
    "    i = int(idx / 20)   # e.g. 33 => 1 * 20 + 13 => 1 gen 의 14번째 => objs_chromo[1][13]  ## 각각 0번째 ~ 19번째 있음\n",
    "    j = idx - i*20\n",
    "    print(idx, i, j)\n",
    "    temp_chromo = objs_chromo[i][j]\n",
    "    pareto_chromos.append( temp_chromo )\n",
    "    \n",
    "    pareto_chromos_2.append(list(chromo_list[idx]))"
   ]
  },
  {
   "cell_type": "code",
   "execution_count": 73,
   "metadata": {},
   "outputs": [
    {
     "data": {
      "text/plain": [
       "True"
      ]
     },
     "execution_count": 73,
     "metadata": {},
     "output_type": "execute_result"
    }
   ],
   "source": [
    "pareto_chromos == pareto_chromos_2"
   ]
  },
  {
   "cell_type": "code",
   "execution_count": 26,
   "metadata": {},
   "outputs": [
    {
     "data": {
      "text/plain": [
       "(27, 20, 21)"
      ]
     },
     "execution_count": 26,
     "metadata": {},
     "output_type": "execute_result"
    }
   ],
   "source": [
    "len(objs_chromo), len(objs_chromo[0]), len(objs_chromo[0][0])"
   ]
  },
  {
   "cell_type": "code",
   "execution_count": 27,
   "metadata": {},
   "outputs": [
    {
     "data": {
      "text/plain": [
       "array([  1,   4,   6,  18,  47,  78, 208, 330, 376])"
      ]
     },
     "execution_count": 27,
     "metadata": {},
     "output_type": "execute_result"
    }
   ],
   "source": [
    "pareto_30gen_idx"
   ]
  },
  {
   "cell_type": "code",
   "execution_count": 28,
   "metadata": {},
   "outputs": [
    {
     "data": {
      "text/plain": [
       "27"
      ]
     },
     "execution_count": 28,
     "metadata": {},
     "output_type": "execute_result"
    }
   ],
   "source": [
    "len(objs_chromo)"
   ]
  },
  {
   "cell_type": "code",
   "execution_count": 74,
   "metadata": {},
   "outputs": [
    {
     "data": {
      "text/plain": [
       "array([[ 8.75700000e+01, -2.39474800e+08],\n",
       "       [ 8.73600000e+01, -2.22941296e+08],\n",
       "       [ 8.83200000e+01, -3.29265920e+08],\n",
       "       [ 8.82900000e+01, -2.72711552e+08],\n",
       "       [ 8.89900000e+01, -3.75730304e+08],\n",
       "       [ 9.00300000e+01, -5.54664704e+08],\n",
       "       [ 8.96100000e+01, -5.48163072e+08],\n",
       "       [ 8.93200000e+01, -4.14405248e+08],\n",
       "       [ 8.95900000e+01, -4.40997760e+08]])"
      ]
     },
     "execution_count": 74,
     "metadata": {},
     "output_type": "execute_result"
    }
   ],
   "source": [
    "pareto_front_30gen\n",
    "## => 기존의 파레토 프론티어를 찾는 여기까진 맞음"
   ]
  },
  {
   "cell_type": "code",
   "execution_count": 75,
   "metadata": {},
   "outputs": [
    {
     "data": {
      "text/plain": [
       "[[1, 1, 1, 1, 0, 1, 0, 1, 0, 0, 0, 0, 0, 1, 0, 0, 1, 1, 0, 0, 1],\n",
       " [1, 0, 0, 0, 1, 0, 0, 0, 1, 0, 0, 0, 1, 0, 1, 1, 1, 1, 0, 0, 0],\n",
       " [1, 0, 1, 1, 1, 0, 1, 0, 0, 0, 1, 1, 0, 1, 0, 0, 0, 1, 1, 0, 0],\n",
       " [0, 1, 0, 1, 1, 1, 0, 0, 0, 0, 1, 0, 0, 1, 0, 1, 1, 1, 1, 0, 0],\n",
       " [1, 0, 1, 0, 1, 0, 0, 0, 1, 0, 0, 0, 1, 0, 1, 1, 1, 1, 0, 0, 0],\n",
       " [1, 0, 1, 1, 1, 0, 1, 0, 0, 0, 1, 1, 0, 1, 1, 1, 1, 1, 0, 0, 0],\n",
       " [1, 0, 1, 1, 0, 1, 1, 0, 0, 0, 1, 1, 0, 1, 1, 1, 1, 1, 0, 0, 0],\n",
       " [1, 0, 1, 1, 1, 0, 0, 0, 1, 0, 0, 0, 1, 0, 1, 1, 1, 1, 0, 0, 0],\n",
       " [1, 0, 1, 1, 0, 1, 1, 0, 1, 0, 0, 0, 1, 0, 1, 1, 1, 1, 0, 0, 0]]"
      ]
     },
     "execution_count": 75,
     "metadata": {},
     "output_type": "execute_result"
    }
   ],
   "source": [
    "pareto_chromos"
   ]
  },
  {
   "cell_type": "code",
   "execution_count": 76,
   "metadata": {},
   "outputs": [],
   "source": [
    "def graydecode(binary):\n",
    "    # binary -> decimal\n",
    "\n",
    "    binary1 = binary\n",
    "    decimal, i, n = 0, 0, 0\n",
    "    while (binary != 0):\n",
    "        dec = binary % 10\n",
    "        decimal = decimal + dec * pow(2, i)\n",
    "        binary = binary // 10\n",
    "        i += 1\n",
    "\n",
    "    # Taking xor until\n",
    "    # n becomes zero\n",
    "    inv = 0\n",
    "    while (decimal):\n",
    "        inv = inv ^ decimal;\n",
    "        decimal = decimal >> 1;\n",
    "\n",
    "    return inv\n",
    "\n",
    "def grayCode(n):\n",
    "    # Decimal to binary graycode\n",
    "    # Right Shift the number\n",
    "    # by 1 taking xor with\n",
    "    # original number\n",
    "    grayval = n ^ (n >> 1)\n",
    "\n",
    "    return int(bin(grayval)[2:])"
   ]
  },
  {
   "cell_type": "code",
   "execution_count": 33,
   "metadata": {},
   "outputs": [
    {
     "name": "stdout",
     "output_type": "stream",
     "text": [
      "[1, 1, 1, 1, 0, 1, 0, 1, 0, 0, 0, 0, 0, 1, 0, 0, 1, 1, 0, 0, 1]\n",
      "[83, 126, 17]\n",
      "1111010\n",
      "1000001\n",
      "11001\n"
     ]
    }
   ],
   "source": [
    "## => 이 chromos 가 evaluate_v2 로 들어가서 훈련됨\n",
    "\n",
    "individual = pareto_chromos[0]\n",
    "print(ind)\n",
    "\n",
    "graph_name = []\n",
    "# if args_train.graycode:\n",
    "# Decode 해줘야 !\n",
    "gray_len = len(ind)//3\n",
    "for i in range(3):\n",
    "    # list to string\n",
    "    tmp = ''\n",
    "    for j in individual[gray_len*i:gray_len*(i+1)]:\n",
    "        tmp += str(j)\n",
    "\n",
    "    # sting to binary to num\n",
    "    graph_name.append(graydecode(int(tmp)))\n",
    "\n",
    "print(graph_name)\n",
    "\n",
    "for i in graph_name:\n",
    "    print(grayCode(i))"
   ]
  },
  {
   "cell_type": "markdown",
   "metadata": {},
   "source": [
    "## => flops 전부 확인"
   ]
  },
  {
   "cell_type": "code",
   "execution_count": 34,
   "metadata": {},
   "outputs": [],
   "source": [
    "from deap import base, creator\n",
    "from deap import tools\n",
    "\n",
    "\n",
    "import random\n",
    "from itertools import repeat\n",
    "from collections import Sequence\n",
    "\n",
    "# For evaluate function --------------------------\n",
    "import glob\n",
    "from easydict import EasyDict\n",
    "\n",
    "import numpy as np\n",
    "\n",
    "import torch\n",
    "import torch.nn as nn\n",
    "import torch.backends.cudnn as cudnn    # for hardware tunning (cudnn.benchmark = True)\n",
    "\n",
    "import torchvision\n",
    "import torchvision.transforms as transforms\n",
    "from torch.utils.data import DataLoader\n",
    "\n",
    "from thop import profile\n",
    "from thop import clever_format\n",
    "\n",
    "import logging\n",
    "\n",
    "# Gray code package\n",
    "from utils_kyy.utils_graycode_v2 import *\n",
    "\n",
    "# custom package in utils_kyy\n",
    "from utils_kyy.utils_graph import load_graph\n",
    "from utils_kyy.models import RWNN\n",
    "from utils_kyy.train_validate import train, validate, train_AMP\n",
    "from utils_kyy.lr_scheduler import LRScheduler\n",
    "from torchsummary import summary\n",
    "# -------------------------------------------------"
   ]
  },
  {
   "cell_type": "code",
   "execution_count": 85,
   "metadata": {},
   "outputs": [],
   "source": [
    "stage_pool_path = '../graph_pool' + '/' + 'New_main' + '_' + 'experiment_1' + '/'   #####\n",
    "stage_pool_path_list = []\n",
    "for i in range(1, 4):\n",
    "    stage_pool_path_i = stage_pool_path + str(i) + '/'  # eg. [graph_pool/run_code_name/1/, ... ]\n",
    "    stage_pool_path_list.append(stage_pool_path_i)\n",
    "\n",
    "total_graph_path_list = []\n",
    "for i in range(3):\n",
    "    temp = glob.glob(stage_pool_path_list[i] + '*.yaml') ############# sort 해줘야\n",
    "    temp.sort()\n",
    "    total_graph_path_list.append( temp )"
   ]
  },
  {
   "cell_type": "code",
   "execution_count": 86,
   "metadata": {},
   "outputs": [],
   "source": [
    "flops_list = []"
   ]
  },
  {
   "cell_type": "code",
   "execution_count": 88,
   "metadata": {},
   "outputs": [
    {
     "data": {
      "text/plain": [
       "[['../graph_pool/New_main_experiment_1/1/20_BA_5.yaml',\n",
       "  '../graph_pool/New_main_experiment_1/1/20_BA_8.yaml',\n",
       "  '../graph_pool/New_main_experiment_1/1/20_ER_035.yaml',\n",
       "  '../graph_pool/New_main_experiment_1/1/20_ER_063.yaml',\n",
       "  '../graph_pool/New_main_experiment_1/1/20_ER_074.yaml',\n",
       "  '../graph_pool/New_main_experiment_1/1/20_WS_5_033.yaml',\n",
       "  '../graph_pool/New_main_experiment_1/1/20_WS_9_054.yaml',\n",
       "  '../graph_pool/New_main_experiment_1/1/21_BA_6.yaml',\n",
       "  '../graph_pool/New_main_experiment_1/1/21_BA_7.yaml',\n",
       "  '../graph_pool/New_main_experiment_1/1/21_ER_045.yaml',\n",
       "  '../graph_pool/New_main_experiment_1/1/21_ER_057.yaml',\n",
       "  '../graph_pool/New_main_experiment_1/1/21_ER_077.yaml',\n",
       "  '../graph_pool/New_main_experiment_1/1/21_WS_11_029.yaml',\n",
       "  '../graph_pool/New_main_experiment_1/1/22_BA_6.yaml',\n",
       "  '../graph_pool/New_main_experiment_1/1/22_BA_8.yaml',\n",
       "  '../graph_pool/New_main_experiment_1/1/22_ER_087.yaml',\n",
       "  '../graph_pool/New_main_experiment_1/1/22_WS_4_062.yaml',\n",
       "  '../graph_pool/New_main_experiment_1/1/22_WS_7_028.yaml',\n",
       "  '../graph_pool/New_main_experiment_1/1/23_BA_12.yaml',\n",
       "  '../graph_pool/New_main_experiment_1/1/23_BA_13.yaml',\n",
       "  '../graph_pool/New_main_experiment_1/1/23_ER_056.yaml',\n",
       "  '../graph_pool/New_main_experiment_1/1/23_WS_4_064.yaml',\n",
       "  '../graph_pool/New_main_experiment_1/1/23_WS_4_082.yaml',\n",
       "  '../graph_pool/New_main_experiment_1/1/23_WS_7_05.yaml',\n",
       "  '../graph_pool/New_main_experiment_1/1/24_BA_11.yaml',\n",
       "  '../graph_pool/New_main_experiment_1/1/24_BA_7.yaml',\n",
       "  '../graph_pool/New_main_experiment_1/1/24_ER_045.yaml',\n",
       "  '../graph_pool/New_main_experiment_1/1/25_ER_022.yaml',\n",
       "  '../graph_pool/New_main_experiment_1/1/25_ER_046.yaml',\n",
       "  '../graph_pool/New_main_experiment_1/1/25_ER_071.yaml',\n",
       "  '../graph_pool/New_main_experiment_1/1/26_BA_10.yaml',\n",
       "  '../graph_pool/New_main_experiment_1/1/26_ER_021.yaml',\n",
       "  '../graph_pool/New_main_experiment_1/1/26_ER_032.yaml',\n",
       "  '../graph_pool/New_main_experiment_1/1/26_ER_048.yaml',\n",
       "  '../graph_pool/New_main_experiment_1/1/27_BA_8.yaml',\n",
       "  '../graph_pool/New_main_experiment_1/1/27_BA_9.yaml',\n",
       "  '../graph_pool/New_main_experiment_1/1/27_ER_081.yaml',\n",
       "  '../graph_pool/New_main_experiment_1/1/27_WS_13_048.yaml',\n",
       "  '../graph_pool/New_main_experiment_1/1/27_WS_14_026.yaml',\n",
       "  '../graph_pool/New_main_experiment_1/1/27_WS_9_026.yaml',\n",
       "  '../graph_pool/New_main_experiment_1/1/28_BA_10.yaml',\n",
       "  '../graph_pool/New_main_experiment_1/1/28_BA_11.yaml',\n",
       "  '../graph_pool/New_main_experiment_1/1/28_BA_12.yaml',\n",
       "  '../graph_pool/New_main_experiment_1/1/28_ER_021.yaml',\n",
       "  '../graph_pool/New_main_experiment_1/1/28_ER_033.yaml',\n",
       "  '../graph_pool/New_main_experiment_1/1/28_ER_061.yaml',\n",
       "  '../graph_pool/New_main_experiment_1/1/28_ER_068.yaml',\n",
       "  '../graph_pool/New_main_experiment_1/1/28_WS_10_026.yaml',\n",
       "  '../graph_pool/New_main_experiment_1/1/28_WS_16_043.yaml',\n",
       "  '../graph_pool/New_main_experiment_1/1/28_WS_17_036.yaml',\n",
       "  '../graph_pool/New_main_experiment_1/1/29_BA_11.yaml',\n",
       "  '../graph_pool/New_main_experiment_1/1/29_BA_14.yaml',\n",
       "  '../graph_pool/New_main_experiment_1/1/29_ER_071.yaml',\n",
       "  '../graph_pool/New_main_experiment_1/1/29_WS_12_044.yaml',\n",
       "  '../graph_pool/New_main_experiment_1/1/29_WS_15_037.yaml',\n",
       "  '../graph_pool/New_main_experiment_1/1/30_BA_14.yaml',\n",
       "  '../graph_pool/New_main_experiment_1/1/30_BA_5.yaml',\n",
       "  '../graph_pool/New_main_experiment_1/1/30_ER_044.yaml',\n",
       "  '../graph_pool/New_main_experiment_1/1/30_WS_12_023.yaml',\n",
       "  '../graph_pool/New_main_experiment_1/1/31_BA_14.yaml',\n",
       "  '../graph_pool/New_main_experiment_1/1/31_BA_9.yaml',\n",
       "  '../graph_pool/New_main_experiment_1/1/31_ER_074.yaml',\n",
       "  '../graph_pool/New_main_experiment_1/1/31_WS_10_043.yaml',\n",
       "  '../graph_pool/New_main_experiment_1/1/31_WS_10_057.yaml',\n",
       "  '../graph_pool/New_main_experiment_1/1/31_WS_9_043.yaml',\n",
       "  '../graph_pool/New_main_experiment_1/1/32_BA_10.yaml',\n",
       "  '../graph_pool/New_main_experiment_1/1/32_BA_6.yaml',\n",
       "  '../graph_pool/New_main_experiment_1/1/32_BA_9.yaml',\n",
       "  '../graph_pool/New_main_experiment_1/1/32_ER_049.yaml',\n",
       "  '../graph_pool/New_main_experiment_1/1/32_ER_056.yaml',\n",
       "  '../graph_pool/New_main_experiment_1/1/32_WS_14_032.yaml',\n",
       "  '../graph_pool/New_main_experiment_1/1/32_WS_15_053.yaml',\n",
       "  '../graph_pool/New_main_experiment_1/1/32_WS_5_031.yaml',\n",
       "  '../graph_pool/New_main_experiment_1/1/33_BA_17.yaml',\n",
       "  '../graph_pool/New_main_experiment_1/1/33_BA_9.yaml',\n",
       "  '../graph_pool/New_main_experiment_1/1/33_ER_033.yaml',\n",
       "  '../graph_pool/New_main_experiment_1/1/33_WS_5_041.yaml',\n",
       "  '../graph_pool/New_main_experiment_1/1/34_BA_15.yaml',\n",
       "  '../graph_pool/New_main_experiment_1/1/34_BA_6.yaml',\n",
       "  '../graph_pool/New_main_experiment_1/1/34_ER_039.yaml',\n",
       "  '../graph_pool/New_main_experiment_1/1/34_WS_10_056.yaml',\n",
       "  '../graph_pool/New_main_experiment_1/1/34_WS_13_075.yaml',\n",
       "  '../graph_pool/New_main_experiment_1/1/34_WS_14_073.yaml',\n",
       "  '../graph_pool/New_main_experiment_1/1/34_WS_14_081.yaml',\n",
       "  '../graph_pool/New_main_experiment_1/1/34_WS_16_076.yaml',\n",
       "  '../graph_pool/New_main_experiment_1/1/34_WS_19_052.yaml',\n",
       "  '../graph_pool/New_main_experiment_1/1/34_WS_8_046.yaml',\n",
       "  '../graph_pool/New_main_experiment_1/1/35_BA_10.yaml',\n",
       "  '../graph_pool/New_main_experiment_1/1/35_BA_11.yaml',\n",
       "  '../graph_pool/New_main_experiment_1/1/35_BA_14.yaml',\n",
       "  '../graph_pool/New_main_experiment_1/1/35_BA_7.yaml',\n",
       "  '../graph_pool/New_main_experiment_1/1/35_ER_032.yaml',\n",
       "  '../graph_pool/New_main_experiment_1/1/35_ER_043.yaml',\n",
       "  '../graph_pool/New_main_experiment_1/1/35_ER_044.yaml',\n",
       "  '../graph_pool/New_main_experiment_1/1/35_ER_06.yaml',\n",
       "  '../graph_pool/New_main_experiment_1/1/35_WS_22_037.yaml',\n",
       "  '../graph_pool/New_main_experiment_1/1/36_BA_10.yaml',\n",
       "  '../graph_pool/New_main_experiment_1/1/36_BA_14.yaml',\n",
       "  '../graph_pool/New_main_experiment_1/1/36_ER_044.yaml',\n",
       "  '../graph_pool/New_main_experiment_1/1/37_BA_12.yaml',\n",
       "  '../graph_pool/New_main_experiment_1/1/37_BA_14.yaml',\n",
       "  '../graph_pool/New_main_experiment_1/1/37_BA_15.yaml',\n",
       "  '../graph_pool/New_main_experiment_1/1/37_ER_028.yaml',\n",
       "  '../graph_pool/New_main_experiment_1/1/37_ER_084.yaml',\n",
       "  '../graph_pool/New_main_experiment_1/1/37_WS_13_038.yaml',\n",
       "  '../graph_pool/New_main_experiment_1/1/37_WS_13_046.yaml',\n",
       "  '../graph_pool/New_main_experiment_1/1/37_WS_22_033.yaml',\n",
       "  '../graph_pool/New_main_experiment_1/1/38_ER_024.yaml',\n",
       "  '../graph_pool/New_main_experiment_1/1/38_ER_08.yaml',\n",
       "  '../graph_pool/New_main_experiment_1/1/38_WS_14_057.yaml',\n",
       "  '../graph_pool/New_main_experiment_1/1/38_WS_16_088.yaml',\n",
       "  '../graph_pool/New_main_experiment_1/1/38_WS_21_025.yaml',\n",
       "  '../graph_pool/New_main_experiment_1/1/39_BA_13.yaml',\n",
       "  '../graph_pool/New_main_experiment_1/1/39_BA_17.yaml',\n",
       "  '../graph_pool/New_main_experiment_1/1/39_BA_18.yaml',\n",
       "  '../graph_pool/New_main_experiment_1/1/39_ER_024.yaml',\n",
       "  '../graph_pool/New_main_experiment_1/1/39_ER_052.yaml',\n",
       "  '../graph_pool/New_main_experiment_1/1/39_ER_056.yaml',\n",
       "  '../graph_pool/New_main_experiment_1/1/39_ER_064.yaml',\n",
       "  '../graph_pool/New_main_experiment_1/1/39_ER_07.yaml',\n",
       "  '../graph_pool/New_main_experiment_1/1/39_ER_079.yaml',\n",
       "  '../graph_pool/New_main_experiment_1/1/39_WS_10_08.yaml',\n",
       "  '../graph_pool/New_main_experiment_1/1/39_WS_16_037.yaml',\n",
       "  '../graph_pool/New_main_experiment_1/1/40_BA_16.yaml',\n",
       "  '../graph_pool/New_main_experiment_1/1/40_BA_17.yaml',\n",
       "  '../graph_pool/New_main_experiment_1/1/40_ER_081.yaml',\n",
       "  '../graph_pool/New_main_experiment_1/1/40_WS_14_025.yaml',\n",
       "  '../graph_pool/New_main_experiment_1/1/40_WS_28_031.yaml'],\n",
       " ['../graph_pool/New_main_experiment_1/2/20_BA_5.yaml',\n",
       "  '../graph_pool/New_main_experiment_1/2/20_BA_7.yaml',\n",
       "  '../graph_pool/New_main_experiment_1/2/20_ER_077.yaml',\n",
       "  '../graph_pool/New_main_experiment_1/2/20_WS_4_069.yaml',\n",
       "  '../graph_pool/New_main_experiment_1/2/21_ER_044.yaml',\n",
       "  '../graph_pool/New_main_experiment_1/2/21_ER_072.yaml',\n",
       "  '../graph_pool/New_main_experiment_1/2/21_ER_081.yaml',\n",
       "  '../graph_pool/New_main_experiment_1/2/21_WS_11_024.yaml',\n",
       "  '../graph_pool/New_main_experiment_1/2/21_WS_4_055.yaml',\n",
       "  '../graph_pool/New_main_experiment_1/2/21_WS_6_079.yaml',\n",
       "  '../graph_pool/New_main_experiment_1/2/21_WS_8_065.yaml',\n",
       "  '../graph_pool/New_main_experiment_1/2/22_BA_10.yaml',\n",
       "  '../graph_pool/New_main_experiment_1/2/22_WS_9_088.yaml',\n",
       "  '../graph_pool/New_main_experiment_1/2/23_BA_11.yaml',\n",
       "  '../graph_pool/New_main_experiment_1/2/23_BA_13.yaml',\n",
       "  '../graph_pool/New_main_experiment_1/2/23_BA_5.yaml',\n",
       "  '../graph_pool/New_main_experiment_1/2/23_ER_033.yaml',\n",
       "  '../graph_pool/New_main_experiment_1/2/23_ER_043.yaml',\n",
       "  '../graph_pool/New_main_experiment_1/2/23_ER_085.yaml',\n",
       "  '../graph_pool/New_main_experiment_1/2/23_ER_087.yaml',\n",
       "  '../graph_pool/New_main_experiment_1/2/23_WS_8_048.yaml',\n",
       "  '../graph_pool/New_main_experiment_1/2/24_BA_11.yaml',\n",
       "  '../graph_pool/New_main_experiment_1/2/24_BA_12.yaml',\n",
       "  '../graph_pool/New_main_experiment_1/2/24_BA_6.yaml',\n",
       "  '../graph_pool/New_main_experiment_1/2/24_ER_028.yaml',\n",
       "  '../graph_pool/New_main_experiment_1/2/24_ER_065.yaml',\n",
       "  '../graph_pool/New_main_experiment_1/2/24_ER_08.yaml',\n",
       "  '../graph_pool/New_main_experiment_1/2/24_WS_4_064.yaml',\n",
       "  '../graph_pool/New_main_experiment_1/2/24_WS_5_068.yaml',\n",
       "  '../graph_pool/New_main_experiment_1/2/24_WS_6_075.yaml',\n",
       "  '../graph_pool/New_main_experiment_1/2/25_BA_8.yaml',\n",
       "  '../graph_pool/New_main_experiment_1/2/26_BA_5.yaml',\n",
       "  '../graph_pool/New_main_experiment_1/2/26_BA_8.yaml',\n",
       "  '../graph_pool/New_main_experiment_1/2/26_ER_022.yaml',\n",
       "  '../graph_pool/New_main_experiment_1/2/26_ER_056.yaml',\n",
       "  '../graph_pool/New_main_experiment_1/2/26_ER_061.yaml',\n",
       "  '../graph_pool/New_main_experiment_1/2/26_ER_068.yaml',\n",
       "  '../graph_pool/New_main_experiment_1/2/27_BA_7.yaml',\n",
       "  '../graph_pool/New_main_experiment_1/2/27_ER_047.yaml',\n",
       "  '../graph_pool/New_main_experiment_1/2/27_ER_049.yaml',\n",
       "  '../graph_pool/New_main_experiment_1/2/27_ER_056.yaml',\n",
       "  '../graph_pool/New_main_experiment_1/2/27_WS_14_041.yaml',\n",
       "  '../graph_pool/New_main_experiment_1/2/27_WS_5_049.yaml',\n",
       "  '../graph_pool/New_main_experiment_1/2/28_BA_7.yaml',\n",
       "  '../graph_pool/New_main_experiment_1/2/28_BA_8.yaml',\n",
       "  '../graph_pool/New_main_experiment_1/2/28_ER_024.yaml',\n",
       "  '../graph_pool/New_main_experiment_1/2/28_ER_067.yaml',\n",
       "  '../graph_pool/New_main_experiment_1/2/28_ER_086.yaml',\n",
       "  '../graph_pool/New_main_experiment_1/2/28_WS_12_046.yaml',\n",
       "  '../graph_pool/New_main_experiment_1/2/28_WS_17_02.yaml',\n",
       "  '../graph_pool/New_main_experiment_1/2/29_BA_11.yaml',\n",
       "  '../graph_pool/New_main_experiment_1/2/29_ER_023.yaml',\n",
       "  '../graph_pool/New_main_experiment_1/2/29_ER_042.yaml',\n",
       "  '../graph_pool/New_main_experiment_1/2/29_ER_072.yaml',\n",
       "  '../graph_pool/New_main_experiment_1/2/29_ER_079.yaml',\n",
       "  '../graph_pool/New_main_experiment_1/2/29_WS_12_037.yaml',\n",
       "  '../graph_pool/New_main_experiment_1/2/29_WS_12_085.yaml',\n",
       "  '../graph_pool/New_main_experiment_1/2/29_WS_5_031.yaml',\n",
       "  '../graph_pool/New_main_experiment_1/2/29_WS_6_064.yaml',\n",
       "  '../graph_pool/New_main_experiment_1/2/29_WS_7_03.yaml',\n",
       "  '../graph_pool/New_main_experiment_1/2/29_WS_9_044.yaml',\n",
       "  '../graph_pool/New_main_experiment_1/2/30_BA_11.yaml',\n",
       "  '../graph_pool/New_main_experiment_1/2/30_BA_12.yaml',\n",
       "  '../graph_pool/New_main_experiment_1/2/30_BA_14.yaml',\n",
       "  '../graph_pool/New_main_experiment_1/2/30_ER_05.yaml',\n",
       "  '../graph_pool/New_main_experiment_1/2/30_ER_063.yaml',\n",
       "  '../graph_pool/New_main_experiment_1/2/30_WS_19_064.yaml',\n",
       "  '../graph_pool/New_main_experiment_1/2/31_BA_11.yaml',\n",
       "  '../graph_pool/New_main_experiment_1/2/31_BA_12.yaml',\n",
       "  '../graph_pool/New_main_experiment_1/2/31_BA_14.yaml',\n",
       "  '../graph_pool/New_main_experiment_1/2/31_BA_6.yaml',\n",
       "  '../graph_pool/New_main_experiment_1/2/31_ER_054.yaml',\n",
       "  '../graph_pool/New_main_experiment_1/2/31_ER_059.yaml',\n",
       "  '../graph_pool/New_main_experiment_1/2/31_ER_061.yaml',\n",
       "  '../graph_pool/New_main_experiment_1/2/31_ER_062.yaml',\n",
       "  '../graph_pool/New_main_experiment_1/2/32_BA_10.yaml',\n",
       "  '../graph_pool/New_main_experiment_1/2/32_BA_15.yaml',\n",
       "  '../graph_pool/New_main_experiment_1/2/32_BA_6.yaml',\n",
       "  '../graph_pool/New_main_experiment_1/2/32_ER_033.yaml',\n",
       "  '../graph_pool/New_main_experiment_1/2/32_ER_053.yaml',\n",
       "  '../graph_pool/New_main_experiment_1/2/32_WS_10_021.yaml',\n",
       "  '../graph_pool/New_main_experiment_1/2/32_WS_19_084.yaml',\n",
       "  '../graph_pool/New_main_experiment_1/2/32_WS_20_086.yaml',\n",
       "  '../graph_pool/New_main_experiment_1/2/33_BA_17.yaml',\n",
       "  '../graph_pool/New_main_experiment_1/2/33_BA_9.yaml',\n",
       "  '../graph_pool/New_main_experiment_1/2/33_ER_025.yaml',\n",
       "  '../graph_pool/New_main_experiment_1/2/33_ER_09.yaml',\n",
       "  '../graph_pool/New_main_experiment_1/2/33_WS_15_083.yaml',\n",
       "  '../graph_pool/New_main_experiment_1/2/33_WS_21_044.yaml',\n",
       "  '../graph_pool/New_main_experiment_1/2/33_WS_23_047.yaml',\n",
       "  '../graph_pool/New_main_experiment_1/2/33_WS_9_086.yaml',\n",
       "  '../graph_pool/New_main_experiment_1/2/34_BA_12.yaml',\n",
       "  '../graph_pool/New_main_experiment_1/2/34_ER_074.yaml',\n",
       "  '../graph_pool/New_main_experiment_1/2/34_WS_11_034.yaml',\n",
       "  '../graph_pool/New_main_experiment_1/2/34_WS_22_077.yaml',\n",
       "  '../graph_pool/New_main_experiment_1/2/34_WS_6_054.yaml',\n",
       "  '../graph_pool/New_main_experiment_1/2/35_BA_13.yaml',\n",
       "  '../graph_pool/New_main_experiment_1/2/35_BA_14.yaml',\n",
       "  '../graph_pool/New_main_experiment_1/2/35_BA_8.yaml',\n",
       "  '../graph_pool/New_main_experiment_1/2/35_ER_027.yaml',\n",
       "  '../graph_pool/New_main_experiment_1/2/35_WS_14_027.yaml',\n",
       "  '../graph_pool/New_main_experiment_1/2/35_WS_16_064.yaml',\n",
       "  '../graph_pool/New_main_experiment_1/2/35_WS_20_077.yaml',\n",
       "  '../graph_pool/New_main_experiment_1/2/35_WS_24_052.yaml',\n",
       "  '../graph_pool/New_main_experiment_1/2/36_BA_11.yaml',\n",
       "  '../graph_pool/New_main_experiment_1/2/36_BA_13.yaml',\n",
       "  '../graph_pool/New_main_experiment_1/2/36_ER_036.yaml',\n",
       "  '../graph_pool/New_main_experiment_1/2/36_WS_11_032.yaml',\n",
       "  '../graph_pool/New_main_experiment_1/2/37_BA_13.yaml',\n",
       "  '../graph_pool/New_main_experiment_1/2/37_BA_14.yaml',\n",
       "  '../graph_pool/New_main_experiment_1/2/37_BA_5.yaml',\n",
       "  '../graph_pool/New_main_experiment_1/2/37_ER_055.yaml',\n",
       "  '../graph_pool/New_main_experiment_1/2/37_ER_072.yaml',\n",
       "  '../graph_pool/New_main_experiment_1/2/37_WS_12_05.yaml',\n",
       "  '../graph_pool/New_main_experiment_1/2/37_WS_5_074.yaml',\n",
       "  '../graph_pool/New_main_experiment_1/2/37_WS_5_083.yaml',\n",
       "  '../graph_pool/New_main_experiment_1/2/38_BA_11.yaml',\n",
       "  '../graph_pool/New_main_experiment_1/2/38_BA_6.yaml',\n",
       "  '../graph_pool/New_main_experiment_1/2/38_BA_8.yaml',\n",
       "  '../graph_pool/New_main_experiment_1/2/38_ER_042.yaml',\n",
       "  '../graph_pool/New_main_experiment_1/2/39_BA_10.yaml',\n",
       "  '../graph_pool/New_main_experiment_1/2/39_BA_9.yaml',\n",
       "  '../graph_pool/New_main_experiment_1/2/39_ER_033.yaml',\n",
       "  '../graph_pool/New_main_experiment_1/2/39_ER_074.yaml',\n",
       "  '../graph_pool/New_main_experiment_1/2/39_WS_25_046.yaml',\n",
       "  '../graph_pool/New_main_experiment_1/2/40_BA_18.yaml',\n",
       "  '../graph_pool/New_main_experiment_1/2/40_WS_25_083.yaml',\n",
       "  '../graph_pool/New_main_experiment_1/2/40_WS_5_078.yaml'],\n",
       " ['../graph_pool/New_main_experiment_1/3/20_BA_7.yaml',\n",
       "  '../graph_pool/New_main_experiment_1/3/20_ER_069.yaml',\n",
       "  '../graph_pool/New_main_experiment_1/3/20_WS_4_055.yaml',\n",
       "  '../graph_pool/New_main_experiment_1/3/20_WS_4_086.yaml',\n",
       "  '../graph_pool/New_main_experiment_1/3/20_WS_5_089.yaml',\n",
       "  '../graph_pool/New_main_experiment_1/3/20_WS_9_089.yaml',\n",
       "  '../graph_pool/New_main_experiment_1/3/21_ER_027.yaml',\n",
       "  '../graph_pool/New_main_experiment_1/3/21_ER_041.yaml',\n",
       "  '../graph_pool/New_main_experiment_1/3/21_ER_054.yaml',\n",
       "  '../graph_pool/New_main_experiment_1/3/21_ER_06.yaml',\n",
       "  '../graph_pool/New_main_experiment_1/3/21_ER_062.yaml',\n",
       "  '../graph_pool/New_main_experiment_1/3/21_ER_083.yaml',\n",
       "  '../graph_pool/New_main_experiment_1/3/21_WS_10_053.yaml',\n",
       "  '../graph_pool/New_main_experiment_1/3/21_WS_7_044.yaml',\n",
       "  '../graph_pool/New_main_experiment_1/3/21_WS_8_037.yaml',\n",
       "  '../graph_pool/New_main_experiment_1/3/22_BA_8.yaml',\n",
       "  '../graph_pool/New_main_experiment_1/3/22_ER_025.yaml',\n",
       "  '../graph_pool/New_main_experiment_1/3/22_ER_043.yaml',\n",
       "  '../graph_pool/New_main_experiment_1/3/22_ER_068.yaml',\n",
       "  '../graph_pool/New_main_experiment_1/3/22_ER_082.yaml',\n",
       "  '../graph_pool/New_main_experiment_1/3/23_BA_12.yaml',\n",
       "  '../graph_pool/New_main_experiment_1/3/23_ER_029.yaml',\n",
       "  '../graph_pool/New_main_experiment_1/3/23_ER_068.yaml',\n",
       "  '../graph_pool/New_main_experiment_1/3/23_ER_077.yaml',\n",
       "  '../graph_pool/New_main_experiment_1/3/23_ER_08.yaml',\n",
       "  '../graph_pool/New_main_experiment_1/3/23_WS_13_051.yaml',\n",
       "  '../graph_pool/New_main_experiment_1/3/23_WS_6_062.yaml',\n",
       "  '../graph_pool/New_main_experiment_1/3/24_BA_6.yaml',\n",
       "  '../graph_pool/New_main_experiment_1/3/24_BA_8.yaml',\n",
       "  '../graph_pool/New_main_experiment_1/3/24_ER_051.yaml',\n",
       "  '../graph_pool/New_main_experiment_1/3/24_WS_10_048.yaml',\n",
       "  '../graph_pool/New_main_experiment_1/3/24_WS_11_051.yaml',\n",
       "  '../graph_pool/New_main_experiment_1/3/24_WS_6_088.yaml',\n",
       "  '../graph_pool/New_main_experiment_1/3/25_BA_5.yaml',\n",
       "  '../graph_pool/New_main_experiment_1/3/25_BA_7.yaml',\n",
       "  '../graph_pool/New_main_experiment_1/3/25_ER_063.yaml',\n",
       "  '../graph_pool/New_main_experiment_1/3/25_WS_5_025.yaml',\n",
       "  '../graph_pool/New_main_experiment_1/3/25_WS_7_055.yaml',\n",
       "  '../graph_pool/New_main_experiment_1/3/26_BA_10.yaml',\n",
       "  '../graph_pool/New_main_experiment_1/3/26_ER_021.yaml',\n",
       "  '../graph_pool/New_main_experiment_1/3/26_ER_027.yaml',\n",
       "  '../graph_pool/New_main_experiment_1/3/27_BA_12.yaml',\n",
       "  '../graph_pool/New_main_experiment_1/3/27_BA_7.yaml',\n",
       "  '../graph_pool/New_main_experiment_1/3/27_BA_8.yaml',\n",
       "  '../graph_pool/New_main_experiment_1/3/27_BA_9.yaml',\n",
       "  '../graph_pool/New_main_experiment_1/3/27_ER_049.yaml',\n",
       "  '../graph_pool/New_main_experiment_1/3/27_ER_066.yaml',\n",
       "  '../graph_pool/New_main_experiment_1/3/28_BA_12.yaml',\n",
       "  '../graph_pool/New_main_experiment_1/3/28_BA_13.yaml',\n",
       "  '../graph_pool/New_main_experiment_1/3/28_BA_6.yaml',\n",
       "  '../graph_pool/New_main_experiment_1/3/28_BA_7.yaml',\n",
       "  '../graph_pool/New_main_experiment_1/3/28_BA_8.yaml',\n",
       "  '../graph_pool/New_main_experiment_1/3/28_ER_037.yaml',\n",
       "  '../graph_pool/New_main_experiment_1/3/28_ER_045.yaml',\n",
       "  '../graph_pool/New_main_experiment_1/3/28_ER_073.yaml',\n",
       "  '../graph_pool/New_main_experiment_1/3/28_WS_15_02.yaml',\n",
       "  '../graph_pool/New_main_experiment_1/3/28_WS_7_043.yaml',\n",
       "  '../graph_pool/New_main_experiment_1/3/29_BA_5.yaml',\n",
       "  '../graph_pool/New_main_experiment_1/3/29_WS_13_027.yaml',\n",
       "  '../graph_pool/New_main_experiment_1/3/29_WS_14_087.yaml',\n",
       "  '../graph_pool/New_main_experiment_1/3/31_BA_11.yaml',\n",
       "  '../graph_pool/New_main_experiment_1/3/31_BA_12.yaml',\n",
       "  '../graph_pool/New_main_experiment_1/3/31_BA_15.yaml',\n",
       "  '../graph_pool/New_main_experiment_1/3/31_BA_16.yaml',\n",
       "  '../graph_pool/New_main_experiment_1/3/31_BA_5.yaml',\n",
       "  '../graph_pool/New_main_experiment_1/3/31_BA_8.yaml',\n",
       "  '../graph_pool/New_main_experiment_1/3/32_BA_12.yaml',\n",
       "  '../graph_pool/New_main_experiment_1/3/32_BA_15.yaml',\n",
       "  '../graph_pool/New_main_experiment_1/3/32_ER_032.yaml',\n",
       "  '../graph_pool/New_main_experiment_1/3/32_ER_051.yaml',\n",
       "  '../graph_pool/New_main_experiment_1/3/32_ER_062.yaml',\n",
       "  '../graph_pool/New_main_experiment_1/3/32_ER_077.yaml',\n",
       "  '../graph_pool/New_main_experiment_1/3/32_WS_16_083.yaml',\n",
       "  '../graph_pool/New_main_experiment_1/3/32_WS_5_043.yaml',\n",
       "  '../graph_pool/New_main_experiment_1/3/32_WS_5_051.yaml',\n",
       "  '../graph_pool/New_main_experiment_1/3/33_BA_7.yaml',\n",
       "  '../graph_pool/New_main_experiment_1/3/33_ER_04.yaml',\n",
       "  '../graph_pool/New_main_experiment_1/3/33_ER_061.yaml',\n",
       "  '../graph_pool/New_main_experiment_1/3/33_ER_072.yaml',\n",
       "  '../graph_pool/New_main_experiment_1/3/33_WS_19_058.yaml',\n",
       "  '../graph_pool/New_main_experiment_1/3/33_WS_21_083.yaml',\n",
       "  '../graph_pool/New_main_experiment_1/3/33_WS_22_071.yaml',\n",
       "  '../graph_pool/New_main_experiment_1/3/33_WS_23_027.yaml',\n",
       "  '../graph_pool/New_main_experiment_1/3/34_BA_17.yaml',\n",
       "  '../graph_pool/New_main_experiment_1/3/34_BA_19.yaml',\n",
       "  '../graph_pool/New_main_experiment_1/3/34_BA_6.yaml',\n",
       "  '../graph_pool/New_main_experiment_1/3/34_BA_7.yaml',\n",
       "  '../graph_pool/New_main_experiment_1/3/34_ER_044.yaml',\n",
       "  '../graph_pool/New_main_experiment_1/3/34_ER_085.yaml',\n",
       "  '../graph_pool/New_main_experiment_1/3/34_ER_088.yaml',\n",
       "  '../graph_pool/New_main_experiment_1/3/34_WS_11_055.yaml',\n",
       "  '../graph_pool/New_main_experiment_1/3/34_WS_15_039.yaml',\n",
       "  '../graph_pool/New_main_experiment_1/3/34_WS_15_071.yaml',\n",
       "  '../graph_pool/New_main_experiment_1/3/35_BA_11.yaml',\n",
       "  '../graph_pool/New_main_experiment_1/3/35_BA_15.yaml',\n",
       "  '../graph_pool/New_main_experiment_1/3/35_ER_025.yaml',\n",
       "  '../graph_pool/New_main_experiment_1/3/35_ER_031.yaml',\n",
       "  '../graph_pool/New_main_experiment_1/3/35_WS_22_024.yaml',\n",
       "  '../graph_pool/New_main_experiment_1/3/35_WS_24_069.yaml',\n",
       "  '../graph_pool/New_main_experiment_1/3/35_WS_8_023.yaml',\n",
       "  '../graph_pool/New_main_experiment_1/3/36_BA_10.yaml',\n",
       "  '../graph_pool/New_main_experiment_1/3/36_BA_15.yaml',\n",
       "  '../graph_pool/New_main_experiment_1/3/36_BA_16.yaml',\n",
       "  '../graph_pool/New_main_experiment_1/3/36_ER_048.yaml',\n",
       "  '../graph_pool/New_main_experiment_1/3/36_ER_086.yaml',\n",
       "  '../graph_pool/New_main_experiment_1/3/36_WS_14_079.yaml',\n",
       "  '../graph_pool/New_main_experiment_1/3/36_WS_26_046.yaml',\n",
       "  '../graph_pool/New_main_experiment_1/3/36_WS_5_049.yaml',\n",
       "  '../graph_pool/New_main_experiment_1/3/37_BA_5.yaml',\n",
       "  '../graph_pool/New_main_experiment_1/3/37_ER_026.yaml',\n",
       "  '../graph_pool/New_main_experiment_1/3/37_ER_035.yaml',\n",
       "  '../graph_pool/New_main_experiment_1/3/37_ER_079.yaml',\n",
       "  '../graph_pool/New_main_experiment_1/3/37_WS_14_026.yaml',\n",
       "  '../graph_pool/New_main_experiment_1/3/37_WS_25_025.yaml',\n",
       "  '../graph_pool/New_main_experiment_1/3/38_BA_8.yaml',\n",
       "  '../graph_pool/New_main_experiment_1/3/38_ER_027.yaml',\n",
       "  '../graph_pool/New_main_experiment_1/3/39_BA_14.yaml',\n",
       "  '../graph_pool/New_main_experiment_1/3/39_WS_13_044.yaml',\n",
       "  '../graph_pool/New_main_experiment_1/3/39_WS_13_09.yaml',\n",
       "  '../graph_pool/New_main_experiment_1/3/39_WS_27_046.yaml',\n",
       "  '../graph_pool/New_main_experiment_1/3/40_BA_11.yaml',\n",
       "  '../graph_pool/New_main_experiment_1/3/40_BA_15.yaml',\n",
       "  '../graph_pool/New_main_experiment_1/3/40_BA_20.yaml',\n",
       "  '../graph_pool/New_main_experiment_1/3/40_BA_6.yaml',\n",
       "  '../graph_pool/New_main_experiment_1/3/40_ER_021.yaml',\n",
       "  '../graph_pool/New_main_experiment_1/3/40_WS_25_048.yaml',\n",
       "  '../graph_pool/New_main_experiment_1/3/40_WS_7_051.yaml',\n",
       "  '../graph_pool/New_main_experiment_1/3/40_WS_7_079.yaml']]"
      ]
     },
     "execution_count": 88,
     "metadata": {},
     "output_type": "execute_result"
    }
   ],
   "source": [
    "total_graph_path_list"
   ]
  },
  {
   "cell_type": "code",
   "execution_count": 89,
   "metadata": {},
   "outputs": [
    {
     "name": "stdout",
     "output_type": "stream",
     "text": [
      "[1, 1, 1, 1, 0, 1, 0, 1, 0, 0, 0, 0, 0, 1, 0, 0, 1, 1, 0, 0, 1]\n",
      "[1, 0, 0, 0, 1, 0, 0, 0, 1, 0, 0, 0, 1, 0, 1, 1, 1, 1, 0, 0, 0]\n",
      "[1, 0, 1, 1, 1, 0, 1, 0, 0, 0, 1, 1, 0, 1, 0, 0, 0, 1, 1, 0, 0]\n",
      "[0, 1, 0, 1, 1, 1, 0, 0, 0, 0, 1, 0, 0, 1, 0, 1, 1, 1, 1, 0, 0]\n",
      "[1, 0, 1, 0, 1, 0, 0, 0, 1, 0, 0, 0, 1, 0, 1, 1, 1, 1, 0, 0, 0]\n",
      "[1, 0, 1, 1, 1, 0, 1, 0, 0, 0, 1, 1, 0, 1, 1, 1, 1, 1, 0, 0, 0]\n",
      "[1, 0, 1, 1, 0, 1, 1, 0, 0, 0, 1, 1, 0, 1, 1, 1, 1, 1, 0, 0, 0]\n",
      "[1, 0, 1, 1, 1, 0, 0, 0, 1, 0, 0, 0, 1, 0, 1, 1, 1, 1, 0, 0, 0]\n",
      "[1, 0, 1, 1, 0, 1, 1, 0, 1, 0, 0, 0, 1, 0, 1, 1, 1, 1, 0, 0, 0]\n"
     ]
    }
   ],
   "source": [
    "## => 이 chromos 가 evaluate_v2 로 들어가서 훈련됨\n",
    "\n",
    "for individual in pareto_chromos:\n",
    "    print(individual)\n",
    "\n",
    "    graph_name = []\n",
    "    # if args_train.graycode:\n",
    "    # Decode 해줘야 !\n",
    "    gray_len = len(individual)//3\n",
    "    for i in range(3):\n",
    "        # list to string\n",
    "        tmp = ''\n",
    "        for j in individual[gray_len*i:gray_len*(i+1)]:\n",
    "            tmp += str(j)\n",
    "\n",
    "        # sting to binary to num\n",
    "        graph_name.append(graydecode(int(tmp)))\n",
    "\n",
    "    stage_1_graph = load_graph( total_graph_path_list[0][graph_name[0]] )\n",
    "    stage_2_graph = load_graph( total_graph_path_list[1][graph_name[1]] )\n",
    "    stage_3_graph = load_graph( total_graph_path_list[2][graph_name[2]] )\n",
    "\n",
    "    graphs = EasyDict({'stage_1': stage_1_graph,\n",
    "                       'stage_2': stage_2_graph,\n",
    "                       'stage_3': stage_3_graph\n",
    "                      })\n",
    "\n",
    "    # 2) build RWNN\n",
    "    NN_model = RWNN(net_type='small', graphs=graphs, channels=78, num_classes=10, input_channel=3)\n",
    "    NN_model.cuda()\n",
    "\n",
    "    ###########################\n",
    "    # Flops 계산 - [Debug] nn.DataParallele (for multi-gpu) 적용 전에 확인.\n",
    "    ###########################\n",
    "    input_flops = torch.randn(1, 3, 32, 32).cuda()\n",
    "    flops, params = profile(NN_model, inputs=(input_flops, ), verbose=False)\n",
    "\n",
    "    flops_list.append(flops)"
   ]
  },
  {
   "cell_type": "code",
   "execution_count": 90,
   "metadata": {
    "scrolled": true
   },
   "outputs": [
    {
     "data": {
      "text/plain": [
       "[316506368.0,\n",
       " 332675456.0,\n",
       " 264624496.0,\n",
       " 242215408.0,\n",
       " 325846400.0,\n",
       " 301325696.0,\n",
       " 304740224.0,\n",
       " 325846400.0,\n",
       " 329260928.0]"
      ]
     },
     "execution_count": 90,
     "metadata": {},
     "output_type": "execute_result"
    }
   ],
   "source": [
    "flops_list"
   ]
  },
  {
   "cell_type": "code",
   "execution_count": 43,
   "metadata": {},
   "outputs": [],
   "source": [
    "# => [1, 0, 1, 0, 1, 0, 0, 0, 1, 0, 0, 0, 1, 0, 1, 1, 1, 1, 0, 0, 0]\n",
    "#    => 갑자기 어떻게 flops 19... 짜리 신경망이 튀어나온거지? 어디서?\n",
    "\n",
    "# => pareto_front_30gen 에서의 flops 와 \n",
    "#     => 해당 크로모좀을 구해서 신경망으로 변환 후 flops 구한 것과 flops 가 다름\n",
    "\n",
    "# => 파레토 프론티어의 크로모좀을 구하는 것에서 에러가 있었던 듯\n"
   ]
  },
  {
   "cell_type": "code",
   "execution_count": null,
   "metadata": {},
   "outputs": [],
   "source": []
  }
 ],
 "metadata": {
  "kernelspec": {
   "display_name": "Python 3",
   "language": "python",
   "name": "python3"
  },
  "language_info": {
   "codemirror_mode": {
    "name": "ipython",
    "version": 3
   },
   "file_extension": ".py",
   "mimetype": "text/x-python",
   "name": "python",
   "nbconvert_exporter": "python",
   "pygments_lexer": "ipython3",
   "version": "3.5.2"
  },
  "toc": {
   "base_numbering": 1,
   "nav_menu": {},
   "number_sections": true,
   "sideBar": true,
   "skip_h1_title": false,
   "title_cell": "Table of Contents",
   "title_sidebar": "Contents",
   "toc_cell": false,
   "toc_position": {},
   "toc_section_display": true,
   "toc_window_display": false
  }
 },
 "nbformat": 4,
 "nbformat_minor": 2
}
