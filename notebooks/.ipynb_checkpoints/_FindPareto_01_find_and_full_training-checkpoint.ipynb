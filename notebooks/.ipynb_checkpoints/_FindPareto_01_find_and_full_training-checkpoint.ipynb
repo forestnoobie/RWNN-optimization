{
 "cells": [
  {
   "cell_type": "markdown",
   "metadata": {},
   "source": [
    "## training.log 에서 Pareto front 찾은 뒤, full training 후 (chromosome, flops, val_acc_5_epoch, val_acc_full trainig) 이렇게 로그 떨구기"
   ]
  },
  {
   "cell_type": "markdown",
   "metadata": {},
   "source": [
    "### 1) 테스트해서 로그 제대로 떨어지는 것 확인\n",
    "\n",
    "\n",
    "### 2) .py 파일로 다시 쓴 뒤 GA, RS 이어서 돌려놓기"
   ]
  },
  {
   "cell_type": "markdown",
   "metadata": {},
   "source": [
    "### ------------------------------------------------------"
   ]
  },
  {
   "cell_type": "markdown",
   "metadata": {},
   "source": [
    "# [1] 주어진 log path 에서 training log 읽어와서, 파레토 프론티어 찾기"
   ]
  },
  {
   "cell_type": "code",
   "execution_count": 1,
   "metadata": {},
   "outputs": [
    {
     "data": {
      "text/html": [
       "        <script type=\"text/javascript\">\n",
       "        window.PlotlyConfig = {MathJaxConfig: 'local'};\n",
       "        if (window.MathJax) {MathJax.Hub.Config({SVG: {font: \"STIX-Web\"}});}\n",
       "        if (typeof require !== 'undefined') {\n",
       "        require.undef(\"plotly\");\n",
       "        requirejs.config({\n",
       "            paths: {\n",
       "                'plotly': ['https://cdn.plot.ly/plotly-latest.min']\n",
       "            }\n",
       "        });\n",
       "        require(['plotly'], function(Plotly) {\n",
       "            window._Plotly = Plotly;\n",
       "        });\n",
       "        }\n",
       "        </script>\n",
       "        "
      ]
     },
     "metadata": {},
     "output_type": "display_data"
    }
   ],
   "source": [
    "import numpy as np\n",
    "import os\n",
    "import json\n",
    "import sys\n",
    "import pandas as pd\n",
    "sys.path.insert(0,'/root/data/basic_model/')\n",
    "\n",
    "import matplotlib.pyplot as plt\n",
    "%matplotlib inline\n",
    "\n",
    "import plotly\n",
    "plotly.offline.init_notebook_mode(connected=True)\n",
    "\n",
    "from utils_kyy.pareto_front import identify_pareto"
   ]
  },
  {
   "cell_type": "code",
   "execution_count": 2,
   "metadata": {},
   "outputs": [],
   "source": [
    "data_path = '../logs/__New_main_experiment_1_GA_30gen/'\n",
    "\n",
    "with open(os.path.join(data_path,\"train_logging.log\")) as json_file:\n",
    "    data = json.load(json_file)\n",
    "\n",
    "train_log = data['train_log']\n",
    "niter = len(train_log)\n",
    "npop = len(train_log['0'])\n",
    "\n",
    "objs_fitness = []\n",
    "objs_chromo = []\n",
    "gen_num = []\n",
    "for i in range(niter):\n",
    "    gen_num.extend([i for j in range(npop)])\n",
    "    fitness_i = [train_log[str(i)][j][1] for j in range(npop)]  # [-val_acc, flops]\n",
    "    chromo_i = [train_log[str(i)][j][0] for j in range(npop)]  # [-val_acc, flops]\n",
    "    objs_fitness.append(fitness_i)\n",
    "    objs_chromo.append(chromo_i)\n",
    "\n",
    "objs_fitness = np.array(objs_fitness)\n",
    "epoch = list(range(niter))\n",
    "\n",
    "objs_fitness[:,:,0]= -1*objs_fitness[:,:,0]  # -val_acc => +val_acc\n",
    "\n",
    "y1 = objs_fitness[:,:,0].reshape(-1).tolist()  # val_accuracy 는 - 붙어있는채로 사용 => minimize 하는 pareto frontier 찾는 함수 그대로 사용\n",
    "y2 = objs_fitness[:,:,1].reshape(-1).tolist()\n",
    "idxs = [i for i in range(len(y1))]\n",
    "pareto = [0 for i in range(len(y1))]"
   ]
  },
  {
   "cell_type": "code",
   "execution_count": 3,
   "metadata": {},
   "outputs": [],
   "source": [
    "df = pd.DataFrame({'gen':gen_num,'idx': idxs, 'acc':y1, 'flops': y2})"
   ]
  },
  {
   "cell_type": "code",
   "execution_count": 69,
   "metadata": {
    "scrolled": true
   },
   "outputs": [
    {
     "data": {
      "text/html": [
       "<div>\n",
       "<style scoped>\n",
       "    .dataframe tbody tr th:only-of-type {\n",
       "        vertical-align: middle;\n",
       "    }\n",
       "\n",
       "    .dataframe tbody tr th {\n",
       "        vertical-align: top;\n",
       "    }\n",
       "\n",
       "    .dataframe thead th {\n",
       "        text-align: right;\n",
       "    }\n",
       "</style>\n",
       "<table border=\"1\" class=\"dataframe\">\n",
       "  <thead>\n",
       "    <tr style=\"text-align: right;\">\n",
       "      <th></th>\n",
       "      <th>acc</th>\n",
       "      <th>flops</th>\n",
       "      <th>gen</th>\n",
       "      <th>idx</th>\n",
       "    </tr>\n",
       "  </thead>\n",
       "  <tbody>\n",
       "    <tr>\n",
       "      <th>0</th>\n",
       "      <td>83.75</td>\n",
       "      <td>1.654448e+09</td>\n",
       "      <td>0</td>\n",
       "      <td>0</td>\n",
       "    </tr>\n",
       "    <tr>\n",
       "      <th>1</th>\n",
       "      <td>81.71</td>\n",
       "      <td>1.775048e+09</td>\n",
       "      <td>0</td>\n",
       "      <td>1</td>\n",
       "    </tr>\n",
       "    <tr>\n",
       "      <th>2</th>\n",
       "      <td>82.22</td>\n",
       "      <td>1.480460e+09</td>\n",
       "      <td>0</td>\n",
       "      <td>2</td>\n",
       "    </tr>\n",
       "    <tr>\n",
       "      <th>3</th>\n",
       "      <td>78.12</td>\n",
       "      <td>1.739114e+09</td>\n",
       "      <td>0</td>\n",
       "      <td>3</td>\n",
       "    </tr>\n",
       "    <tr>\n",
       "      <th>4</th>\n",
       "      <td>82.56</td>\n",
       "      <td>2.024451e+09</td>\n",
       "      <td>0</td>\n",
       "      <td>4</td>\n",
       "    </tr>\n",
       "  </tbody>\n",
       "</table>\n",
       "</div>"
      ],
      "text/plain": [
       "     acc         flops  gen  idx\n",
       "0  83.75  1.654448e+09    0    0\n",
       "1  81.71  1.775048e+09    0    1\n",
       "2  82.22  1.480460e+09    0    2\n",
       "3  78.12  1.739114e+09    0    3\n",
       "4  82.56  2.024451e+09    0    4"
      ]
     },
     "execution_count": 69,
     "metadata": {},
     "output_type": "execute_result"
    }
   ],
   "source": [
    "df.head()"
   ]
  },
  {
   "cell_type": "code",
   "execution_count": 23,
   "metadata": {},
   "outputs": [
    {
     "data": {
      "text/plain": [
       "array([8.25600000e+01, 2.02445056e+09, 0.00000000e+00, 4.00000000e+00])"
      ]
     },
     "execution_count": 23,
     "metadata": {},
     "output_type": "execute_result"
    }
   ],
   "source": [
    "# 확인\n",
    "idx = 4\n",
    "df.iloc[[idx]].values[0]  # acc, floops, gen, idx"
   ]
  },
  {
   "cell_type": "code",
   "execution_count": 75,
   "metadata": {},
   "outputs": [],
   "source": [
    "## pareto front 찾기\n",
    "data_30gen_score = df[['acc','flops']].values  # df 전부\n",
    "\n",
    "# 1) flops 에 - 붙이기 => score 로 만들기\n",
    "data_30gen_score[:, 1] = -data_30gen_score[:, 1]\n",
    "\n",
    "# 2) 파레토 프론티어 찾기\n",
    "pareto_30gen_idx = identify_pareto(data_30gen_score)\n",
    "pareto_front_30gen = data_30gen_score[pareto_30gen_idx]\n",
    "\n",
    "# 3) 파레토 프론티어에 있는 크로모좀 리스트 만들기\n",
    "pareto_chromos = []\n",
    "for idx in list(pareto_30gen_idx):\n",
    "    i = int(idx / 20)   # e.g. 33 => 1 * 20 + 13 => 1 gen 의 14번째 => objs_chromo[1][13]  ## 각각 0번째 ~ 19번째 있음\n",
    "    j = idx - i*20\n",
    "    temp_chromo = objs_chromo[i][j]\n",
    "    pareto_chromos.append( temp_chromo )"
   ]
  },
  {
   "cell_type": "code",
   "execution_count": null,
   "metadata": {},
   "outputs": [],
   "source": [
    "###############################################################################################\n",
    "## 파레토 프론티어에 있는 크로모좀들 풀트레이닝 한 뒤에, acc_full 을 따로 리스트로 저장해놓기\n",
    "###############################################################################################\n",
    "acc_full_pt = []\n",
    "for individual in pareto_chromos:\n",
    "    # 풀트레이닝 ######################################################################################\n",
    "    \n",
    "    \n",
    "    acc_full_pt.append( ---------  ) ############################################\n",
    "    \n",
    "\n",
    "    \n",
    "########################################################################    \n",
    "## acc_full list 추가해서 아래와 같은 데이터 프레임 생성 후 저장해놓기\n",
    "########################################################################\n",
    "# pareto frontier를 찾은 뒤, full training 까지 해서 완성 할 데이터 프레임\n",
    "gen_pt = []\n",
    "idx_pt = list(pareto_30gen_idx)\n",
    "flos_pt = []\n",
    "acc_5epoch_pt = []\n",
    "\n",
    "for idx in list(pareto_30gen_idx):\n",
    "    df_idx = df.iloc[[idx]].values[0]  # acc, floops, gen, idx\n",
    "\n",
    "    gen_pt.append(df_idx[2])\n",
    "    idx_pt.append(df_idx[3])\n",
    "    flops_pt.append(df_idx[1])\n",
    "    acc_5epoch_pt.append(df_idx[0])\n",
    "    \n",
    "\n",
    "## 데이터 프레임 생성\n",
    "df_pareto = pd.DataFrame({'gen': gen_pt, 'idx': idx_pt, 'flops': flops_pt, 'acc_5epoch':acc_5epoch_pt, 'acc_full':acc_full_pt})\n",
    "\n",
    "## 데이터 프레임 저장\n",
    "save_path = '../logs/Full_Training_191223/pareto_GA.pkl'\n",
    "df.to_pickle(save_path)  # asdp = pd.read_pickle(load_path)\n",
    "\n",
    "##################### RS log 에 대해서도 수행하기 #####################################"
   ]
  },
  {
   "cell_type": "code",
   "execution_count": null,
   "metadata": {},
   "outputs": [],
   "source": []
  },
  {
   "cell_type": "code",
   "execution_count": null,
   "metadata": {},
   "outputs": [],
   "source": []
  },
  {
   "cell_type": "code",
   "execution_count": 80,
   "metadata": {},
   "outputs": [],
   "source": [
    "# [참고] 데이터 프레임 읽어옹기\n",
    "load_path = '../logs/Full_Training_191223/pareto_GA.pkl'\n",
    "asdp = pd.read_pickle(load_path)"
   ]
  },
  {
   "cell_type": "code",
   "execution_count": 82,
   "metadata": {},
   "outputs": [
    {
     "data": {
      "text/plain": [
       "(620, 4)"
      ]
     },
     "execution_count": 82,
     "metadata": {},
     "output_type": "execute_result"
    }
   ],
   "source": [
    "asdp.shape"
   ]
  }
 ],
 "metadata": {
  "kernelspec": {
   "display_name": "Python 3",
   "language": "python",
   "name": "python3"
  },
  "language_info": {
   "codemirror_mode": {
    "name": "ipython",
    "version": 3
   },
   "file_extension": ".py",
   "mimetype": "text/x-python",
   "name": "python",
   "nbconvert_exporter": "python",
   "pygments_lexer": "ipython3",
   "version": "3.5.2"
  }
 },
 "nbformat": 4,
 "nbformat_minor": 2
}
