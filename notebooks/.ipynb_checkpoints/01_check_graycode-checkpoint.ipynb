{
 "cells": [
  {
   "cell_type": "code",
   "execution_count": 1,
   "metadata": {},
   "outputs": [],
   "source": [
    "def grayCode(n):\n",
    "    # Decimal to binary graycode\n",
    "    # Right Shift the number\n",
    "    # by 1 taking xor with\n",
    "    # original number\n",
    "    grayval = n ^ (n >> 1)\n",
    "\n",
    "    return int(bin(grayval)[2:])\n",
    "\n",
    "\n",
    "def graydecode(binary):\n",
    "    # binary -> decimal\n",
    "\n",
    "    binary1 = binary\n",
    "    decimal, i, n = 0, 0, 0\n",
    "    while (binary != 0):\n",
    "        dec = binary % 10\n",
    "        decimal = decimal + dec * pow(2, i)\n",
    "        binary = binary // 10\n",
    "        i += 1\n",
    "\n",
    "    # Taking xor until\n",
    "    # n becomes zero\n",
    "    inv = 0\n",
    "    while (decimal):\n",
    "        inv = inv ^ decimal;\n",
    "        decimal = decimal >> 1;\n",
    "\n",
    "    return inv"
   ]
  },
  {
   "cell_type": "code",
   "execution_count": 27,
   "metadata": {},
   "outputs": [
    {
     "name": "stdout",
     "output_type": "stream",
     "text": [
      "0\n",
      "0\n",
      "0\n"
     ]
    }
   ],
   "source": [
    "temp = 0\n",
    "print(temp)\n",
    "\n",
    "temp_gray = grayCode(temp)\n",
    "print(temp_gray)\n",
    "\n",
    "temp_graydecode = graydecode(temp_gray)\n",
    "print(temp_graydecode)\n",
    "\n",
    "## => gray encoding을 위해 총 7자리가 필요함"
   ]
  },
  {
   "cell_type": "code",
   "execution_count": 22,
   "metadata": {},
   "outputs": [
    {
     "name": "stdout",
     "output_type": "stream",
     "text": [
      "127\n",
      "1000000\n",
      "127\n"
     ]
    }
   ],
   "source": [
    "temp = 127\n",
    "print(temp)\n",
    "\n",
    "temp_gray = grayCode(temp)\n",
    "print(temp_gray)\n",
    "\n",
    "temp_graydecode = graydecode(temp_gray)\n",
    "print(temp_graydecode)\n",
    "\n",
    "## => gray encoding을 위해 총 7자리가 필요함"
   ]
  },
  {
   "cell_type": "code",
   "execution_count": 24,
   "metadata": {},
   "outputs": [
    {
     "name": "stdout",
     "output_type": "stream",
     "text": [
      "128\n",
      "11000000\n",
      "128\n"
     ]
    }
   ],
   "source": [
    "temp = 128\n",
    "print(temp)\n",
    "\n",
    "temp_gray = grayCode(temp)\n",
    "print(temp_gray)\n",
    "\n",
    "temp_graydecode = graydecode(temp_gray)\n",
    "print(temp_graydecode)\n",
    "\n",
    "## => gray encoding을 위해 총 8자리가 필요함"
   ]
  },
  {
   "cell_type": "code",
   "execution_count": null,
   "metadata": {},
   "outputs": [],
   "source": [
    "## num_graph <= json 형식의 parameters 가 128개 인데, \n",
    "#   실제로 인코딩 하는 숫자는 0 ~ 127까지이므로 num_graph 인 128을 받는게 아니라 127을 받아얗암"
   ]
  }
 ],
 "metadata": {
  "kernelspec": {
   "display_name": "Python 3",
   "language": "python",
   "name": "python3"
  },
  "language_info": {
   "codemirror_mode": {
    "name": "ipython",
    "version": 3
   },
   "file_extension": ".py",
   "mimetype": "text/x-python",
   "name": "python",
   "nbconvert_exporter": "python",
   "pygments_lexer": "ipython3",
   "version": "3.5.2"
  }
 },
 "nbformat": 4,
 "nbformat_minor": 2
}
